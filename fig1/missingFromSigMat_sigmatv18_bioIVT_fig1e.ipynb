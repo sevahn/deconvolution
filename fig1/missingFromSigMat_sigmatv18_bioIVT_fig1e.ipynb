{
 "cells": [
  {
   "cell_type": "code",
   "execution_count": 1,
   "metadata": {},
   "outputs": [],
   "source": [
    "import numpy as np\n",
    "import pandas as pd\n",
    "import scanpy as sc\n",
    "\n",
    "import matplotlib.pyplot as plt\n",
    "import seaborn as sns\n",
    "import matplotlib as mpl\n",
    "\n",
    "# For editable text. Except latex text is still shapes sadly\n",
    "mpl.rcParams['pdf.fonttype'] = 42\n",
    "mpl.rcParams['ps.fonttype'] = 42\n",
    "sns.set_style(\"whitegrid\")\n",
    "font = {'size' : 6}\n",
    "lines = {'linewidth' : 0.5}\n",
    "fig = {'figsize' : (2.5, 1.5)}\n",
    "mpl.rc('font', **font)\n",
    "mpl.rc('lines', **lines)\n",
    "mpl.rc('figure', **fig)\n",
    "\n",
    "# Set style\n",
    "sns.set(style=\"whitegrid\", palette=\"pastel\", color_codes=True)\n",
    "import mygene\n",
    "import os\n",
    "\n",
    "from sklearn.metrics.pairwise import cosine_similarity\n",
    "\n",
    "\n",
    "import mygene\n",
    "from numpy import linalg as LA"
   ]
  },
  {
   "cell_type": "code",
   "execution_count": 2,
   "metadata": {},
   "outputs": [],
   "source": [
    "def save_figure_pdf(fig, path_to_save):\n",
    "\t'''\n",
    "\tUtility fxn to save a figure without having to retype all the required options.\n",
    "\tInput:\n",
    "\t\tfig - a matplotlib.pyplot.figure instance with the figure you'd like to save\n",
    "\t\tpath_to_save - the path you'd like to save the figure to\n",
    "\tReturns: Nothing but there should now be a pdf version in 300 dpi with a transparent bkg at path_to_save\n",
    "\t'''\n",
    "\tfig.savefig(path_to_save, dpi = 300, bbox_inches = 'tight', transparent = True)"
   ]
  },
  {
   "cell_type": "code",
   "execution_count": 3,
   "metadata": {},
   "outputs": [],
   "source": [
    "figSavePath = \"/Users/kayaneh/Documents/deconvolution/figures/full_figure/maintext_revision1/\""
   ]
  },
  {
   "cell_type": "code",
   "execution_count": 4,
   "metadata": {},
   "outputs": [],
   "source": [
    "# import HPA\n",
    "hpa = pd.read_csv(\"../signatures_git/tissue_category_rna_Any_Tissue-2.tsv\",\n",
    "                  index_col = 0,sep = \"\\t\")"
   ]
  },
  {
   "cell_type": "code",
   "execution_count": 5,
   "metadata": {},
   "outputs": [
    {
     "name": "stdout",
     "output_type": "stream",
     "text": [
      "(339, 40)\n"
     ]
    }
   ],
   "source": [
    "# cpm counts of biological replicates\n",
    "\n",
    "adBase = \"/Users/kayaneh/Documents/deconvolution/alzheimers/remapped_unstranded/\"\n",
    "\n",
    "# this file has the stray AD sample, 3224 that originally wasnt on SRA\n",
    "aprilTMM = pd.read_csv(adBase + \"ad_cpmOnly_postQC_unstranded_FINAL.csv\",\n",
    "                    sep = \",\", index_col = [0, 1])\n",
    "\n",
    "aprilTMM.columns = [int(i) for i in aprilTMM.columns]\n",
    "\n",
    "adMeta = pd.read_csv(adBase + \"allAD_metadata_FINAL.csv\",\n",
    "                    sep = \",\", index_col = 0)\n",
    "\n",
    "\n",
    "print(adMeta.shape)\n",
    "adMeta = adMeta[adMeta[\"Isolate\"].isin(aprilTMM.columns)]"
   ]
  },
  {
   "cell_type": "code",
   "execution_count": 6,
   "metadata": {},
   "outputs": [
    {
     "name": "stdout",
     "output_type": "stream",
     "text": [
      "18\n"
     ]
    }
   ],
   "source": [
    "kyMeta = adMeta[adMeta[\"Center\"] == \"BioIVT\"]\n",
    "kyMeta = kyMeta[kyMeta[\"Disease\"] == \"NCI\"]\n",
    "kyIsolate = np.unique(kyMeta[\"Isolate\"]).tolist()\n",
    "print(len(kyIsolate))"
   ]
  },
  {
   "cell_type": "code",
   "execution_count": 7,
   "metadata": {},
   "outputs": [],
   "source": [
    "thuyCPM = aprilTMM[kyIsolate]"
   ]
  },
  {
   "cell_type": "code",
   "execution_count": 8,
   "metadata": {},
   "outputs": [],
   "source": [
    "thuyCPM.reset_index(inplace = True)"
   ]
  },
  {
   "cell_type": "code",
   "execution_count": 9,
   "metadata": {},
   "outputs": [
    {
     "name": "stderr",
     "output_type": "stream",
     "text": [
      "/Users/kayaneh/anaconda3/lib/python3.6/site-packages/pandas/core/frame.py:4170: SettingWithCopyWarning: \n",
      "A value is trying to be set on a copy of a slice from a DataFrame\n",
      "\n",
      "See the caveats in the documentation: https://pandas.pydata.org/pandas-docs/stable/user_guide/indexing.html#returning-a-view-versus-a-copy\n",
      "  errors=errors,\n"
     ]
    }
   ],
   "source": [
    "thuyCPM.set_index(\"gene_name\", inplace = True)\n",
    "thuyCPM.drop(\"gene_num\", inplace = True, axis = \"columns\")"
   ]
  },
  {
   "cell_type": "code",
   "execution_count": 10,
   "metadata": {},
   "outputs": [
    {
     "data": {
      "text/html": [
       "<div>\n",
       "<style scoped>\n",
       "    .dataframe tbody tr th:only-of-type {\n",
       "        vertical-align: middle;\n",
       "    }\n",
       "\n",
       "    .dataframe tbody tr th {\n",
       "        vertical-align: top;\n",
       "    }\n",
       "\n",
       "    .dataframe thead th {\n",
       "        text-align: right;\n",
       "    }\n",
       "</style>\n",
       "<table border=\"1\" class=\"dataframe\">\n",
       "  <thead>\n",
       "    <tr style=\"text-align: right;\">\n",
       "      <th></th>\n",
       "      <th>17923</th>\n",
       "      <th>17924</th>\n",
       "      <th>17925</th>\n",
       "      <th>17926</th>\n",
       "      <th>17927</th>\n",
       "      <th>17929</th>\n",
       "      <th>17931</th>\n",
       "      <th>17932</th>\n",
       "      <th>17933</th>\n",
       "      <th>17934</th>\n",
       "      <th>17938</th>\n",
       "      <th>17940</th>\n",
       "      <th>17943</th>\n",
       "      <th>17944</th>\n",
       "      <th>17946</th>\n",
       "      <th>17947</th>\n",
       "      <th>17949</th>\n",
       "      <th>17953</th>\n",
       "    </tr>\n",
       "    <tr>\n",
       "      <th>gene_name</th>\n",
       "      <th></th>\n",
       "      <th></th>\n",
       "      <th></th>\n",
       "      <th></th>\n",
       "      <th></th>\n",
       "      <th></th>\n",
       "      <th></th>\n",
       "      <th></th>\n",
       "      <th></th>\n",
       "      <th></th>\n",
       "      <th></th>\n",
       "      <th></th>\n",
       "      <th></th>\n",
       "      <th></th>\n",
       "      <th></th>\n",
       "      <th></th>\n",
       "      <th></th>\n",
       "      <th></th>\n",
       "    </tr>\n",
       "  </thead>\n",
       "  <tbody>\n",
       "    <tr>\n",
       "      <th>TSPAN6</th>\n",
       "      <td>2.398423</td>\n",
       "      <td>3.417658</td>\n",
       "      <td>2.280461</td>\n",
       "      <td>1.891905</td>\n",
       "      <td>0.668724</td>\n",
       "      <td>0.000000</td>\n",
       "      <td>0.000000</td>\n",
       "      <td>0.947058</td>\n",
       "      <td>7.874481</td>\n",
       "      <td>2.695946</td>\n",
       "      <td>0.000000</td>\n",
       "      <td>3.281909</td>\n",
       "      <td>1.655451</td>\n",
       "      <td>4.237117</td>\n",
       "      <td>0.000000</td>\n",
       "      <td>0.269570</td>\n",
       "      <td>0.000000</td>\n",
       "      <td>0.000000</td>\n",
       "    </tr>\n",
       "    <tr>\n",
       "      <th>TNMD</th>\n",
       "      <td>0.266491</td>\n",
       "      <td>0.525794</td>\n",
       "      <td>0.350840</td>\n",
       "      <td>0.000000</td>\n",
       "      <td>0.000000</td>\n",
       "      <td>0.000000</td>\n",
       "      <td>0.000000</td>\n",
       "      <td>0.000000</td>\n",
       "      <td>0.000000</td>\n",
       "      <td>0.000000</td>\n",
       "      <td>0.000000</td>\n",
       "      <td>0.000000</td>\n",
       "      <td>0.000000</td>\n",
       "      <td>4.237117</td>\n",
       "      <td>0.000000</td>\n",
       "      <td>0.000000</td>\n",
       "      <td>0.000000</td>\n",
       "      <td>0.000000</td>\n",
       "    </tr>\n",
       "    <tr>\n",
       "      <th>DPM1</th>\n",
       "      <td>42.372141</td>\n",
       "      <td>25.763886</td>\n",
       "      <td>22.980033</td>\n",
       "      <td>27.874065</td>\n",
       "      <td>14.043202</td>\n",
       "      <td>14.512962</td>\n",
       "      <td>11.022026</td>\n",
       "      <td>5.682348</td>\n",
       "      <td>2.952930</td>\n",
       "      <td>3.594594</td>\n",
       "      <td>0.666186</td>\n",
       "      <td>6.563817</td>\n",
       "      <td>1.655451</td>\n",
       "      <td>15.536096</td>\n",
       "      <td>3.844542</td>\n",
       "      <td>0.539140</td>\n",
       "      <td>0.974539</td>\n",
       "      <td>11.937777</td>\n",
       "    </tr>\n",
       "    <tr>\n",
       "      <th>SCYL3</th>\n",
       "      <td>22.385282</td>\n",
       "      <td>10.252975</td>\n",
       "      <td>10.876046</td>\n",
       "      <td>17.405525</td>\n",
       "      <td>15.046287</td>\n",
       "      <td>5.805185</td>\n",
       "      <td>7.110985</td>\n",
       "      <td>6.155877</td>\n",
       "      <td>5.905861</td>\n",
       "      <td>0.898649</td>\n",
       "      <td>1.665465</td>\n",
       "      <td>0.820477</td>\n",
       "      <td>6.621804</td>\n",
       "      <td>1.412372</td>\n",
       "      <td>2.306725</td>\n",
       "      <td>1.213064</td>\n",
       "      <td>1.949078</td>\n",
       "      <td>10.852525</td>\n",
       "    </tr>\n",
       "    <tr>\n",
       "      <th>C1orf112</th>\n",
       "      <td>5.862812</td>\n",
       "      <td>3.943452</td>\n",
       "      <td>7.016804</td>\n",
       "      <td>2.900921</td>\n",
       "      <td>1.003086</td>\n",
       "      <td>2.031815</td>\n",
       "      <td>1.777746</td>\n",
       "      <td>6.629406</td>\n",
       "      <td>0.984310</td>\n",
       "      <td>1.797297</td>\n",
       "      <td>1.665465</td>\n",
       "      <td>4.102386</td>\n",
       "      <td>1.655451</td>\n",
       "      <td>1.412372</td>\n",
       "      <td>0.000000</td>\n",
       "      <td>0.000000</td>\n",
       "      <td>0.000000</td>\n",
       "      <td>4.341010</td>\n",
       "    </tr>\n",
       "  </tbody>\n",
       "</table>\n",
       "</div>"
      ],
      "text/plain": [
       "               17923      17924      17925      17926      17927      17929  \\\n",
       "gene_name                                                                     \n",
       "TSPAN6      2.398423   3.417658   2.280461   1.891905   0.668724   0.000000   \n",
       "TNMD        0.266491   0.525794   0.350840   0.000000   0.000000   0.000000   \n",
       "DPM1       42.372141  25.763886  22.980033  27.874065  14.043202  14.512962   \n",
       "SCYL3      22.385282  10.252975  10.876046  17.405525  15.046287   5.805185   \n",
       "C1orf112    5.862812   3.943452   7.016804   2.900921   1.003086   2.031815   \n",
       "\n",
       "               17931     17932     17933     17934     17938     17940  \\\n",
       "gene_name                                                                \n",
       "TSPAN6      0.000000  0.947058  7.874481  2.695946  0.000000  3.281909   \n",
       "TNMD        0.000000  0.000000  0.000000  0.000000  0.000000  0.000000   \n",
       "DPM1       11.022026  5.682348  2.952930  3.594594  0.666186  6.563817   \n",
       "SCYL3       7.110985  6.155877  5.905861  0.898649  1.665465  0.820477   \n",
       "C1orf112    1.777746  6.629406  0.984310  1.797297  1.665465  4.102386   \n",
       "\n",
       "              17943      17944     17946     17947     17949      17953  \n",
       "gene_name                                                                \n",
       "TSPAN6     1.655451   4.237117  0.000000  0.269570  0.000000   0.000000  \n",
       "TNMD       0.000000   4.237117  0.000000  0.000000  0.000000   0.000000  \n",
       "DPM1       1.655451  15.536096  3.844542  0.539140  0.974539  11.937777  \n",
       "SCYL3      6.621804   1.412372  2.306725  1.213064  1.949078  10.852525  \n",
       "C1orf112   1.655451   1.412372  0.000000  0.000000  0.000000   4.341010  "
      ]
     },
     "execution_count": 10,
     "metadata": {},
     "output_type": "execute_result"
    }
   ],
   "source": [
    "thuyCPM.head()"
   ]
  },
  {
   "cell_type": "code",
   "execution_count": 11,
   "metadata": {},
   "outputs": [],
   "source": [
    "sigMat = \"deconvolve_cfrna_TSP/tsp_v1_basisMatrix.txt\"\n",
    "sigMat = pd.read_csv(sigMat, sep = \"\\t\", index_col = 0)"
   ]
  },
  {
   "cell_type": "code",
   "execution_count": 12,
   "metadata": {},
   "outputs": [],
   "source": [
    "# address the fact that a lot of genes in cell free \n",
    "# might be HPA synonyms rather than in the list\n",
    "\n",
    "# make a dictionary where the keys are the OG genes\n",
    "# and the values are the synonyms\n",
    "synDict = hpa[\"Gene synonym\"].fillna(\"\")\n",
    "synDict = synDict.to_dict()\n",
    "\n",
    "for k in synDict:\n",
    "    if type(k) == str:\n",
    "        synDict[k] = synDict[k].split(\", \")\n",
    "    else: continue"
   ]
  },
  {
   "cell_type": "code",
   "execution_count": 13,
   "metadata": {},
   "outputs": [
    {
     "name": "stdout",
     "output_type": "stream",
     "text": [
      "60721\n",
      "(13525, 1)\n",
      "in Mixture =  3105\n",
      "in Mixture in HPA  1039\n",
      "60721\n",
      "(13330, 1)\n",
      "in Mixture =  3082\n",
      "in Mixture in HPA  1000\n",
      "60721\n",
      "(13051, 1)\n",
      "in Mixture =  2943\n",
      "in Mixture in HPA  963\n",
      "60721\n",
      "(13100, 1)\n",
      "in Mixture =  2968\n",
      "in Mixture in HPA  949\n",
      "60721\n",
      "(12947, 1)\n",
      "in Mixture =  3046\n",
      "in Mixture in HPA  1003\n",
      "60721\n",
      "(12959, 1)\n",
      "in Mixture =  3057\n",
      "in Mixture in HPA  999\n",
      "60721\n",
      "(13068, 1)\n",
      "in Mixture =  3149\n",
      "in Mixture in HPA  1030\n",
      "60721\n",
      "(12292, 1)\n",
      "in Mixture =  2945\n",
      "in Mixture in HPA  1005\n",
      "60721\n",
      "(10302, 1)\n",
      "in Mixture =  2618\n",
      "in Mixture in HPA  813\n",
      "60721\n",
      "(9937, 1)\n",
      "in Mixture =  2570\n",
      "in Mixture in HPA  776\n",
      "60721\n",
      "(7194, 1)\n",
      "in Mixture =  1861\n",
      "in Mixture in HPA  523\n",
      "60721\n",
      "(11530, 1)\n",
      "in Mixture =  2860\n",
      "in Mixture in HPA  912\n",
      "60721\n",
      "(13694, 1)\n",
      "in Mixture =  4325\n",
      "in Mixture in HPA  1511\n",
      "60721\n",
      "(14324, 1)\n",
      "in Mixture =  4254\n",
      "in Mixture in HPA  1496\n",
      "60721\n",
      "(12914, 1)\n",
      "in Mixture =  3340\n",
      "in Mixture in HPA  1218\n",
      "60721\n",
      "(6913, 1)\n",
      "in Mixture =  1749\n",
      "in Mixture in HPA  458\n",
      "60721\n",
      "(11543, 1)\n",
      "in Mixture =  3182\n",
      "in Mixture in HPA  1120\n",
      "60721\n",
      "(14077, 1)\n",
      "in Mixture =  3971\n",
      "in Mixture in HPA  1339\n"
     ]
    }
   ],
   "source": [
    "# go through each healthy srr\n",
    "res = pd.DataFrame()\n",
    "\n",
    "\n",
    "cpm_thresh = 1 # units are CPM\n",
    "hpaNX_thresh = 10 # units are NX \n",
    "\n",
    "allTissGenes = {}\n",
    "\n",
    "# go through each biological replicate\n",
    "for srr in thuyCPM:\n",
    "\n",
    "    # subset the mixture\n",
    "    cfMix = thuyCPM[srr].to_frame()\n",
    "    srr = str(srr)\n",
    "    \n",
    "    print(len(cfMix.index.tolist()))\n",
    "    \n",
    "    # genes in mixture greater than or equal to CPM threshold\n",
    "    cfMix = cfMix[cfMix.values >= cpm_thresh] \n",
    "    \n",
    "    print(cfMix.shape)\n",
    "    \n",
    "    # get genes + synonyms to make sure nothing is missing\n",
    "    cfGenes = cfMix.index.tolist()\n",
    "\n",
    "    # genes in mixture not in signature matrix\n",
    "    inMixture = np.setdiff1d(cfGenes, sigMat.index.tolist())\n",
    "    print(\"in Mixture = \", len(inMixture))\n",
    "    \n",
    "    #### ACCOUNT FOR GENES THAT ARE SYNONYMS ####\n",
    "    # synDict is a dictionary of the synonyms of the HPA genes\n",
    "    # loop throught the keys\n",
    "    \n",
    "    inSynDict = []\n",
    "\n",
    "    # get set difference of what's in the mixture and what's not reflected in HPA\n",
    "    missList = np.setdiff1d(cfGenes, list(synDict.keys()))\n",
    "\n",
    "    # go through the genes not the main HPA entries and get the HPA synonyms\n",
    "    for gene in missList:\n",
    "        for k in synDict:\n",
    "            if gene in synDict[k]: # if the gene is a synonym\n",
    "                inSynDict += [k] # add the parent key back (e.g. it's in the index of HPA)\n",
    "                    \n",
    "    missingInHPA = hpa.loc[np.unique(inSynDict)].index.tolist()\n",
    "\n",
    "    \n",
    "    # look at the genes then do tiss based off that\n",
    "    allGenesInCFInHPA = list(np.intersect1d(hpa.index, inMixture)) + missingInHPA\n",
    "    allGenesInCFInHPA = list(np.unique(allGenesInCFInHPA))\n",
    "    \n",
    "    print(\"in Mixture in HPA \", len(allGenesInCFInHPA))\n",
    "    cfInHPA = hpa.loc[allGenesInCFInHPA]\n",
    "    cfInHPA = cfInHPA.drop_duplicates(keep = \"first\", subset = \"Ensembl\") # have distinct gene names\n",
    "    topTiss = cfInHPA[['RNA tissue specific NX']].values # list of top tiss and the NX values\n",
    "    \n",
    "    geneDict = {}\n",
    "    geneNames = {}\n",
    "    \n",
    "    for j in topTiss:\n",
    "        splitGene = j[0].split(\";\")\n",
    "        \n",
    "  \n",
    "        for t in splitGene:\n",
    "            t = t.split(\": \")\n",
    "            tiss, nxCount = t[0], float(t[1])\n",
    "            if nxCount > hpaNX_thresh:\n",
    "                if tiss not in geneDict:\n",
    "                    geneDict[tiss] = 1\n",
    "                    geneNames[tiss] = [gene]\n",
    "                else:\n",
    "                    geneDict[tiss] += 1\n",
    "                    geneNames[tiss] += [gene]\n",
    "   \n",
    "    hpaGenes = pd.DataFrame(geneDict, index = [1]).T\n",
    "    hpaGenes.columns = [srr + \" - # Genes\"]\n",
    "    hpaGenes.sort_index(inplace = True)\n",
    "    \n",
    "    res = pd.concat([res, hpaGenes], axis  = 1)"
   ]
  },
  {
   "cell_type": "code",
   "execution_count": 14,
   "metadata": {},
   "outputs": [],
   "source": [
    "# get the tiss\n",
    "res[\"tiss\"] = res.index\n",
    "\n",
    "# get the sorted values so the bars are in a specific order\n",
    "sortedTiss = res.mean(axis = 1).sort_values(ascending = False)\n",
    "\n",
    "# re-sort res based on the ascending average values\n",
    "res = res.loc[sortedTiss.index]"
   ]
  },
  {
   "cell_type": "code",
   "execution_count": 15,
   "metadata": {},
   "outputs": [],
   "source": [
    "meltedCts = pd.melt(res, value_vars = res.columns[:-1], id_vars = [\"tiss\"])"
   ]
  },
  {
   "cell_type": "code",
   "execution_count": 16,
   "metadata": {},
   "outputs": [],
   "source": [
    "meltedCts = meltedCts.sort_values(by = \"value\", ascending = False)"
   ]
  },
  {
   "cell_type": "code",
   "execution_count": 17,
   "metadata": {},
   "outputs": [],
   "source": [
    "highestTiss = sortedTiss[sortedTiss >= 75]"
   ]
  },
  {
   "cell_type": "code",
   "execution_count": 18,
   "metadata": {},
   "outputs": [],
   "source": [
    "subMeltedCts = meltedCts[meltedCts[\"tiss\"].isin(highestTiss.index.tolist())]"
   ]
  },
  {
   "cell_type": "code",
   "execution_count": 19,
   "metadata": {},
   "outputs": [
    {
     "data": {
      "text/plain": [
       "(0.0, 400.0)"
      ]
     },
     "execution_count": 19,
     "metadata": {},
     "output_type": "execute_result"
    },
    {
     "data": {
      "image/png": "[encoded data removed]",
      "text/plain": [
       "<Figure size 288x288 with 1 Axes>"
      ]
     },
     "metadata": {
      "needs_background": "light"
     },
     "output_type": "display_data"
    }
   ],
   "source": [
    "plt.figure(figsize = (4, 4))\n",
    "sns.barplot(x = \"value\", y = \"tiss\", \n",
    "            data = subMeltedCts, ci = \"sd\",\n",
    "           color = \"#1b4965\") \n",
    "\n",
    "sns.swarmplot(x = \"value\", y = \"tiss\", size = 3.5,\n",
    "            data = subMeltedCts,\n",
    "           color = \"#6c757d\") \n",
    "\n",
    "plt.ylabel(\"\")\n",
    "plt.xlabel(\"# Genes in cfRNA > 1 CPM not in Fig 1D\")\n",
    "plt.xticks(np.arange(0, 401, 100))\n",
    "plt.xlim(0, 400)\n",
    "\n",
    "save_figure_pdf(plt, \"missingFromSigMat_HPAPLASMA_sigmat18_fig1e_11302021.pdf\")"
   ]
  },
  {
   "cell_type": "code",
   "execution_count": 20,
   "metadata": {},
   "outputs": [
    {
     "data": {
      "text/plain": [
       "18"
      ]
     },
     "execution_count": 20,
     "metadata": {},
     "output_type": "execute_result"
    }
   ],
   "source": [
    "len(np.unique(subMeltedCts['variable']))"
   ]
  },
  {
   "cell_type": "code",
   "execution_count": 21,
   "metadata": {},
   "outputs": [
    {
     "name": "stdout",
     "output_type": "stream",
     "text": [
      "\u001b[H\u001b[2J"
     ]
    }
   ],
   "source": [
    "clear all"
   ]
  }
 ],
 "metadata": {
  "kernelspec": {
   "display_name": "Python 3",
   "language": "python",
   "name": "python3"
  },
  "language_info": {
   "codemirror_mode": {
    "name": "ipython",
    "version": 3
   },
   "file_extension": ".py",
   "mimetype": "text/x-python",
   "name": "python",
   "nbconvert_exporter": "python",
   "pygments_lexer": "ipython3",
   "version": "3.6.12"
  }
 },
 "nbformat": 4,
 "nbformat_minor": 2
}
