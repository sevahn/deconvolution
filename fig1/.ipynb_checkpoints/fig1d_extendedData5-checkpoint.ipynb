{
 "cells": [
  {
   "cell_type": "markdown",
   "metadata": {},
   "source": [
    "Sevahn Vorperian, Quake Lab\n",
    "\n",
    "Extract best hyperparameter combination per deconvolved plasma sample and get average fractional contributions for visualization in Mathematica. Given reported center-specific batch effects in the Toden et al NCI (non-cognitively impaired) cohort, this was done on a per-center basis."
   ]
  },
  {
   "cell_type": "code",
   "execution_count": 1,
   "metadata": {},
   "outputs": [],
   "source": [
    "import numpy as np\n",
    "import pandas as pd\n",
    "import scanpy as sc\n",
    "\n",
    "import matplotlib.pyplot as plt\n",
    "import seaborn as sns\n",
    "import matplotlib as mpl\n",
    "\n",
    "#For editable text. Except latex text is still shapes sadly\n",
    "mpl.rcParams['pdf.fonttype'] = 42\n",
    "mpl.rcParams['ps.fonttype'] = 42\n",
    "sns.set_style(\"whitegrid\")\n",
    "font = {'size' : 10}\n",
    "lines = {'linewidth' : 0.5}\n",
    "fig = {'figsize' : (2.5, 1.5)}\n",
    "mpl.rc('font', **font)\n",
    "mpl.rc('lines', **lines)\n",
    "mpl.rc('figure', **fig)\n",
    "\n",
    "#Set style\n",
    "#sns.set(style=\"whitegrid\", palette=\"pastel\", color_codes=True)\n",
    "sns.set(style=\"whitegrid\")\n",
    "\n",
    "from matplotlib_venn import venn2\n",
    "\n",
    "# for pearson correlation\n",
    "from scipy.stats import pearsonr\n",
    "\n",
    "\n",
    "from numpy import linalg as LA\n",
    "import os"
   ]
  },
  {
   "cell_type": "code",
   "execution_count": 2,
   "metadata": {},
   "outputs": [
    {
     "data": {
      "text/plain": [
       "'/Users/kayaneh/Documents/deconvolution/projectcode/fig1'"
      ]
     },
     "execution_count": 2,
     "metadata": {},
     "output_type": "execute_result"
    }
   ],
   "source": [
    "os.getcwd()"
   ]
  },
  {
   "cell_type": "code",
   "execution_count": 3,
   "metadata": {},
   "outputs": [
    {
     "data": {
      "text/plain": [
       "'## predictions between coefficients \\npreds = pd.read_csv(\"allAD_unstranded_truseq3_sigmatv18.0_PLASMA_allSV_wStray_pythonPred_PREDICTIONS_11282021.csv\",\\n                   sep  = \",\", index_col = 0).T\\npreds = preds.loc[[i for i in preds.index if \\'index\\' not in i]]\\npred_rmseNorm = preds.loc[[i for i in preds.index if \\'normCoef\\' in i]]\\npreds = preds.loc[[i for i in preds.index if \\'normCoef\\' not in i]]'"
      ]
     },
     "execution_count": 3,
     "metadata": {},
     "output_type": "execute_result"
    }
   ],
   "source": [
    "## READ IN ALL THE DATA\n",
    "\n",
    "figSavePath = \"\"\n",
    "adBase = \"/Users/kayaneh/Documents/deconvolution/alzheimers/remapped_unstranded/\"\n",
    "\n",
    "adMeta = pd.read_csv(adBase + \"allAD_metadata_FINAL.csv\",\n",
    "                    index_col = 1)\n",
    "\n",
    "deconvResPath = os.getcwd() + \"/\"\n",
    "\n",
    "\n",
    "# subset the processed samples to just the NCI samples\n",
    "metaNCI = adMeta[adMeta[\"Disease\"] == \"NCI\"]\n",
    "\n",
    "\n",
    "plasmaCoefs = pd.read_csv(\"/Users/kayaneh/Documents/deconvolution/revision1/revised_code/allAD_unstranded_truseq3_sigmatv18.0_PLASMA_allCoefs_12142021.csv\", \n",
    "                          sep = \",\", index_col = 0)\n",
    "\n",
    "\n",
    "\n",
    "\"\"\"## predictions between coefficients \n",
    "preds = pd.read_csv(\"allAD_unstranded_truseq3_sigmatv18.0_PLASMA_allSV_wStray_pythonPred_PREDICTIONS_11282021.csv\",\n",
    "                   sep  = \",\", index_col = 0).T\n",
    "preds = preds.loc[[i for i in preds.index if 'index' not in i]]\n",
    "pred_rmseNorm = preds.loc[[i for i in preds.index if 'normCoef' in i]]\n",
    "preds = preds.loc[[i for i in preds.index if 'normCoef' not in i]]\"\"\""
   ]
  },
  {
   "cell_type": "code",
   "execution_count": 4,
   "metadata": {},
   "outputs": [],
   "source": [
    "def save_figure_pdf(fig, path_to_save):\n",
    "\t'''\n",
    "\tUtility fxn to save a figure without having to retype all the required options.\n",
    "\tInput:\n",
    "\t\tfig - a matplotlib.pyplot.figure instance with the figure you'd like to save\n",
    "\t\tpath_to_save - the path you'd like to save the figure to\n",
    "\tReturns: Nothing but there should now be a pdf version in 300 dpi with a transparent bkg at path_to_save\n",
    "\t'''\n",
    "\tfig.savefig(path_to_save, dpi = 300, bbox_inches = 'tight', transparent = True)\n",
    "\n",
    "# logistics for plotting sample performance\n",
    "colors = [\"6d597a\",\"b56576\",\"e56b6f\",\"eaac8b\"]\n",
    "colors = [\"#\" + i for i in colors]\n",
    "sns.color_palette(colors)\n",
    "\n",
    "centers = np.unique(metaNCI[\"Center\"])\n",
    "\n",
    "center_pal = {}\n",
    "for i, c in enumerate(centers):\n",
    "    center_pal[c] = colors[i]"
   ]
  },
  {
   "cell_type": "code",
   "execution_count": 5,
   "metadata": {},
   "outputs": [],
   "source": [
    "nnls = [i for i in plasmaCoefs.index if \"NNLS\" in i]\n",
    "qp = [i for i in plasmaCoefs.index if \"QP\" in i]\n",
    "nusvr = [i for i in plasmaCoefs.index if \"NUSVR\" in i]"
   ]
  },
  {
   "cell_type": "code",
   "execution_count": 6,
   "metadata": {},
   "outputs": [],
   "source": [
    "nusvrPlasma = plasmaCoefs.loc[nusvr]"
   ]
  },
  {
   "cell_type": "code",
   "execution_count": 7,
   "metadata": {},
   "outputs": [
    {
     "data": {
      "text/plain": [
       "156.0"
      ]
     },
     "execution_count": 7,
     "metadata": {},
     "output_type": "execute_result"
    }
   ],
   "source": [
    "nusvrPlasma.shape[0] / (len(nuValTested) * len(cValTested))"
   ]
  },
  {
   "cell_type": "code",
   "execution_count": 8,
   "metadata": {},
   "outputs": [],
   "source": [
    "# just get the sample names from the QP list\n",
    "samps = [i.split(\"-\")[0] for i in qp]"
   ]
  },
  {
   "cell_type": "code",
   "execution_count": 10,
   "metadata": {},
   "outputs": [],
   "source": [
    "# go through and get the best hyperparameter combination for a given sample\n",
    "nusvrCoefs = pd.DataFrame()\n",
    "for samp in samps:\n",
    "    thisSampCoefs = nusvrPlasma.loc[[i for i in nusvrPlasma.index if samp in i]]\n",
    "    thisSampBestRMSE = thisSampCoefs[thisSampCoefs['rmse'] == np.min(thisSampCoefs['rmse'])]\n",
    "    nusvrCoefs = pd.concat([nusvrCoefs, thisSampBestRMSE])"
   ]
  },
  {
   "cell_type": "markdown",
   "metadata": {},
   "source": [
    "# now get the best coefficient set for a given sample"
   ]
  },
  {
   "cell_type": "code",
   "execution_count": 12,
   "metadata": {},
   "outputs": [],
   "source": [
    "bestSVR = nusvrCoefs\n",
    "bestSVR.index = [i.split(\"-NUSVR\")[0] for i in bestSVR.index]"
   ]
  },
  {
   "cell_type": "code",
   "execution_count": 13,
   "metadata": {},
   "outputs": [],
   "source": [
    "#  index to ints to work with the metadata\n",
    "bestSVR.index = [int(i) for i in bestSVR.index]"
   ]
  },
  {
   "cell_type": "code",
   "execution_count": 14,
   "metadata": {},
   "outputs": [
    {
     "name": "stdout",
     "output_type": "stream",
     "text": [
      "BioIVT  # samps:  27\n",
      "GEMs (Indiana)  # samps:  26\n",
      "University of Kentucky  # samps:  24\n",
      "University of Washington at St. Louis  # samps:  39\n"
     ]
    }
   ],
   "source": [
    "center = {}\n",
    "for c in np.unique(metaNCI[\"Center\"]):\n",
    "    center[c] = metaNCI[metaNCI[\"Center\"] == c][\"Isolate\"].values.tolist()\n",
    "    center[c] = np.unique([str(i) for i in center[c]])\n",
    "    print(c, ' # samps: ', len(center[c]))"
   ]
  },
  {
   "cell_type": "code",
   "execution_count": null,
   "metadata": {},
   "outputs": [],
   "source": []
  },
  {
   "cell_type": "code",
   "execution_count": 15,
   "metadata": {
    "scrolled": true
   },
   "outputs": [
    {
     "name": "stderr",
     "output_type": "stream",
     "text": [
      "/Users/kayaneh/anaconda3/lib/python3.6/site-packages/ipykernel_launcher.py:13: SettingWithCopyWarning: \n",
      "A value is trying to be set on a copy of a slice from a DataFrame.\n",
      "Try using .loc[row_indexer,col_indexer] = value instead\n",
      "\n",
      "See the caveats in the documentation: https://pandas.pydata.org/pandas-docs/stable/user_guide/indexing.html#returning-a-view-versus-a-copy\n",
      "  del sys.path[0]\n",
      "/Users/kayaneh/anaconda3/lib/python3.6/site-packages/ipykernel_launcher.py:14: SettingWithCopyWarning: \n",
      "A value is trying to be set on a copy of a slice from a DataFrame.\n",
      "Try using .loc[row_indexer,col_indexer] = value instead\n",
      "\n",
      "See the caveats in the documentation: https://pandas.pydata.org/pandas-docs/stable/user_guide/indexing.html#returning-a-view-versus-a-copy\n",
      "  \n"
     ]
    }
   ],
   "source": [
    "# resubset best RMSE to the top performing samples\n",
    "bestRMSE_normed = bestSVR[['rmse', 'r']]\n",
    "\n",
    "centerList = []\n",
    "diseaseList = []\n",
    "for i in bestSVR.index.tolist():\n",
    "    thisCenter = np.unique(adMeta[adMeta['Isolate'] == int(i)]['Center'].values.tolist()).tolist()\n",
    "    centerList += thisCenter\n",
    "    \n",
    "    disease = np.unique(adMeta[adMeta['Isolate'] == int(i)]['Disease'].values.tolist()).tolist()\n",
    "    diseaseList += disease\n",
    "\n",
    "bestRMSE_normed['disease'] = diseaseList\n",
    "bestRMSE_normed['center'] = centerList\n",
    "\n",
    "# subset to NCI only\n",
    "nciRMSE_R = bestRMSE_normed[bestRMSE_normed['disease'] == 'NCI']"
   ]
  },
  {
   "cell_type": "code",
   "execution_count": 17,
   "metadata": {},
   "outputs": [
    {
     "name": "stdout",
     "output_type": "stream",
     "text": [
      "BioIVT  mean:  0.8046021119936237\n",
      "BioIVT  std:  0.10108297451484924\n",
      "\n",
      "GEMs (Indiana)  mean:  0.8524965404668956\n",
      "GEMs (Indiana)  std:  0.05278155180316429\n",
      "\n",
      "University of Kentucky  mean:  0.73939793177001\n",
      "University of Kentucky  std:  0.06814070543145295\n",
      "\n",
      "University of Washington at St. Louis  mean:  0.7908513027222631\n",
      "University of Washington at St. Louis  std:  0.11554271875690011\n",
      "\n"
     ]
    }
   ],
   "source": [
    "for c in np.unique(nciRMSE_R['center']):\n",
    "    thisSamp = nciRMSE_R[nciRMSE_R['center'] == c]\n",
    "    print(c, ' mean: ', np.mean(thisSamp['rmse'].values.tolist()))\n",
    "    print(c, ' std: ', np.std(thisSamp['rmse'].values.tolist()))\n",
    "    print(\"\")"
   ]
  },
  {
   "cell_type": "code",
   "execution_count": 18,
   "metadata": {},
   "outputs": [
    {
     "data": {
      "image/png": "[encoded data removed]",
      "text/plain": [
       "<Figure size 360x360 with 1 Axes>"
      ]
     },
     "metadata": {
      "needs_background": "light"
     },
     "output_type": "display_data"
    }
   ],
   "source": [
    "plt.figure(figsize = (5, 5))\n",
    "\n",
    "sns.boxplot(x = 'center', y = 'r', data = nciRMSE_R,\n",
    "            palette = center_pal, fliersize = 0)\n",
    "sns.swarmplot(x = 'center', y = 'r',\n",
    "              data = nciRMSE_R, color = \"0\")\n",
    "\n",
    "plt.xticks(rotation = \"90\")\n",
    "plt.ylabel(\"pearson R\")\n",
    "\n",
    "plt.ylim((0, 1.2))\n",
    "save_figure_pdf(plt, \"pearson_perCenter_adNCI_normedCoefs.pdf\")"
   ]
  },
  {
   "cell_type": "code",
   "execution_count": 20,
   "metadata": {},
   "outputs": [
    {
     "data": {
      "image/png": "[encoded data removed]",
      "text/plain": [
       "<Figure size 360x360 with 1 Axes>"
      ]
     },
     "metadata": {
      "needs_background": "light"
     },
     "output_type": "display_data"
    }
   ],
   "source": [
    "plt.figure(figsize = (5, 5))\n",
    "\n",
    "sns.boxplot(x = 'center', y = 'rmse', data = nciRMSE_R,\n",
    "            palette = center_pal, fliersize = 0)\n",
    "sns.swarmplot(x = 'center', y = 'rmse',\n",
    "              data = nciRMSE_R, color = \"0\")\n",
    "\n",
    "plt.xticks(rotation = \"90\")\n",
    "plt.ylabel(\"RMSE\")\n",
    "\n",
    "plt.ylim((0, 1.2))\n",
    "save_figure_pdf(plt, \"rmseFinal_perCenter_adNCI_normedCoefs.pdf\")"
   ]
  },
  {
   "cell_type": "markdown",
   "metadata": {},
   "source": [
    "# now let's get the mean coefficients per center!"
   ]
  },
  {
   "cell_type": "code",
   "execution_count": 21,
   "metadata": {},
   "outputs": [
    {
     "data": {
      "text/plain": [
       "Index(['neutrophil', 'nk cell', 'plasma cell', 'plasmablast', 'platelet',\n",
       "       't cell', 'thymocyte', 'endothelial cell', 'r', 'rmse'],\n",
       "      dtype='object')"
      ]
     },
     "execution_count": 21,
     "metadata": {},
     "output_type": "execute_result"
    }
   ],
   "source": [
    "bestSVR.columns[-10:] # ok so the last 6 columns are the ones we need to disregard when doing the sampling"
   ]
  },
  {
   "cell_type": "code",
   "execution_count": 22,
   "metadata": {},
   "outputs": [],
   "source": [
    "metaNCI = metaNCI[metaNCI[\"Isolate\"].isin(bestSVR.index.tolist())]"
   ]
  },
  {
   "cell_type": "code",
   "execution_count": 23,
   "metadata": {},
   "outputs": [
    {
     "data": {
      "text/plain": [
       "(75, 64)"
      ]
     },
     "execution_count": 23,
     "metadata": {},
     "output_type": "execute_result"
    }
   ],
   "source": [
    "# resubset bestSVR to the NCI samples only\n",
    "bestSVR = bestSVR.loc[np.unique(metaNCI['Isolate'].tolist())] # take np.unique to not get duplicate indices\n",
    "bestSVR.shape # cool, have all 75 NCI samples"
   ]
  },
  {
   "cell_type": "code",
   "execution_count": 24,
   "metadata": {},
   "outputs": [],
   "source": [
    "coefsOnly = bestSVR.iloc[:, :-2] # get the coefs, drop the deconv stats"
   ]
  },
  {
   "cell_type": "code",
   "execution_count": 25,
   "metadata": {},
   "outputs": [
    {
     "name": "stderr",
     "output_type": "stream",
     "text": [
      "/Users/kayaneh/anaconda3/lib/python3.6/site-packages/ipykernel_launcher.py:2: SettingWithCopyWarning: \n",
      "A value is trying to be set on a copy of a slice from a DataFrame.\n",
      "Try using .loc[row_indexer,col_indexer] = value instead\n",
      "\n",
      "See the caveats in the documentation: https://pandas.pydata.org/pandas-docs/stable/user_guide/indexing.html#returning-a-view-versus-a-copy\n",
      "  \n",
      "/Users/kayaneh/anaconda3/lib/python3.6/site-packages/pandas/core/frame.py:3089: SettingWithCopyWarning: \n",
      "A value is trying to be set on a copy of a slice from a DataFrame\n",
      "\n",
      "See the caveats in the documentation: https://pandas.pydata.org/pandas-docs/stable/user_guide/indexing.html#returning-a-view-versus-a-copy\n",
      "  self._where(-key, value, inplace=True)\n"
     ]
    }
   ],
   "source": [
    "# all coefs < 0 -> 0\n",
    "coefsOnly[coefsOnly < 0] = 0"
   ]
  },
  {
   "cell_type": "code",
   "execution_count": 26,
   "metadata": {},
   "outputs": [],
   "source": [
    "# perform normalization to get the fractional contribs of cell type specific RNA\n",
    "normedCoefs = coefsOnly.div(coefsOnly.sum(axis = 1), axis = 0)"
   ]
  },
  {
   "cell_type": "code",
   "execution_count": 32,
   "metadata": {},
   "outputs": [],
   "source": [
    "# add R and RMSE back\n",
    "normedCoefs = pd.concat([normedCoefs, bestSVR.iloc[:,-2: ]], axis = 1)"
   ]
  },
  {
   "cell_type": "markdown",
   "metadata": {},
   "source": [
    "# viz correlation of normed Coefs"
   ]
  },
  {
   "cell_type": "code",
   "execution_count": 80,
   "metadata": {},
   "outputs": [],
   "source": [
    "# consider only coefs and not R/RMSE\n",
    "justCoefs = normedCoefs.iloc[:,:-2]"
   ]
  },
  {
   "cell_type": "code",
   "execution_count": 82,
   "metadata": {},
   "outputs": [],
   "source": [
    "# get pairwise pearson correlations\n",
    "corrMat = justCoefs.T.corr(method = \"pearson\")"
   ]
  },
  {
   "cell_type": "code",
   "execution_count": 83,
   "metadata": {},
   "outputs": [],
   "source": [
    "# reverse the center dictionary to map\n",
    "revCenter = {}\n",
    "for c in center:\n",
    "    for iso in center[c]:\n",
    "        revCenter[iso] = c"
   ]
  },
  {
   "cell_type": "code",
   "execution_count": 84,
   "metadata": {},
   "outputs": [],
   "source": [
    "compartmentHue = []\n",
    "for i in corrMat.columns.tolist():\n",
    "    compartmentHue += [center_pal[revCenter[str(i)]]]"
   ]
  },
  {
   "cell_type": "code",
   "execution_count": 85,
   "metadata": {},
   "outputs": [
    {
     "data": {
      "text/plain": [
       "(75, 75)"
      ]
     },
     "execution_count": 85,
     "metadata": {},
     "output_type": "execute_result"
    }
   ],
   "source": [
    "corrMat.shape"
   ]
  },
  {
   "cell_type": "code",
   "execution_count": 86,
   "metadata": {},
   "outputs": [
    {
     "data": {
      "image/png": "[encoded data removed]",
      "text/plain": [
       "<Figure size 720x720 with 5 Axes>"
      ]
     },
     "metadata": {
      "needs_background": "light"
     },
     "output_type": "display_data"
    }
   ],
   "source": [
    "g = sns.clustermap(corrMat, cmap = \"Blues\",\n",
    "                   method = \"complete\",\n",
    "                   row_colors = compartmentHue,\n",
    "                   vmin = 0,\n",
    "                   yticklabels = False,\n",
    "                   xticklabels = False,\n",
    "                   vmax = 1)\n",
    "\n",
    "\n",
    "save_figure_pdf(g, \"allNCICoefs_perCenter.pdf\")"
   ]
  },
  {
   "cell_type": "code",
   "execution_count": null,
   "metadata": {},
   "outputs": [],
   "source": []
  },
  {
   "cell_type": "markdown",
   "metadata": {},
   "source": [
    "# look at deconvolution performance"
   ]
  },
  {
   "cell_type": "code",
   "execution_count": 87,
   "metadata": {},
   "outputs": [],
   "source": [
    "# need to only get the healthy samples from each of these patients"
   ]
  },
  {
   "cell_type": "code",
   "execution_count": 88,
   "metadata": {},
   "outputs": [],
   "source": [
    "bestSVR['Isolate'] = bestSVR.index.tolist()"
   ]
  },
  {
   "cell_type": "code",
   "execution_count": 89,
   "metadata": {},
   "outputs": [
    {
     "data": {
      "text/plain": [
       "Index(['nk cell', 'plasma cell', 'plasmablast', 'platelet', 't cell',\n",
       "       'thymocyte', 'endothelial cell', 'r', 'rmse', 'Isolate'],\n",
       "      dtype='object')"
      ]
     },
     "execution_count": 89,
     "metadata": {},
     "output_type": "execute_result"
    }
   ],
   "source": [
    "bestSVR.columns[-10:]"
   ]
  },
  {
   "cell_type": "markdown",
   "metadata": {},
   "source": [
    "# get average expression per center and write out for mathematica"
   ]
  },
  {
   "cell_type": "code",
   "execution_count": 90,
   "metadata": {},
   "outputs": [
    {
     "data": {
      "text/plain": [
       "'\\n# get the center information and append it \\nnciIso = metaNCI[[\\'Isolate\\', \\'Center\\']].set_index(\"Isolate\")\\nnormedCoefs = normedCoefs.join(nciIso)'"
      ]
     },
     "execution_count": 90,
     "metadata": {},
     "output_type": "execute_result"
    }
   ],
   "source": [
    "center = []\n",
    "for iso in normedCoefs.index:\n",
    "    center += np.unique(metaNCI[metaNCI['Isolate'] == int(iso)]['Center'].values.tolist()).tolist()\n",
    "\n",
    "\"\"\"\n",
    "# get the center information and append it \n",
    "nciIso = metaNCI[['Isolate', 'Center']].set_index(\"Isolate\")\n",
    "normedCoefs = normedCoefs.join(nciIso)\"\"\""
   ]
  },
  {
   "cell_type": "code",
   "execution_count": 91,
   "metadata": {},
   "outputs": [],
   "source": [
    "normedCoefs['Center'] = center"
   ]
  },
  {
   "cell_type": "code",
   "execution_count": 92,
   "metadata": {},
   "outputs": [
    {
     "data": {
      "text/plain": [
       "Index(['plasmablast', 'platelet', 't cell', 'thymocyte', 'endothelial cell',\n",
       "       'r', 'rmse', 'Center'],\n",
       "      dtype='object')"
      ]
     },
     "execution_count": 92,
     "metadata": {},
     "output_type": "execute_result"
    }
   ],
   "source": [
    "normedCoefs.columns[-8:] # yup, just want the last 7 to be dropped"
   ]
  },
  {
   "cell_type": "code",
   "execution_count": 93,
   "metadata": {},
   "outputs": [
    {
     "data": {
      "text/plain": [
       "(75, 65)"
      ]
     },
     "execution_count": 93,
     "metadata": {},
     "output_type": "execute_result"
    }
   ],
   "source": [
    "normedCoefs.shape"
   ]
  },
  {
   "cell_type": "code",
   "execution_count": 94,
   "metadata": {},
   "outputs": [],
   "source": [
    "# convert the complex labels fronm the cell type coarsegraining to the abbreviations\n",
    "\n",
    "labelConversion = {}\n",
    "\n",
    "\n",
    "labelConversion[\"gland cell\"] = \"acinar cell of salivary gland/myoepithelial cell\"\n",
    "labelConversion[\"respiratory ciliated cell\"] = \"ciliated cell/lung ciliated cell\"\n",
    "labelConversion[\"prostate epithelia\"] = \"club cell of prostate epithelium/hillock cell of prostate epithelium/hillock-club cell of prostate epithelium\"\n",
    "labelConversion[\"salivary/bronchial secretory cell\"] = \"duct epithelial cell/serous cell of epithelium of bronchus\"\n",
    "labelConversion[\"intestinal enterocyte\"] = \"enterocyte of epithelium of large intestine/enterocyte of epithelium of small intestine/intestinal crypt stem cell of large intestine/large intestine goblet cell/mature enterocyte/paneth cell of epithelium of large intestine/small intestine goblet cell\"\n",
    "labelConversion[\"erythrocyte/erythroid progenitor\"] = \"erythrocyte/erythroid progenitor\"\n",
    "labelConversion[\"fibroblast/mesenchymal stem cell\"] = \"fibroblast/mesenchymal stem cell\"\n",
    "labelConversion[\"intestinal secretory cell\"] = \"intestinal enteroendocrine cell/paneth cell of epithelium of small intestine/transit amplifying cell of small intestine\"\n",
    "labelConversion[\"ionocyte/luminal epithelial cell of mammary gland\"] = \"ionocyte/luminal epithelial cell of mammary gland\"\n",
    "labelConversion[\"secretory cell\"] = \"mucus secreting cell/secretory cell/tracheal goblet cell\"\n",
    "labelConversion[\"pancreatic alpha/beta cell\"] = \"pancreatic alpha cell/pancreatic beta cell\"\n",
    "labelConversion[\"respiratory secretory cell\"] = \"respiratory goblet cell/respiratory mucous cell/serous cell of epithelium of trachea\"\n",
    "labelConversion[\"basal prostate cell\"] = \"basal cell of prostate epithelia\"\n",
    "labelConversion[\"intestinal crypt stem cell\"] = \"immature enterocyte/intestinal crypt stem cell/intestinal crypt stem cell of small intestine/transit amplifying cell of large intestine\"\n",
    "    \n",
    "revLabs = {}\n",
    "for l in labelConversion:\n",
    "    revLabs[labelConversion[l]] = l"
   ]
  },
  {
   "cell_type": "code",
   "execution_count": 95,
   "metadata": {},
   "outputs": [],
   "source": [
    "simpleCells = []\n",
    "for cell in normedCoefs.columns.tolist():\n",
    "    if cell in list(revLabs.keys()):\n",
    "        simpleCells += [revLabs[cell]]\n",
    "    else: simpleCells += [cell]"
   ]
  },
  {
   "cell_type": "code",
   "execution_count": 96,
   "metadata": {},
   "outputs": [],
   "source": [
    "normedCoefs.columns = simpleCells"
   ]
  },
  {
   "cell_type": "code",
   "execution_count": 97,
   "metadata": {},
   "outputs": [
    {
     "data": {
      "text/html": [
       "<div>\n",
       "<style scoped>\n",
       "    .dataframe tbody tr th:only-of-type {\n",
       "        vertical-align: middle;\n",
       "    }\n",
       "\n",
       "    .dataframe tbody tr th {\n",
       "        vertical-align: top;\n",
       "    }\n",
       "\n",
       "    .dataframe thead th {\n",
       "        text-align: right;\n",
       "    }\n",
       "</style>\n",
       "<table border=\"1\" class=\"dataframe\">\n",
       "  <thead>\n",
       "    <tr style=\"text-align: right;\">\n",
       "      <th></th>\n",
       "      <th>adventitial cell</th>\n",
       "      <th>cardiac muscle cell</th>\n",
       "      <th>cell of skeletal muscle</th>\n",
       "      <th>fibroblast/mesenchymal stem cell</th>\n",
       "      <th>melanocyte</th>\n",
       "      <th>mesothelial cell</th>\n",
       "      <th>pancreatic stellate cell</th>\n",
       "      <th>pericyte cell</th>\n",
       "      <th>schwann cell</th>\n",
       "      <th>smooth muscle cell</th>\n",
       "      <th>...</th>\n",
       "      <th>nk cell</th>\n",
       "      <th>plasma cell</th>\n",
       "      <th>plasmablast</th>\n",
       "      <th>platelet</th>\n",
       "      <th>t cell</th>\n",
       "      <th>thymocyte</th>\n",
       "      <th>endothelial cell</th>\n",
       "      <th>r</th>\n",
       "      <th>rmse</th>\n",
       "      <th>Center</th>\n",
       "    </tr>\n",
       "  </thead>\n",
       "  <tbody>\n",
       "    <tr>\n",
       "      <th>1821</th>\n",
       "      <td>0.014521</td>\n",
       "      <td>0.0</td>\n",
       "      <td>0.011495</td>\n",
       "      <td>0.000000</td>\n",
       "      <td>0.0</td>\n",
       "      <td>0.000000</td>\n",
       "      <td>0.006057</td>\n",
       "      <td>0.000000</td>\n",
       "      <td>0.003980</td>\n",
       "      <td>0.0</td>\n",
       "      <td>...</td>\n",
       "      <td>0.020481</td>\n",
       "      <td>0.0</td>\n",
       "      <td>0.000000</td>\n",
       "      <td>0.074070</td>\n",
       "      <td>0.001461</td>\n",
       "      <td>0.009009</td>\n",
       "      <td>0.018813</td>\n",
       "      <td>0.824422</td>\n",
       "      <td>0.611695</td>\n",
       "      <td>University of Washington at St. Louis</td>\n",
       "    </tr>\n",
       "    <tr>\n",
       "      <th>1850</th>\n",
       "      <td>0.028297</td>\n",
       "      <td>0.0</td>\n",
       "      <td>0.019875</td>\n",
       "      <td>0.000000</td>\n",
       "      <td>0.0</td>\n",
       "      <td>0.000000</td>\n",
       "      <td>0.000000</td>\n",
       "      <td>0.013326</td>\n",
       "      <td>0.002052</td>\n",
       "      <td>0.0</td>\n",
       "      <td>...</td>\n",
       "      <td>0.060191</td>\n",
       "      <td>0.0</td>\n",
       "      <td>0.001787</td>\n",
       "      <td>0.162061</td>\n",
       "      <td>0.000000</td>\n",
       "      <td>0.011647</td>\n",
       "      <td>0.025807</td>\n",
       "      <td>0.454590</td>\n",
       "      <td>0.894833</td>\n",
       "      <td>University of Washington at St. Louis</td>\n",
       "    </tr>\n",
       "    <tr>\n",
       "      <th>1854</th>\n",
       "      <td>0.019434</td>\n",
       "      <td>0.0</td>\n",
       "      <td>0.019727</td>\n",
       "      <td>0.000000</td>\n",
       "      <td>0.0</td>\n",
       "      <td>0.000000</td>\n",
       "      <td>0.010583</td>\n",
       "      <td>0.000000</td>\n",
       "      <td>0.004908</td>\n",
       "      <td>0.0</td>\n",
       "      <td>...</td>\n",
       "      <td>0.027737</td>\n",
       "      <td>0.0</td>\n",
       "      <td>0.000000</td>\n",
       "      <td>0.116590</td>\n",
       "      <td>0.000000</td>\n",
       "      <td>0.012624</td>\n",
       "      <td>0.023218</td>\n",
       "      <td>0.678473</td>\n",
       "      <td>0.743889</td>\n",
       "      <td>University of Washington at St. Louis</td>\n",
       "    </tr>\n",
       "    <tr>\n",
       "      <th>1884</th>\n",
       "      <td>0.016738</td>\n",
       "      <td>0.0</td>\n",
       "      <td>0.026932</td>\n",
       "      <td>0.000000</td>\n",
       "      <td>0.0</td>\n",
       "      <td>0.000000</td>\n",
       "      <td>0.007990</td>\n",
       "      <td>0.004573</td>\n",
       "      <td>0.005795</td>\n",
       "      <td>0.0</td>\n",
       "      <td>...</td>\n",
       "      <td>0.056604</td>\n",
       "      <td>0.0</td>\n",
       "      <td>0.000000</td>\n",
       "      <td>0.039708</td>\n",
       "      <td>0.001336</td>\n",
       "      <td>0.013545</td>\n",
       "      <td>0.020335</td>\n",
       "      <td>0.611439</td>\n",
       "      <td>0.792640</td>\n",
       "      <td>University of Washington at St. Louis</td>\n",
       "    </tr>\n",
       "    <tr>\n",
       "      <th>1890</th>\n",
       "      <td>0.012294</td>\n",
       "      <td>0.0</td>\n",
       "      <td>0.016936</td>\n",
       "      <td>0.000000</td>\n",
       "      <td>0.0</td>\n",
       "      <td>0.000000</td>\n",
       "      <td>0.006989</td>\n",
       "      <td>0.004867</td>\n",
       "      <td>0.003516</td>\n",
       "      <td>0.0</td>\n",
       "      <td>...</td>\n",
       "      <td>0.032054</td>\n",
       "      <td>0.0</td>\n",
       "      <td>0.000110</td>\n",
       "      <td>0.154991</td>\n",
       "      <td>0.002799</td>\n",
       "      <td>0.006711</td>\n",
       "      <td>0.027722</td>\n",
       "      <td>0.801422</td>\n",
       "      <td>0.639612</td>\n",
       "      <td>University of Washington at St. Louis</td>\n",
       "    </tr>\n",
       "    <tr>\n",
       "      <th>...</th>\n",
       "      <td>...</td>\n",
       "      <td>...</td>\n",
       "      <td>...</td>\n",
       "      <td>...</td>\n",
       "      <td>...</td>\n",
       "      <td>...</td>\n",
       "      <td>...</td>\n",
       "      <td>...</td>\n",
       "      <td>...</td>\n",
       "      <td>...</td>\n",
       "      <td>...</td>\n",
       "      <td>...</td>\n",
       "      <td>...</td>\n",
       "      <td>...</td>\n",
       "      <td>...</td>\n",
       "      <td>...</td>\n",
       "      <td>...</td>\n",
       "      <td>...</td>\n",
       "      <td>...</td>\n",
       "      <td>...</td>\n",
       "      <td>...</td>\n",
       "    </tr>\n",
       "    <tr>\n",
       "      <th>17944</th>\n",
       "      <td>0.006512</td>\n",
       "      <td>0.0</td>\n",
       "      <td>0.015590</td>\n",
       "      <td>0.000000</td>\n",
       "      <td>0.0</td>\n",
       "      <td>0.000000</td>\n",
       "      <td>0.000000</td>\n",
       "      <td>0.004873</td>\n",
       "      <td>0.010263</td>\n",
       "      <td>0.0</td>\n",
       "      <td>...</td>\n",
       "      <td>0.028699</td>\n",
       "      <td>0.0</td>\n",
       "      <td>0.000000</td>\n",
       "      <td>0.238850</td>\n",
       "      <td>0.000553</td>\n",
       "      <td>0.013440</td>\n",
       "      <td>0.060538</td>\n",
       "      <td>0.603950</td>\n",
       "      <td>0.800980</td>\n",
       "      <td>BioIVT</td>\n",
       "    </tr>\n",
       "    <tr>\n",
       "      <th>17946</th>\n",
       "      <td>0.010161</td>\n",
       "      <td>0.0</td>\n",
       "      <td>0.009176</td>\n",
       "      <td>0.000000</td>\n",
       "      <td>0.0</td>\n",
       "      <td>0.000000</td>\n",
       "      <td>0.006304</td>\n",
       "      <td>0.003099</td>\n",
       "      <td>0.000425</td>\n",
       "      <td>0.0</td>\n",
       "      <td>...</td>\n",
       "      <td>0.044731</td>\n",
       "      <td>0.0</td>\n",
       "      <td>0.001301</td>\n",
       "      <td>0.522194</td>\n",
       "      <td>0.000000</td>\n",
       "      <td>0.006127</td>\n",
       "      <td>0.031965</td>\n",
       "      <td>0.679292</td>\n",
       "      <td>0.735522</td>\n",
       "      <td>BioIVT</td>\n",
       "    </tr>\n",
       "    <tr>\n",
       "      <th>17947</th>\n",
       "      <td>0.000000</td>\n",
       "      <td>0.0</td>\n",
       "      <td>0.012942</td>\n",
       "      <td>0.000954</td>\n",
       "      <td>0.0</td>\n",
       "      <td>0.001029</td>\n",
       "      <td>0.000000</td>\n",
       "      <td>0.013931</td>\n",
       "      <td>0.001370</td>\n",
       "      <td>0.0</td>\n",
       "      <td>...</td>\n",
       "      <td>0.011547</td>\n",
       "      <td>0.0</td>\n",
       "      <td>0.000899</td>\n",
       "      <td>0.571532</td>\n",
       "      <td>0.015483</td>\n",
       "      <td>0.005068</td>\n",
       "      <td>0.015643</td>\n",
       "      <td>0.732117</td>\n",
       "      <td>0.686575</td>\n",
       "      <td>BioIVT</td>\n",
       "    </tr>\n",
       "    <tr>\n",
       "      <th>17949</th>\n",
       "      <td>0.010068</td>\n",
       "      <td>0.0</td>\n",
       "      <td>0.019289</td>\n",
       "      <td>0.000000</td>\n",
       "      <td>0.0</td>\n",
       "      <td>0.000000</td>\n",
       "      <td>0.018849</td>\n",
       "      <td>0.003411</td>\n",
       "      <td>0.002598</td>\n",
       "      <td>0.0</td>\n",
       "      <td>...</td>\n",
       "      <td>0.056852</td>\n",
       "      <td>0.0</td>\n",
       "      <td>0.000000</td>\n",
       "      <td>0.249883</td>\n",
       "      <td>0.000000</td>\n",
       "      <td>0.006408</td>\n",
       "      <td>0.029095</td>\n",
       "      <td>0.425325</td>\n",
       "      <td>0.908274</td>\n",
       "      <td>BioIVT</td>\n",
       "    </tr>\n",
       "    <tr>\n",
       "      <th>17953</th>\n",
       "      <td>0.013723</td>\n",
       "      <td>0.0</td>\n",
       "      <td>0.028657</td>\n",
       "      <td>0.000000</td>\n",
       "      <td>0.0</td>\n",
       "      <td>0.000000</td>\n",
       "      <td>0.001666</td>\n",
       "      <td>0.020680</td>\n",
       "      <td>0.011623</td>\n",
       "      <td>0.0</td>\n",
       "      <td>...</td>\n",
       "      <td>0.017155</td>\n",
       "      <td>0.0</td>\n",
       "      <td>0.000000</td>\n",
       "      <td>0.233227</td>\n",
       "      <td>0.000000</td>\n",
       "      <td>0.019402</td>\n",
       "      <td>0.019081</td>\n",
       "      <td>0.472396</td>\n",
       "      <td>0.882206</td>\n",
       "      <td>BioIVT</td>\n",
       "    </tr>\n",
       "  </tbody>\n",
       "</table>\n",
       "<p>75 rows × 65 columns</p>\n",
       "</div>"
      ],
      "text/plain": [
       "       adventitial cell  cardiac muscle cell  cell of skeletal muscle  \\\n",
       "1821           0.014521                  0.0                 0.011495   \n",
       "1850           0.028297                  0.0                 0.019875   \n",
       "1854           0.019434                  0.0                 0.019727   \n",
       "1884           0.016738                  0.0                 0.026932   \n",
       "1890           0.012294                  0.0                 0.016936   \n",
       "...                 ...                  ...                      ...   \n",
       "17944          0.006512                  0.0                 0.015590   \n",
       "17946          0.010161                  0.0                 0.009176   \n",
       "17947          0.000000                  0.0                 0.012942   \n",
       "17949          0.010068                  0.0                 0.019289   \n",
       "17953          0.013723                  0.0                 0.028657   \n",
       "\n",
       "       fibroblast/mesenchymal stem cell  melanocyte  mesothelial cell  \\\n",
       "1821                           0.000000         0.0          0.000000   \n",
       "1850                           0.000000         0.0          0.000000   \n",
       "1854                           0.000000         0.0          0.000000   \n",
       "1884                           0.000000         0.0          0.000000   \n",
       "1890                           0.000000         0.0          0.000000   \n",
       "...                                 ...         ...               ...   \n",
       "17944                          0.000000         0.0          0.000000   \n",
       "17946                          0.000000         0.0          0.000000   \n",
       "17947                          0.000954         0.0          0.001029   \n",
       "17949                          0.000000         0.0          0.000000   \n",
       "17953                          0.000000         0.0          0.000000   \n",
       "\n",
       "       pancreatic stellate cell  pericyte cell  schwann cell  \\\n",
       "1821                   0.006057       0.000000      0.003980   \n",
       "1850                   0.000000       0.013326      0.002052   \n",
       "1854                   0.010583       0.000000      0.004908   \n",
       "1884                   0.007990       0.004573      0.005795   \n",
       "1890                   0.006989       0.004867      0.003516   \n",
       "...                         ...            ...           ...   \n",
       "17944                  0.000000       0.004873      0.010263   \n",
       "17946                  0.006304       0.003099      0.000425   \n",
       "17947                  0.000000       0.013931      0.001370   \n",
       "17949                  0.018849       0.003411      0.002598   \n",
       "17953                  0.001666       0.020680      0.011623   \n",
       "\n",
       "       smooth muscle cell  ...   nk cell  plasma cell  plasmablast  platelet  \\\n",
       "1821                  0.0  ...  0.020481          0.0     0.000000  0.074070   \n",
       "1850                  0.0  ...  0.060191          0.0     0.001787  0.162061   \n",
       "1854                  0.0  ...  0.027737          0.0     0.000000  0.116590   \n",
       "1884                  0.0  ...  0.056604          0.0     0.000000  0.039708   \n",
       "1890                  0.0  ...  0.032054          0.0     0.000110  0.154991   \n",
       "...                   ...  ...       ...          ...          ...       ...   \n",
       "17944                 0.0  ...  0.028699          0.0     0.000000  0.238850   \n",
       "17946                 0.0  ...  0.044731          0.0     0.001301  0.522194   \n",
       "17947                 0.0  ...  0.011547          0.0     0.000899  0.571532   \n",
       "17949                 0.0  ...  0.056852          0.0     0.000000  0.249883   \n",
       "17953                 0.0  ...  0.017155          0.0     0.000000  0.233227   \n",
       "\n",
       "         t cell  thymocyte  endothelial cell         r      rmse  \\\n",
       "1821   0.001461   0.009009          0.018813  0.824422  0.611695   \n",
       "1850   0.000000   0.011647          0.025807  0.454590  0.894833   \n",
       "1854   0.000000   0.012624          0.023218  0.678473  0.743889   \n",
       "1884   0.001336   0.013545          0.020335  0.611439  0.792640   \n",
       "1890   0.002799   0.006711          0.027722  0.801422  0.639612   \n",
       "...         ...        ...               ...       ...       ...   \n",
       "17944  0.000553   0.013440          0.060538  0.603950  0.800980   \n",
       "17946  0.000000   0.006127          0.031965  0.679292  0.735522   \n",
       "17947  0.015483   0.005068          0.015643  0.732117  0.686575   \n",
       "17949  0.000000   0.006408          0.029095  0.425325  0.908274   \n",
       "17953  0.000000   0.019402          0.019081  0.472396  0.882206   \n",
       "\n",
       "                                      Center  \n",
       "1821   University of Washington at St. Louis  \n",
       "1850   University of Washington at St. Louis  \n",
       "1854   University of Washington at St. Louis  \n",
       "1884   University of Washington at St. Louis  \n",
       "1890   University of Washington at St. Louis  \n",
       "...                                      ...  \n",
       "17944                                 BioIVT  \n",
       "17946                                 BioIVT  \n",
       "17947                                 BioIVT  \n",
       "17949                                 BioIVT  \n",
       "17953                                 BioIVT  \n",
       "\n",
       "[75 rows x 65 columns]"
      ]
     },
     "execution_count": 97,
     "metadata": {},
     "output_type": "execute_result"
    }
   ],
   "source": [
    "normedCoefs"
   ]
  },
  {
   "cell_type": "code",
   "execution_count": 123,
   "metadata": {},
   "outputs": [
    {
     "name": "stdout",
     "output_type": "stream",
     "text": [
      "numSamps =  (18, 65)\n",
      "\n",
      "/Users/kayaneh/Documents/deconvolution/projectcode/fig1/BioIVT_sigMat18_avgCoefs_plasma.csv\n",
      "BioIVT_sigMat18_avgCoefs_plasma.csv\n",
      "numSamps =  (17, 65)\n",
      "\n",
      "/Users/kayaneh/Documents/deconvolution/projectcode/fig1/GEMs(Indiana)_sigMat18_avgCoefs_plasma.csv\n",
      "GEMs(Indiana)_sigMat18_avgCoefs_plasma.csv\n",
      "numSamps =  (18, 65)\n",
      "\n",
      "/Users/kayaneh/Documents/deconvolution/projectcode/fig1/UniversityofKentucky_sigMat18_avgCoefs_plasma.csv\n",
      "UniversityofKentucky_sigMat18_avgCoefs_plasma.csv\n",
      "numSamps =  (22, 65)\n",
      "\n",
      "/Users/kayaneh/Documents/deconvolution/projectcode/fig1/UniversityofWashingtonatSt.Louis_sigMat18_avgCoefs_plasma.csv\n",
      "UniversityofWashingtonatSt.Louis_sigMat18_avgCoefs_plasma.csv\n"
     ]
    }
   ],
   "source": [
    "allCenterAvg = pd.DataFrame()\n",
    "#superSmallThresh = 0.001\n",
    "\n",
    "for c in np.unique(normedCoefs[\"Center\"]):\n",
    "    res = normedCoefs[normedCoefs[\"Center\"] == c]\n",
    "    \n",
    "    print('numSamps = ', res.shape)\n",
    "    res = res.iloc[:, :-3].mean(axis = 0) # 3 of the data (r, rmse) + Center\n",
    "    res = res.sort_values(ascending = False)\n",
    "    \n",
    "    print(\"\")\n",
    "    fname = c.replace(\" \",\"\") + \"_sigMat18_avgCoefs_plasma.csv\"\n",
    "    \n",
    "    centerAvgDF = res.to_frame()\n",
    "    centerAvgDF.columns = [c]\n",
    "    # centerAvgDF = centerAvgDF[centerAvgDF.any(axis = 1)]\n",
    "       \n",
    "    \n",
    "    # concat to the main DF\n",
    "    allCenterAvg = centerAvgDF.join(allCenterAvg)\n",
    "   \n",
    "    print(os.getcwd() + \"/\" + fname)\n",
    "    centerAvgDF.to_csv(os.getcwd() +'/'+ fname)\n",
    "    \n",
    "    \n",
    "    print(fname)\n",
    "    allCenterAvg.sort_values(by = c, ascending = False, inplace = True)\n",
    "    \n",
    "    \"\"\"# WRITE OUT FOR EXTENDED DATA\n",
    "    sheetName = c.replace(\" \", \"\")\n",
    "    if c == \"BioIVT\":\n",
    "        with pd.ExcelWriter(\"fig1_sourceData.xlsx\", mode = 'a') as writer:\n",
    "            centerAvgDF.to_excel(writer, sheet_name = sheetName, engine = 'xlsxwriter')\n",
    "     \n",
    "    else: \n",
    "        with pd.ExcelWriter(\"extraPie_sourceData.xlsx\", mode = 'a') as writer:\n",
    "            centerAvgDF.to_excel(writer, sheet_name = sheetName, engine = 'xlsxwriter')\"\"\""
   ]
  },
  {
   "cell_type": "markdown",
   "metadata": {},
   "source": [
    "# viz the pairwise correlation of mean fractional contributions per center"
   ]
  },
  {
   "cell_type": "code",
   "execution_count": 124,
   "metadata": {},
   "outputs": [],
   "source": [
    "meltCenter = allCenterAvg\n",
    "meltCenter[\"celltype\"] = meltCenter.index\n",
    "meltCenter = pd.melt(meltCenter, id_vars = [\"celltype\"],\n",
    "                    value_vars = meltCenter.columns[:-1])"
   ]
  },
  {
   "cell_type": "code",
   "execution_count": 130,
   "metadata": {},
   "outputs": [],
   "source": [
    "def coefCorrMap2(df, method, sampletype):\n",
    "    corr = df.corr(method = \"pearson\")\n",
    "    mask = np.triu(np.ones_like(corr, dtype=bool))\n",
    "    #f, ax = plt.subplots(figsize=(11, 9))\n",
    "    cmap = sns.diverging_palette(230, 20, as_cmap=True)\n",
    "    worstCorr = np.min(corr.min().values)\n",
    "    maxCorr = np.min(corr.max().values)\n",
    "    plt.figure(figsize = (20, 20))\n",
    "    sns.heatmap(corr, mask=mask, cmap= \"Blues\", \n",
    "                vmin = 0, vmax = 1,\n",
    "            square=True, annot = True, linewidths=.5, \n",
    "                cbar_kws={\"shrink\": .5})\n",
    "    plt.title(method + \" Coefficent Correlations for \" + sampletype)\n",
    "    plt.yticks(rotation = 0)\n",
    "    plt.xticks(rotation = 90)\n",
    "    \n",
    "    save_figure_pdf(plt, \"perCenterCoefCorrelations_final_allCenterAvg.pdf\")"
   ]
  },
  {
   "cell_type": "code",
   "execution_count": 132,
   "metadata": {},
   "outputs": [
    {
     "data": {
      "image/png": "[encoded data removed]",
      "text/plain": [
       "<Figure size 1440x1440 with 2 Axes>"
      ]
     },
     "metadata": {
      "needs_background": "light"
     },
     "output_type": "display_data"
    }
   ],
   "source": [
    "coefCorrMap2(allCenterAvg, \"corr\", \"corr\")"
   ]
  },
  {
   "cell_type": "code",
   "execution_count": null,
   "metadata": {},
   "outputs": [],
   "source": [
    "clear all"
   ]
  }
 ],
 "metadata": {
  "kernelspec": {
   "display_name": "Python 3",
   "language": "python",
   "name": "python3"
  },
  "language_info": {
   "codemirror_mode": {
    "name": "ipython",
    "version": 3
   },
   "file_extension": ".py",
   "mimetype": "text/x-python",
   "name": "python",
   "nbconvert_exporter": "python",
   "pygments_lexer": "ipython3",
   "version": "3.6.12"
  }
 },
 "nbformat": 4,
 "nbformat_minor": 4
}
