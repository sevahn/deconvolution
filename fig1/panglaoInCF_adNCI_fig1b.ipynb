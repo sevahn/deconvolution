{
 "cells": [
  {
   "cell_type": "code",
   "execution_count": 1,
   "metadata": {},
   "outputs": [],
   "source": [
    "import numpy as np\n",
    "import pandas as pd\n",
    "import scanpy as sc\n",
    "\n",
    "import matplotlib.pyplot as plt\n",
    "import seaborn as sns\n",
    "import matplotlib as mpl\n",
    "\n",
    "#For editable text. Except latex text is still shapes sadly\n",
    "mpl.rcParams['pdf.fonttype'] = 42\n",
    "mpl.rcParams['ps.fonttype'] = 42\n",
    "sns.set_style(\"whitegrid\")\n",
    "font = {'size' : 6}\n",
    "lines = {'linewidth' : 0.5}\n",
    "fig = {'figsize' : (2.5, 1.5)}\n",
    "mpl.rc('font', **font)\n",
    "mpl.rc('lines', **lines)\n",
    "mpl.rc('figure', **fig)\n",
    "\n",
    "#Set style\n",
    "sns.set(style=\"whitegrid\", palette=\"pastel\", color_codes=True)\n",
    "import mygene\n",
    "\n",
    "import os\n",
    "\n",
    "from sklearn.metrics.pairwise import cosine_similarity"
   ]
  },
  {
   "cell_type": "code",
   "execution_count": 2,
   "metadata": {},
   "outputs": [],
   "source": [
    "def save_figure_pdf(fig, path_to_save):\n",
    "\t'''\n",
    "\tUtility fxn to save a figure without having to retype all the required options.\n",
    "\tInput:\n",
    "\t\tfig - a matplotlib.pyplot.figure instance with the figure you'd like to save\n",
    "\t\tpath_to_save - the path you'd like to save the figure to\n",
    "\tReturns: Nothing but there should now be a pdf version in 300 dpi with a transparent bkg at path_to_save\n",
    "\t'''\n",
    "\tfig.savefig(path_to_save, dpi = 300, bbox_inches = 'tight', transparent = True)"
   ]
  },
  {
   "cell_type": "code",
   "execution_count": 3,
   "metadata": {},
   "outputs": [],
   "source": [
    "figSavePath = \"/Users/kayaneh/Documents/deconvolution/figures/full_figure/maintext_revision1/\""
   ]
  },
  {
   "cell_type": "code",
   "execution_count": 4,
   "metadata": {},
   "outputs": [],
   "source": [
    "figEnd = \"_11172021.pdf\""
   ]
  },
  {
   "cell_type": "markdown",
   "metadata": {},
   "source": [
    "from the notebook '~/Documents/deconvolution/04092021_joint_filterBadSamples_molecStetho.ipynb'"
   ]
  },
  {
   "cell_type": "code",
   "execution_count": 5,
   "metadata": {},
   "outputs": [],
   "source": [
    "# this is the april TMM of the 5 biological replicates\n",
    "# these counts are CPM-TMM-plasma volume normalized\n",
    "\n",
    "nciPath = '/Users/kayaneh/Documents/deconvolution/alzheimers/remapped_unstranded/allNCI_biologReplicates_postQC_cpmTMMPlasmaVol_unstrandedTS3_09022021.csv'\n",
    "nciCts = pd.read_csv(nciPath, sep = \",\", index_col = 0)\n",
    "\n",
    "# drop the rows that are all zero\n",
    "biologRepGeneAvgs = nciCts[nciCts.any(axis = 1)]\n",
    "\n",
    "biologRepGeneAvgs.drop([\"gene_num\"], inplace = True, axis = \"columns\")"
   ]
  },
  {
   "cell_type": "code",
   "execution_count": 6,
   "metadata": {},
   "outputs": [
    {
     "data": {
      "text/plain": [
       "(38597, 75)"
      ]
     },
     "execution_count": 6,
     "metadata": {},
     "output_type": "execute_result"
    }
   ],
   "source": [
    "biologRepGeneAvgs.shape"
   ]
  },
  {
   "cell_type": "markdown",
   "metadata": {},
   "source": [
    "drop the ENSG id so it's just the gene names"
   ]
  },
  {
   "cell_type": "markdown",
   "metadata": {},
   "source": [
    "# preliminaries"
   ]
  },
  {
   "cell_type": "code",
   "execution_count": 7,
   "metadata": {},
   "outputs": [],
   "source": [
    "# get gene synonyms for each cluster\n",
    "\n",
    "def extractGeneSynonyms(geneList):\n",
    "    mg = mygene.MyGeneInfo()\n",
    "    geneRes = mg.getgenes(geneList)\n",
    "    \n",
    "    # collect the genes and their aliases\n",
    "    geneSynonyms = []\n",
    "    for res in geneRes:\n",
    "        geneSynonyms += [res['query']]\n",
    "        if \"notfound\" not in list(res.keys()) and 'alias'in list(res.keys()):\n",
    "            geneSynonyms += [res['alias']]\n",
    "    return geneSynonyms"
   ]
  },
  {
   "cell_type": "markdown",
   "metadata": {},
   "source": [
    "# look at cell types from panglao"
   ]
  },
  {
   "cell_type": "code",
   "execution_count": 8,
   "metadata": {},
   "outputs": [],
   "source": [
    "allCF = biologRepGeneAvgs"
   ]
  },
  {
   "cell_type": "code",
   "execution_count": 9,
   "metadata": {},
   "outputs": [],
   "source": [
    "# get all panglao markers \n",
    "panglao = pd.read_csv(\"../signatures_git/PanglaoDB_markers_27_Mar_2020.tsv\",\n",
    "                      sep = \"\\t\", index_col = 0)\n",
    "\n",
    "specificity = 0.2\n",
    "sensitivity = 0.9\n",
    "panglao = panglao[panglao.index.str.contains(\"Hs\")] # get rows that have Hs in them\n",
    "\n",
    "# specificity = how often marker NOT expressed in this cell type\n",
    "spec01 = panglao[panglao[\"specificity_human\"] < specificity]\n",
    "\n",
    "# sensitivity = how frequently this marker is expressed in cells of this type\n",
    "spec01 = spec01[spec01[\"sensitivity_human\"] > sensitivity]\n",
    "\n",
    "\n",
    "markerDict = {} # dictonary where keys are genes are vals are (cellType, tissue)\n",
    "for i in range(spec01.shape[0]):\n",
    "    info = spec01.iloc[i,:]\n",
    "    genes = info[\"official gene symbol\"]\n",
    "    #if type(info[\"nicknames\"]) == str:\n",
    "    #    genes += info[\"nicknames\"].split(\"|\")\n",
    "    cellTiss = (info[\"cell type\"], info[\"organ\"])\n",
    "    \n",
    "    # update dict, where keys are all the genes and the values are the cell types/tiss\n",
    "    markerDict[genes] = cellTiss \n"
   ]
  },
  {
   "cell_type": "code",
   "execution_count": 10,
   "metadata": {},
   "outputs": [
    {
     "name": "stdout",
     "output_type": "stream",
     "text": [
      "querying 1-315...done.\n"
     ]
    }
   ],
   "source": [
    "allMarkers = extractGeneSynonyms(list(markerDict.keys()))"
   ]
  },
  {
   "cell_type": "code",
   "execution_count": 11,
   "metadata": {},
   "outputs": [],
   "source": [
    "# get intersection of \n",
    "cfGenes = biologRepGeneAvgs.index.tolist()"
   ]
  },
  {
   "cell_type": "code",
   "execution_count": 12,
   "metadata": {},
   "outputs": [],
   "source": [
    "markersInCF = biologRepGeneAvgs.loc[np.intersect1d(allMarkers, cfGenes)].index\n"
   ]
  },
  {
   "cell_type": "code",
   "execution_count": 13,
   "metadata": {},
   "outputs": [],
   "source": [
    "tiss = np.unique([i[1] for i in markerDict.values()])\n",
    "cellTypes = np.unique([i[0] for i in markerDict.values()])"
   ]
  },
  {
   "cell_type": "code",
   "execution_count": 14,
   "metadata": {
    "code_folding": []
   },
   "outputs": [],
   "source": [
    "def getCellsInSamp(srrID, exprThresh):\n",
    "    \n",
    "    samp = biologRepGeneAvgs[srrID]\n",
    "    samp = samp[samp > exprThresh]\n",
    "    sampGenes = samp.index\n",
    "\n",
    "    missing = [] # will look up synonyms this way\n",
    "    present = []\n",
    "\n",
    "    # get the relevant list of genes from which to identify intersections\n",
    "    markersInCF = list(np.intersect1d(sampGenes, allMarkers))\n",
    "    \n",
    "    tissDict = {}\n",
    "    cellDict = {}\n",
    "\n",
    "    for t in tiss:\n",
    "        tissDict[t] = 0\n",
    "\n",
    "    for c in cellTypes:\n",
    "        cellDict[c] = 0\n",
    "        \n",
    "    for m in markersInCF: # loop through the dictionary\n",
    "        if m in list(markerDict.keys()):\n",
    "\n",
    "            thisCell = markerDict[m][0]\n",
    "            thisTiss = markerDict[m][1]\n",
    "            if type(thisTiss) != str or type(thisCell) != str:\n",
    "                thisTiss = str(thisTiss)\n",
    "                thisCell = str(thisCell)\n",
    "            cellDict[thisCell] += 1\n",
    "            tissDict[thisTiss] += 1\n",
    "            present += [m]\n",
    "        else:\n",
    "            missing += [m]\n",
    "\n",
    "    for k in cellDict:\n",
    "        cellDict[k] = [cellDict[k]]\n",
    "\n",
    "    for k in tissDict:\n",
    "        tissDict[k] = [tissDict[k]]\n",
    "    \n",
    "    cellMarkDF = pd.DataFrame.from_dict(cellDict).T.sort_values(by = 0, ascending = True)\n",
    "    tissMarkDF = pd.DataFrame.from_dict(tissDict).T.sort_values(by = 0, ascending = True)\n",
    "    return(cellMarkDF, tissMarkDF)"
   ]
  },
  {
   "cell_type": "code",
   "execution_count": 15,
   "metadata": {},
   "outputs": [],
   "source": [
    "allSamps = pd.DataFrame()\n",
    "allTiss = pd.DataFrame()\n",
    "for i in biologRepGeneAvgs.columns.tolist():\n",
    "    res, thisTissInSamp = getCellsInSamp(i, 0)\n",
    "    res.columns = [i]\n",
    "    thisTissInSamp.columns = [i]\n",
    "    allSamps = pd.concat([allSamps, res], axis = \"columns\")\n",
    "    allTiss = pd.concat([allTiss, thisTissInSamp], axis = \"columns\")"
   ]
  },
  {
   "cell_type": "code",
   "execution_count": 16,
   "metadata": {},
   "outputs": [],
   "source": [
    "# eliminate cell types that are zero across all samples\n",
    "allSamps = allSamps.loc[~(allSamps == 0).all(axis = 1)]\n",
    "allTiss = allTiss.loc[~(allTiss == 0).all(axis = 1)]"
   ]
  },
  {
   "cell_type": "code",
   "execution_count": 17,
   "metadata": {},
   "outputs": [],
   "source": [
    "# get the cell types that on average have more than 5 cell type specific genes\n",
    "avgCellTypes = allSamps.mean(axis = 1).sort_values(ascending = False)\n",
    "avgCellTypes = avgCellTypes[avgCellTypes > 5].index.tolist()"
   ]
  },
  {
   "cell_type": "code",
   "execution_count": 18,
   "metadata": {},
   "outputs": [],
   "source": [
    "allSamps[\"celltypes\"] = allSamps.index\n",
    "allTiss[\"tissues\"] = allTiss.index"
   ]
  },
  {
   "cell_type": "code",
   "execution_count": 19,
   "metadata": {},
   "outputs": [],
   "source": [
    "allSamps = allSamps.loc[avgCellTypes]"
   ]
  },
  {
   "cell_type": "code",
   "execution_count": 20,
   "metadata": {},
   "outputs": [],
   "source": [
    "meltCts = pd.melt(allSamps, id_vars = allSamps.columns[-1], value_vars = allSamps.columns[:-1])"
   ]
  },
  {
   "cell_type": "code",
   "execution_count": 21,
   "metadata": {},
   "outputs": [],
   "source": [
    "meltTiss = pd.melt(allTiss, id_vars = allTiss.columns[-1], value_vars = allSamps.columns[:-1])"
   ]
  },
  {
   "cell_type": "code",
   "execution_count": 22,
   "metadata": {},
   "outputs": [],
   "source": [
    "meltCts = meltCts.sort_values(by = \"value\",ascending = False)\n",
    "meltTiss = meltTiss.sort_values(by = \"value\",ascending = False)"
   ]
  },
  {
   "cell_type": "code",
   "execution_count": 23,
   "metadata": {},
   "outputs": [],
   "source": [
    "meltCts[\"color\"] = \"color\"\n",
    "meltTiss[\"color\"] = \"color\""
   ]
  },
  {
   "cell_type": "code",
   "execution_count": 24,
   "metadata": {},
   "outputs": [],
   "source": [
    "meltCts.sort_values(by = \"value\", inplace = True, ascending = False)"
   ]
  },
  {
   "cell_type": "code",
   "execution_count": 25,
   "metadata": {},
   "outputs": [],
   "source": [
    "byAvg = meltCts.groupby([\"celltypes\"]).mean().sort_values(by = \"value\", ascending = False)"
   ]
  },
  {
   "cell_type": "code",
   "execution_count": 29,
   "metadata": {},
   "outputs": [
    {
     "name": "stderr",
     "output_type": "stream",
     "text": [
      "No handles with labels found to put in legend.\n"
     ]
    },
    {
     "data": {
      "text/plain": [
       "(0.0, 20.0)"
      ]
     },
     "execution_count": 29,
     "metadata": {},
     "output_type": "execute_result"
    },
    {
     "data": {
      "image/png": "[encoded data removed]",
      "text/plain": [
       "<Figure size 360x576 with 1 Axes>"
      ]
     },
     "metadata": {
      "needs_background": "light"
     },
     "output_type": "display_data"
    }
   ],
   "source": [
    "plt.figure(figsize = (5, 8))\n",
    "\n",
    "sns.barplot(data = meltCts, \n",
    "            y = \"celltypes\", x = \"value\", ci = \"sd\",\n",
    "            color = \"#1b4965\", order = byAvg.index.tolist())\n",
    "\n",
    "sns.stripplot(data = meltCts, size = 0.4,\n",
    "            y = \"celltypes\", x = \"value\",\n",
    "            color = \"#6c757d\", order = byAvg.index.tolist())\n",
    "\n",
    "plt.legend().remove()\n",
    "plt.ylabel(\"\")\n",
    "plt.xlabel(\"Number of Detected Markers\")\n",
    "plt.xticks(np.arange(0, 21, 5).tolist())\n",
    "plt.xlim(0,20)\n",
    "save_figure_pdf(plt, \"cellTypeMarkers_fig1B_sensit9spec2\" + figEnd)"
   ]
  },
  {
   "cell_type": "code",
   "execution_count": 27,
   "metadata": {},
   "outputs": [
    {
     "name": "stdout",
     "output_type": "stream",
     "text": [
      "\u001b[H\u001b[2J"
     ]
    }
   ],
   "source": [
    "clear all"
   ]
  }
 ],
 "metadata": {
  "kernelspec": {
   "display_name": "Python 3",
   "language": "python",
   "name": "python3"
  },
  "language_info": {
   "codemirror_mode": {
    "name": "ipython",
    "version": 3
   },
   "file_extension": ".py",
   "mimetype": "text/x-python",
   "name": "python",
   "nbconvert_exporter": "python",
   "pygments_lexer": "ipython3",
   "version": "3.6.12"
  }
 },
 "nbformat": 4,
 "nbformat_minor": 4
}
