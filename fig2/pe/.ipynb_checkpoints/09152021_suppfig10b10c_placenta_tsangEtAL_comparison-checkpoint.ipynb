{
 "cells": [
  {
   "cell_type": "markdown",
   "metadata": {},
   "source": [
    "Examine distribution in gene expression of reported syncytiotrophoblast and extravillous trophoblast signatures from supplementary figure 3D of Tsang et al in placental datasets from Vento Tormo et al (Tiechmann in code) and Suryawanshi et al (Hemant in code).\n",
    "\n",
    "I used a text extractor online to extract the genes from the signatures and manually verified they were identical to the genes in the heat map in supp fig 3D, where the column side color correponds to the cell cluster coloring in supp fig 3B. the row side color indicates the cell-type specifiity of the gene"
   ]
  },
  {
   "cell_type": "code",
   "execution_count": 1,
   "metadata": {},
   "outputs": [],
   "source": [
    "import numpy as np\n",
    "import pandas as pd\n",
    "import scanpy as sc\n",
    "\n",
    "import matplotlib.pyplot as plt\n",
    "import seaborn as sns\n",
    "import matplotlib as mpl\n",
    "\n",
    "#For editable text. Except latex text is still shapes\n",
    "mpl.rcParams['pdf.fonttype'] = 42\n",
    "mpl.rcParams['ps.fonttype'] = 42\n",
    "sns.set_style(\"whitegrid\")\n",
    "font = {'size' : 6}\n",
    "lines = {'linewidth' : 0.5}\n",
    "fig = {'figsize' : (2.5, 1.5)}\n",
    "mpl.rc('font', **font)\n",
    "mpl.rc('lines', **lines)\n",
    "mpl.rc('figure', **fig)\n",
    "\n",
    "#Set style\n",
    "sns.set(style = \"whitegrid\", palette=\"pastel\", color_codes=True)\n",
    "\n",
    "\n",
    "\n",
    "import mygene\n",
    "\n",
    "\n",
    "import os\n",
    "\n",
    "from sklearn.metrics.pairwise import cosine_similarity\n"
   ]
  },
  {
   "cell_type": "code",
   "execution_count": 2,
   "metadata": {},
   "outputs": [],
   "source": [
    "# import single cell datasets from the two atlases respectively and do log CPM normalization\n",
    "\n",
    "placentaHemant = sc.read_h5ad(\"/Users/kayaneh/documents/deconvolution/livertox/placenta-hemant.h5ad\")\n",
    "\n",
    "placentaTiechmann = sc.read_h5ad(\"/Users/kayaneh/documents/deconvolution/livertox/placenta-tiechmann.h5ad\")\n",
    "\n",
    "\n",
    "sc.pp.normalize_total(placentaHemant, target_sum = 1e4)\n",
    "sc.pp.log1p(placentaHemant)\n",
    "\n",
    "sc.pp.normalize_total(placentaTiechmann, target_sum = 1e4)\n",
    "sc.pp.log1p(placentaTiechmann)"
   ]
  },
  {
   "cell_type": "code",
   "execution_count": 3,
   "metadata": {},
   "outputs": [
    {
     "name": "stderr",
     "output_type": "stream",
     "text": [
      "/Users/kayaneh/anaconda3/lib/python3.6/site-packages/IPython/core/interactiveshell.py:3058: DtypeWarning: Columns (8) have mixed types.Specify dtype option on import or set low_memory=False.\n",
      "  interactivity=interactivity, compiler=compiler, result=result)\n"
     ]
    }
   ],
   "source": [
    "ensgRef = pd.read_csv(\"~/Documents/quake/ref/ensg-transcript_biotype.txt\", sep = \"\\t\", index_col = 0)"
   ]
  },
  {
   "cell_type": "code",
   "execution_count": 4,
   "metadata": {},
   "outputs": [
    {
     "data": {
      "text/plain": [
       "['COL17A1',\n",
       " 'MMP11',\n",
       " 'GDPD3',\n",
       " 'SLC6A2',\n",
       " 'UPK1B',\n",
       " 'PAPPA2',\n",
       " 'INHA',\n",
       " 'AIF1L',\n",
       " 'EGLN3',\n",
       " 'IL18BP',\n",
       " 'ITGA5',\n",
       " 'CLDN19',\n",
       " 'RRAD',\n",
       " 'CERCAM',\n",
       " 'LAIR2',\n",
       " 'LY6D',\n",
       " 'LVRN',\n",
       " 'PYCR1',\n",
       " 'NOTUM',\n",
       " 'HLA-G',\n",
       " 'RP5-1091E12.1',\n",
       " 'AF127936.7',\n",
       " 'BCAR4']"
      ]
     },
     "execution_count": 4,
     "metadata": {},
     "output_type": "execute_result"
    }
   ],
   "source": [
    "evtSig = \"COL17A1 MMP11 GDPD3 SLC6A2 UPK1B PAPPA2 INHA AIF1L EGLN3 IL18BP ITGA5 CLDN19 RRAD CERCAM LAIR2 LY6D LVRN PYCR1 NOTUM HLA-G RP5-1091E12.1 AF127936.7 BCAR4\"\n",
    "evtSig = evtSig.split(\" \")\n",
    "evtSig"
   ]
  },
  {
   "cell_type": "code",
   "execution_count": 5,
   "metadata": {},
   "outputs": [
    {
     "data": {
      "text/plain": [
       "['LGALS14',\n",
       " 'DEPDC1B',\n",
       " 'FAR2',\n",
       " 'PTPN21',\n",
       " 'RHOBTB1',\n",
       " 'ARG2',\n",
       " 'LGALS13',\n",
       " 'KMO',\n",
       " 'GH2',\n",
       " 'CYP19A1',\n",
       " 'TACC2',\n",
       " 'ATP10D',\n",
       " 'SLC13A4',\n",
       " 'MUC15',\n",
       " 'KISS1',\n",
       " 'PSG6',\n",
       " 'PSG9',\n",
       " 'SERPINB2',\n",
       " 'CSHL1',\n",
       " 'CSH2',\n",
       " 'PSG3',\n",
       " 'PSG1',\n",
       " 'PSG11',\n",
       " 'PSG4',\n",
       " 'ERVFRD-1',\n",
       " 'LGALS16',\n",
       " 'RP11-266L9.2']"
      ]
     },
     "execution_count": 5,
     "metadata": {},
     "output_type": "execute_result"
    }
   ],
   "source": [
    "sctSig = \"LGALS14 DEPDC1B FAR2 PTPN21 RHOBTB1 ARG2 LGALS13 KMO GH2 CYP19A1 TACC2 ATP10D SLC13A4 MUC15 KISS1 PSG6 PSG9 SERPINB2 CSHL1 CSH2 PSG3 PSG1 PSG11 PSG4 ERVFRD-1 LGALS16 RP11-266L9.2\"\n",
    "sctSig = sctSig.split(\" \")\n",
    "sctSig"
   ]
  },
  {
   "cell_type": "code",
   "execution_count": 6,
   "metadata": {},
   "outputs": [
    {
     "data": {
      "text/plain": [
       "'# extract gene synonyms \\nevtSigSynon = np.unique(ensgRef[ensgRef[\"Gene name\"].isin(evtSig)][\"Gene Synonym\"].tolist()).tolist()\\nevtSigNames = ensgRef[ensgRef[\"Gene Synonym\"].isin(evtSig)][\"Gene name\"].tolist() # no synonyms present\\n\\n\\nevtSig += evtSigSynon\\nevtSig += evtSigNames'"
      ]
     },
     "execution_count": 6,
     "metadata": {},
     "output_type": "execute_result"
    }
   ],
   "source": [
    "\"\"\"# extract gene synonyms \n",
    "evtSigSynon = np.unique(ensgRef[ensgRef[\"Gene name\"].isin(evtSig)][\"Gene Synonym\"].tolist()).tolist()\n",
    "evtSigNames = ensgRef[ensgRef[\"Gene Synonym\"].isin(evtSig)][\"Gene name\"].tolist() # no synonyms present\n",
    "\n",
    "\n",
    "evtSig += evtSigSynon\n",
    "evtSig += evtSigNames\"\"\""
   ]
  },
  {
   "cell_type": "code",
   "execution_count": 7,
   "metadata": {},
   "outputs": [
    {
     "data": {
      "text/plain": [
       "'\\n\\nsctSigNames = ensgRef[ensgRef[\"Gene Synonym\"].isin(sctSig)][\"Gene name\"].tolist() # no synonyms present\\n\\nsctSig += sctSigSynon\\nsctSig += sctSigNames\\n'"
      ]
     },
     "execution_count": 7,
     "metadata": {},
     "output_type": "execute_result"
    }
   ],
   "source": [
    "# extract gene synonyms\n",
    "#sctSigSynon = np.unique(ensgRef[ensgRef[\"Gene name\"].isin(sctSig)][\"Gene Synonym\"].tolist()).tolist()\n",
    "\n",
    "\"\"\"\n",
    "\n",
    "sctSigNames = ensgRef[ensgRef[\"Gene Synonym\"].isin(sctSig)][\"Gene name\"].tolist() # no synonyms present\n",
    "\n",
    "sctSig += sctSigSynon\n",
    "sctSig += sctSigNames\n",
    "\"\"\""
   ]
  },
  {
   "cell_type": "code",
   "execution_count": 8,
   "metadata": {},
   "outputs": [],
   "source": [
    "dennisCellSig = {}\n",
    "dennisCellSig[\"Extravillous trophoblast\"] = evtSig\n",
    "dennisCellSig[\"Syncytiotrophoblast\"] = sctSig"
   ]
  },
  {
   "cell_type": "code",
   "execution_count": null,
   "metadata": {},
   "outputs": [],
   "source": []
  },
  {
   "cell_type": "code",
   "execution_count": 9,
   "metadata": {},
   "outputs": [
    {
     "data": {
      "text/plain": [
       "array(['RP11-266L9.2'], dtype='<U12')"
      ]
     },
     "execution_count": 9,
     "metadata": {},
     "output_type": "execute_result"
    }
   ],
   "source": [
    "np.setdiff1d(dennisCellSig[\"Syncytiotrophoblast\"], placentaTiechmann.var[\"gene\"].tolist())"
   ]
  },
  {
   "cell_type": "code",
   "execution_count": 10,
   "metadata": {},
   "outputs": [
    {
     "data": {
      "text/plain": [
       "array(['RP5-1091E12.1'], dtype='<U13')"
      ]
     },
     "execution_count": 10,
     "metadata": {},
     "output_type": "execute_result"
    }
   ],
   "source": [
    "np.setdiff1d(dennisCellSig[\"Extravillous trophoblast\"], placentaTiechmann.var[\"gene\"].tolist())"
   ]
  },
  {
   "cell_type": "code",
   "execution_count": 11,
   "metadata": {},
   "outputs": [
    {
     "data": {
      "text/plain": [
       "27"
      ]
     },
     "execution_count": 11,
     "metadata": {},
     "output_type": "execute_result"
    }
   ],
   "source": [
    "len(dennisCellSig[\"Syncytiotrophoblast\"])"
   ]
  },
  {
   "cell_type": "code",
   "execution_count": 12,
   "metadata": {},
   "outputs": [
    {
     "name": "stdout",
     "output_type": "stream",
     "text": [
      "23\n",
      "27\n"
     ]
    }
   ],
   "source": [
    "# now perform CIS in preecCPM\n",
    "inHemant = {}\n",
    "inTiech = {}\n",
    "for cell in dennisCellSig:\n",
    "    sig = dennisCellSig[cell]\n",
    "    print(len(sig))\n",
    "    #sigSynon = np.unique(ensgRef[ensgRef[\"Gene name\"].isin(sig)][\"Gene Synonym\"].tolist()).tolist()\n",
    "    #sigNames = ensgRef[ensgRef[\"Gene Synonym\"].isin(sig)][\"Gene name\"].tolist() # no synonyms present\n",
    "\n",
    "    #sig += sigSynon\n",
    "    #sig += sigNames\n",
    "    \n",
    "    hemantIntersection = np.intersect1d(sig, placentaHemant.var_names.tolist()).tolist()\n",
    "    tiechIntersection = np.intersect1d(sig, placentaTiechmann.var[\"gene\"].tolist()).tolist()\n",
    "    tiechGenes = placentaTiechmann[:,placentaTiechmann.var[\"gene\"].isin(tiechIntersection)].var_names.tolist()\n",
    "    if cell in ['Extravillous trophoblast','Syncytiotrophoblast']:\n",
    "        inHemant[cell] = hemantIntersection\n",
    "        inTiech[cell] = tiechGenes\n",
    "  "
   ]
  },
  {
   "cell_type": "code",
   "execution_count": 13,
   "metadata": {},
   "outputs": [],
   "source": [
    "def getSynon(geneList):\n",
    "    synon = np.unique(ensgRef[ensgRef[\"Gene Synonym\"].isin(geneList)][\"Gene name\"]).tolist()\n",
    "    synon += np.unique(ensgRef[ensgRef[\"Gene name\"].isin(geneList)][\"Gene Synonym\"]).tolist()\n",
    "    return(synon)"
   ]
  },
  {
   "cell_type": "code",
   "execution_count": 14,
   "metadata": {},
   "outputs": [
    {
     "data": {
      "text/plain": [
       "'/Users/kayaneh/Documents/deconvolution/fig2_revision_git_private/pe'"
      ]
     },
     "execution_count": 14,
     "metadata": {},
     "output_type": "execute_result"
    }
   ],
   "source": [
    "import os\n",
    "os.getcwd()"
   ]
  },
  {
   "cell_type": "code",
   "execution_count": 2,
   "metadata": {},
   "outputs": [
    {
     "ename": "NameError",
     "evalue": "name 'dennisCellSig' is not defined",
     "output_type": "error",
     "traceback": [
      "\u001b[0;31m---------------------------------------------------------------------------\u001b[0m",
      "\u001b[0;31mNameError\u001b[0m                                 Traceback (most recent call last)",
      "\u001b[0;32m<ipython-input-2-f788f0973852>\u001b[0m in \u001b[0;36m<module>\u001b[0;34m\u001b[0m\n\u001b[1;32m      3\u001b[0m \u001b[0mhemantIntersection\u001b[0m \u001b[0;34m=\u001b[0m \u001b[0;34m{\u001b[0m\u001b[0;34m}\u001b[0m\u001b[0;34m\u001b[0m\u001b[0;34m\u001b[0m\u001b[0m\n\u001b[1;32m      4\u001b[0m \u001b[0;34m\u001b[0m\u001b[0m\n\u001b[0;32m----> 5\u001b[0;31m \u001b[0;32mfor\u001b[0m \u001b[0mcelltype\u001b[0m \u001b[0;32min\u001b[0m \u001b[0mdennisCellSig\u001b[0m\u001b[0;34m:\u001b[0m\u001b[0;34m\u001b[0m\u001b[0;34m\u001b[0m\u001b[0m\n\u001b[0m\u001b[1;32m      6\u001b[0m     \u001b[0mcellSig\u001b[0m \u001b[0;34m=\u001b[0m \u001b[0mdennisCellSig\u001b[0m\u001b[0;34m[\u001b[0m\u001b[0mcelltype\u001b[0m\u001b[0;34m]\u001b[0m\u001b[0;34m\u001b[0m\u001b[0;34m\u001b[0m\u001b[0m\n\u001b[1;32m      7\u001b[0m     \u001b[0minTiech\u001b[0m \u001b[0;34m=\u001b[0m \u001b[0mnp\u001b[0m\u001b[0;34m.\u001b[0m\u001b[0mintersect1d\u001b[0m\u001b[0;34m(\u001b[0m\u001b[0mplacentaTiechmann\u001b[0m\u001b[0;34m.\u001b[0m\u001b[0mvar\u001b[0m\u001b[0;34m[\u001b[0m\u001b[0;34m\"gene\"\u001b[0m\u001b[0;34m]\u001b[0m\u001b[0;34m,\u001b[0m \u001b[0mcellSig\u001b[0m\u001b[0;34m)\u001b[0m\u001b[0;34m.\u001b[0m\u001b[0mtolist\u001b[0m\u001b[0;34m(\u001b[0m\u001b[0;34m)\u001b[0m\u001b[0;34m\u001b[0m\u001b[0;34m\u001b[0m\u001b[0m\n",
      "\u001b[0;31mNameError\u001b[0m: name 'dennisCellSig' is not defined"
     ]
    }
   ],
   "source": [
    "# go through Tsang's signature, make sure that all genes are accounted for\n",
    "tiechIntersection = {}\n",
    "hemantIntersection = {}\n",
    "\n",
    "for celltype in dennisCellSig:\n",
    "    cellSig = dennisCellSig[celltype]\n",
    "    inTiech = np.intersect1d(placentaTiechmann.var[\"gene\"], cellSig).tolist()\n",
    "    inHemant = np.intersect1d(placentaHemant.var_names, cellSig).tolist()\n",
    "    \n",
    "    missingTiech = np.setdiff1d(cellSig, inTiech).tolist()\n",
    "    missingHemant = np.setdiff1d(cellSig, inHemant).tolist()\n",
    "    \n",
    "    # get missing genes\n",
    "    synonMissingTiech = getSynon(missingTiech)\n",
    "    synonMissingHemant = getSynon(missingHemant)\n",
    "    \n",
    "   \n",
    "    inTiech += np.intersect1d(synonMissingTiech, placentaTiechmann.var[\"gene\"]).tolist()\n",
    "    inHemant += np.intersect1d(synonMissingHemant, placentaHemant.var_names).tolist()\n",
    "    \n",
    "    tiechIntersection[celltype] = inTiech\n",
    "    hemantIntersection[celltype] = inHemant"
   ]
  },
  {
   "cell_type": "markdown",
   "metadata": {},
   "source": [
    "of the genes missing off the names alone, gene synonyms got back a synonym for 'PSG1' (PSG2) in Suryawanshi et al. So the genes detected in Tsang et al that we cannot examine here are as follows:\n",
    "\n",
    "Extravillous trophoblast\n",
    "missing from tiechmann  ['RP5-1091E12.1']\n",
    "missing from suryawanshi  ['AF127936.7', 'RP5-1091E12.1']\n",
    "\n",
    "Syncytiotrophoblast\n",
    "missing from tiechmann  ['RP11-266L9.2']\n",
    "missing from suryawanshi  ['CSHL1', 'RP11-266L9.2']"
   ]
  },
  {
   "cell_type": "code",
   "execution_count": null,
   "metadata": {},
   "outputs": [],
   "source": []
  },
  {
   "cell_type": "code",
   "execution_count": 1,
   "metadata": {},
   "outputs": [
    {
     "ename": "NameError",
     "evalue": "name 'sc' is not defined",
     "output_type": "error",
     "traceback": [
      "\u001b[0;31m---------------------------------------------------------------------------\u001b[0m",
      "\u001b[0;31mNameError\u001b[0m                                 Traceback (most recent call last)",
      "\u001b[0;32m<ipython-input-1-06b8d3cdcfb4>\u001b[0m in \u001b[0;36m<module>\u001b[0;34m\u001b[0m\n\u001b[0;32m----> 1\u001b[0;31m sc.pl.stacked_violin(placentaTiechmann, groupby = \"grouped-cells\", \n\u001b[0m\u001b[1;32m      2\u001b[0m                      \u001b[0mvar_names\u001b[0m \u001b[0;34m=\u001b[0m \u001b[0mtiechIntersection\u001b[0m\u001b[0;34m,\u001b[0m \u001b[0mcolor\u001b[0m \u001b[0;34m=\u001b[0m \u001b[0;34m\"#1b4965\"\u001b[0m\u001b[0;34m,\u001b[0m\u001b[0;34m\u001b[0m\u001b[0;34m\u001b[0m\u001b[0m\n\u001b[1;32m      3\u001b[0m                      gene_symbols =  \"gene\")\n\u001b[1;32m      4\u001b[0m                     \u001b[0;31m#save = \"tsangInTiechmann_09152021.pdf\")\u001b[0m\u001b[0;34m\u001b[0m\u001b[0;34m\u001b[0m\u001b[0;34m\u001b[0m\u001b[0m\n",
      "\u001b[0;31mNameError\u001b[0m: name 'sc' is not defined"
     ]
    }
   ],
   "source": [
    "sc.pl.stacked_violin(placentaTiechmann, groupby = \"grouped-cells\", \n",
    "                     var_names = tiechIntersection, color = \"#1b4965\",\n",
    "                     gene_symbols =  \"gene\")\n",
    "                    #save = \"tsangInTiechmann_09152021.pdf\")"
   ]
  },
  {
   "cell_type": "code",
   "execution_count": 155,
   "metadata": {},
   "outputs": [
    {
     "name": "stdout",
     "output_type": "stream",
     "text": [
      "WARNING: saving figure to file figures/stacked_violin_tsangInSuryawanshi_09152021.pdf\n"
     ]
    },
    {
     "data": {
      "image/png": "[encoded data removed]",
      "text/plain": [
       "<Figure size 1333.44x298.8 with 11 Axes>"
      ]
     },
     "metadata": {
      "needs_background": "light"
     },
     "output_type": "display_data"
    }
   ],
   "source": [
    "sc.pl.stacked_violin(placentaHemant, groupby = \"ClusterName\", \n",
    "                     var_names = hemantIntersection, color = \"#1b4965\",\n",
    "                     save = \"tsangInSuryawanshi_09152021.pdf\")"
   ]
  },
  {
   "cell_type": "code",
   "execution_count": null,
   "metadata": {},
   "outputs": [],
   "source": []
  }
 ],
 "metadata": {
  "kernelspec": {
   "display_name": "Python 3",
   "language": "python",
   "name": "python3"
  },
  "language_info": {
   "codemirror_mode": {
    "name": "ipython",
    "version": 3
   },
   "file_extension": ".py",
   "mimetype": "text/x-python",
   "name": "python",
   "nbconvert_exporter": "python",
   "pygments_lexer": "ipython3",
   "version": "3.6.12"
  }
 },
 "nbformat": 4,
 "nbformat_minor": 2
}
