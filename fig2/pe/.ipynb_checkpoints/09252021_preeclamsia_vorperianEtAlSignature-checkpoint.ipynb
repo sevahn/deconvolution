{
 "cells": [
  {
   "cell_type": "code",
   "execution_count": 1,
   "metadata": {
    "code_folding": []
   },
   "outputs": [],
   "source": [
    "# stuff to import\n",
    "import pandas as pd\n",
    "import scanpy as sc\n",
    "import numpy as np\n",
    "\n",
    "import matplotlib.pyplot as plt\n",
    "import seaborn as sns\n",
    "import matplotlib as mpl\n",
    "\n",
    "#For editable text. Except latex text is still shapes\n",
    "mpl.rcParams['pdf.fonttype'] = 42\n",
    "mpl.rcParams['ps.fonttype'] = 42\n",
    "sns.set_style(\"whitegrid\")\n",
    "font = {'size' : 6}\n",
    "lines = {'linewidth' : 0.5}\n",
    "fig = {'figsize' : (2.5, 1.5)}\n",
    "mpl.rc('font', **font)\n",
    "mpl.rc('lines', **lines)\n",
    "mpl.rc('figure', **fig)\n",
    "\n",
    "#Set style\n",
    "sns.set(style = \"whitegrid\", palette=\"pastel\", color_codes=True)\n",
    "\n",
    "\n",
    "from matplotlib_venn import venn2\n",
    "import matplotlib.ticker as ticker\n",
    "\n",
    "import mygene\n",
    "mg = mygene.MyGeneInfo()\n",
    "\n",
    "from scipy.stats import wilcoxon\n",
    "from scipy.stats import mannwhitneyu\n",
    "from scipy.stats import kruskal\n",
    "\n",
    "\n",
    "from scipy.stats import spearmanr\n",
    "from scipy.stats import pearsonr"
   ]
  },
  {
   "cell_type": "code",
   "execution_count": 2,
   "metadata": {},
   "outputs": [],
   "source": [
    "def save_figure_pdf(fig, path_to_save):\n",
    "\t'''\n",
    "\tUtility fxn to save a figure without having to retype all the required options.\n",
    "\tInput:\n",
    "\t\tfig - a matplotlib.pyplot.figure instance with the figure you'd like to save\n",
    "\t\tpath_to_save - the path you'd like to save the figure to\n",
    "\tReturns: Nothing but there should now be a pdf version in 300 dpi with a transparent bkg at path_to_save\n",
    "\t'''\n",
    "\tfig.savefig(path_to_save, dpi = 300, bbox_inches = 'tight', transparent = True)"
   ]
  },
  {
   "cell_type": "code",
   "execution_count": 3,
   "metadata": {},
   "outputs": [],
   "source": [
    "# HPA genes denoted as placenta specific\n",
    "hpaPlacenta = pd.read_csv(\"/Users/kayaneh/Downloads/tissue_category_rna_placenta_Tissue.tsv\",\n",
    "                         sep = \"\\t\", index_col = 0)\n",
    "\n",
    "# gini coefs of all HPA data\n",
    "hpaGini = pd.read_csv(\"~/Documents/deconvolution/placenta_mira/giniCoefs_hpaInfo_1.csv\",\n",
    "                     index_col = 0)"
   ]
  },
  {
   "cell_type": "code",
   "execution_count": 4,
   "metadata": {},
   "outputs": [],
   "source": [
    "scDEGPath = \"/Users/kayaneh/Documents/deconvolution/placenta/\"\n",
    "hemantPath = scDEGPath + \"placentaDEG_postfilter12102020_hemant.csv\"\n",
    "tiechPath = scDEGPath + \"placentaDEG_postfilter12182020_tiech.csv\""
   ]
  },
  {
   "cell_type": "code",
   "execution_count": 5,
   "metadata": {},
   "outputs": [],
   "source": [
    "# read in the single cell placenta DEG, then look at the individual genes\n",
    "tiechSig = pd.read_csv(tiechPath, index_col = 0)\n",
    "hemantSig = pd.read_csv(hemantPath, index_col = 0)"
   ]
  },
  {
   "cell_type": "code",
   "execution_count": 6,
   "metadata": {},
   "outputs": [
    {
     "name": "stdout",
     "output_type": "stream",
     "text": [
      "EVT ['ENSG00000100181' 'ENSG00000223850' 'ENSG00000277675']\n",
      "SCT ['ENSG00000260034']\n"
     ]
    }
   ],
   "source": [
    "# cool, so this is a dictionary of all the ENSEMBL ID per cell type in tiech\n",
    "tiechDict = {}\n",
    "for i in tiechSig.columns:\n",
    "    geneList = tiechSig[i].dropna().values.tolist()\n",
    "    geneList = [i.split(\"_\")[1] for i in geneList]\n",
    "    \n",
    "    if i == \"EVT\" or i == \"SCT\":\n",
    "        print(i,np.setdiff1d(geneList,hpaGini.index.tolist() ))\n",
    "    geneList = np.intersect1d(geneList, hpaPlacenta[\"Ensembl\"].values.tolist())\n",
    "    \n",
    "    # get the gini coefficients\n",
    "    relGini = hpaGini.loc[geneList][\"Gini\"]\n",
    "    relGini = relGini[relGini >= 0.6].index.tolist()\n",
    "    \n",
    "    # get the intersection that it's placenta specific in HPA too\n",
    "    relGiniHPA = hpaPlacenta[hpaPlacenta[\"Ensembl\"].isin(relGini)][\"Ensembl\"].tolist()\n",
    "    \n",
    "    tiechDict[i] = relGiniHPA"
   ]
  },
  {
   "cell_type": "markdown",
   "metadata": {},
   "source": [
    "upon inspection, all of these genes above for SCT/EVT that are not in HPA are noncoding."
   ]
  },
  {
   "cell_type": "code",
   "execution_count": 7,
   "metadata": {},
   "outputs": [
    {
     "name": "stdout",
     "output_type": "stream",
     "text": [
      "[]\n",
      "[]\n"
     ]
    }
   ],
   "source": [
    "hemantDict = {}\n",
    "for i in hemantSig.columns:\n",
    "    geneList = hemantSig[i].dropna().values.tolist()\n",
    "    \n",
    "    geneList = np.intersect1d(hpaGini[\"Gene\"].values.tolist(), geneList)\n",
    "    \n",
    "    if i == \"SCT\" or i == \"EVT\":\n",
    "        print(np.setdiff1d(geneList, hpaGini[\"Gene\"].values.tolist()))\n",
    "        \n",
    "    # get the relevant gini coefficients\n",
    "    relGini = hpaGini[hpaGini[\"Gene\"].isin(geneList)][\"Gini\"]\n",
    "    \n",
    "    # get the gini coefs >= 0.6\n",
    "    relGini = relGini[relGini >= 0.6].index.tolist()\n",
    "    \n",
    "    # get the intersection that it's placenta specific in HPA too\n",
    "    relGiniHPA = hpaPlacenta[hpaPlacenta[\"Ensembl\"].isin(relGini)][\"Ensembl\"].tolist()\n",
    "    \n",
    "    hemantDict[i] = relGiniHPA"
   ]
  },
  {
   "cell_type": "markdown",
   "metadata": {},
   "source": [
    "OK, so everything in the DEG lists are present as-is in HPAgini"
   ]
  },
  {
   "cell_type": "code",
   "execution_count": 8,
   "metadata": {},
   "outputs": [
    {
     "name": "stdout",
     "output_type": "stream",
     "text": [
      "EVT 10\n",
      "SCT 6\n"
     ]
    }
   ],
   "source": [
    "trophoblasts = [\"EVT\", \"SCT\"]\n",
    "trophIntersection = {}\n",
    "for troph in trophoblasts:\n",
    "    trophIntersection[troph] = np.intersect1d(hemantDict[troph], tiechDict[troph])    \n",
    "    print(troph, len(trophIntersection[troph]))"
   ]
  },
  {
   "cell_type": "markdown",
   "metadata": {},
   "source": [
    "# now import PEARL-PEC and iPEC, CPM/TMM normalize"
   ]
  },
  {
   "cell_type": "code",
   "execution_count": 9,
   "metadata": {},
   "outputs": [],
   "source": [
    "ctsPath = \"/Users/kayaneh/Documents/deconvolution/preeclampsia/\"\n",
    "pearlPEC = pd.read_excel(ctsPath + \"aaz0131_Data_file_S3.xlsx\")\n",
    "preec = pd.read_excel(ctsPath + \"aaz0131_Data_file_S2.xlsx\")"
   ]
  },
  {
   "cell_type": "code",
   "execution_count": 10,
   "metadata": {},
   "outputs": [],
   "source": [
    "pearlPECScalingFacs = ctsPath + \"tmmScalingFactors_s3_pearl_munchel.csv\" # PEARL-PEC\n",
    "preecScalingFacs = ctsPath + \"tmmScalingFactors_s2_preec_munchel.csv\"    # iPEC"
   ]
  },
  {
   "cell_type": "code",
   "execution_count": 11,
   "metadata": {},
   "outputs": [],
   "source": [
    "scalingFactors_pearlPEC = pd.read_csv(pearlPECScalingFacs, sep = \",\", index_col = 0) # this is a samples x [tmm fac, lib size] matrix\n",
    "scalingFactors_preec = pd.read_csv(preecScalingFacs, sep = \",\", index_col = 0) # this is a samples x [tmm fac, lib size] matrix"
   ]
  },
  {
   "cell_type": "code",
   "execution_count": 12,
   "metadata": {},
   "outputs": [],
   "source": [
    "# first do it for iPEC (S2)\n",
    "preecPats = preec.iloc[2,:]\n",
    "preecTerms = preec.iloc[3,:]\n",
    "preecGenes = preec.iloc[4:,0]\n",
    "\n",
    "preecInfo = []\n",
    "for i in range(len(preecPats[5:])):\n",
    "    preecInfo += [preecPats[5:][i] + \"-\" + str(preecTerms[5:][i])]\n",
    "\n",
    "preec = preec.iloc[4:,5:]\n",
    "preec.index = preecGenes\n",
    "preec.columns = preecInfo\n",
    "\n",
    "# now do the same for S3\n",
    "patients = pearlPEC.iloc[2,:]\n",
    "terms = pearlPEC.iloc[3,:]\n",
    "genes = pearlPEC.iloc[4:,0]\n",
    "\n",
    "patInfo = []\n",
    "for i in range(len(patients[5:])):\n",
    "    patInfo += [patients[5:][i] + \"-\" + str(terms[5:][i])]\n",
    "\n",
    "pearlPEC = pearlPEC.iloc[4:,5:]\n",
    "pearlPEC.index = genes\n",
    "pearlPEC.columns = patInfo"
   ]
  },
  {
   "cell_type": "code",
   "execution_count": 13,
   "metadata": {},
   "outputs": [],
   "source": [
    "# drop the length column from both samples\n",
    "preec = preec.iloc[:, 1:]\n",
    "pearlPEC  = pearlPEC.iloc[:, 1:]"
   ]
  },
  {
   "cell_type": "code",
   "execution_count": 14,
   "metadata": {},
   "outputs": [],
   "source": [
    "\"\"\"\n",
    "@param countsmat = counts matrix (for molecular stethoscope samples,\n",
    "havent rejected bad samples, just specify good SRR later)\n",
    "@param tmmFacs = dataframe of # samps x 2, where the cols are the TMM factors + libsize\n",
    "@param tmmCol = column name (str) of tmmFacs DF \n",
    "@param mLplama = starting @ mL plasma used for extracting RNA\n",
    "\"\"\"\n",
    "\n",
    "\n",
    "def tmmScale(countsmat, tmmFacs, tmmCol, mLplasma):\n",
    "    tmm = tmmFacs.T.loc[tmmCol]\n",
    "    size = tmmFacs.T.loc[\"libsize\"]\n",
    "    scaleFac = tmm * size * mLplasma\n",
    "    scaleFac.index = countsmat.columns.tolist()\n",
    "    scaled = countsmat.div(scaleFac, axis = \"columns\") * 10 ** 6\n",
    "    return(scaled)"
   ]
  },
  {
   "cell_type": "code",
   "execution_count": 15,
   "metadata": {},
   "outputs": [],
   "source": [
    "ilmnPlasma = 4.5 # from munchel et al\n",
    "preec_cpmTMM = tmmScale(preec, scalingFactors_preec, \"tmmPreec\" , ilmnPlasma)\n",
    "pearlPEC_cpmTMM = tmmScale(pearlPEC, scalingFactors_pearlPEC, \"tmmPearl_PEC\", \n",
    "                           ilmnPlasma)\n",
    "\n",
    "\n",
    "preec_cpmTMM  = preec_cpmTMM.astype(float)\n",
    "pearlPEC_cpmTMM = pearlPEC_cpmTMM.astype(float)"
   ]
  },
  {
   "cell_type": "code",
   "execution_count": 16,
   "metadata": {},
   "outputs": [],
   "source": [
    "preec_cpmTMM  = np.log(preec_cpmTMM + 1 )\n",
    "pearlPEC_cpmTMM = np.log(pearlPEC_cpmTMM + 1)"
   ]
  },
  {
   "cell_type": "markdown",
   "metadata": {},
   "source": [
    "# now perform signature scoring"
   ]
  },
  {
   "cell_type": "code",
   "execution_count": 17,
   "metadata": {},
   "outputs": [],
   "source": [
    "# problem! troph intersection is in ensembl space, these are gene names.\n",
    "# revert the ensg ID to the actual name"
   ]
  },
  {
   "cell_type": "code",
   "execution_count": 18,
   "metadata": {},
   "outputs": [
    {
     "name": "stdout",
     "output_type": "stream",
     "text": [
      "10\n",
      "10\n",
      "6\n",
      "6\n"
     ]
    }
   ],
   "source": [
    "trophGenes = {}\n",
    "for troph in trophIntersection:\n",
    "    print(len(trophIntersection[troph]))\n",
    "    trophGenes[troph] = hpaPlacenta[hpaPlacenta[\"Ensembl\"].isin(trophIntersection[troph])].index.tolist()\n",
    "    print(len(trophGenes[troph]))"
   ]
  },
  {
   "cell_type": "code",
   "execution_count": 19,
   "metadata": {},
   "outputs": [
    {
     "name": "stdout",
     "output_type": "stream",
     "text": [
      "EVT 10\n",
      "in iPEC\n",
      "10\n",
      "in PEARL-PEC\n",
      "10\n",
      "\n",
      "SCT 6\n",
      "in iPEC\n",
      "6\n",
      "in PEARL-PEC\n",
      "6\n",
      "\n"
     ]
    }
   ],
   "source": [
    "for troph in trophGenes:\n",
    "    print(troph, len(trophGenes[troph]))\n",
    "    print(\"in iPEC\")\n",
    "    print(len(np.intersect1d(trophGenes[troph],preec_cpmTMM.index.tolist() )))\n",
    "    print(\"in PEARL-PEC\")\n",
    "    print(len(np.intersect1d(trophGenes[troph],pearlPEC_cpmTMM.index.tolist() )))\n",
    "    print(\"\")"
   ]
  },
  {
   "cell_type": "markdown",
   "metadata": {},
   "source": [
    "so all genes are represented. good to go."
   ]
  },
  {
   "cell_type": "code",
   "execution_count": 20,
   "metadata": {},
   "outputs": [
    {
     "data": {
      "text/plain": [
       "{'EVT': ['CSH1',\n",
       "  'EBI3',\n",
       "  'HTRA4',\n",
       "  'NOTUM',\n",
       "  'CLDN19',\n",
       "  'VGLL3',\n",
       "  'HLA-G',\n",
       "  'IL1RAP',\n",
       "  'LAIR2',\n",
       "  'ASCL2'],\n",
       " 'SCT': ['CYP19A1', 'LGALS16', 'ERVFRD-1', 'EPS8L1', 'KMO', 'SERPINB2']}"
      ]
     },
     "execution_count": 20,
     "metadata": {},
     "output_type": "execute_result"
    }
   ],
   "source": [
    "trophGenes"
   ]
  },
  {
   "cell_type": "code",
   "execution_count": 21,
   "metadata": {},
   "outputs": [],
   "source": [
    "sigScoreDF_iPEC = pd.DataFrame()\n",
    "sigScoreDF_pearlPEC = pd.DataFrame()\n",
    "for troph in trophGenes:\n",
    "    ipecSig = preec_cpmTMM.loc[trophGenes[troph]].sum(axis = 0).to_frame()\n",
    "    pearlPECSig = pearlPEC_cpmTMM.loc[trophGenes[troph]].sum(axis = 0).to_frame()\n",
    "   \n",
    "    ipecSig.columns = [troph + \"-iPEC\"]\n",
    "    pearlPECSig.columns = [troph + \"-PEARL-PEC\"]\n",
    "    \n",
    "    sigScoreDF_iPEC = pd.concat([sigScoreDF_iPEC, ipecSig], axis = 1)\n",
    "    sigScoreDF_pearlPEC = pd.concat([sigScoreDF_pearlPEC, pearlPECSig], axis = 1) "
   ]
  },
  {
   "cell_type": "code",
   "execution_count": 22,
   "metadata": {},
   "outputs": [],
   "source": [
    "sigScoreDF_iPEC[\"status\"] = [i.split(\"-\")[0] for i in sigScoreDF_iPEC.index.tolist()]"
   ]
  },
  {
   "cell_type": "code",
   "execution_count": 23,
   "metadata": {},
   "outputs": [],
   "source": [
    "# pearl PEC\n",
    "\n",
    "sigScoreDF_pearlPEC['status'] = [i.split(\"-\")[0] for i in sigScoreDF_pearlPEC.index.tolist()]\n",
    "\n",
    "sigScoreDF_pearlPEC['onset'] = [i.split(\"-\")[1] for i in sigScoreDF_pearlPEC.index.tolist()]\n"
   ]
  },
  {
   "cell_type": "code",
   "execution_count": 24,
   "metadata": {},
   "outputs": [],
   "source": [
    "df = pd.DataFrame()\n",
    "fname_ed9 = \"/Users/kayaneh/Documents/deconvolution/aip/cfrna_nbt_submission/extendedData9_troph.xlsx\"\n",
    "df.to_excel(fname_ed9)"
   ]
  },
  {
   "cell_type": "code",
   "execution_count": 25,
   "metadata": {},
   "outputs": [],
   "source": [
    "with pd.ExcelWriter(fname_ed9, mode = 'a') as writer:\n",
    "    sigScoreDF_pearlPEC.to_excel(writer, sheet_name = 'PEARL-PEC', engine = 'xlsxwriter')\n",
    "    sigScoreDF_iPEC.to_excel(writer, sheet_name = 'iPEC', engine = 'xlsxwriter')"
   ]
  },
  {
   "cell_type": "code",
   "execution_count": 26,
   "metadata": {},
   "outputs": [],
   "source": [
    "# now melt the dataframes"
   ]
  },
  {
   "cell_type": "code",
   "execution_count": 27,
   "metadata": {},
   "outputs": [],
   "source": [
    "meltiPEC = pd.melt(sigScoreDF_iPEC, id_vars = [\"status\"], value_vars =sigScoreDF_iPEC.columns[:-1] )"
   ]
  },
  {
   "cell_type": "code",
   "execution_count": 28,
   "metadata": {},
   "outputs": [],
   "source": [
    "meltiPEC['cell-status'] = [meltiPEC['variable'][i].split(\"-\")[0] + \"-\" + meltiPEC['status'][i] for i in range(meltiPEC.shape[0])]"
   ]
  },
  {
   "cell_type": "code",
   "execution_count": 29,
   "metadata": {},
   "outputs": [],
   "source": [
    "meltPearlPEC = pd.melt(sigScoreDF_pearlPEC, id_vars = [\"status\", 'onset'], value_vars =sigScoreDF_pearlPEC.columns[:-2] )"
   ]
  },
  {
   "cell_type": "code",
   "execution_count": 30,
   "metadata": {},
   "outputs": [],
   "source": [
    "meltPearlPEC[\"cell-status-onset\"] = [meltPearlPEC['variable'][i].split(\"-\")[0] + \"-\" + meltPearlPEC['status'][i] + \"-\" + meltPearlPEC['onset'][i] for i in range(meltPearlPEC.shape[0])]"
   ]
  },
  {
   "cell_type": "code",
   "execution_count": 31,
   "metadata": {},
   "outputs": [
    {
     "data": {
      "text/html": [
       "<svg  width=\"770\" height=\"55\"><rect x=\"0\" y=\"0\" width=\"55\" height=\"55\" style=\"fill:#a4508b;stroke-width:2;stroke:rgb(255,255,255)\"/><rect x=\"55\" y=\"0\" width=\"55\" height=\"55\" style=\"fill:#f5b0cb;stroke-width:2;stroke:rgb(255,255,255)\"/><rect x=\"110\" y=\"0\" width=\"55\" height=\"55\" style=\"fill:#f5b0cb;stroke-width:2;stroke:rgb(255,255,255)\"/><rect x=\"165\" y=\"0\" width=\"55\" height=\"55\" style=\"fill:#f5b0cb;stroke-width:2;stroke:rgb(255,255,255)\"/><rect x=\"220\" y=\"0\" width=\"55\" height=\"55\" style=\"fill:#a4508b;stroke-width:2;stroke:rgb(255,255,255)\"/><rect x=\"275\" y=\"0\" width=\"55\" height=\"55\" style=\"fill:#a4508b;stroke-width:2;stroke:rgb(255,255,255)\"/><rect x=\"330\" y=\"0\" width=\"55\" height=\"55\" style=\"fill:#f5b0cb;stroke-width:2;stroke:rgb(255,255,255)\"/><rect x=\"385\" y=\"0\" width=\"55\" height=\"55\" style=\"fill:#f5b0cb;stroke-width:2;stroke:rgb(255,255,255)\"/><rect x=\"440\" y=\"0\" width=\"55\" height=\"55\" style=\"fill:#a4508b;stroke-width:2;stroke:rgb(255,255,255)\"/><rect x=\"495\" y=\"0\" width=\"55\" height=\"55\" style=\"fill:#a4508b;stroke-width:2;stroke:rgb(255,255,255)\"/><rect x=\"550\" y=\"0\" width=\"55\" height=\"55\" style=\"fill:#f5b0cb;stroke-width:2;stroke:rgb(255,255,255)\"/><rect x=\"605\" y=\"0\" width=\"55\" height=\"55\" style=\"fill:#a4508b;stroke-width:2;stroke:rgb(255,255,255)\"/><rect x=\"660\" y=\"0\" width=\"55\" height=\"55\" style=\"fill:#f5b0cb;stroke-width:2;stroke:rgb(255,255,255)\"/><rect x=\"715\" y=\"0\" width=\"55\" height=\"55\" style=\"fill:#a4508b;stroke-width:2;stroke:rgb(255,255,255)\"/></svg>"
      ],
      "text/plain": [
       "[(0.6431372549019608, 0.3137254901960784, 0.5450980392156862),\n",
       " (0.9607843137254902, 0.6901960784313725, 0.796078431372549),\n",
       " (0.9607843137254902, 0.6901960784313725, 0.796078431372549),\n",
       " (0.9607843137254902, 0.6901960784313725, 0.796078431372549),\n",
       " (0.6431372549019608, 0.3137254901960784, 0.5450980392156862),\n",
       " (0.6431372549019608, 0.3137254901960784, 0.5450980392156862),\n",
       " (0.9607843137254902, 0.6901960784313725, 0.796078431372549),\n",
       " (0.9607843137254902, 0.6901960784313725, 0.796078431372549),\n",
       " (0.6431372549019608, 0.3137254901960784, 0.5450980392156862),\n",
       " (0.6431372549019608, 0.3137254901960784, 0.5450980392156862),\n",
       " (0.9607843137254902, 0.6901960784313725, 0.796078431372549),\n",
       " (0.6431372549019608, 0.3137254901960784, 0.5450980392156862),\n",
       " (0.9607843137254902, 0.6901960784313725, 0.796078431372549),\n",
       " (0.6431372549019608, 0.3137254901960784, 0.5450980392156862)]"
      ]
     },
     "execution_count": 31,
     "metadata": {},
     "output_type": "execute_result"
    }
   ],
   "source": [
    "my_pal = {\"PE\" : \"#a4508b\",\n",
    "         \"CTRL\" :\"#f5b0cb\"}\n",
    "for i in np.unique(meltPearlPEC[\"cell-status-onset\"]):\n",
    "    if \"PE\" in i:\n",
    "        my_pal[i] = my_pal[\"PE\"]\n",
    "    else: my_pal[i] = my_pal[\"CTRL\"]\n",
    "        \n",
    "for i in np.unique(meltiPEC[\"cell-status\"]):\n",
    "    if \"PE\" in i:\n",
    "        my_pal[i] = my_pal[\"PE\"]\n",
    "    else: my_pal[i] = my_pal[\"CTRL\"]\n",
    "    \n",
    "sns.color_palette(list(my_pal.values()))"
   ]
  },
  {
   "cell_type": "code",
   "execution_count": 32,
   "metadata": {},
   "outputs": [
    {
     "data": {
      "text/html": [
       "<div>\n",
       "<style scoped>\n",
       "    .dataframe tbody tr th:only-of-type {\n",
       "        vertical-align: middle;\n",
       "    }\n",
       "\n",
       "    .dataframe tbody tr th {\n",
       "        vertical-align: top;\n",
       "    }\n",
       "\n",
       "    .dataframe thead th {\n",
       "        text-align: right;\n",
       "    }\n",
       "</style>\n",
       "<table border=\"1\" class=\"dataframe\">\n",
       "  <thead>\n",
       "    <tr style=\"text-align: right;\">\n",
       "      <th></th>\n",
       "      <th>status</th>\n",
       "      <th>onset</th>\n",
       "      <th>variable</th>\n",
       "      <th>value</th>\n",
       "      <th>cell-status-onset</th>\n",
       "    </tr>\n",
       "  </thead>\n",
       "  <tbody>\n",
       "    <tr>\n",
       "      <th>0</th>\n",
       "      <td>CTRL</td>\n",
       "      <td>Late</td>\n",
       "      <td>EVT-PEARL-PEC</td>\n",
       "      <td>9.708681</td>\n",
       "      <td>EVT-CTRL-Late</td>\n",
       "    </tr>\n",
       "    <tr>\n",
       "      <th>1</th>\n",
       "      <td>PE</td>\n",
       "      <td>Early</td>\n",
       "      <td>EVT-PEARL-PEC</td>\n",
       "      <td>10.207427</td>\n",
       "      <td>EVT-PE-Early</td>\n",
       "    </tr>\n",
       "    <tr>\n",
       "      <th>2</th>\n",
       "      <td>PE</td>\n",
       "      <td>Early</td>\n",
       "      <td>EVT-PEARL-PEC</td>\n",
       "      <td>5.655804</td>\n",
       "      <td>EVT-PE-Early</td>\n",
       "    </tr>\n",
       "    <tr>\n",
       "      <th>3</th>\n",
       "      <td>PE</td>\n",
       "      <td>Early</td>\n",
       "      <td>EVT-PEARL-PEC</td>\n",
       "      <td>9.417436</td>\n",
       "      <td>EVT-PE-Early</td>\n",
       "    </tr>\n",
       "    <tr>\n",
       "      <th>4</th>\n",
       "      <td>PE</td>\n",
       "      <td>Early</td>\n",
       "      <td>EVT-PEARL-PEC</td>\n",
       "      <td>11.155923</td>\n",
       "      <td>EVT-PE-Early</td>\n",
       "    </tr>\n",
       "    <tr>\n",
       "      <th>...</th>\n",
       "      <td>...</td>\n",
       "      <td>...</td>\n",
       "      <td>...</td>\n",
       "      <td>...</td>\n",
       "      <td>...</td>\n",
       "    </tr>\n",
       "    <tr>\n",
       "      <th>91</th>\n",
       "      <td>CTRL</td>\n",
       "      <td>Late</td>\n",
       "      <td>SCT-PEARL-PEC</td>\n",
       "      <td>6.104984</td>\n",
       "      <td>SCT-CTRL-Late</td>\n",
       "    </tr>\n",
       "    <tr>\n",
       "      <th>92</th>\n",
       "      <td>CTRL</td>\n",
       "      <td>Late</td>\n",
       "      <td>SCT-PEARL-PEC</td>\n",
       "      <td>7.132632</td>\n",
       "      <td>SCT-CTRL-Late</td>\n",
       "    </tr>\n",
       "    <tr>\n",
       "      <th>93</th>\n",
       "      <td>CTRL</td>\n",
       "      <td>Late</td>\n",
       "      <td>SCT-PEARL-PEC</td>\n",
       "      <td>11.617969</td>\n",
       "      <td>SCT-CTRL-Late</td>\n",
       "    </tr>\n",
       "    <tr>\n",
       "      <th>94</th>\n",
       "      <td>CTRL</td>\n",
       "      <td>Late</td>\n",
       "      <td>SCT-PEARL-PEC</td>\n",
       "      <td>6.453467</td>\n",
       "      <td>SCT-CTRL-Late</td>\n",
       "    </tr>\n",
       "    <tr>\n",
       "      <th>95</th>\n",
       "      <td>CTRL</td>\n",
       "      <td>Late</td>\n",
       "      <td>SCT-PEARL-PEC</td>\n",
       "      <td>7.972948</td>\n",
       "      <td>SCT-CTRL-Late</td>\n",
       "    </tr>\n",
       "  </tbody>\n",
       "</table>\n",
       "<p>96 rows × 5 columns</p>\n",
       "</div>"
      ],
      "text/plain": [
       "   status  onset       variable      value cell-status-onset\n",
       "0    CTRL   Late  EVT-PEARL-PEC   9.708681     EVT-CTRL-Late\n",
       "1      PE  Early  EVT-PEARL-PEC  10.207427      EVT-PE-Early\n",
       "2      PE  Early  EVT-PEARL-PEC   5.655804      EVT-PE-Early\n",
       "3      PE  Early  EVT-PEARL-PEC   9.417436      EVT-PE-Early\n",
       "4      PE  Early  EVT-PEARL-PEC  11.155923      EVT-PE-Early\n",
       "..    ...    ...            ...        ...               ...\n",
       "91   CTRL   Late  SCT-PEARL-PEC   6.104984     SCT-CTRL-Late\n",
       "92   CTRL   Late  SCT-PEARL-PEC   7.132632     SCT-CTRL-Late\n",
       "93   CTRL   Late  SCT-PEARL-PEC  11.617969     SCT-CTRL-Late\n",
       "94   CTRL   Late  SCT-PEARL-PEC   6.453467     SCT-CTRL-Late\n",
       "95   CTRL   Late  SCT-PEARL-PEC   7.972948     SCT-CTRL-Late\n",
       "\n",
       "[96 rows x 5 columns]"
      ]
     },
     "execution_count": 32,
     "metadata": {},
     "output_type": "execute_result"
    }
   ],
   "source": [
    "meltPearlPEC"
   ]
  },
  {
   "cell_type": "code",
   "execution_count": 33,
   "metadata": {},
   "outputs": [
    {
     "data": {
      "image/png": "[encoded data removed]",
      "text/plain": [
       "<Figure size 720x720 with 1 Axes>"
      ]
     },
     "metadata": {
      "needs_background": "light"
     },
     "output_type": "display_data"
    }
   ],
   "source": [
    "plt.figure(figsize = (10, 10))\n",
    "sns.boxplot(data = meltPearlPEC, \n",
    "            palette = my_pal,\n",
    "            fliersize = 0,\n",
    "            y = 'value', x = 'cell-status-onset',\n",
    "           order = [\"SCT-CTRL-Early\", \"SCT-PE-Early\",\"SCT-CTRL-Late\", \"SCT-PE-Late\",\n",
    "                   \"EVT-CTRL-Early\", \"EVT-PE-Early\", \"EVT-CTRL-Late\", \"EVT-PE-Late\"])\n",
    "\n",
    "sns.swarmplot(data = meltPearlPEC,  \n",
    "              color = \"0.25\",\n",
    "            y = 'value', x = 'cell-status-onset',\n",
    "             order = [\"SCT-CTRL-Early\", \"SCT-PE-Early\",\"SCT-CTRL-Late\", \"SCT-PE-Late\",\n",
    "                   \"EVT-CTRL-Early\", \"EVT-PE-Early\", \"EVT-CTRL-Late\", \"EVT-PE-Late\"])\n",
    "plt.xticks(rotation = \"90\");\n",
    "plt.ylabel(\"Signature Score\")\n",
    "plt.ylim((0, 16))\n",
    "\n",
    "save_figure_pdf(plt, \"pearlPEC-evtSCT.pdf\")"
   ]
  },
  {
   "cell_type": "code",
   "execution_count": 34,
   "metadata": {},
   "outputs": [],
   "source": [
    "groups = np.unique(meltPearlPEC[\"cell-status-onset\"])\n",
    "evtGroups = [i for i in groups if \"EVT\" in i]\n",
    "sctGroups = [i for i in groups if 'SCT' in i]"
   ]
  },
  {
   "cell_type": "code",
   "execution_count": 35,
   "metadata": {},
   "outputs": [
    {
     "data": {
      "text/html": [
       "<div>\n",
       "<style scoped>\n",
       "    .dataframe tbody tr th:only-of-type {\n",
       "        vertical-align: middle;\n",
       "    }\n",
       "\n",
       "    .dataframe tbody tr th {\n",
       "        vertical-align: top;\n",
       "    }\n",
       "\n",
       "    .dataframe thead th {\n",
       "        text-align: right;\n",
       "    }\n",
       "</style>\n",
       "<table border=\"1\" class=\"dataframe\">\n",
       "  <thead>\n",
       "    <tr style=\"text-align: right;\">\n",
       "      <th></th>\n",
       "      <th>status</th>\n",
       "      <th>onset</th>\n",
       "      <th>variable</th>\n",
       "      <th>value</th>\n",
       "      <th>cell-status-onset</th>\n",
       "    </tr>\n",
       "  </thead>\n",
       "  <tbody>\n",
       "    <tr>\n",
       "      <th>0</th>\n",
       "      <td>CTRL</td>\n",
       "      <td>Late</td>\n",
       "      <td>EVT-PEARL-PEC</td>\n",
       "      <td>9.708681</td>\n",
       "      <td>EVT-CTRL-Late</td>\n",
       "    </tr>\n",
       "    <tr>\n",
       "      <th>1</th>\n",
       "      <td>PE</td>\n",
       "      <td>Early</td>\n",
       "      <td>EVT-PEARL-PEC</td>\n",
       "      <td>10.207427</td>\n",
       "      <td>EVT-PE-Early</td>\n",
       "    </tr>\n",
       "    <tr>\n",
       "      <th>2</th>\n",
       "      <td>PE</td>\n",
       "      <td>Early</td>\n",
       "      <td>EVT-PEARL-PEC</td>\n",
       "      <td>5.655804</td>\n",
       "      <td>EVT-PE-Early</td>\n",
       "    </tr>\n",
       "    <tr>\n",
       "      <th>3</th>\n",
       "      <td>PE</td>\n",
       "      <td>Early</td>\n",
       "      <td>EVT-PEARL-PEC</td>\n",
       "      <td>9.417436</td>\n",
       "      <td>EVT-PE-Early</td>\n",
       "    </tr>\n",
       "    <tr>\n",
       "      <th>4</th>\n",
       "      <td>PE</td>\n",
       "      <td>Early</td>\n",
       "      <td>EVT-PEARL-PEC</td>\n",
       "      <td>11.155923</td>\n",
       "      <td>EVT-PE-Early</td>\n",
       "    </tr>\n",
       "    <tr>\n",
       "      <th>...</th>\n",
       "      <td>...</td>\n",
       "      <td>...</td>\n",
       "      <td>...</td>\n",
       "      <td>...</td>\n",
       "      <td>...</td>\n",
       "    </tr>\n",
       "    <tr>\n",
       "      <th>91</th>\n",
       "      <td>CTRL</td>\n",
       "      <td>Late</td>\n",
       "      <td>SCT-PEARL-PEC</td>\n",
       "      <td>6.104984</td>\n",
       "      <td>SCT-CTRL-Late</td>\n",
       "    </tr>\n",
       "    <tr>\n",
       "      <th>92</th>\n",
       "      <td>CTRL</td>\n",
       "      <td>Late</td>\n",
       "      <td>SCT-PEARL-PEC</td>\n",
       "      <td>7.132632</td>\n",
       "      <td>SCT-CTRL-Late</td>\n",
       "    </tr>\n",
       "    <tr>\n",
       "      <th>93</th>\n",
       "      <td>CTRL</td>\n",
       "      <td>Late</td>\n",
       "      <td>SCT-PEARL-PEC</td>\n",
       "      <td>11.617969</td>\n",
       "      <td>SCT-CTRL-Late</td>\n",
       "    </tr>\n",
       "    <tr>\n",
       "      <th>94</th>\n",
       "      <td>CTRL</td>\n",
       "      <td>Late</td>\n",
       "      <td>SCT-PEARL-PEC</td>\n",
       "      <td>6.453467</td>\n",
       "      <td>SCT-CTRL-Late</td>\n",
       "    </tr>\n",
       "    <tr>\n",
       "      <th>95</th>\n",
       "      <td>CTRL</td>\n",
       "      <td>Late</td>\n",
       "      <td>SCT-PEARL-PEC</td>\n",
       "      <td>7.972948</td>\n",
       "      <td>SCT-CTRL-Late</td>\n",
       "    </tr>\n",
       "  </tbody>\n",
       "</table>\n",
       "<p>96 rows × 5 columns</p>\n",
       "</div>"
      ],
      "text/plain": [
       "   status  onset       variable      value cell-status-onset\n",
       "0    CTRL   Late  EVT-PEARL-PEC   9.708681     EVT-CTRL-Late\n",
       "1      PE  Early  EVT-PEARL-PEC  10.207427      EVT-PE-Early\n",
       "2      PE  Early  EVT-PEARL-PEC   5.655804      EVT-PE-Early\n",
       "3      PE  Early  EVT-PEARL-PEC   9.417436      EVT-PE-Early\n",
       "4      PE  Early  EVT-PEARL-PEC  11.155923      EVT-PE-Early\n",
       "..    ...    ...            ...        ...               ...\n",
       "91   CTRL   Late  SCT-PEARL-PEC   6.104984     SCT-CTRL-Late\n",
       "92   CTRL   Late  SCT-PEARL-PEC   7.132632     SCT-CTRL-Late\n",
       "93   CTRL   Late  SCT-PEARL-PEC  11.617969     SCT-CTRL-Late\n",
       "94   CTRL   Late  SCT-PEARL-PEC   6.453467     SCT-CTRL-Late\n",
       "95   CTRL   Late  SCT-PEARL-PEC   7.972948     SCT-CTRL-Late\n",
       "\n",
       "[96 rows x 5 columns]"
      ]
     },
     "execution_count": 35,
     "metadata": {},
     "output_type": "execute_result"
    }
   ],
   "source": [
    "meltPearlPEC"
   ]
  },
  {
   "cell_type": "code",
   "execution_count": 36,
   "metadata": {},
   "outputs": [],
   "source": [
    "EVT_CTRL_Early = meltPearlPEC[meltPearlPEC['cell-status-onset'] == 'EVT-CTRL-Early']['value'].values.tolist()\n",
    "EVT_CTRL_Late = meltPearlPEC[meltPearlPEC['cell-status-onset'] == 'EVT-CTRL-Late']['value'].values.tolist()\n",
    "EVT_PE_Early = meltPearlPEC[meltPearlPEC['cell-status-onset'] == 'EVT-PE-Early']['value'].values.tolist()\n",
    "EVT_PE_Late = meltPearlPEC[meltPearlPEC['cell-status-onset'] == 'EVT-PE-Late']['value'].values.tolist()"
   ]
  },
  {
   "cell_type": "code",
   "execution_count": 37,
   "metadata": {},
   "outputs": [
    {
     "data": {
      "text/plain": [
       "KruskalResult(statistic=4.176870748299336, pvalue=0.24298778767311732)"
      ]
     },
     "execution_count": 37,
     "metadata": {},
     "output_type": "execute_result"
    }
   ],
   "source": [
    "kruskal(EVT_CTRL_Early, EVT_CTRL_Late, EVT_PE_Early, EVT_PE_Late)"
   ]
  },
  {
   "cell_type": "code",
   "execution_count": 38,
   "metadata": {},
   "outputs": [
    {
     "data": {
      "text/plain": [
       "KruskalResult(statistic=2.1539115646258153, pvalue=0.5410833100907524)"
      ]
     },
     "execution_count": 38,
     "metadata": {},
     "output_type": "execute_result"
    }
   ],
   "source": [
    "group1 = meltPearlPEC[meltPearlPEC[\"cell-status-onset\"] == 'SCT-CTRL-Early']['value'].values.tolist()\n",
    "group2 = meltPearlPEC[meltPearlPEC[\"cell-status-onset\"] == 'SCT-CTRL-Late']['value'].values.tolist()\n",
    "group3 = meltPearlPEC[meltPearlPEC[\"cell-status-onset\"] == 'SCT-PE-Early']['value'].values.tolist()\n",
    "group4 = meltPearlPEC[meltPearlPEC[\"cell-status-onset\"] == 'SCT-PE-Late']['value'].values.tolist()\n",
    "\n",
    "kruskal(group1, group2, group3, group4)"
   ]
  },
  {
   "cell_type": "code",
   "execution_count": null,
   "metadata": {},
   "outputs": [],
   "source": []
  },
  {
   "cell_type": "code",
   "execution_count": 39,
   "metadata": {},
   "outputs": [
    {
     "data": {
      "image/png": "[encoded data removed]",
      "text/plain": [
       "<Figure size 360x360 with 1 Axes>"
      ]
     },
     "metadata": {
      "needs_background": "light"
     },
     "output_type": "display_data"
    }
   ],
   "source": [
    "plt.figure(figsize = (5, 5))\n",
    "sns.boxplot(data = meltiPEC, \n",
    "            palette = my_pal,\n",
    "            fliersize = 0,\n",
    "            x = 'cell-status', y = \"value\",\n",
    "           order = [\"SCT-CTRL\", \"SCT-PE\", \"EVT-CTRL\", \"EVT-PE\"])\n",
    "\n",
    "sns.swarmplot(data = meltiPEC, \n",
    "            \n",
    "              color = \"0.25\",\n",
    "            x = 'cell-status', y = \"value\",\n",
    "             order = [\"SCT-CTRL\", \"SCT-PE\", \"EVT-CTRL\", \"EVT-PE\"])\n",
    "plt.ylim((0, 12))\n",
    "plt.ylabel(\"Signature Score\")\n",
    "plt.xlabel(\"\")\n",
    "save_figure_pdf(plt, \"iPEC-evtSCT.pdf\")"
   ]
  },
  {
   "cell_type": "code",
   "execution_count": 40,
   "metadata": {},
   "outputs": [],
   "source": [
    "evt_pe = meltiPEC[meltiPEC[\"cell-status\"] == \"EVT-PE\"]['value'].values.tolist()\n",
    "evt_ctrl = meltiPEC[meltiPEC[\"cell-status\"] == \"EVT-CTRL\"][\"value\"].values.tolist()"
   ]
  },
  {
   "cell_type": "code",
   "execution_count": 41,
   "metadata": {},
   "outputs": [
    {
     "data": {
      "text/plain": [
       "MannwhitneyuResult(statistic=1524.0, pvalue=0.7030108178039265)"
      ]
     },
     "execution_count": 41,
     "metadata": {},
     "output_type": "execute_result"
    }
   ],
   "source": [
    "mannwhitneyu(evt_pe, evt_ctrl, alternative = \"two-sided\")"
   ]
  },
  {
   "cell_type": "code",
   "execution_count": 42,
   "metadata": {},
   "outputs": [],
   "source": [
    "sct_pe = meltiPEC[meltiPEC[\"cell-status\"] == \"SCT-PE\"]['value'].values.tolist()\n",
    "sct_ctrl = meltiPEC[meltiPEC[\"cell-status\"] == \"SCT-CTRL\"][\"value\"].values.tolist()"
   ]
  },
  {
   "cell_type": "code",
   "execution_count": 43,
   "metadata": {},
   "outputs": [
    {
     "data": {
      "text/plain": [
       "MannwhitneyuResult(statistic=1504.0, pvalue=0.7939555041601458)"
      ]
     },
     "execution_count": 43,
     "metadata": {},
     "output_type": "execute_result"
    }
   ],
   "source": [
    "mannwhitneyu(sct_pe, sct_ctrl, alternative = \"two-sided\")"
   ]
  },
  {
   "cell_type": "code",
   "execution_count": null,
   "metadata": {},
   "outputs": [],
   "source": []
  },
  {
   "cell_type": "code",
   "execution_count": 44,
   "metadata": {},
   "outputs": [
    {
     "name": "stdout",
     "output_type": "stream",
     "text": [
      "\u001b[H\u001b[2J"
     ]
    }
   ],
   "source": [
    "clear all"
   ]
  }
 ],
 "metadata": {
  "kernelspec": {
   "display_name": "Python 3",
   "language": "python",
   "name": "python3"
  },
  "language_info": {
   "codemirror_mode": {
    "name": "ipython",
    "version": 3
   },
   "file_extension": ".py",
   "mimetype": "text/x-python",
   "name": "python",
   "nbconvert_exporter": "python",
   "pygments_lexer": "ipython3",
   "version": "3.6.12"
  }
 },
 "nbformat": 4,
 "nbformat_minor": 4
}
