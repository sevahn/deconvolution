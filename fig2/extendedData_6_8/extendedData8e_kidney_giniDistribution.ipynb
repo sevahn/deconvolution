{
 "cells": [
  {
   "cell_type": "code",
   "execution_count": 1,
   "metadata": {},
   "outputs": [],
   "source": [
    "import numpy as np\n",
    "import pandas as pd\n",
    "import scanpy as sc\n",
    "\n",
    "import matplotlib.pyplot as plt\n",
    "import seaborn as sns\n",
    "import matplotlib as mpl\n",
    "\n",
    "#For editable text. Except latex text is still shapes sadly\n",
    "mpl.rcParams['pdf.fonttype'] = 42\n",
    "mpl.rcParams['ps.fonttype'] = 42\n",
    "sns.set_style(\"whitegrid\")\n",
    "font = {'size' : 6}\n",
    "lines = {'linewidth' : 0.5}\n",
    "fig = {'figsize' : (2.5, 1.5)}\n",
    "mpl.rc('font', **font)\n",
    "mpl.rc('lines', **lines)\n",
    "mpl.rc('figure', **fig)\n",
    "#Set style\n",
    "sns.set(style=\"whitegrid\", palette=\"pastel\", color_codes=True)\n",
    "\n",
    "# 02142021_suppFig9E_kidneyGiniDistribution.ipynb"
   ]
  },
  {
   "cell_type": "code",
   "execution_count": 2,
   "metadata": {
    "code_folding": []
   },
   "outputs": [],
   "source": [
    "def save_figure_pdf(fig, path_to_save):\n",
    "\t'''\n",
    "\tUtility fxn to save a figure without having to retype all the required options.\n",
    "\tInput:\n",
    "\t\tfig - a matplotlib.pyplot.figure instance with the figure you'd like to save\n",
    "\t\tpath_to_save - the path you'd like to save the figure to\n",
    "\tReturns: Nothing but there should now be a pdf version in 300 dpi with a transparent bkg at path_to_save\n",
    "\t'''\n",
    "\tfig.savefig(path_to_save, dpi = 300,\n",
    "                bbox_inches = 'tight', transparent = True)"
   ]
  },
  {
   "cell_type": "code",
   "execution_count": 3,
   "metadata": {},
   "outputs": [],
   "source": [
    "thisTiss = \"kidney\""
   ]
  },
  {
   "cell_type": "code",
   "execution_count": 4,
   "metadata": {},
   "outputs": [
    {
     "data": {
      "text/html": [
       "<div>\n",
       "<style scoped>\n",
       "    .dataframe tbody tr th:only-of-type {\n",
       "        vertical-align: middle;\n",
       "    }\n",
       "\n",
       "    .dataframe tbody tr th {\n",
       "        vertical-align: top;\n",
       "    }\n",
       "\n",
       "    .dataframe thead th {\n",
       "        text-align: right;\n",
       "    }\n",
       "</style>\n",
       "<table border=\"1\" class=\"dataframe\">\n",
       "  <thead>\n",
       "    <tr style=\"text-align: right;\">\n",
       "      <th></th>\n",
       "      <th>Connecting tubule-gini</th>\n",
       "      <th>Epithelial progenitor cell-gini</th>\n",
       "      <th>Intercalated cell-gini</th>\n",
       "      <th>Pelvic epithelium-gini</th>\n",
       "      <th>Podocyte-gini</th>\n",
       "      <th>Principal cell-gini</th>\n",
       "      <th>Proximal tubule-gini</th>\n",
       "      <th>Thick ascending limb of Loop of Henle-gini</th>\n",
       "    </tr>\n",
       "  </thead>\n",
       "  <tbody>\n",
       "    <tr>\n",
       "      <th>ENSG00000104327</th>\n",
       "      <td>0.784025</td>\n",
       "      <td>NaN</td>\n",
       "      <td>NaN</td>\n",
       "      <td>NaN</td>\n",
       "      <td>NaN</td>\n",
       "      <td>NaN</td>\n",
       "      <td>NaN</td>\n",
       "      <td>NaN</td>\n",
       "    </tr>\n",
       "    <tr>\n",
       "      <th>ENSG00000134873</th>\n",
       "      <td>NaN</td>\n",
       "      <td>0.749093</td>\n",
       "      <td>NaN</td>\n",
       "      <td>NaN</td>\n",
       "      <td>NaN</td>\n",
       "      <td>NaN</td>\n",
       "      <td>NaN</td>\n",
       "      <td>NaN</td>\n",
       "    </tr>\n",
       "    <tr>\n",
       "      <th>ENSG00000164007</th>\n",
       "      <td>NaN</td>\n",
       "      <td>0.827730</td>\n",
       "      <td>NaN</td>\n",
       "      <td>NaN</td>\n",
       "      <td>NaN</td>\n",
       "      <td>NaN</td>\n",
       "      <td>NaN</td>\n",
       "      <td>NaN</td>\n",
       "    </tr>\n",
       "    <tr>\n",
       "      <th>ENSG00000147614</th>\n",
       "      <td>NaN</td>\n",
       "      <td>NaN</td>\n",
       "      <td>0.799030</td>\n",
       "      <td>NaN</td>\n",
       "      <td>NaN</td>\n",
       "      <td>NaN</td>\n",
       "      <td>NaN</td>\n",
       "      <td>NaN</td>\n",
       "    </tr>\n",
       "    <tr>\n",
       "      <th>ENSG00000151418</th>\n",
       "      <td>NaN</td>\n",
       "      <td>NaN</td>\n",
       "      <td>0.958312</td>\n",
       "      <td>NaN</td>\n",
       "      <td>NaN</td>\n",
       "      <td>NaN</td>\n",
       "      <td>NaN</td>\n",
       "      <td>NaN</td>\n",
       "    </tr>\n",
       "  </tbody>\n",
       "</table>\n",
       "</div>"
      ],
      "text/plain": [
       "                 Connecting tubule-gini  Epithelial progenitor cell-gini  \\\n",
       "ENSG00000104327                0.784025                              NaN   \n",
       "ENSG00000134873                     NaN                         0.749093   \n",
       "ENSG00000164007                     NaN                         0.827730   \n",
       "ENSG00000147614                     NaN                              NaN   \n",
       "ENSG00000151418                     NaN                              NaN   \n",
       "\n",
       "                 Intercalated cell-gini  Pelvic epithelium-gini  \\\n",
       "ENSG00000104327                     NaN                     NaN   \n",
       "ENSG00000134873                     NaN                     NaN   \n",
       "ENSG00000164007                     NaN                     NaN   \n",
       "ENSG00000147614                0.799030                     NaN   \n",
       "ENSG00000151418                0.958312                     NaN   \n",
       "\n",
       "                 Podocyte-gini  Principal cell-gini  Proximal tubule-gini  \\\n",
       "ENSG00000104327            NaN                  NaN                   NaN   \n",
       "ENSG00000134873            NaN                  NaN                   NaN   \n",
       "ENSG00000164007            NaN                  NaN                   NaN   \n",
       "ENSG00000147614            NaN                  NaN                   NaN   \n",
       "ENSG00000151418            NaN                  NaN                   NaN   \n",
       "\n",
       "                 Thick ascending limb of Loop of Henle-gini  \n",
       "ENSG00000104327                                         NaN  \n",
       "ENSG00000134873                                         NaN  \n",
       "ENSG00000164007                                         NaN  \n",
       "ENSG00000147614                                         NaN  \n",
       "ENSG00000151418                                         NaN  "
      ]
     },
     "execution_count": 4,
     "metadata": {},
     "output_type": "execute_result"
    }
   ],
   "source": [
    "\n",
    "\n",
    "tissGini = pd.read_csv(\"../../signatures_git/gini6_perCluster_kidney_12072020.csv\",\n",
    "sep = \",\", index_col = 0)\n",
    "tissGini.head()"
   ]
  },
  {
   "cell_type": "code",
   "execution_count": 5,
   "metadata": {},
   "outputs": [
    {
     "data": {
      "text/html": [
       "<div>\n",
       "<style scoped>\n",
       "    .dataframe tbody tr th:only-of-type {\n",
       "        vertical-align: middle;\n",
       "    }\n",
       "\n",
       "    .dataframe tbody tr th {\n",
       "        vertical-align: top;\n",
       "    }\n",
       "\n",
       "    .dataframe thead th {\n",
       "        text-align: right;\n",
       "    }\n",
       "</style>\n",
       "<table border=\"1\" class=\"dataframe\">\n",
       "  <thead>\n",
       "    <tr style=\"text-align: right;\">\n",
       "      <th></th>\n",
       "      <th>Connecting tubule-gini</th>\n",
       "      <th>Epithelial progenitor cell-gini</th>\n",
       "      <th>Intercalated cell-gini</th>\n",
       "      <th>Pelvic epithelium-gini</th>\n",
       "      <th>Podocyte-gini</th>\n",
       "      <th>Principal cell-gini</th>\n",
       "      <th>Proximal tubule-gini</th>\n",
       "      <th>Thick ascending limb of Loop of Henle-gini</th>\n",
       "    </tr>\n",
       "  </thead>\n",
       "  <tbody>\n",
       "  </tbody>\n",
       "</table>\n",
       "</div>"
      ],
      "text/plain": [
       "Empty DataFrame\n",
       "Columns: [Connecting tubule-gini, Epithelial progenitor cell-gini, Intercalated cell-gini, Pelvic epithelium-gini, Podocyte-gini, Principal cell-gini, Proximal tubule-gini, Thick ascending limb of Loop of Henle-gini]\n",
       "Index: []"
      ]
     },
     "execution_count": 5,
     "metadata": {},
     "output_type": "execute_result"
    }
   ],
   "source": [
    "# empty df so all ginis are accounted for in the computation\n",
    "tissGini[tissGini.isna().all(axis=1)] "
   ]
  },
  {
   "cell_type": "code",
   "execution_count": 6,
   "metadata": {},
   "outputs": [],
   "source": [
    "tissTau = pd.read_csv(\"../gini_tau/\" + thisTiss + \"_gini_tau_02142021.csv\",\n",
    "                     sep = \",\", index_col = 0)"
   ]
  },
  {
   "cell_type": "code",
   "execution_count": 7,
   "metadata": {},
   "outputs": [
    {
     "data": {
      "text/html": [
       "<div>\n",
       "<style scoped>\n",
       "    .dataframe tbody tr th:only-of-type {\n",
       "        vertical-align: middle;\n",
       "    }\n",
       "\n",
       "    .dataframe tbody tr th {\n",
       "        vertical-align: top;\n",
       "    }\n",
       "\n",
       "    .dataframe thead th {\n",
       "        text-align: right;\n",
       "    }\n",
       "</style>\n",
       "<table border=\"1\" class=\"dataframe\">\n",
       "  <thead>\n",
       "    <tr style=\"text-align: right;\">\n",
       "      <th></th>\n",
       "      <th>tau-kidney</th>\n",
       "      <th>gini-kidney</th>\n",
       "      <th>RNA tissue specificity</th>\n",
       "      <th>RNA tissue distribution</th>\n",
       "    </tr>\n",
       "  </thead>\n",
       "  <tbody>\n",
       "    <tr>\n",
       "      <th>ENSG00000169344</th>\n",
       "      <td>0.999938</td>\n",
       "      <td>0.983614</td>\n",
       "      <td>Tissue enriched</td>\n",
       "      <td>Detected in single</td>\n",
       "    </tr>\n",
       "    <tr>\n",
       "      <th>ENSG00000197891</th>\n",
       "      <td>0.999953</td>\n",
       "      <td>0.983779</td>\n",
       "      <td>Tissue enriched</td>\n",
       "      <td>Detected in single</td>\n",
       "    </tr>\n",
       "    <tr>\n",
       "      <th>ENSG00000149452</th>\n",
       "      <td>0.982100</td>\n",
       "      <td>0.945508</td>\n",
       "      <td>Group enriched</td>\n",
       "      <td>Detected in some</td>\n",
       "    </tr>\n",
       "    <tr>\n",
       "      <th>ENSG00000164325</th>\n",
       "      <td>0.999947</td>\n",
       "      <td>0.983766</td>\n",
       "      <td>Tissue enriched</td>\n",
       "      <td>Detected in single</td>\n",
       "    </tr>\n",
       "    <tr>\n",
       "      <th>ENSG00000204511</th>\n",
       "      <td>0.999845</td>\n",
       "      <td>0.983268</td>\n",
       "      <td>Tissue enriched</td>\n",
       "      <td>Detected in single</td>\n",
       "    </tr>\n",
       "  </tbody>\n",
       "</table>\n",
       "</div>"
      ],
      "text/plain": [
       "                 tau-kidney  gini-kidney RNA tissue specificity  \\\n",
       "ENSG00000169344    0.999938     0.983614        Tissue enriched   \n",
       "ENSG00000197891    0.999953     0.983779        Tissue enriched   \n",
       "ENSG00000149452    0.982100     0.945508         Group enriched   \n",
       "ENSG00000164325    0.999947     0.983766        Tissue enriched   \n",
       "ENSG00000204511    0.999845     0.983268        Tissue enriched   \n",
       "\n",
       "                RNA tissue distribution  \n",
       "ENSG00000169344      Detected in single  \n",
       "ENSG00000197891      Detected in single  \n",
       "ENSG00000149452        Detected in some  \n",
       "ENSG00000164325      Detected in single  \n",
       "ENSG00000204511      Detected in single  "
      ]
     },
     "execution_count": 7,
     "metadata": {},
     "output_type": "execute_result"
    }
   ],
   "source": [
    "tissTau.head()"
   ]
  },
  {
   "cell_type": "code",
   "execution_count": 8,
   "metadata": {},
   "outputs": [],
   "source": [
    "fullNames = [i.split(\"-\")[0] for i in tissGini.columns]"
   ]
  },
  {
   "cell_type": "code",
   "execution_count": 9,
   "metadata": {},
   "outputs": [],
   "source": [
    "tissGini.columns = fullNames"
   ]
  },
  {
   "cell_type": "code",
   "execution_count": 10,
   "metadata": {},
   "outputs": [
    {
     "data": {
      "text/html": [
       "<svg  width=\"385\" height=\"55\"><rect x=\"0\" y=\"0\" width=\"55\" height=\"55\" style=\"fill:#355070;stroke-width:2;stroke:rgb(255,255,255)\"/><rect x=\"55\" y=\"0\" width=\"55\" height=\"55\" style=\"fill:#6d597a;stroke-width:2;stroke:rgb(255,255,255)\"/><rect x=\"110\" y=\"0\" width=\"55\" height=\"55\" style=\"fill:#b56576;stroke-width:2;stroke:rgb(255,255,255)\"/><rect x=\"165\" y=\"0\" width=\"55\" height=\"55\" style=\"fill:#e56b6f;stroke-width:2;stroke:rgb(255,255,255)\"/><rect x=\"220\" y=\"0\" width=\"55\" height=\"55\" style=\"fill:#eaac8b;stroke-width:2;stroke:rgb(255,255,255)\"/><rect x=\"275\" y=\"0\" width=\"55\" height=\"55\" style=\"fill:#7ebdc2;stroke-width:2;stroke:rgb(255,255,255)\"/><rect x=\"330\" y=\"0\" width=\"55\" height=\"55\" style=\"fill:#729ea1;stroke-width:2;stroke:rgb(255,255,255)\"/></svg>"
      ],
      "text/plain": [
       "[(0.20784313725490197, 0.3137254901960784, 0.4392156862745098),\n",
       " (0.42745098039215684, 0.34901960784313724, 0.47843137254901963),\n",
       " (0.7098039215686275, 0.396078431372549, 0.4627450980392157),\n",
       " (0.8980392156862745, 0.4196078431372549, 0.43529411764705883),\n",
       " (0.9176470588235294, 0.6745098039215687, 0.5450980392156862),\n",
       " (0.49411764705882355, 0.7411764705882353, 0.7607843137254902),\n",
       " (0.4470588235294118, 0.6196078431372549, 0.6313725490196078)]"
      ]
     },
     "execution_count": 10,
     "metadata": {},
     "output_type": "execute_result"
    }
   ],
   "source": [
    "# exported off coolors\n",
    "#4BA3C3\n",
    "# 96C9DC\n",
    "colorVals = {\"Y In Mn Blue\":\"355070\",\"Chinese Violet\":\"6d597a\",\"Rose Dust\":\"b56576\",\"Candy Pink\":\"e56b6f\",\n",
    "          \"Tumbleweed\":\"eaac8b\", \"Middle Blue\": '7EBDC2',\n",
    "         'Cadet Blue': '729EA1'}\n",
    "\n",
    "#colorVals = {\"Pink Lavender\":\"cdb4db\",\"Orchid Pink\":\"ffc8dd\",\n",
    "#             \"Nadeshiko Pink\":\"ffafcc\",\"Uranian Blue\":\"bde0fe\",\"Baby Blue Eyes\":\"a2d2ff\"}\n",
    "\n",
    "# add the pound for matplotlib\n",
    "for c in colorVals:\n",
    "    colorVals[c] = \"#\" + colorVals[c]\n",
    "colors = list(colorVals.values())\n",
    "\n",
    "sns.color_palette(colors)\n"
   ]
  },
  {
   "cell_type": "code",
   "execution_count": 11,
   "metadata": {},
   "outputs": [],
   "source": [
    "cell_pal = {}\n",
    "for i, cell in enumerate(fullNames):\n",
    "    cell_pal[cell] = colors[i % len(list(colorVals.keys()))]"
   ]
  },
  {
   "cell_type": "code",
   "execution_count": 12,
   "metadata": {},
   "outputs": [
    {
     "data": {
      "text/plain": [
       "{'Connecting tubule': '#355070',\n",
       " 'Epithelial progenitor cell': '#6d597a',\n",
       " 'Intercalated cell': '#b56576',\n",
       " 'Pelvic epithelium': '#e56b6f',\n",
       " 'Podocyte': '#eaac8b',\n",
       " 'Principal cell': '#7EBDC2',\n",
       " 'Proximal tubule': '#729EA1',\n",
       " 'Thick ascending limb of Loop of Henle': '#355070'}"
      ]
     },
     "execution_count": 12,
     "metadata": {},
     "output_type": "execute_result"
    }
   ],
   "source": [
    "cell_pal"
   ]
  },
  {
   "cell_type": "code",
   "execution_count": 13,
   "metadata": {},
   "outputs": [],
   "source": [
    "degDict = {}\n",
    "for i in tissGini:\n",
    "    degDict[i] = tissGini[i].dropna().index.tolist()\n",
    "    if len(degDict[i]) < 2: degDict.pop(i)"
   ]
  },
  {
   "cell_type": "code",
   "execution_count": 14,
   "metadata": {},
   "outputs": [],
   "source": [
    "degTau = {}\n",
    "for i in degDict:\n",
    "    relENSG = degDict[i]\n",
    "    tauVals = tissTau.loc[relENSG][\"tau-kidney\"].tolist()\n",
    "    degTau[i] = tauVals\n",
    "\n",
    "# make a dataframe\n",
    "tauDF = pd.DataFrame(dict([ (k,pd.Series(v)) for k,v in degTau.items() ]))"
   ]
  },
  {
   "cell_type": "code",
   "execution_count": 15,
   "metadata": {},
   "outputs": [],
   "source": [
    "giniMelt = pd.melt(tissGini, value_vars = tissGini.columns)\n",
    "tauDF = pd.melt(tauDF, value_vars = tauDF.columns)"
   ]
  },
  {
   "cell_type": "code",
   "execution_count": 16,
   "metadata": {},
   "outputs": [],
   "source": [
    "giniMelt = giniMelt[giniMelt['value'].notna()]"
   ]
  },
  {
   "cell_type": "code",
   "execution_count": 17,
   "metadata": {},
   "outputs": [],
   "source": [
    "giniMelt = giniMelt[giniMelt[\"variable\"].isin([\"Proximal tubule\"])]"
   ]
  },
  {
   "cell_type": "code",
   "execution_count": 18,
   "metadata": {},
   "outputs": [],
   "source": [
    "cell_pal[\"Proximal tubule\"] = \"#62b6cb\"\n",
    "cell_pal[\"Podocyte\"] = \"#1b4965\""
   ]
  },
  {
   "cell_type": "code",
   "execution_count": 19,
   "metadata": {},
   "outputs": [
    {
     "data": {
      "text/plain": [
       "<seaborn.axisgrid.FacetGrid at 0x7fdba9648358>"
      ]
     },
     "execution_count": 19,
     "metadata": {},
     "output_type": "execute_result"
    },
    {
     "data": {
      "image/png": "[encoded data removed]",
      "text/plain": [
       "<Figure size 475.975x360 with 1 Axes>"
      ]
     },
     "metadata": {
      "needs_background": "light"
     },
     "output_type": "display_data"
    }
   ],
   "source": [
    "lowerBound = np.min(giniMelt[\"value\"])\n",
    "upperBound = np.max(giniMelt[\"value\"])\n",
    "\n",
    "\n",
    "g = sns.displot(giniMelt, x = \"value\", \n",
    "            multiple = \"stack\",\n",
    "            kind = \"kde\",\n",
    "            bw_adjust=.3,\n",
    "            clip = (lowerBound, upperBound),\n",
    "            hue = \"variable\",\n",
    "            common_norm = False,\n",
    "           palette = cell_pal)\n",
    "g.set(xlabel = \"Gini Coefficient\", ylabel = \"Density\")"
   ]
  },
  {
   "cell_type": "code",
   "execution_count": 20,
   "metadata": {},
   "outputs": [],
   "source": [
    "save_figure_pdf(g, thisTiss + \"GiniCoefficient_Distrib_05102021.pdf\")"
   ]
  },
  {
   "cell_type": "code",
   "execution_count": 21,
   "metadata": {},
   "outputs": [
    {
     "name": "stdout",
     "output_type": "stream",
     "text": [
      "\u001b[H\u001b[2J"
     ]
    }
   ],
   "source": [
    "clear all"
   ]
  }
 ],
 "metadata": {
  "kernelspec": {
   "display_name": "Python 3",
   "language": "python",
   "name": "python3"
  },
  "language_info": {
   "codemirror_mode": {
    "name": "ipython",
    "version": 3
   },
   "file_extension": ".py",
   "mimetype": "text/x-python",
   "name": "python",
   "nbconvert_exporter": "python",
   "pygments_lexer": "ipython3",
   "version": "3.6.12"
  }
 },
 "nbformat": 4,
 "nbformat_minor": 4
}
