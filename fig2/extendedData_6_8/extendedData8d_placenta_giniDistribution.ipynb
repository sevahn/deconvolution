{
 "cells": [
  {
   "cell_type": "code",
   "execution_count": 1,
   "metadata": {},
   "outputs": [],
   "source": [
    "import numpy as np\n",
    "import pandas as pd\n",
    "import scanpy as sc\n",
    "\n",
    "import matplotlib.pyplot as plt\n",
    "import seaborn as sns\n",
    "import matplotlib as mpl\n",
    "\n",
    "#For editable text. Except latex text is still shapes sadly\n",
    "mpl.rcParams['pdf.fonttype'] = 42\n",
    "mpl.rcParams['ps.fonttype'] = 42\n",
    "sns.set_style(\"whitegrid\")\n",
    "font = {'size' : 6}\n",
    "lines = {'linewidth' : 0.5}\n",
    "fig = {'figsize' : (2.5, 1.5)}\n",
    "mpl.rc('font', **font)\n",
    "mpl.rc('lines', **lines)\n",
    "mpl.rc('figure', **fig)\n",
    "#Set style\n",
    "sns.set(style=\"whitegrid\", palette=\"pastel\", color_codes=True)\n",
    "\n",
    "# 02152021_suppFig9D_placentaGiniSigs.ipynb"
   ]
  },
  {
   "cell_type": "code",
   "execution_count": 2,
   "metadata": {
    "code_folding": []
   },
   "outputs": [],
   "source": [
    "def save_figure_pdf(fig, path_to_save):\n",
    "\t'''\n",
    "\tUtility fxn to save a figure without having to retype all the required options.\n",
    "\tInput:\n",
    "\t\tfig - a matplotlib.pyplot.figure instance with the figure you'd like to save\n",
    "\t\tpath_to_save - the path you'd like to save the figure to\n",
    "\tReturns: Nothing but there should now be a pdf version in 300 dpi with a transparent bkg at path_to_save\n",
    "\t'''\n",
    "\tfig.savefig(path_to_save, dpi = 300,\n",
    "                bbox_inches = 'tight', transparent = True)"
   ]
  },
  {
   "cell_type": "code",
   "execution_count": 3,
   "metadata": {},
   "outputs": [],
   "source": [
    "thisTiss = \"placenta\""
   ]
  },
  {
   "cell_type": "code",
   "execution_count": 4,
   "metadata": {},
   "outputs": [
    {
     "data": {
      "text/html": [
       "<div>\n",
       "<style scoped>\n",
       "    .dataframe tbody tr th:only-of-type {\n",
       "        vertical-align: middle;\n",
       "    }\n",
       "\n",
       "    .dataframe tbody tr th {\n",
       "        vertical-align: top;\n",
       "    }\n",
       "\n",
       "    .dataframe thead th {\n",
       "        text-align: right;\n",
       "    }\n",
       "</style>\n",
       "<table border=\"1\" class=\"dataframe\">\n",
       "  <thead>\n",
       "    <tr style=\"text-align: right;\">\n",
       "      <th></th>\n",
       "      <th>tau-placenta</th>\n",
       "      <th>gini-placenta</th>\n",
       "      <th>RNA tissue specificity</th>\n",
       "      <th>RNA tissue distribution</th>\n",
       "    </tr>\n",
       "  </thead>\n",
       "  <tbody>\n",
       "    <tr>\n",
       "      <th>ENSG00000204414</th>\n",
       "      <td>0.985388</td>\n",
       "      <td>0.965223</td>\n",
       "      <td>Group enriched</td>\n",
       "      <td>Detected in some</td>\n",
       "    </tr>\n",
       "    <tr>\n",
       "      <th>ENSG00000231924</th>\n",
       "      <td>0.999740</td>\n",
       "      <td>0.979021</td>\n",
       "      <td>Tissue enriched</td>\n",
       "      <td>Detected in some</td>\n",
       "    </tr>\n",
       "    <tr>\n",
       "      <th>ENSG00000136487</th>\n",
       "      <td>0.994314</td>\n",
       "      <td>0.975322</td>\n",
       "      <td>Group enriched</td>\n",
       "      <td>Detected in some</td>\n",
       "    </tr>\n",
       "    <tr>\n",
       "      <th>ENSG00000243130</th>\n",
       "      <td>0.999599</td>\n",
       "      <td>0.976869</td>\n",
       "      <td>Tissue enriched</td>\n",
       "      <td>Detected in single</td>\n",
       "    </tr>\n",
       "    <tr>\n",
       "      <th>ENSG00000183668</th>\n",
       "      <td>0.999528</td>\n",
       "      <td>0.976866</td>\n",
       "      <td>Tissue enriched</td>\n",
       "      <td>Detected in some</td>\n",
       "    </tr>\n",
       "  </tbody>\n",
       "</table>\n",
       "</div>"
      ],
      "text/plain": [
       "                 tau-placenta  gini-placenta RNA tissue specificity  \\\n",
       "ENSG00000204414      0.985388       0.965223         Group enriched   \n",
       "ENSG00000231924      0.999740       0.979021        Tissue enriched   \n",
       "ENSG00000136487      0.994314       0.975322         Group enriched   \n",
       "ENSG00000243130      0.999599       0.976869        Tissue enriched   \n",
       "ENSG00000183668      0.999528       0.976866        Tissue enriched   \n",
       "\n",
       "                RNA tissue distribution  \n",
       "ENSG00000204414        Detected in some  \n",
       "ENSG00000231924        Detected in some  \n",
       "ENSG00000136487        Detected in some  \n",
       "ENSG00000243130      Detected in single  \n",
       "ENSG00000183668        Detected in some  "
      ]
     },
     "execution_count": 4,
     "metadata": {},
     "output_type": "execute_result"
    }
   ],
   "source": [
    "tissGiniTau = pd.read_csv(\"../gini_tau/placenta_gini_tau_02142021.csv\", sep = \",\", index_col = 0)\n",
    "tissGiniTau.head()"
   ]
  },
  {
   "cell_type": "code",
   "execution_count": 5,
   "metadata": {},
   "outputs": [
    {
     "data": {
      "text/html": [
       "<div>\n",
       "<style scoped>\n",
       "    .dataframe tbody tr th:only-of-type {\n",
       "        vertical-align: middle;\n",
       "    }\n",
       "\n",
       "    .dataframe tbody tr th {\n",
       "        vertical-align: top;\n",
       "    }\n",
       "\n",
       "    .dataframe thead th {\n",
       "        text-align: right;\n",
       "    }\n",
       "</style>\n",
       "<table border=\"1\" class=\"dataframe\">\n",
       "  <thead>\n",
       "    <tr style=\"text-align: right;\">\n",
       "      <th></th>\n",
       "      <th>EVT</th>\n",
       "      <th>SCT</th>\n",
       "    </tr>\n",
       "  </thead>\n",
       "  <tbody>\n",
       "    <tr>\n",
       "      <th>0</th>\n",
       "      <td>ASCL2</td>\n",
       "      <td>CYP19A1</td>\n",
       "    </tr>\n",
       "    <tr>\n",
       "      <th>1</th>\n",
       "      <td>CLDN19</td>\n",
       "      <td>EPS8L1</td>\n",
       "    </tr>\n",
       "    <tr>\n",
       "      <th>2</th>\n",
       "      <td>CSH1</td>\n",
       "      <td>ERVFRD-1</td>\n",
       "    </tr>\n",
       "    <tr>\n",
       "      <th>3</th>\n",
       "      <td>EBI3</td>\n",
       "      <td>KMO</td>\n",
       "    </tr>\n",
       "    <tr>\n",
       "      <th>4</th>\n",
       "      <td>HLA-G</td>\n",
       "      <td>LGALS16</td>\n",
       "    </tr>\n",
       "  </tbody>\n",
       "</table>\n",
       "</div>"
      ],
      "text/plain": [
       "      EVT       SCT\n",
       "0   ASCL2   CYP19A1\n",
       "1  CLDN19    EPS8L1\n",
       "2    CSH1  ERVFRD-1\n",
       "3    EBI3       KMO\n",
       "4   HLA-G   LGALS16"
      ]
     },
     "execution_count": 5,
     "metadata": {},
     "output_type": "execute_result"
    }
   ],
   "source": [
    "cellTypeGenes = pd.read_csv(\"~/Documents/deconvolution/livertox/placenta_signature_forCIS_UNITED-TIECH-HEMANT_010120201.csv\",\n",
    "                           sep = \",\", index_col = 0)\n",
    "cellTypeGenes = cellTypeGenes.T\n",
    "cellTypeGenes.head()"
   ]
  },
  {
   "cell_type": "code",
   "execution_count": 6,
   "metadata": {},
   "outputs": [
    {
     "name": "stderr",
     "output_type": "stream",
     "text": [
      "/Users/kayaneh/anaconda3/lib/python3.6/site-packages/IPython/core/interactiveshell.py:3058: DtypeWarning: Columns (8) have mixed types.Specify dtype option on import or set low_memory=False.\n",
      "  interactivity=interactivity, compiler=compiler, result=result)\n"
     ]
    },
    {
     "data": {
      "text/html": [
       "<div>\n",
       "<style scoped>\n",
       "    .dataframe tbody tr th:only-of-type {\n",
       "        vertical-align: middle;\n",
       "    }\n",
       "\n",
       "    .dataframe tbody tr th {\n",
       "        vertical-align: top;\n",
       "    }\n",
       "\n",
       "    .dataframe thead th {\n",
       "        text-align: right;\n",
       "    }\n",
       "</style>\n",
       "<table border=\"1\" class=\"dataframe\">\n",
       "  <thead>\n",
       "    <tr style=\"text-align: right;\">\n",
       "      <th></th>\n",
       "      <th>Gene stable ID version</th>\n",
       "      <th>Transcript stable ID</th>\n",
       "      <th>Transcript stable ID version</th>\n",
       "      <th>Transcript type</th>\n",
       "      <th>Gene type</th>\n",
       "      <th>Gene name</th>\n",
       "      <th>Transcript name</th>\n",
       "      <th>Gene Synonym</th>\n",
       "    </tr>\n",
       "    <tr>\n",
       "      <th>Gene stable ID</th>\n",
       "      <th></th>\n",
       "      <th></th>\n",
       "      <th></th>\n",
       "      <th></th>\n",
       "      <th></th>\n",
       "      <th></th>\n",
       "      <th></th>\n",
       "      <th></th>\n",
       "    </tr>\n",
       "  </thead>\n",
       "  <tbody>\n",
       "    <tr>\n",
       "      <th>ENSG00000276191</th>\n",
       "      <td>ENSG00000276191.4</td>\n",
       "      <td>ENST00000632383</td>\n",
       "      <td>ENST00000632383.1</td>\n",
       "      <td>nonsense_mediated_decay</td>\n",
       "      <td>protein_coding</td>\n",
       "      <td>CRHR1</td>\n",
       "      <td>CRHR1-222</td>\n",
       "      <td>CRF-R</td>\n",
       "    </tr>\n",
       "    <tr>\n",
       "      <th>ENSG00000276191</th>\n",
       "      <td>ENSG00000276191.4</td>\n",
       "      <td>ENST00000617905</td>\n",
       "      <td>ENST00000617905.4</td>\n",
       "      <td>protein_coding</td>\n",
       "      <td>protein_coding</td>\n",
       "      <td>CRHR1</td>\n",
       "      <td>CRHR1-218</td>\n",
       "      <td>CRF-R</td>\n",
       "    </tr>\n",
       "    <tr>\n",
       "      <th>ENSG00000276191</th>\n",
       "      <td>ENSG00000276191.4</td>\n",
       "      <td>ENST00000616748</td>\n",
       "      <td>ENST00000616748.4</td>\n",
       "      <td>protein_coding</td>\n",
       "      <td>protein_coding</td>\n",
       "      <td>CRHR1</td>\n",
       "      <td>CRHR1-217</td>\n",
       "      <td>CRF-R</td>\n",
       "    </tr>\n",
       "    <tr>\n",
       "      <th>ENSG00000276191</th>\n",
       "      <td>ENSG00000276191.4</td>\n",
       "      <td>ENST00000633723</td>\n",
       "      <td>ENST00000633723.1</td>\n",
       "      <td>protein_coding</td>\n",
       "      <td>protein_coding</td>\n",
       "      <td>CRHR1</td>\n",
       "      <td>CRHR1-226</td>\n",
       "      <td>CRF-R</td>\n",
       "    </tr>\n",
       "    <tr>\n",
       "      <th>ENSG00000276191</th>\n",
       "      <td>ENSG00000276191.4</td>\n",
       "      <td>ENST00000616274</td>\n",
       "      <td>ENST00000616274.4</td>\n",
       "      <td>protein_coding</td>\n",
       "      <td>protein_coding</td>\n",
       "      <td>CRHR1</td>\n",
       "      <td>CRHR1-216</td>\n",
       "      <td>CRF-R</td>\n",
       "    </tr>\n",
       "  </tbody>\n",
       "</table>\n",
       "</div>"
      ],
      "text/plain": [
       "                Gene stable ID version Transcript stable ID  \\\n",
       "Gene stable ID                                                \n",
       "ENSG00000276191      ENSG00000276191.4      ENST00000632383   \n",
       "ENSG00000276191      ENSG00000276191.4      ENST00000617905   \n",
       "ENSG00000276191      ENSG00000276191.4      ENST00000616748   \n",
       "ENSG00000276191      ENSG00000276191.4      ENST00000633723   \n",
       "ENSG00000276191      ENSG00000276191.4      ENST00000616274   \n",
       "\n",
       "                Transcript stable ID version          Transcript type  \\\n",
       "Gene stable ID                                                          \n",
       "ENSG00000276191            ENST00000632383.1  nonsense_mediated_decay   \n",
       "ENSG00000276191            ENST00000617905.4           protein_coding   \n",
       "ENSG00000276191            ENST00000616748.4           protein_coding   \n",
       "ENSG00000276191            ENST00000633723.1           protein_coding   \n",
       "ENSG00000276191            ENST00000616274.4           protein_coding   \n",
       "\n",
       "                      Gene type Gene name Transcript name Gene Synonym  \n",
       "Gene stable ID                                                          \n",
       "ENSG00000276191  protein_coding     CRHR1       CRHR1-222        CRF-R  \n",
       "ENSG00000276191  protein_coding     CRHR1       CRHR1-218        CRF-R  \n",
       "ENSG00000276191  protein_coding     CRHR1       CRHR1-217        CRF-R  \n",
       "ENSG00000276191  protein_coding     CRHR1       CRHR1-226        CRF-R  \n",
       "ENSG00000276191  protein_coding     CRHR1       CRHR1-216        CRF-R  "
      ]
     },
     "execution_count": 6,
     "metadata": {},
     "output_type": "execute_result"
    }
   ],
   "source": [
    "ensgRef = pd.read_csv(\"../../signatures_git/ensg-transcript_biotype.txt\",\n",
    "                     sep = \"\\t\", index_col = 0)\n",
    "ensgRef.head()"
   ]
  },
  {
   "cell_type": "code",
   "execution_count": 7,
   "metadata": {},
   "outputs": [],
   "source": [
    "basePath = \"../../signatures_git/\"\n",
    "tiechSig = pd.read_csv(basePath + \"placenta_signature_forCIS_TIECHMANN_12152020.csv\",\n",
    "                      index_col = 0).T\n",
    "hemantSig = pd.read_csv(basePath + \"placenta_signature_forCIS_12152020.csv\",\n",
    "                       index_col = 0).T"
   ]
  },
  {
   "cell_type": "code",
   "execution_count": 8,
   "metadata": {},
   "outputs": [],
   "source": [
    "evtTiech = tiechSig[\"EVT-gini\"]\n",
    "\n",
    "evtHemant = hemantSig[\"EVT-gini\"]\n",
    "    \n",
    "tiechEVTGene = [i.split(\"_\")[0] for i in evtTiech]\n",
    "\n",
    "\n",
    "sctTiech = tiechSig[\"SCT-gini\"].dropna().values\n",
    "\n",
    "sctHemant = hemantSig[\"SCT-gini\"].dropna().values\n",
    "\n",
    "tiechSCTGene = [i.split(\"_\")[0] for i in sctTiech]\n"
   ]
  },
  {
   "cell_type": "code",
   "execution_count": 9,
   "metadata": {},
   "outputs": [],
   "source": [
    "evtSig = np.intersect1d(tiechEVTGene, evtHemant)\n",
    "evtENSG = []\n",
    "for i in evtSig:\n",
    "    for j in evtTiech:\n",
    "        if i in j:\n",
    "            evtENSG += [j.split(\"_\")[1]]\n",
    "\n"
   ]
  },
  {
   "cell_type": "code",
   "execution_count": 10,
   "metadata": {},
   "outputs": [],
   "source": [
    "sctSig = np.intersect1d(tiechSCTGene, sctHemant)\n",
    "sctENSG = []\n",
    "for i in sctSig:\n",
    "    for j in sctTiech:\n",
    "        if i in j:\n",
    "            sctENSG += [j.split(\"_\")[1]]\n",
    "\n",
    "\n"
   ]
  },
  {
   "cell_type": "code",
   "execution_count": 11,
   "metadata": {},
   "outputs": [
    {
     "data": {
      "text/plain": [
       "6"
      ]
     },
     "execution_count": 11,
     "metadata": {},
     "output_type": "execute_result"
    }
   ],
   "source": [
    "len(sctENSG)"
   ]
  },
  {
   "cell_type": "code",
   "execution_count": 12,
   "metadata": {},
   "outputs": [
    {
     "data": {
      "text/plain": [
       "10"
      ]
     },
     "execution_count": 12,
     "metadata": {},
     "output_type": "execute_result"
    }
   ],
   "source": [
    "len(evtENSG)"
   ]
  },
  {
   "cell_type": "markdown",
   "metadata": {},
   "source": [
    "now use these ENSG to access the HPA gini data"
   ]
  },
  {
   "cell_type": "code",
   "execution_count": 13,
   "metadata": {},
   "outputs": [],
   "source": [
    "# empty df so all ginis are accounted for in the computation\n",
    "sctGiniTau = tissGiniTau.loc[sctENSG].iloc[:,0:2]\n",
    "evtGiniTau = tissGiniTau.loc[evtENSG].iloc[:,0:2]\n",
    "evtGiniTau[\"celltype\"] = \"Extravillous Trophoblast\"\n",
    "sctGiniTau[\"celltype\"] = \"Syncytiotrophoblast\""
   ]
  },
  {
   "cell_type": "code",
   "execution_count": 14,
   "metadata": {},
   "outputs": [],
   "source": [
    "allGiniTau = pd.concat([evtGiniTau, sctGiniTau], axis = 0)"
   ]
  },
  {
   "cell_type": "code",
   "execution_count": 15,
   "metadata": {},
   "outputs": [
    {
     "data": {
      "text/html": [
       "<div>\n",
       "<style scoped>\n",
       "    .dataframe tbody tr th:only-of-type {\n",
       "        vertical-align: middle;\n",
       "    }\n",
       "\n",
       "    .dataframe tbody tr th {\n",
       "        vertical-align: top;\n",
       "    }\n",
       "\n",
       "    .dataframe thead th {\n",
       "        text-align: right;\n",
       "    }\n",
       "</style>\n",
       "<table border=\"1\" class=\"dataframe\">\n",
       "  <thead>\n",
       "    <tr style=\"text-align: right;\">\n",
       "      <th></th>\n",
       "      <th>tau-placenta</th>\n",
       "      <th>gini-placenta</th>\n",
       "      <th>celltype</th>\n",
       "    </tr>\n",
       "  </thead>\n",
       "  <tbody>\n",
       "    <tr>\n",
       "      <th>ENSG00000183734</th>\n",
       "      <td>0.886750</td>\n",
       "      <td>0.607683</td>\n",
       "      <td>Extravillous Trophoblast</td>\n",
       "    </tr>\n",
       "    <tr>\n",
       "      <th>ENSG00000164007</th>\n",
       "      <td>0.950332</td>\n",
       "      <td>0.827730</td>\n",
       "      <td>Extravillous Trophoblast</td>\n",
       "    </tr>\n",
       "    <tr>\n",
       "      <th>ENSG00000136488</th>\n",
       "      <td>0.999043</td>\n",
       "      <td>0.976596</td>\n",
       "      <td>Extravillous Trophoblast</td>\n",
       "    </tr>\n",
       "    <tr>\n",
       "      <th>ENSG00000105246</th>\n",
       "      <td>0.994408</td>\n",
       "      <td>0.884948</td>\n",
       "      <td>Extravillous Trophoblast</td>\n",
       "    </tr>\n",
       "    <tr>\n",
       "      <th>ENSG00000204632</th>\n",
       "      <td>0.987953</td>\n",
       "      <td>0.855261</td>\n",
       "      <td>Extravillous Trophoblast</td>\n",
       "    </tr>\n",
       "  </tbody>\n",
       "</table>\n",
       "</div>"
      ],
      "text/plain": [
       "                 tau-placenta  gini-placenta                  celltype\n",
       "ENSG00000183734      0.886750       0.607683  Extravillous Trophoblast\n",
       "ENSG00000164007      0.950332       0.827730  Extravillous Trophoblast\n",
       "ENSG00000136488      0.999043       0.976596  Extravillous Trophoblast\n",
       "ENSG00000105246      0.994408       0.884948  Extravillous Trophoblast\n",
       "ENSG00000204632      0.987953       0.855261  Extravillous Trophoblast"
      ]
     },
     "execution_count": 15,
     "metadata": {},
     "output_type": "execute_result"
    }
   ],
   "source": [
    "allGiniTau.head()"
   ]
  },
  {
   "cell_type": "code",
   "execution_count": 16,
   "metadata": {},
   "outputs": [],
   "source": [
    "meltGiniTau = pd.melt(allGiniTau, id_vars = [\"celltype\"], value_vars = [\"tau-placenta\", \"gini-placenta\"])"
   ]
  },
  {
   "cell_type": "code",
   "execution_count": 17,
   "metadata": {},
   "outputs": [
    {
     "data": {
      "text/html": [
       "<svg  width=\"110\" height=\"55\"><rect x=\"0\" y=\"0\" width=\"55\" height=\"55\" style=\"fill:#a2d2ff;stroke-width:2;stroke:rgb(255,255,255)\"/><rect x=\"55\" y=\"0\" width=\"55\" height=\"55\" style=\"fill:#ffafcc;stroke-width:2;stroke:rgb(255,255,255)\"/></svg>"
      ],
      "text/plain": [
       "[(0.6352941176470588, 0.8235294117647058, 1.0), (1.0, 0.6862745098039216, 0.8)]"
      ]
     },
     "execution_count": 17,
     "metadata": {},
     "output_type": "execute_result"
    }
   ],
   "source": [
    "# exported off coolors\n",
    "placenta_pal = {\n",
    "    \"Extravillous Trophoblast\": \"#A2D2FF\",\n",
    "    \"Syncytiotrophoblast\": \"#FFAFCC\"}\n",
    "\n",
    "\n",
    "sns.color_palette(list(placenta_pal.values()))"
   ]
  },
  {
   "cell_type": "code",
   "execution_count": 18,
   "metadata": {},
   "outputs": [],
   "source": [
    "tauMelt = meltGiniTau[meltGiniTau[\"variable\"] == \"tau-placenta\"]"
   ]
  },
  {
   "cell_type": "code",
   "execution_count": 19,
   "metadata": {},
   "outputs": [],
   "source": [
    "giniMelt = meltGiniTau[meltGiniTau[\"variable\"] == \"gini-placenta\"]"
   ]
  },
  {
   "cell_type": "code",
   "execution_count": 20,
   "metadata": {},
   "outputs": [
    {
     "data": {
      "text/html": [
       "<div>\n",
       "<style scoped>\n",
       "    .dataframe tbody tr th:only-of-type {\n",
       "        vertical-align: middle;\n",
       "    }\n",
       "\n",
       "    .dataframe tbody tr th {\n",
       "        vertical-align: top;\n",
       "    }\n",
       "\n",
       "    .dataframe thead th {\n",
       "        text-align: right;\n",
       "    }\n",
       "</style>\n",
       "<table border=\"1\" class=\"dataframe\">\n",
       "  <thead>\n",
       "    <tr style=\"text-align: right;\">\n",
       "      <th></th>\n",
       "      <th>celltype</th>\n",
       "      <th>variable</th>\n",
       "      <th>value</th>\n",
       "    </tr>\n",
       "  </thead>\n",
       "  <tbody>\n",
       "    <tr>\n",
       "      <th>16</th>\n",
       "      <td>Extravillous Trophoblast</td>\n",
       "      <td>gini-placenta</td>\n",
       "      <td>0.607683</td>\n",
       "    </tr>\n",
       "    <tr>\n",
       "      <th>17</th>\n",
       "      <td>Extravillous Trophoblast</td>\n",
       "      <td>gini-placenta</td>\n",
       "      <td>0.827730</td>\n",
       "    </tr>\n",
       "    <tr>\n",
       "      <th>18</th>\n",
       "      <td>Extravillous Trophoblast</td>\n",
       "      <td>gini-placenta</td>\n",
       "      <td>0.976596</td>\n",
       "    </tr>\n",
       "    <tr>\n",
       "      <th>19</th>\n",
       "      <td>Extravillous Trophoblast</td>\n",
       "      <td>gini-placenta</td>\n",
       "      <td>0.884948</td>\n",
       "    </tr>\n",
       "    <tr>\n",
       "      <th>20</th>\n",
       "      <td>Extravillous Trophoblast</td>\n",
       "      <td>gini-placenta</td>\n",
       "      <td>0.855261</td>\n",
       "    </tr>\n",
       "    <tr>\n",
       "      <th>21</th>\n",
       "      <td>Extravillous Trophoblast</td>\n",
       "      <td>gini-placenta</td>\n",
       "      <td>0.758733</td>\n",
       "    </tr>\n",
       "    <tr>\n",
       "      <th>22</th>\n",
       "      <td>Extravillous Trophoblast</td>\n",
       "      <td>gini-placenta</td>\n",
       "      <td>0.607199</td>\n",
       "    </tr>\n",
       "    <tr>\n",
       "      <th>23</th>\n",
       "      <td>Extravillous Trophoblast</td>\n",
       "      <td>gini-placenta</td>\n",
       "      <td>0.684265</td>\n",
       "    </tr>\n",
       "    <tr>\n",
       "      <th>24</th>\n",
       "      <td>Extravillous Trophoblast</td>\n",
       "      <td>gini-placenta</td>\n",
       "      <td>0.883748</td>\n",
       "    </tr>\n",
       "    <tr>\n",
       "      <th>25</th>\n",
       "      <td>Extravillous Trophoblast</td>\n",
       "      <td>gini-placenta</td>\n",
       "      <td>0.752670</td>\n",
       "    </tr>\n",
       "    <tr>\n",
       "      <th>26</th>\n",
       "      <td>Syncytiotrophoblast</td>\n",
       "      <td>gini-placenta</td>\n",
       "      <td>0.947338</td>\n",
       "    </tr>\n",
       "    <tr>\n",
       "      <th>27</th>\n",
       "      <td>Syncytiotrophoblast</td>\n",
       "      <td>gini-placenta</td>\n",
       "      <td>0.742223</td>\n",
       "    </tr>\n",
       "    <tr>\n",
       "      <th>28</th>\n",
       "      <td>Syncytiotrophoblast</td>\n",
       "      <td>gini-placenta</td>\n",
       "      <td>0.829318</td>\n",
       "    </tr>\n",
       "    <tr>\n",
       "      <th>29</th>\n",
       "      <td>Syncytiotrophoblast</td>\n",
       "      <td>gini-placenta</td>\n",
       "      <td>0.815201</td>\n",
       "    </tr>\n",
       "    <tr>\n",
       "      <th>30</th>\n",
       "      <td>Syncytiotrophoblast</td>\n",
       "      <td>gini-placenta</td>\n",
       "      <td>0.948110</td>\n",
       "    </tr>\n",
       "    <tr>\n",
       "      <th>31</th>\n",
       "      <td>Syncytiotrophoblast</td>\n",
       "      <td>gini-placenta</td>\n",
       "      <td>0.901169</td>\n",
       "    </tr>\n",
       "  </tbody>\n",
       "</table>\n",
       "</div>"
      ],
      "text/plain": [
       "                    celltype       variable     value\n",
       "16  Extravillous Trophoblast  gini-placenta  0.607683\n",
       "17  Extravillous Trophoblast  gini-placenta  0.827730\n",
       "18  Extravillous Trophoblast  gini-placenta  0.976596\n",
       "19  Extravillous Trophoblast  gini-placenta  0.884948\n",
       "20  Extravillous Trophoblast  gini-placenta  0.855261\n",
       "21  Extravillous Trophoblast  gini-placenta  0.758733\n",
       "22  Extravillous Trophoblast  gini-placenta  0.607199\n",
       "23  Extravillous Trophoblast  gini-placenta  0.684265\n",
       "24  Extravillous Trophoblast  gini-placenta  0.883748\n",
       "25  Extravillous Trophoblast  gini-placenta  0.752670\n",
       "26       Syncytiotrophoblast  gini-placenta  0.947338\n",
       "27       Syncytiotrophoblast  gini-placenta  0.742223\n",
       "28       Syncytiotrophoblast  gini-placenta  0.829318\n",
       "29       Syncytiotrophoblast  gini-placenta  0.815201\n",
       "30       Syncytiotrophoblast  gini-placenta  0.948110\n",
       "31       Syncytiotrophoblast  gini-placenta  0.901169"
      ]
     },
     "execution_count": 20,
     "metadata": {},
     "output_type": "execute_result"
    }
   ],
   "source": [
    "giniMelt"
   ]
  },
  {
   "cell_type": "code",
   "execution_count": 21,
   "metadata": {},
   "outputs": [
    {
     "data": {
      "text/plain": [
       "<seaborn.axisgrid.FacetGrid at 0x7fe854c51ef0>"
      ]
     },
     "execution_count": 21,
     "metadata": {},
     "output_type": "execute_result"
    },
    {
     "data": {
      "image/png": "[encoded data removed]",
      "text/plain": [
       "<Figure size 516.725x360 with 1 Axes>"
      ]
     },
     "metadata": {
      "needs_background": "light"
     },
     "output_type": "display_data"
    }
   ],
   "source": [
    "lowerBound = np.min(giniMelt[\"value\"])\n",
    "upperBound = np.max(giniMelt[\"value\"])\n",
    "\n",
    "\n",
    "g = sns.displot(giniMelt, x = \"value\", \n",
    "            multiple = \"stack\",\n",
    "            kind = \"kde\",\n",
    "            bw_adjust=.3,\n",
    "            clip = (lowerBound, upperBound),\n",
    "            hue = \"celltype\",\n",
    "            common_norm = False,\n",
    "           palette = placenta_pal)\n",
    "g.set( xlabel = \"Gini Coefficient\", ylabel = \"Density\")"
   ]
  },
  {
   "cell_type": "code",
   "execution_count": 22,
   "metadata": {},
   "outputs": [],
   "source": [
    "save_figure_pdf(g, thisTiss + \"GiniCoefficient_Distrib_02152021.pdf\")"
   ]
  },
  {
   "cell_type": "code",
   "execution_count": 23,
   "metadata": {},
   "outputs": [
    {
     "data": {
      "text/plain": [
       "<seaborn.axisgrid.FacetGrid at 0x7fe8311cf5f8>"
      ]
     },
     "execution_count": 23,
     "metadata": {},
     "output_type": "execute_result"
    },
    {
     "data": {
      "image/png": "[encoded data removed]",
      "text/plain": [
       "<Figure size 516.725x360 with 1 Axes>"
      ]
     },
     "metadata": {
      "needs_background": "light"
     },
     "output_type": "display_data"
    }
   ],
   "source": [
    "lowerBound = np.min(tauMelt[\"value\"])\n",
    "upperBound = np.max(tauMelt[\"value\"])\n",
    "\n",
    "\n",
    "g = sns.displot(tauMelt, x = \"value\", \n",
    "            multiple = \"stack\",\n",
    "            kind = \"kde\",\n",
    "            bw_adjust=.3,\n",
    "            clip = (lowerBound, upperBound),\n",
    "            hue = \"celltype\",\n",
    "            common_norm = False,\n",
    "           palette = placenta_pal)\n",
    "g.set(xlabel = \"Tau\", ylabel = \"Density\")"
   ]
  },
  {
   "cell_type": "code",
   "execution_count": 24,
   "metadata": {},
   "outputs": [],
   "source": [
    "save_figure_pdf(g, thisTiss + \"TauDistrib_02152021.pdf\")"
   ]
  },
  {
   "cell_type": "code",
   "execution_count": 25,
   "metadata": {},
   "outputs": [
    {
     "name": "stdout",
     "output_type": "stream",
     "text": [
      "\u001b[H\u001b[2J"
     ]
    }
   ],
   "source": [
    "clear all"
   ]
  }
 ],
 "metadata": {
  "kernelspec": {
   "display_name": "Python 3",
   "language": "python",
   "name": "python3"
  },
  "language_info": {
   "codemirror_mode": {
    "name": "ipython",
    "version": 3
   },
   "file_extension": ".py",
   "mimetype": "text/x-python",
   "name": "python",
   "nbconvert_exporter": "python",
   "pygments_lexer": "ipython3",
   "version": "3.6.12"
  }
 },
 "nbformat": 4,
 "nbformat_minor": 4
}
