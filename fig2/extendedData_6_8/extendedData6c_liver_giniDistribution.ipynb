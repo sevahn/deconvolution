{
 "cells": [
  {
   "cell_type": "code",
   "execution_count": 1,
   "metadata": {},
   "outputs": [],
   "source": [
    "import numpy as np\n",
    "import pandas as pd\n",
    "import scanpy as sc\n",
    "\n",
    "import matplotlib.pyplot as plt\n",
    "import seaborn as sns\n",
    "import matplotlib as mpl\n",
    "\n",
    "#For editable text. Except latex text is still shapes sadly\n",
    "mpl.rcParams['pdf.fonttype'] = 42\n",
    "mpl.rcParams['ps.fonttype'] = 42\n",
    "sns.set_style(\"whitegrid\")\n",
    "font = {'size' : 6}\n",
    "lines = {'linewidth' : 0.5}\n",
    "fig = {'figsize' : (2.5, 1.5)}\n",
    "mpl.rc('font', **font)\n",
    "mpl.rc('lines', **lines)\n",
    "mpl.rc('figure', **fig)\n",
    "#Set style\n",
    "sns.set(style=\"whitegrid\", palette=\"pastel\", color_codes=True)\n",
    "\n",
    "# 02142021_suppFig7B_LiverTauGiniSigs.ipynb"
   ]
  },
  {
   "cell_type": "code",
   "execution_count": 2,
   "metadata": {
    "code_folding": []
   },
   "outputs": [],
   "source": [
    "def save_figure_pdf(fig, path_to_save):\n",
    "\t'''\n",
    "\tUtility fxn to save a figure without having to retype all the required options.\n",
    "\tInput:\n",
    "\t\tfig - a matplotlib.pyplot.figure instance with the figure you'd like to save\n",
    "\t\tpath_to_save - the path you'd like to save the figure to\n",
    "\tReturns: Nothing but there should now be a pdf version in 300 dpi with a transparent bkg at path_to_save\n",
    "\t'''\n",
    "\tfig.savefig(path_to_save, dpi = 300,\n",
    "                bbox_inches = 'tight', transparent = True)"
   ]
  },
  {
   "cell_type": "code",
   "execution_count": 3,
   "metadata": {},
   "outputs": [],
   "source": [
    "thisTiss = \"liver\""
   ]
  },
  {
   "cell_type": "code",
   "execution_count": 4,
   "metadata": {},
   "outputs": [],
   "source": [
    "tissTau = pd.read_csv(\"../gini_tau/\" + thisTiss + \"_gini_tau_02142021.csv\",\n",
    "                     sep = \",\", index_col = 0)"
   ]
  },
  {
   "cell_type": "code",
   "execution_count": 5,
   "metadata": {},
   "outputs": [],
   "source": [
    "tissGini = \"../../signatures_git/gini6_perCluster_liver_12102020.csv\"\n",
    "tissGini = pd.read_csv(tissGini, sep = \",\", index_col = 0)"
   ]
  },
  {
   "cell_type": "code",
   "execution_count": 6,
   "metadata": {},
   "outputs": [],
   "source": [
    "fullNames = [i.split(\"-\")[0] for i in tissGini.columns]"
   ]
  },
  {
   "cell_type": "code",
   "execution_count": 7,
   "metadata": {},
   "outputs": [],
   "source": [
    "tissGini.columns = fullNames"
   ]
  },
  {
   "cell_type": "code",
   "execution_count": 8,
   "metadata": {},
   "outputs": [
    {
     "data": {
      "text/html": [
       "<svg  width=\"275\" height=\"55\"><rect x=\"0\" y=\"0\" width=\"55\" height=\"55\" style=\"fill:#eaeaea;stroke-width:2;stroke:rgb(255,255,255)\"/><rect x=\"55\" y=\"0\" width=\"55\" height=\"55\" style=\"fill:#893168;stroke-width:2;stroke:rgb(255,255,255)\"/><rect x=\"110\" y=\"0\" width=\"55\" height=\"55\" style=\"fill:#4a1942;stroke-width:2;stroke:rgb(255,255,255)\"/><rect x=\"165\" y=\"0\" width=\"55\" height=\"55\" style=\"fill:#2e1c2b;stroke-width:2;stroke:rgb(255,255,255)\"/><rect x=\"220\" y=\"0\" width=\"55\" height=\"55\" style=\"fill:#050404;stroke-width:2;stroke:rgb(255,255,255)\"/></svg>"
      ],
      "text/plain": [
       "[(0.9176470588235294, 0.9176470588235294, 0.9176470588235294),\n",
       " (0.5372549019607843, 0.19215686274509805, 0.40784313725490196),\n",
       " (0.2901960784313726, 0.09803921568627451, 0.25882352941176473),\n",
       " (0.1803921568627451, 0.10980392156862745, 0.16862745098039217),\n",
       " (0.0196078431372549, 0.01568627450980392, 0.01568627450980392)]"
      ]
     },
     "execution_count": 8,
     "metadata": {},
     "output_type": "execute_result"
    }
   ],
   "source": [
    "# exported off coolors\n",
    "\n",
    "colors = {\"Platinum\":\"eaeaea\",\"Amaranth M P\":\"893168\",\"Dark Purple\":\"4a1942\",\n",
    "          \"Dark Purple 2\":\"2e1c2b\",\"Rich Black FOGRA 39\":\"050404\"}\n",
    "\n",
    "# add the pound for matplotlib\n",
    "for c in colors:\n",
    "    colors[c] = \"#\" + colors[c]\n",
    "colors = list(colors.values())\n",
    "\n",
    "sns.color_palette(colors)"
   ]
  },
  {
   "cell_type": "code",
   "execution_count": 9,
   "metadata": {},
   "outputs": [],
   "source": [
    "cell_pal = {}\n",
    "for i, cell in enumerate(fullNames):\n",
    "    cell_pal[cell] = colors[i]"
   ]
  },
  {
   "cell_type": "code",
   "execution_count": 10,
   "metadata": {},
   "outputs": [],
   "source": [
    "giniMelt = pd.melt(tissGini, value_vars = tissGini.columns)\n",
    "tauMelt = pd.melt(tissTau, value_vars = tissTau.columns)"
   ]
  },
  {
   "cell_type": "code",
   "execution_count": 11,
   "metadata": {},
   "outputs": [
    {
     "data": {
      "text/html": [
       "<div>\n",
       "<style scoped>\n",
       "    .dataframe tbody tr th:only-of-type {\n",
       "        vertical-align: middle;\n",
       "    }\n",
       "\n",
       "    .dataframe tbody tr th {\n",
       "        vertical-align: top;\n",
       "    }\n",
       "\n",
       "    .dataframe thead th {\n",
       "        text-align: right;\n",
       "    }\n",
       "</style>\n",
       "<table border=\"1\" class=\"dataframe\">\n",
       "  <thead>\n",
       "    <tr style=\"text-align: right;\">\n",
       "      <th></th>\n",
       "      <th>variable</th>\n",
       "      <th>value</th>\n",
       "    </tr>\n",
       "  </thead>\n",
       "  <tbody>\n",
       "    <tr>\n",
       "      <th>0</th>\n",
       "      <td>EPCAM+ bile duct cells</td>\n",
       "      <td>0.838780</td>\n",
       "    </tr>\n",
       "    <tr>\n",
       "      <th>153</th>\n",
       "      <td>Hepatocytes</td>\n",
       "      <td>0.982820</td>\n",
       "    </tr>\n",
       "    <tr>\n",
       "      <th>154</th>\n",
       "      <td>Hepatocytes</td>\n",
       "      <td>0.632333</td>\n",
       "    </tr>\n",
       "    <tr>\n",
       "      <th>155</th>\n",
       "      <td>Hepatocytes</td>\n",
       "      <td>0.945837</td>\n",
       "    </tr>\n",
       "    <tr>\n",
       "      <th>156</th>\n",
       "      <td>Hepatocytes</td>\n",
       "      <td>0.741696</td>\n",
       "    </tr>\n",
       "    <tr>\n",
       "      <th>...</th>\n",
       "      <td>...</td>\n",
       "      <td>...</td>\n",
       "    </tr>\n",
       "    <tr>\n",
       "      <th>451</th>\n",
       "      <td>LSEC</td>\n",
       "      <td>0.896157</td>\n",
       "    </tr>\n",
       "    <tr>\n",
       "      <th>452</th>\n",
       "      <td>LSEC</td>\n",
       "      <td>0.870031</td>\n",
       "    </tr>\n",
       "    <tr>\n",
       "      <th>453</th>\n",
       "      <td>LSEC</td>\n",
       "      <td>0.909158</td>\n",
       "    </tr>\n",
       "    <tr>\n",
       "      <th>454</th>\n",
       "      <td>LSEC</td>\n",
       "      <td>0.695994</td>\n",
       "    </tr>\n",
       "    <tr>\n",
       "      <th>607</th>\n",
       "      <td>MVEC</td>\n",
       "      <td>0.639008</td>\n",
       "    </tr>\n",
       "  </tbody>\n",
       "</table>\n",
       "<p>152 rows × 2 columns</p>\n",
       "</div>"
      ],
      "text/plain": [
       "                   variable     value\n",
       "0    EPCAM+ bile duct cells  0.838780\n",
       "153             Hepatocytes  0.982820\n",
       "154             Hepatocytes  0.632333\n",
       "155             Hepatocytes  0.945837\n",
       "156             Hepatocytes  0.741696\n",
       "..                      ...       ...\n",
       "451                    LSEC  0.896157\n",
       "452                    LSEC  0.870031\n",
       "453                    LSEC  0.909158\n",
       "454                    LSEC  0.695994\n",
       "607                    MVEC  0.639008\n",
       "\n",
       "[152 rows x 2 columns]"
      ]
     },
     "execution_count": 11,
     "metadata": {},
     "output_type": "execute_result"
    }
   ],
   "source": [
    "giniMelt[giniMelt['value'].notna()]"
   ]
  },
  {
   "cell_type": "code",
   "execution_count": 12,
   "metadata": {},
   "outputs": [
    {
     "name": "stdout",
     "output_type": "stream",
     "text": [
      "1\n",
      "144\n",
      "6\n",
      "1\n"
     ]
    }
   ],
   "source": [
    "degDict = {}\n",
    "for i in tissGini:\n",
    "    degDict[i] = tissGini[i].dropna().index.tolist()\n",
    "    print(len(degDict[i]))"
   ]
  },
  {
   "cell_type": "code",
   "execution_count": 13,
   "metadata": {},
   "outputs": [],
   "source": [
    "degTau = {}\n",
    "for i in degDict:\n",
    "    relENSG = degDict[i]\n",
    "    tauVals = tissTau.loc[relENSG][\"tau-\" + thisTiss].tolist()\n",
    "    degTau[i] = tauVals\n",
    "\n",
    "# make a dataframe\n",
    "tauDF = pd.DataFrame(dict([ (k,pd.Series(v)) for k,v in degTau.items() ]))"
   ]
  },
  {
   "cell_type": "code",
   "execution_count": 14,
   "metadata": {},
   "outputs": [],
   "source": [
    "giniMelt = pd.melt(tissGini, value_vars = tissGini.columns)\n",
    "tauMelt = pd.melt(tauDF, value_vars = tauDF.columns)"
   ]
  },
  {
   "cell_type": "code",
   "execution_count": 15,
   "metadata": {},
   "outputs": [],
   "source": [
    "giniMelt = giniMelt[giniMelt['value'].notna()]\n",
    "tauMelt =  tauMelt[tauMelt['value'].notna()]"
   ]
  },
  {
   "cell_type": "code",
   "execution_count": 16,
   "metadata": {},
   "outputs": [],
   "source": [
    "giniMelt = giniMelt[giniMelt[\"variable\"].isin([\"Hepatocytes\"])]\n",
    "tauMelt = tauMelt[tauMelt[\"variable\"].isin([\"Hepatocytes\"])]"
   ]
  },
  {
   "cell_type": "code",
   "execution_count": 17,
   "metadata": {},
   "outputs": [
    {
     "data": {
      "text/plain": [
       "<seaborn.axisgrid.FacetGrid at 0x7fc314c87ef0>"
      ]
     },
     "execution_count": 17,
     "metadata": {},
     "output_type": "execute_result"
    },
    {
     "data": {
      "image/png": "[encoded data removed]",
      "text/plain": [
       "<Figure size 460.725x360 with 1 Axes>"
      ]
     },
     "metadata": {
      "needs_background": "light"
     },
     "output_type": "display_data"
    }
   ],
   "source": [
    "lowerBound = np.min(giniMelt[\"value\"])\n",
    "upperBound = np.max(giniMelt[\"value\"])\n",
    "\n",
    "\n",
    "g = sns.displot(giniMelt, x = \"value\", \n",
    "            multiple = \"stack\",\n",
    "            kind = \"kde\",\n",
    "            bw_adjust=.3,\n",
    "            clip = (lowerBound, upperBound),\n",
    "            hue = \"variable\",\n",
    "            common_norm = False,\n",
    "           palette = cell_pal)\n",
    "g.set(xlabel = \"Gini Coefficient\", ylabel = \"Density\")"
   ]
  },
  {
   "cell_type": "code",
   "execution_count": 18,
   "metadata": {},
   "outputs": [],
   "source": [
    "save_figure_pdf(g, thisTiss + \"GiniCoefficient_Distrib_02152021.pdf\")"
   ]
  },
  {
   "cell_type": "code",
   "execution_count": 19,
   "metadata": {},
   "outputs": [
    {
     "name": "stdout",
     "output_type": "stream",
     "text": [
      "\u001b[H\u001b[2J"
     ]
    }
   ],
   "source": [
    "clear all"
   ]
  },
  {
   "cell_type": "code",
   "execution_count": null,
   "metadata": {},
   "outputs": [],
   "source": []
  },
  {
   "cell_type": "code",
   "execution_count": null,
   "metadata": {},
   "outputs": [],
   "source": []
  }
 ],
 "metadata": {
  "kernelspec": {
   "display_name": "Python 3",
   "language": "python",
   "name": "python3"
  },
  "language_info": {
   "codemirror_mode": {
    "name": "ipython",
    "version": 3
   },
   "file_extension": ".py",
   "mimetype": "text/x-python",
   "name": "python",
   "nbconvert_exporter": "python",
   "pygments_lexer": "ipython3",
   "version": "3.6.12"
  }
 },
 "nbformat": 4,
 "nbformat_minor": 4
}
