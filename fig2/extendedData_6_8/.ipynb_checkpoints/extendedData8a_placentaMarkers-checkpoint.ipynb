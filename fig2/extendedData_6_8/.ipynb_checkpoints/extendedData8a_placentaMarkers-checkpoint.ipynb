{
 "cells": [
  {
   "cell_type": "markdown",
   "metadata": {},
   "source": [
    "to run this notebook, you will need the placental single cell object from Vento Tormo et al."
   ]
  },
  {
   "cell_type": "code",
   "execution_count": 1,
   "metadata": {},
   "outputs": [],
   "source": [
    "import numpy as np\n",
    "import pandas as pd\n",
    "import scanpy as sc\n",
    "\n",
    "\n",
    "import matplotlib.pyplot as plt\n",
    "import seaborn as sns\n",
    "import matplotlib as mpl\n",
    "\n",
    "\n",
    "import sklearn.decomposition, sklearn.cluster\n",
    "from nheatmap import nhm, scripts\n",
    "import matplotlib.pyplot as plt\n",
    "import matplotlib as mpl\n",
    "\n",
    "\n",
    "import os\n",
    "\n",
    "#For editable text. Except latex text is still shapes\n",
    "mpl.rcParams['pdf.fonttype'] = 42\n",
    "mpl.rcParams['ps.fonttype'] = 42\n",
    "sns.set_style(\"whitegrid\")\n",
    "font = {'size' : 6}\n",
    "lines = {'linewidth' : 0.5}\n",
    "fig = {'figsize' : (2.5, 1.5)}\n",
    "mpl.rc('font', **font)\n",
    "mpl.rc('lines', **lines)\n",
    "mpl.rc('figure', **fig)\n",
    "\n",
    "#Set style\n",
    "sns.set(style = \"whitegrid\", palette=\"pastel\", color_codes=True)"
   ]
  },
  {
   "cell_type": "code",
   "execution_count": 2,
   "metadata": {},
   "outputs": [],
   "source": [
    "def save_figure_pdf(fig, path_to_save):\n",
    "\t'''\n",
    "\tUtility fxn to save a figure without having to retype all the required options.\n",
    "\tInput:\n",
    "\t\tfig - a matplotlib.pyplot.figure instance with the figure you'd like to save\n",
    "\t\tpath_to_save - the path you'd like to save the figure to\n",
    "\tReturns: Nothing but there should now be a pdf version in 300 dpi with a transparent bkg at path_to_save\n",
    "\t'''\n",
    "\tfig.savefig(path_to_save, dpi = 150, \n",
    "                bbox_inches = 'tight', transparent = True)"
   ]
  },
  {
   "cell_type": "code",
   "execution_count": 4,
   "metadata": {},
   "outputs": [],
   "source": [
    "# read in adata and normalize\n",
    "\n",
    "adata = sc.read_h5ad(\"../../../livertox/placenta-tiechmann.h5ad\")\n",
    "sc.pp.normalize_total(adata, target_sum = 1e4)\n",
    "sc.pp.log1p(adata)"
   ]
  },
  {
   "cell_type": "code",
   "execution_count": 5,
   "metadata": {},
   "outputs": [],
   "source": [
    "markers = pd.read_csv(\"../../signatures_git/placenta_signature_forCIS_UNITED-TIECH-HEMANT_010120201.csv\",\n",
    "                           sep = \",\", index_col = 0).T"
   ]
  },
  {
   "cell_type": "code",
   "execution_count": 6,
   "metadata": {},
   "outputs": [],
   "source": [
    "degDict = {}\n",
    "for i in markers:\n",
    "    cellName = i.split(\"-\")[0]\n",
    "    degDict[cellName] = markers[i].dropna().tolist()"
   ]
  },
  {
   "cell_type": "code",
   "execution_count": 7,
   "metadata": {},
   "outputs": [
    {
     "data": {
      "text/plain": [
       "{'EVT': ['ASCL2',\n",
       "  'CLDN19',\n",
       "  'CSH1',\n",
       "  'EBI3',\n",
       "  'HLA-G',\n",
       "  'HTRA4',\n",
       "  'IL1RAP',\n",
       "  'LAIR2',\n",
       "  'NOTUM',\n",
       "  'VGLL3'],\n",
       " 'SCT': ['CYP19A1', 'EPS8L1', 'ERVFRD-1', 'KMO', 'LGALS16', 'SERPINB2']}"
      ]
     },
     "execution_count": 7,
     "metadata": {},
     "output_type": "execute_result"
    }
   ],
   "source": [
    "degDict"
   ]
  },
  {
   "cell_type": "code",
   "execution_count": 8,
   "metadata": {},
   "outputs": [],
   "source": [
    "allMarkers = list(degDict.values())\n",
    "allMarkers = [j for sub in allMarkers for j in sub] "
   ]
  },
  {
   "cell_type": "code",
   "execution_count": 9,
   "metadata": {},
   "outputs": [],
   "source": [
    "cellObsCol = \"grouped-cells\""
   ]
  },
  {
   "cell_type": "code",
   "execution_count": 10,
   "metadata": {},
   "outputs": [],
   "source": [
    "cell_pal = {}\n",
    "cell_pal['EVT'] = \"#39A0ED\"\n",
    "cell_pal[\"SCT\"] =\"#F0BCD4\""
   ]
  },
  {
   "cell_type": "code",
   "execution_count": 11,
   "metadata": {},
   "outputs": [
    {
     "data": {
      "text/html": [
       "<svg  width=\"110\" height=\"55\"><rect x=\"0\" y=\"0\" width=\"55\" height=\"55\" style=\"fill:#39a0ed;stroke-width:2;stroke:rgb(255,255,255)\"/><rect x=\"55\" y=\"0\" width=\"55\" height=\"55\" style=\"fill:#f0bcd4;stroke-width:2;stroke:rgb(255,255,255)\"/></svg>"
      ],
      "text/plain": [
       "[(0.2235294117647059, 0.6274509803921569, 0.9294117647058824),\n",
       " (0.9411764705882353, 0.7372549019607844, 0.8313725490196079)]"
      ]
     },
     "execution_count": 11,
     "metadata": {},
     "output_type": "execute_result"
    }
   ],
   "source": [
    "sns.color_palette(list(cell_pal.values()))"
   ]
  },
  {
   "cell_type": "code",
   "execution_count": 12,
   "metadata": {},
   "outputs": [],
   "source": [
    "placentaCells = np.unique(adata.obs[cellObsCol]).tolist()"
   ]
  },
  {
   "cell_type": "code",
   "execution_count": 13,
   "metadata": {},
   "outputs": [
    {
     "data": {
      "text/plain": [
       "19"
      ]
     },
     "execution_count": 13,
     "metadata": {},
     "output_type": "execute_result"
    }
   ],
   "source": [
    "len(placentaCells)"
   ]
  },
  {
   "cell_type": "code",
   "execution_count": 14,
   "metadata": {},
   "outputs": [],
   "source": [
    "relGenes = adata.var[adata.var[\"gene\"].isin(allMarkers)].index.tolist()\n",
    "adata = adata[:, relGenes]"
   ]
  },
  {
   "cell_type": "code",
   "execution_count": 15,
   "metadata": {},
   "outputs": [],
   "source": [
    "df = pd.DataFrame(adata.X.todense())\n",
    "dfr = adata.obs[cellObsCol].to_frame()\n",
    "df.index = dfr.index\n",
    "df.columns = adata.var_names"
   ]
  },
  {
   "cell_type": "code",
   "execution_count": 16,
   "metadata": {},
   "outputs": [],
   "source": [
    "revDict = {}\n",
    "for i in degDict:\n",
    "    for gene in degDict[i]:\n",
    "        revDict[gene] = [i]"
   ]
  },
  {
   "cell_type": "code",
   "execution_count": 17,
   "metadata": {},
   "outputs": [],
   "source": [
    "dfc = pd.DataFrame.from_dict(revDict).T"
   ]
  },
  {
   "cell_type": "code",
   "execution_count": 18,
   "metadata": {},
   "outputs": [],
   "source": [
    "df = df.loc[dfr[cellObsCol].sort_values().index]\n",
    "dfr = dfr[cellObsCol].sort_values(ascending = True)"
   ]
  },
  {
   "cell_type": "code",
   "execution_count": 19,
   "metadata": {},
   "outputs": [],
   "source": [
    "dfr = dfr.to_frame()"
   ]
  },
  {
   "cell_type": "code",
   "execution_count": 20,
   "metadata": {},
   "outputs": [
    {
     "name": "stdout",
     "output_type": "stream",
     "text": [
      "(70325, 16)\n",
      "(16, 1)\n",
      "(70325, 1)\n"
     ]
    }
   ],
   "source": [
    "print(df.shape)\n",
    "print(dfc.shape)\n",
    "print(dfr.shape)"
   ]
  },
  {
   "cell_type": "code",
   "execution_count": 21,
   "metadata": {},
   "outputs": [],
   "source": [
    "cell_palCol = {}\n",
    "for i in cell_pal:\n",
    "    if i in dfc[0].values:\n",
    "        cell_palCol[i] = cell_pal[i]"
   ]
  },
  {
   "cell_type": "code",
   "execution_count": 22,
   "metadata": {},
   "outputs": [],
   "source": [
    "cmaps={'cell cluster':'Paired', 'PC1':'RdYlGn', 'gene cluster':'inferno',\n",
    "        'PC score':'gist_heat', 'PC score 2':'rainbow'}\n",
    "\n",
    "\n",
    "\n",
    "cmaps = {cellObsCol:cell_pal, 0:cell_palCol }\n"
   ]
  },
  {
   "cell_type": "code",
   "execution_count": 23,
   "metadata": {},
   "outputs": [],
   "source": [
    "cellsNoMarkerGenes = np.setdiff1d(np.unique(dfr[cellObsCol]), np.unique(dfc[0]))"
   ]
  },
  {
   "cell_type": "code",
   "execution_count": 24,
   "metadata": {},
   "outputs": [
    {
     "data": {
      "text/plain": [
       "array(['DC', 'Endo', 'Epi', 'Granulocytes', 'HB', 'ILC3', 'MO', 'NK',\n",
       "       'Plasma', 'Tcells', 'VCT', 'dM', 'dNK p', 'decid-NK', 'decid-P',\n",
       "       'decid-Stromal', 'fetal-Fibroblast'], dtype=object)"
      ]
     },
     "execution_count": 24,
     "metadata": {},
     "output_type": "execute_result"
    }
   ],
   "source": [
    "cellsNoMarkerGenes"
   ]
  },
  {
   "cell_type": "code",
   "execution_count": 25,
   "metadata": {},
   "outputs": [
    {
     "data": {
      "text/plain": [
       "{'EVT': ['EBI3_ENSG00000105246',\n",
       "  'CSH1_ENSG00000136488',\n",
       "  'CLDN19_ENSG00000164007',\n",
       "  'LAIR2_ENSG00000167618',\n",
       "  'HTRA4_ENSG00000169495',\n",
       "  'ASCL2_ENSG00000183734',\n",
       "  'NOTUM_ENSG00000185269',\n",
       "  'IL1RAP_ENSG00000196083',\n",
       "  'HLA-G_ENSG00000204632',\n",
       "  'VGLL3_ENSG00000206538'],\n",
       " 'SCT': ['KMO_ENSG00000117009',\n",
       "  'EPS8L1_ENSG00000131037',\n",
       "  'CYP19A1_ENSG00000137869',\n",
       "  'SERPINB2_ENSG00000197632',\n",
       "  'ERVFRD-1_ENSG00000244476',\n",
       "  'LGALS16_ENSG00000249861']}"
      ]
     },
     "execution_count": 25,
     "metadata": {},
     "output_type": "execute_result"
    }
   ],
   "source": [
    "degDict_ensg = {}\n",
    "for i in degDict:\n",
    "    degDict_ensg[i] = adata.var[adata.var[\"gene\"].isin(degDict[i])].index.tolist()\n",
    "    \n",
    "degDict_ensg"
   ]
  },
  {
   "cell_type": "code",
   "execution_count": 26,
   "metadata": {},
   "outputs": [
    {
     "data": {
      "text/plain": [
       "{'EVT': '#39A0ED', 'SCT': '#F0BCD4'}"
      ]
     },
     "execution_count": 26,
     "metadata": {},
     "output_type": "execute_result"
    }
   ],
   "source": [
    "cell_pal"
   ]
  },
  {
   "cell_type": "code",
   "execution_count": 27,
   "metadata": {},
   "outputs": [
    {
     "data": {
      "text/html": [
       "<svg  width=\"110\" height=\"55\"><rect x=\"0\" y=\"0\" width=\"55\" height=\"55\" style=\"fill:#39a0ed;stroke-width:2;stroke:rgb(255,255,255)\"/><rect x=\"55\" y=\"0\" width=\"55\" height=\"55\" style=\"fill:#f0bcd4;stroke-width:2;stroke:rgb(255,255,255)\"/></svg>"
      ],
      "text/plain": [
       "[(0.2235294117647059, 0.6274509803921569, 0.9294117647058824),\n",
       " (0.9411764705882353, 0.7372549019607844, 0.8313725490196079)]"
      ]
     },
     "execution_count": 27,
     "metadata": {},
     "output_type": "execute_result"
    }
   ],
   "source": [
    "sns.color_palette(list(cell_pal.values()))"
   ]
  },
  {
   "cell_type": "code",
   "execution_count": 28,
   "metadata": {},
   "outputs": [
    {
     "data": {
      "text/plain": [
       "['EVT', 'SCT']"
      ]
     },
     "execution_count": 28,
     "metadata": {},
     "output_type": "execute_result"
    }
   ],
   "source": [
    "list(cell_pal.keys())"
   ]
  },
  {
   "cell_type": "code",
   "execution_count": 29,
   "metadata": {},
   "outputs": [
    {
     "data": {
      "text/plain": [
       "'/Users/kayaneh/Documents/deconvolution/projectcode/fig2/extendedData6'"
      ]
     },
     "execution_count": 29,
     "metadata": {},
     "output_type": "execute_result"
    }
   ],
   "source": [
    "os.getcwd()"
   ]
  },
  {
   "cell_type": "code",
   "execution_count": 31,
   "metadata": {},
   "outputs": [
    {
     "name": "stdout",
     "output_type": "stream",
     "text": [
      "WARNING: saving figure to file figures/stacked_violin_placenta_signature_tiechmann_03142021.pdf\n"
     ]
    },
    {
     "data": {
      "image/png": "[encoded data removed]",
      "text/plain": [
       "<Figure size 534.24x550.8 with 21 Axes>"
      ]
     },
     "metadata": {
      "needs_background": "light"
     },
     "output_type": "display_data"
    }
   ],
   "source": [
    "sc.pl.stacked_violin(adata, degDict_ensg,\n",
    "                     color = \"#1b4965\",\n",
    "                     groupby = cellObsCol,\n",
    "                    save = \"placenta_signature_tiechmann_03142021.pdf\")"
   ]
  },
  {
   "cell_type": "code",
   "execution_count": 32,
   "metadata": {},
   "outputs": [
    {
     "name": "stdout",
     "output_type": "stream",
     "text": [
      "\u001b[H\u001b[2J"
     ]
    }
   ],
   "source": [
    "clear all"
   ]
  },
  {
   "cell_type": "code",
   "execution_count": null,
   "metadata": {},
   "outputs": [],
   "source": []
  },
  {
   "cell_type": "code",
   "execution_count": null,
   "metadata": {},
   "outputs": [],
   "source": []
  }
 ],
 "metadata": {
  "kernelspec": {
   "display_name": "Python 3",
   "language": "python",
   "name": "python3"
  },
  "language_info": {
   "codemirror_mode": {
    "name": "ipython",
    "version": 3
   },
   "file_extension": ".py",
   "mimetype": "text/x-python",
   "name": "python",
   "nbconvert_exporter": "python",
   "pygments_lexer": "ipython3",
   "version": "3.6.12"
  }
 },
 "nbformat": 4,
 "nbformat_minor": 4
}
