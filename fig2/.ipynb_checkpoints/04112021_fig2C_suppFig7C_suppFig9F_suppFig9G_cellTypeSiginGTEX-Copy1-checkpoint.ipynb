{
 "cells": [
  {
   "cell_type": "code",
   "execution_count": 1,
   "metadata": {},
   "outputs": [],
   "source": [
    "import numpy as np\n",
    "import pandas as pd\n",
    "import scanpy as sc\n",
    "\n",
    "import matplotlib.pyplot as plt\n",
    "import seaborn as sns\n",
    "import matplotlib as mpl\n",
    "\n",
    "import os\n",
    "\n",
    "#For editable text. Except latex text is still shapes\n",
    "mpl.rcParams['pdf.fonttype'] = 42\n",
    "mpl.rcParams['ps.fonttype'] = 42\n",
    "sns.set_style(\"whitegrid\")\n",
    "font = {'size' : 6}\n",
    "lines = {'linewidth' : 0.5}\n",
    "fig = {'figsize' : (2.5, 1.5)}\n",
    "mpl.rc('font', **font)\n",
    "mpl.rc('lines', **lines)\n",
    "mpl.rc('figure', **fig)\n",
    "\n",
    "#Set style\n",
    "sns.set(style = \"whitegrid\", palette=\"pastel\", color_codes=True)\n",
    "\n",
    "# for skv: locally -- /figures/fig2/04112021_sigInGTEX_allTiss.ipynb"
   ]
  },
  {
   "cell_type": "code",
   "execution_count": 2,
   "metadata": {},
   "outputs": [],
   "source": [
    "figEnd = \"_05102021.pdf\""
   ]
  },
  {
   "cell_type": "code",
   "execution_count": 3,
   "metadata": {},
   "outputs": [],
   "source": [
    "def save_figure_pdf(fig, path_to_save):\n",
    "\t'''\n",
    "\tUtility fxn to save a figure without having to retype all the required options.\n",
    "\tInput:\n",
    "\t\tfig - a matplotlib.pyplot.figure instance with the figure you'd like to save\n",
    "\t\tpath_to_save - the path you'd like to save the figure to\n",
    "\tReturns: Nothing but there should now be a pdf version in 300 dpi with a transparent bkg at path_to_save\n",
    "\t'''\n",
    "\tfig.savefig(path_to_save, dpi = 300, bbox_inches = 'tight', transparent = True)"
   ]
  },
  {
   "cell_type": "code",
   "execution_count": 4,
   "metadata": {},
   "outputs": [],
   "source": [
    "sig = pd.read_csv(\"../signatures_git/cellTypeSigs_inGTEx_04112021.csv\", sep = \",\", index_col = 0)\n",
    "sig.columns = [i.split(\"-\")[0] for i in sig.columns]\n",
    "\n",
    "gtexTiss = np.unique(sig.index.tolist())"
   ]
  },
  {
   "cell_type": "code",
   "execution_count": 5,
   "metadata": {},
   "outputs": [
    {
     "data": {
      "text/plain": [
       "(85, 27, 4, 27)"
      ]
     },
     "execution_count": 5,
     "metadata": {},
     "output_type": "execute_result"
    }
   ],
   "source": [
    "sig[sig.index == \"Kidney - Cortex\"].shape + sig[sig.index == \"Kidney - Medulla\"].shape"
   ]
  },
  {
   "cell_type": "code",
   "execution_count": 6,
   "metadata": {},
   "outputs": [],
   "source": [
    "parentTiss = {}\n",
    "parentTiss['Brain'] = ['Ast', 'Ex', 'In',  'Oli', 'Opc'] # removed 'Mic'\n",
    "\n",
    "parentTiss[\"Placenta\"] = [\"EVT\", \"SCT\"]\n",
    "\n",
    "parentTiss[\"Kidney\"] = ['Proximal tubule']\n",
    "                       #['Podocyte', ]\n",
    "\n",
    "parentTiss[\"Liver\"] = ['Hepatocytes']\n",
    "\n",
    "\n",
    "\n",
    "parentTiss[\"Heart\"] = [\"Atrial_Cardiomyocyte\", \"Ventricular_Cardiomyocyte\"]"
   ]
  },
  {
   "cell_type": "code",
   "execution_count": 7,
   "metadata": {},
   "outputs": [
    {
     "data": {
      "text/plain": [
       "{'Brain': ['Ast', 'Ex', 'In', 'Oli', 'Opc'],\n",
       " 'Placenta': ['EVT', 'SCT'],\n",
       " 'Kidney': ['Proximal tubule'],\n",
       " 'Liver': ['Hepatocytes'],\n",
       " 'Heart': ['Atrial_Cardiomyocyte', 'Ventricular_Cardiomyocyte']}"
      ]
     },
     "execution_count": 7,
     "metadata": {},
     "output_type": "execute_result"
    }
   ],
   "source": [
    "parentTiss"
   ]
  },
  {
   "cell_type": "markdown",
   "metadata": {},
   "source": [
    "Mathys samples came from the prefrontal cortex. so my plan now is just to use that and compare to NOT brain tissues in GTEx\n",
    "\n",
    "that one is called 'Brain - Frontal Cortex (BA9)' in GTEx data"
   ]
  },
  {
   "cell_type": "code",
   "execution_count": 8,
   "metadata": {},
   "outputs": [],
   "source": [
    "prefrontCortex = 'Brain - Frontal Cortex (BA9)'"
   ]
  },
  {
   "cell_type": "code",
   "execution_count": 9,
   "metadata": {},
   "outputs": [
    {
     "data": {
      "text/html": [
       "<svg  width=\"110\" height=\"55\"><rect x=\"0\" y=\"0\" width=\"55\" height=\"55\" style=\"fill:#39a0ed;stroke-width:2;stroke:rgb(255,255,255)\"/><rect x=\"55\" y=\"0\" width=\"55\" height=\"55\" style=\"fill:#f0bcd4;stroke-width:2;stroke:rgb(255,255,255)\"/></svg>"
      ],
      "text/plain": [
       "[(0.2235294117647059, 0.6274509803921569, 0.9294117647058824),\n",
       " (0.9411764705882353, 0.7372549019607844, 0.8313725490196079)]"
      ]
     },
     "execution_count": 9,
     "metadata": {},
     "output_type": "execute_result"
    }
   ],
   "source": [
    "heart_pal = {\"Atrial Cardiomyocyte\":\"#004E98\",\n",
    "                 \"Ventricular Cardiomyocyte\":\"#52D1DC\"}\n",
    "\n",
    "placenta_pal = {\"Extravillous Trophoblast\": \"#39A0ED\",\n",
    "    \"Syncytiotrophoblast\": \"#F0BCD4\"}\n",
    "\n",
    "kidney_pal = {}\n",
    "kidney_pal[\"Proximal tubule\"] = \"#62b6cb\"\n",
    "\n",
    "liver_pal = {'Hepatocytes': '#893168'}\n",
    "\n",
    "brain_pal = {'Astrocyte': '#96C9DC',\n",
    " 'Excitatory Neuron': '#fb5607',\n",
    " 'Inhibitory Neuron': '#ff006e',\n",
    " 'Oligodendrocyte': '#8338ec',\n",
    " 'Oligodendrocyte Precursor Cell': '#3a86ff'}\n",
    "\n",
    "sns.color_palette(list(placenta_pal.values()))"
   ]
  },
  {
   "cell_type": "code",
   "execution_count": 22,
   "metadata": {},
   "outputs": [],
   "source": [
    "df = pd.DataFrame()\n",
    "fname_ed6 = \"/Users/kayaneh/Documents/deconvolution/aip/cfrna_nbt_submission/extendedData6_brainLiver.xlsx\"\n",
    "df.to_excel(fname_ed6)\n",
    "\n",
    "df = pd.DataFrame()\n",
    "fname_ed8 = \"/Users/kayaneh/Documents/deconvolution/aip/cfrna_nbt_submission/extendedData8_kidneyPlacenta.xlsx\"\n",
    "df.to_excel(fname_ed8)"
   ]
  },
  {
   "cell_type": "code",
   "execution_count": 39,
   "metadata": {},
   "outputs": [],
   "source": [
    "def plotLFCThisTiss(cell_pal, relCells, parentT, fullNames):\n",
    "    \n",
    "    allDF = pd.DataFrame()\n",
    "    parentTissOnly = pd.DataFrame()\n",
    "    notParentTissDF = pd.DataFrame()\n",
    "    \n",
    "    # first, go through the relevant cell types and get their aggregatae expression\n",
    "    for cell in relCells:\n",
    "        cellDF = pd.DataFrame(columns = [\"index\", \"score\"])\n",
    "        relTiss = [i for i in gtexTiss if parentT in i]\n",
    "\n",
    "        thisCell = sig[cell].loc[relTiss].to_frame().reset_index()\n",
    "   \n",
    "        thisCell[\"index\"] = [i + \"-\" + cell for i in thisCell[\"index\"]]\n",
    "        thisCell[\"index\"] = cell + \"-\" + parentT\n",
    "        \n",
    "        rest = sig[cell].loc[np.setdiff1d(gtexTiss, relTiss)].to_frame().reset_index()\n",
    "\n",
    "        rest[\"index\"] = [\"NOT \" + cell] * rest.shape[0]\n",
    "        allTogether = pd.concat([thisCell, rest], axis = 0)\n",
    "        allTogether.columns = [\"index\", \"score\"]\n",
    "        cellDF = pd.concat([cellDF, allTogether])\n",
    "        \n",
    "        thisCell.columns = [\"index\", \"score\"]\n",
    "        rest.columns = [\"index\", \"score\"]\n",
    "        \n",
    "        parentTissOnly = pd.concat([parentTissOnly, thisCell], axis = 0)\n",
    "        notParentTissDF = pd.concat([notParentTissDF, rest], axis = 0)\n",
    "        \n",
    "        allDF = pd.concat([allDF, cellDF], axis = 0)\n",
    "    \n",
    "   \n",
    "    # get the averages of the not GTEx tissues\n",
    "    cols = [\"celltype\", \"score\"]\n",
    "    averages = pd.DataFrame(columns = cols)\n",
    "    for i in np.unique(notParentTissDF[\"index\"]):\n",
    "        thisCellAvg = notParentTissDF[notParentTissDF[\"index\"] == i][\"score\"].mean()\n",
    "        notTissAvgDF = pd.DataFrame([[i, thisCellAvg]], columns = cols )\n",
    "        averages = averages.append(notTissAvgDF)\n",
    "    \n",
    "    \n",
    "    \n",
    "    \n",
    "    \n",
    "    # fix abbreviations of cell type naming\n",
    "    if parentT == \"Placenta\":\n",
    "        abbreviations = [\"EVT\", \"SCT\"]  \n",
    "        fullNames = {}\n",
    "        fullNames['Extravillous Trophoblast'] = \"EVT\"\n",
    "        fullNames['Syncytiotrophoblast'] = \"SCT\"\n",
    "   \n",
    "\n",
    "    parentTissOnly[\"index\"] = [fullNames[i] for i in parentTissOnly[\"index\"]]\n",
    "        \n",
    "    \n",
    "    print(\"parentTissOnly.shape \", parentTissOnly.shape)\n",
    "    \n",
    "    # now compute log fold changes\n",
    "    lfcDF = pd.DataFrame(columns = [\"score\", \"celltype\"])\n",
    "    if parentT != \"Placenta\":\n",
    "        for i, cell in enumerate(np.unique(parentTissOnly[\"index\"])):\n",
    "            relSamps = (parentTissOnly[parentTissOnly[\"index\"] == cell][\"score\"] - averages.iloc[i][\"score\"]).to_frame()\n",
    "            relSamps[\"celltype\"] = cell\n",
    "            lfcDF = lfcDF.append(relSamps)\n",
    "        print(\"LFC DF \", lfcDF.groupby([\"celltype\"]).mean())\n",
    "        print('lfcDF.shape: ', lfcDF.shape)\n",
    "        plt.figure(figsize = (6, 6)) \n",
    "            \n",
    "        sns.boxplot(data = lfcDF, x = \"celltype\", y = \"score\", palette = cell_pal)\n",
    "        #sns.swarmplot(data = lfcDF, x = \"celltype\", y = \"score\", \n",
    "        #             color = \"0.25\", size = 4)\n",
    "        plt.ylabel(\"Log Fold Change Intensity in \" + parentT + \"Tissue\")\n",
    "        plt.xlabel(\"\")\n",
    "        plt.xticks(rotation = \"90\")\n",
    "        plt.title(\"LFC plot\")\n",
    "        #save_figure_pdf(plt, figSavePath + parentT + \"_LFC_inGTEX\" + figEnd)\n",
    "        print(np.unique(lfcDF['celltype'], return_counts = True))\n",
    "        if parentT == \"Liver\" or parentT == \"Brain\":\n",
    "            with pd.ExcelWriter(fname_ed6, mode = 'a') as writer:\n",
    "                lfcDF.to_excel(writer, sheet_name = parentT, engine = 'xlsxwriter')\n",
    "        if parentT == \"Kidney\":\n",
    "            with pd.ExcelWriter(fname_ed8, mode = 'a') as writer:\n",
    "                lfcDF.to_excel(writer, sheet_name = parentT, engine = 'xlsxwriter')\n",
    "            \n",
    "    # since placenta is not in GTEx, just plot the sum of expression of the profile\n",
    "    # in all the other tissues and show that it's true\n",
    "    else:\n",
    "        placenta_pal = {\"NOT EVT\": \"#39A0ED\", \"NOT SCT\": \"#F0BCD4\"}\n",
    "        plt.figure(figsize = (6, 6)) \n",
    "        print('notParentTissDF.shape ', notParentTissDF.shape)\n",
    "        sns.boxplot(data = notParentTissDF,\n",
    "                    x = \"index\", y = \"score\", palette = placenta_pal)\n",
    "        plt.ylabel(\"Intensity in non-\" + parentT + \"al Tissues\")\n",
    "        plt.xlabel(\"\")\n",
    "        plt.title(\"Aggregate Sum of Log CPM Intensity of Placental Cell Type Profiles\")\n",
    "        #save_figure_pdf(plt, figSavePath + \"placenta_inGTEX\" + figEnd)\n",
    "        \n",
    "        if parentT == \"Placenta\":\n",
    "            with pd.ExcelWriter(fname_ed8, mode = 'a') as writer:\n",
    "                notParentTissDF.to_excel(writer, sheet_name = parentT, engine = 'xlsxwriter')\n",
    "        "
   ]
  },
  {
   "cell_type": "code",
   "execution_count": 40,
   "metadata": {},
   "outputs": [],
   "source": [
    "kidney_fullNames = {}\n",
    "#kidney_fullNames['Podocyte-Kidney'] = 'Podocyte'\n",
    "kidney_fullNames['Proximal tubule-Kidney'] = 'Proximal tubule'"
   ]
  },
  {
   "cell_type": "code",
   "execution_count": 41,
   "metadata": {},
   "outputs": [
    {
     "name": "stdout",
     "output_type": "stream",
     "text": [
      "parentTissOnly.shape  (89, 2)\n",
      "LFC DF                       score\n",
      "celltype                  \n",
      "Proximal tubule  33.902952\n",
      "lfcDF.shape:  (89, 2)\n",
      "(array(['Proximal tubule'], dtype=object), array([89]))\n"
     ]
    },
    {
     "data": {
      "image/png": "[encoded data removed]",
      "text/plain": [
       "<Figure size 432x432 with 1 Axes>"
      ]
     },
     "metadata": {
      "needs_background": "light"
     },
     "output_type": "display_data"
    }
   ],
   "source": [
    "plotLFCThisTiss(kidney_pal, parentTiss[\"Kidney\"], \"Kidney\", kidney_fullNames)"
   ]
  },
  {
   "cell_type": "code",
   "execution_count": 42,
   "metadata": {},
   "outputs": [],
   "source": [
    "brain_fullNames = {}\n",
    "brain_fullNames['Ast-Brain'] = \"Astrocyte\" \n",
    "brain_fullNames['Ex-Brain'] = 'Excitatory Neuron' \n",
    "brain_fullNames['In-Brain'] = 'Inhibitory Neuron' \n",
    "brain_fullNames['Oli-Brain'] = 'Oligodendrocyte'\n",
    "brain_fullNames['Opc-Brain'] = \"Oligodendrocyte Precursor Cell\""
   ]
  },
  {
   "cell_type": "code",
   "execution_count": 43,
   "metadata": {},
   "outputs": [
    {
     "name": "stdout",
     "output_type": "stream",
     "text": [
      "parentTissOnly.shape  (13210, 2)\n",
      "LFC DF                                      score\n",
      "celltype                                 \n",
      "Astrocyte                       14.270473\n",
      "Excitatory Neuron               37.432684\n",
      "Inhibitory Neuron                1.991689\n",
      "Oligodendrocyte                 19.993927\n",
      "Oligodendrocyte Precursor Cell   6.129218\n",
      "lfcDF.shape:  (13210, 2)\n",
      "(array(['Astrocyte', 'Excitatory Neuron', 'Inhibitory Neuron',\n",
      "       'Oligodendrocyte', 'Oligodendrocyte Precursor Cell'], dtype=object), array([2642, 2642, 2642, 2642, 2642]))\n"
     ]
    },
    {
     "data": {
      "image/png": "[encoded data removed]",
      "text/plain": [
       "<Figure size 432x432 with 1 Axes>"
      ]
     },
     "metadata": {
      "needs_background": "light"
     },
     "output_type": "display_data"
    }
   ],
   "source": [
    "plotLFCThisTiss(brain_pal, parentTiss[\"Brain\"], \"Brain\", brain_fullNames)"
   ]
  },
  {
   "cell_type": "code",
   "execution_count": 32,
   "metadata": {},
   "outputs": [
    {
     "name": "stdout",
     "output_type": "stream",
     "text": [
      "parentTissOnly.shape  (0, 2)\n",
      "notParentTissDF.shape  (34764, 2)\n"
     ]
    },
    {
     "data": {
      "image/png": "[encoded data removed]",
      "text/plain": [
       "<Figure size 432x432 with 1 Axes>"
      ]
     },
     "metadata": {
      "needs_background": "light"
     },
     "output_type": "display_data"
    }
   ],
   "source": [
    "plotLFCThisTiss(placenta_pal, parentTiss[\"Placenta\"], \"Placenta\", {})"
   ]
  },
  {
   "cell_type": "code",
   "execution_count": 29,
   "metadata": {},
   "outputs": [],
   "source": [
    "liver_fullNames = {}\n",
    "liver_fullNames[\"Hepatocytes-Liver\"] = \"Hepatocytes\""
   ]
  },
  {
   "cell_type": "code",
   "execution_count": 30,
   "metadata": {},
   "outputs": [
    {
     "name": "stdout",
     "output_type": "stream",
     "text": [
      "parentTissOnly.shape  (226, 2)\n",
      "LFC DF                    score\n",
      "celltype               \n",
      "Hepatocytes  202.635421\n",
      "lfcDF.shape:  (226, 2)\n"
     ]
    },
    {
     "data": {
      "image/png": "[encoded data removed]",
      "text/plain": [
       "<Figure size 432x432 with 1 Axes>"
      ]
     },
     "metadata": {
      "needs_background": "light"
     },
     "output_type": "display_data"
    }
   ],
   "source": [
    "plotLFCThisTiss(liver_pal, parentTiss[\"Liver\"], \"Liver\", liver_fullNames)"
   ]
  },
  {
   "cell_type": "code",
   "execution_count": 52,
   "metadata": {},
   "outputs": [],
   "source": [
    "heart_fullNames = {}\n",
    "heart_fullNames['Atrial_Cardiomyocyte-Heart'] = 'Atrial Cardiomyocyte'\n",
    "heart_fullNames['Ventricular_Cardiomyocyte-Heart'] = \"Ventricular Cardiomyocyte\""
   ]
  },
  {
   "cell_type": "code",
   "execution_count": 53,
   "metadata": {},
   "outputs": [
    {
     "data": {
      "text/plain": [
       "0.21523314923713457"
      ]
     },
     "execution_count": 53,
     "metadata": {},
     "output_type": "execute_result"
    }
   ],
   "source": [
    "sig.loc[[i for i in gtexTiss if \"Heart\" not in i]][\"Atrial_Cardiomyocyte\"].mean()"
   ]
  },
  {
   "cell_type": "code",
   "execution_count": 54,
   "metadata": {},
   "outputs": [
    {
     "name": "stdout",
     "output_type": "stream",
     "text": [
      "parentTissOnly.shape  (1722, 2)\n",
      "LFC DF                                score\n",
      "celltype                           \n",
      "Atrial Cardiomyocyte       7.431001\n",
      "Ventricular Cardiomyocyte  4.533369\n",
      "lfcDF.shape:  (1722, 2)\n"
     ]
    },
    {
     "data": {
      "image/png": "[encoded data removed]",
      "text/plain": [
       "<Figure size 432x432 with 1 Axes>"
      ]
     },
     "metadata": {},
     "output_type": "display_data"
    }
   ],
   "source": [
    "plotLFCThisTiss(heart_pal, parentTiss[\"Heart\"], \"Heart\", heart_fullNames)"
   ]
  },
  {
   "cell_type": "code",
   "execution_count": 55,
   "metadata": {},
   "outputs": [
    {
     "name": "stdout",
     "output_type": "stream",
     "text": [
      "\u001b[H\u001b[2J"
     ]
    }
   ],
   "source": [
    "clear all"
   ]
  },
  {
   "cell_type": "code",
   "execution_count": null,
   "metadata": {},
   "outputs": [],
   "source": []
  },
  {
   "cell_type": "code",
   "execution_count": null,
   "metadata": {},
   "outputs": [],
   "source": []
  }
 ],
 "metadata": {
  "kernelspec": {
   "display_name": "Python 3",
   "language": "python",
   "name": "python3"
  },
  "language_info": {
   "codemirror_mode": {
    "name": "ipython",
    "version": 3
   },
   "file_extension": ".py",
   "mimetype": "text/x-python",
   "name": "python",
   "nbconvert_exporter": "python",
   "pygments_lexer": "ipython3",
   "version": "3.6.12"
  }
 },
 "nbformat": 4,
 "nbformat_minor": 4
}
