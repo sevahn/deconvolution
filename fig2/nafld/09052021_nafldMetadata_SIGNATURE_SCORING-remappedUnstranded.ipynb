{
 "cells": [
  {
   "cell_type": "code",
   "execution_count": 1,
   "metadata": {},
   "outputs": [
    {
     "name": "stderr",
     "output_type": "stream",
     "text": [
      "/Users/kayaneh/anaconda3/lib/python3.6/site-packages/statsmodels/tools/_testing.py:19: FutureWarning: pandas.util.testing is deprecated. Use the functions in the public API at pandas.testing instead.\n",
      "  import pandas.util.testing as tm\n"
     ]
    }
   ],
   "source": [
    "import numpy as np\n",
    "import pandas as pd\n",
    "\n",
    "import matplotlib.pyplot as plt\n",
    "import seaborn as sns\n",
    "import matplotlib as mpl\n",
    "\n",
    "#For editable text. Except latex text is still shapes sadly\n",
    "mpl.rcParams['pdf.fonttype'] = 42\n",
    "mpl.rcParams['ps.fonttype'] = 42\n",
    "sns.set_style(\"whitegrid\")\n",
    "font = {'size' : 6}\n",
    "lines = {'linewidth' : 0.5}\n",
    "fig = {'figsize' : (2.5, 1.5)}\n",
    "mpl.rc('font', **font)\n",
    "mpl.rc('lines', **lines)\n",
    "mpl.rc('figure', **fig)\n",
    "#Set style\n",
    "sns.set(style=\"whitegrid\", palette=\"pastel\", color_codes=True)\n",
    "\n",
    "from matplotlib.colors import ListedColormap\n",
    "\n",
    "from scipy.stats import mannwhitneyu\n",
    "import statsmodels.stats.multitest as smt # for BH multiple hypothesis testing\n",
    "\n",
    "np.random.seed(31)"
   ]
  },
  {
   "cell_type": "code",
   "execution_count": 2,
   "metadata": {},
   "outputs": [],
   "source": [
    "df = pd.DataFrame()\n",
    "sourceDataPath = \"/Users/kayaneh/Documents/deconvolution/aip/source_data/fig2_sourceData.xlsx\"\n",
    "df.to_excel(sourceDataPath)"
   ]
  },
  {
   "cell_type": "code",
   "execution_count": 3,
   "metadata": {},
   "outputs": [],
   "source": [
    "figSavePath = \"/Users/kayaneh/Documents/deconvolution/figures/full_figure/maintext_revision1/\"\n",
    "\n",
    "figEnd = \"_09232021.pdf\""
   ]
  },
  {
   "cell_type": "code",
   "execution_count": 4,
   "metadata": {},
   "outputs": [],
   "source": [
    "def save_figure_pdf(fig, path_to_save):\n",
    "\t'''\n",
    "\tUtility fxn to save a figure without having to retype all the required options.\n",
    "\tInput:\n",
    "\t\tfig - a matplotlib.pyplot.figure instance with the figure you'd like to save\n",
    "\t\tpath_to_save - the path you'd like to save the figure to\n",
    "\tReturns: Nothing but there should now be a pdf version in 300 dpi with a transparent bkg at path_to_save\n",
    "\t'''\n",
    "\tfig.savefig(path_to_save, dpi = 300, bbox_inches = 'tight', transparent = True)"
   ]
  },
  {
   "cell_type": "code",
   "execution_count": 5,
   "metadata": {},
   "outputs": [
    {
     "name": "stdout",
     "output_type": "stream",
     "text": [
      "(359, 31)\n"
     ]
    }
   ],
   "source": [
    "# import the counts table that are the CPM-TMM values\n",
    "\n",
    "\n",
    "cts = pd.read_csv(\"~/Documents/deconvolution/nafld/remapped_unstranded/nafld-CPMTMM_serumVol_09052021.csv\",\n",
    "                index_col = [0,1])\n",
    "\n",
    "\n",
    "# import metadata and just do the good ones based on what Shu said\n",
    "metadat = pd.read_csv(\"~/Documents/deconvolution/nafld/SraRunTable-2.txt\",\n",
    "                     index_col = 0)\n",
    "\n",
    "\n",
    "metadat = metadat.loc[cts.columns.tolist()]\n",
    "print(metadat.shape)"
   ]
  },
  {
   "cell_type": "code",
   "execution_count": 6,
   "metadata": {},
   "outputs": [],
   "source": [
    "shuMeta = pd.read_excel(\"~/Documents/deconvolution/nafld/Liver-fibrosis clinical information_diabetes.xlsx\",\n",
    "                         index_col = 0)\n",
    "\n",
    "# resolve the extraneous spaces in the disease labels of shuMeta\n",
    "shuMeta[\"disease\"] = [i.split(\" \")[0] for i in shuMeta[\"disease\"]]"
   ]
  },
  {
   "cell_type": "code",
   "execution_count": 7,
   "metadata": {},
   "outputs": [
    {
     "name": "stdout",
     "output_type": "stream",
     "text": [
      "[ True]\n"
     ]
    }
   ],
   "source": [
    "# sort metadat by sample names and get shu meta in the same order\n",
    "metadat.sort_values(by = \"Sample Name\", inplace = True)\n",
    "\n",
    "shuMeta = shuMeta.loc[metadat[\"Sample Name\"].values]\n",
    "\n",
    "# good stuff, they agree\n",
    "print(np.unique(shuMeta.index == metadat[\"Sample Name\"]))\n",
    "\n",
    "# add the SRR codes to shuMeta\n",
    "shuMeta[\"SRR\"] = metadat.index.tolist()\n",
    "shuMeta[\"Biolog Rep\"] = [i.split(\"-\")[0] for i in shuMeta.index.tolist()]\n",
    "\n",
    "# make it like the original SRA code and set the index on SRA codes\n",
    "shuMeta.set_index([\"SRR\"], inplace = True)"
   ]
  },
  {
   "cell_type": "code",
   "execution_count": 8,
   "metadata": {},
   "outputs": [],
   "source": [
    "# subset the metadata to only the samples passing QC\n",
    "shuMeta = shuMeta.loc[cts.columns]"
   ]
  },
  {
   "cell_type": "code",
   "execution_count": 9,
   "metadata": {},
   "outputs": [
    {
     "name": "stdout",
     "output_type": "stream",
     "text": [
      "['Indiana University' 'San Diego Blood Bank' 'University of Florida']\n",
      "['NAFLD' 'NASH']\n",
      "['Healthy']\n",
      "['NAFLD' 'NASH']\n"
     ]
    }
   ],
   "source": [
    "# get the centers\n",
    "print(np.unique(shuMeta[\"Center\"]))\n",
    "\n",
    "print(np.unique(shuMeta[shuMeta[\"Center\"] == \"University of Florida\"]['disease']))\n",
    "\n",
    "\n",
    "print(np.unique(shuMeta[shuMeta[\"Center\"] == \"San Diego Blood Bank\"]['disease']))\n",
    "\n",
    "# NAFLD and NASH\n",
    "print(np.unique(shuMeta[shuMeta[\"Center\"] == \"Indiana University\"]['disease']))"
   ]
  },
  {
   "cell_type": "markdown",
   "metadata": {},
   "source": [
    "good stuff, looks like disease status is not totally conflated with batch. \n",
    "I'll zero center and do the comparison since the healthy came from a different center."
   ]
  },
  {
   "cell_type": "markdown",
   "metadata": {},
   "source": [
    "# do signature scoring for liver and adipocyte"
   ]
  },
  {
   "cell_type": "code",
   "execution_count": 10,
   "metadata": {},
   "outputs": [
    {
     "name": "stdout",
     "output_type": "stream",
     "text": [
      "(225, 12)\n"
     ]
    }
   ],
   "source": [
    "# add a column to metadata stripping the technical replicate ID\n",
    "# so that all biological replicates are grouped together\n",
    "\n",
    "# segment metadat to those samples passing QC\n",
    "relMetadat = shuMeta.loc[cts.columns.tolist()]\n",
    "\n",
    "\n",
    "relMetadat = relMetadat.set_index([\"Biolog Rep\"])\n",
    "\n",
    "#relMetadat = shuMeta.set_index([\"Biolog Rep\"])\n",
    "relMetadat = relMetadat[~relMetadat.index.duplicated(keep='first')]\n",
    "print(relMetadat.shape)\n",
    "\n",
    "\n",
    "relMetadat = relMetadat[[\"*age\", \"*sex\", \"disease\", \"disease_stage\", \"Diabetes\", \"Center\"]]"
   ]
  },
  {
   "cell_type": "code",
   "execution_count": 11,
   "metadata": {},
   "outputs": [],
   "source": [
    "allReplicates = {}\n",
    "for samp in np.unique(shuMeta[\"Biolog Rep\"]):\n",
    "    # pull the SRR codes corresponding to a given sample ID\n",
    "    thisSampSRR = shuMeta[shuMeta[\"Biolog Rep\"] == samp].index.tolist()\n",
    "    allReplicates[samp] = thisSampSRR"
   ]
  },
  {
   "cell_type": "code",
   "execution_count": 12,
   "metadata": {},
   "outputs": [],
   "source": [
    "# get the average expression of the genes\n",
    "biologRepGeneAvgs = pd.DataFrame()\n",
    "\n",
    "for biologRep in allReplicates:\n",
    "    technicalReplicates = allReplicates[biologRep]\n",
    "    avgGeneCtsAcrossReps = cts[technicalReplicates].mean(axis = 1).to_frame()\n",
    "    avgGeneCtsAcrossReps.columns = [biologRep]\n",
    "    biologRepGeneAvgs = pd.concat([avgGeneCtsAcrossReps, biologRepGeneAvgs], \n",
    "                                  axis = 1)"
   ]
  },
  {
   "cell_type": "code",
   "execution_count": 13,
   "metadata": {},
   "outputs": [],
   "source": [
    "liverSigs = pd.read_csv(\"~/Documents/deconvolution/livertox/liversig/gini6_perCluster_hepatocyte_12052020.csv\",\n",
    "                        sep = \",\", index_col = 0)\n",
    "kidneySigs = pd.read_csv(\"~/Documents/deconvolution/fig3_git/gini6_perCluster_kidney_12072020.csv\",\n",
    "                        index_col = 0)"
   ]
  },
  {
   "cell_type": "code",
   "execution_count": 14,
   "metadata": {},
   "outputs": [],
   "source": [
    "liverDict = {}\n",
    "for celltype in liverSigs:\n",
    "    genes = liverSigs[celltype].dropna().index.tolist()\n",
    "    name = celltype.split(\"-\")[0]\n",
    "    liverDict[name] = genes\n",
    "    \n",
    "for celltype in kidneySigs:\n",
    "    genes = kidneySigs[celltype].dropna().index.tolist()\n",
    "    name = celltype.split(\"-\")[0]\n",
    "    liverDict[name] = genes\n",
    "    "
   ]
  },
  {
   "cell_type": "code",
   "execution_count": 15,
   "metadata": {},
   "outputs": [],
   "source": [
    "# returns df cellTypeSigs, which is a samples x cell types DF\n",
    "def sigScore(df, markerDict):\n",
    "    cellTypeSigs = pd.DataFrame()\n",
    "    for ct in markerDict:\n",
    "        cellTypeGenes = markerDict[ct]\n",
    "        res = df.loc[df.index.get_level_values(1).isin(cellTypeGenes)].sum(axis = 0)\n",
    "        cellTypeSigs[ct] = res\n",
    "    return(cellTypeSigs)"
   ]
  },
  {
   "cell_type": "code",
   "execution_count": 16,
   "metadata": {},
   "outputs": [
    {
     "data": {
      "text/plain": [
       "'cellTypeSigs = pd.DataFrame()\\nfor ct in liverDict:\\n    cellTypeGenes = liverDict[ct]\\n    res = zeroCenter.loc[zeroCenter.index.get_level_values(1).isin(cellTypeGenes)].sum(axis = 0)\\n    cellTypeSigs[ct] = res'"
      ]
     },
     "execution_count": 16,
     "metadata": {},
     "output_type": "execute_result"
    }
   ],
   "source": [
    "\"\"\"cellTypeSigs = pd.DataFrame()\n",
    "for ct in liverDict:\n",
    "    cellTypeGenes = liverDict[ct]\n",
    "    res = zeroCenter.loc[zeroCenter.index.get_level_values(1).isin(cellTypeGenes)].sum(axis = 0)\n",
    "    cellTypeSigs[ct] = res\"\"\""
   ]
  },
  {
   "cell_type": "code",
   "execution_count": 17,
   "metadata": {},
   "outputs": [],
   "source": [
    "# let's see how we do better than random\n",
    "biologRepGeneAvgs = biologRepGeneAvgs.loc[[i for i in biologRepGeneAvgs.index if \"ERCC\" not in i[0]]]\n",
    "\n",
    "# drop the not aligned at the bottom\n",
    "biologRepGeneAvgs = biologRepGeneAvgs.iloc[:-6,:]\n",
    "\n",
    "# drop all genes that are zero\n",
    "biologRepGeneAvgs = biologRepGeneAvgs[biologRepGeneAvgs.any(axis = 1)]"
   ]
  },
  {
   "cell_type": "code",
   "execution_count": 18,
   "metadata": {},
   "outputs": [
    {
     "data": {
      "text/plain": [
       "(29947, 225)"
      ]
     },
     "execution_count": 18,
     "metadata": {},
     "output_type": "execute_result"
    }
   ],
   "source": [
    "biologRepGeneAvgs.shape"
   ]
  },
  {
   "cell_type": "code",
   "execution_count": 19,
   "metadata": {},
   "outputs": [],
   "source": [
    "# get the number of observations per disease\n",
    "diseases, numObs = np.unique(relMetadat[\"disease\"], return_counts = True)"
   ]
  },
  {
   "cell_type": "code",
   "execution_count": 20,
   "metadata": {},
   "outputs": [
    {
     "name": "stdout",
     "output_type": "stream",
     "text": [
      "diseases:  ['Healthy' 'NAFLD' 'NASH']  numObs  [ 16  46 163]\n"
     ]
    }
   ],
   "source": [
    "print(\"diseases: \", diseases, \" numObs \", numObs)"
   ]
  },
  {
   "cell_type": "markdown",
   "metadata": {},
   "source": [
    "# PERFORM THE SIGNATURE SCORING"
   ]
  },
  {
   "cell_type": "code",
   "execution_count": 21,
   "metadata": {},
   "outputs": [],
   "source": [
    "logCts = np.log(biologRepGeneAvgs + 1)"
   ]
  },
  {
   "cell_type": "code",
   "execution_count": 22,
   "metadata": {},
   "outputs": [],
   "source": [
    "hepCIS = sigScore(logCts, liverDict)"
   ]
  },
  {
   "cell_type": "code",
   "execution_count": 23,
   "metadata": {},
   "outputs": [],
   "source": [
    "hepCIS = hepCIS.join(relMetadat, rsuffix = \"Biolog Rep\")"
   ]
  },
  {
   "cell_type": "code",
   "execution_count": 24,
   "metadata": {},
   "outputs": [],
   "source": [
    "meltHepCIS = pd.melt(hepCIS, value_vars = hepCIS.columns[:-relMetadat.shape[1]],\n",
    "       id_vars = hepCIS.columns[-relMetadat.shape[1]:])"
   ]
  },
  {
   "cell_type": "code",
   "execution_count": 25,
   "metadata": {},
   "outputs": [],
   "source": [
    "hepMelt = meltHepCIS[meltHepCIS[\"variable\"] == \"Hepatocytes\"]"
   ]
  },
  {
   "cell_type": "code",
   "execution_count": 26,
   "metadata": {},
   "outputs": [
    {
     "data": {
      "text/html": [
       "<div>\n",
       "<style scoped>\n",
       "    .dataframe tbody tr th:only-of-type {\n",
       "        vertical-align: middle;\n",
       "    }\n",
       "\n",
       "    .dataframe tbody tr th {\n",
       "        vertical-align: top;\n",
       "    }\n",
       "\n",
       "    .dataframe thead th {\n",
       "        text-align: right;\n",
       "    }\n",
       "</style>\n",
       "<table border=\"1\" class=\"dataframe\">\n",
       "  <thead>\n",
       "    <tr style=\"text-align: right;\">\n",
       "      <th></th>\n",
       "      <th>*age</th>\n",
       "      <th>*sex</th>\n",
       "      <th>disease</th>\n",
       "      <th>disease_stage</th>\n",
       "      <th>Diabetes</th>\n",
       "      <th>Center</th>\n",
       "      <th>variable</th>\n",
       "      <th>value</th>\n",
       "    </tr>\n",
       "  </thead>\n",
       "  <tbody>\n",
       "    <tr>\n",
       "      <th>225</th>\n",
       "      <td>82</td>\n",
       "      <td>Male</td>\n",
       "      <td>Healthy</td>\n",
       "      <td>NaN</td>\n",
       "      <td>NaN</td>\n",
       "      <td>San Diego Blood Bank</td>\n",
       "      <td>Hepatocytes</td>\n",
       "      <td>224.995240</td>\n",
       "    </tr>\n",
       "    <tr>\n",
       "      <th>226</th>\n",
       "      <td>61</td>\n",
       "      <td>Male</td>\n",
       "      <td>Healthy</td>\n",
       "      <td>NaN</td>\n",
       "      <td>NaN</td>\n",
       "      <td>San Diego Blood Bank</td>\n",
       "      <td>Hepatocytes</td>\n",
       "      <td>146.591380</td>\n",
       "    </tr>\n",
       "    <tr>\n",
       "      <th>227</th>\n",
       "      <td>36</td>\n",
       "      <td>Female</td>\n",
       "      <td>Healthy</td>\n",
       "      <td>NaN</td>\n",
       "      <td>NaN</td>\n",
       "      <td>San Diego Blood Bank</td>\n",
       "      <td>Hepatocytes</td>\n",
       "      <td>135.508784</td>\n",
       "    </tr>\n",
       "    <tr>\n",
       "      <th>228</th>\n",
       "      <td>35</td>\n",
       "      <td>Female</td>\n",
       "      <td>NASH</td>\n",
       "      <td>F3</td>\n",
       "      <td>Yes</td>\n",
       "      <td>Indiana University</td>\n",
       "      <td>Hepatocytes</td>\n",
       "      <td>120.569800</td>\n",
       "    </tr>\n",
       "    <tr>\n",
       "      <th>229</th>\n",
       "      <td>62</td>\n",
       "      <td>Female</td>\n",
       "      <td>NASH</td>\n",
       "      <td>F4</td>\n",
       "      <td>Yes</td>\n",
       "      <td>Indiana University</td>\n",
       "      <td>Hepatocytes</td>\n",
       "      <td>170.644270</td>\n",
       "    </tr>\n",
       "    <tr>\n",
       "      <th>...</th>\n",
       "      <td>...</td>\n",
       "      <td>...</td>\n",
       "      <td>...</td>\n",
       "      <td>...</td>\n",
       "      <td>...</td>\n",
       "      <td>...</td>\n",
       "      <td>...</td>\n",
       "      <td>...</td>\n",
       "    </tr>\n",
       "    <tr>\n",
       "      <th>445</th>\n",
       "      <td>66</td>\n",
       "      <td>Female</td>\n",
       "      <td>NASH</td>\n",
       "      <td>F2</td>\n",
       "      <td>No</td>\n",
       "      <td>University of Florida</td>\n",
       "      <td>Hepatocytes</td>\n",
       "      <td>134.785551</td>\n",
       "    </tr>\n",
       "    <tr>\n",
       "      <th>446</th>\n",
       "      <td>58</td>\n",
       "      <td>Male</td>\n",
       "      <td>NASH</td>\n",
       "      <td>F4</td>\n",
       "      <td>No</td>\n",
       "      <td>University of Florida</td>\n",
       "      <td>Hepatocytes</td>\n",
       "      <td>208.738299</td>\n",
       "    </tr>\n",
       "    <tr>\n",
       "      <th>447</th>\n",
       "      <td>52</td>\n",
       "      <td>Female</td>\n",
       "      <td>NAFLD</td>\n",
       "      <td>F0</td>\n",
       "      <td>No</td>\n",
       "      <td>University of Florida</td>\n",
       "      <td>Hepatocytes</td>\n",
       "      <td>165.853113</td>\n",
       "    </tr>\n",
       "    <tr>\n",
       "      <th>448</th>\n",
       "      <td>50</td>\n",
       "      <td>Male</td>\n",
       "      <td>NASH</td>\n",
       "      <td>F4</td>\n",
       "      <td>No</td>\n",
       "      <td>University of Florida</td>\n",
       "      <td>Hepatocytes</td>\n",
       "      <td>251.831700</td>\n",
       "    </tr>\n",
       "    <tr>\n",
       "      <th>449</th>\n",
       "      <td>64</td>\n",
       "      <td>Female</td>\n",
       "      <td>NASH</td>\n",
       "      <td>F4</td>\n",
       "      <td>No</td>\n",
       "      <td>University of Florida</td>\n",
       "      <td>Hepatocytes</td>\n",
       "      <td>152.245720</td>\n",
       "    </tr>\n",
       "  </tbody>\n",
       "</table>\n",
       "<p>225 rows × 8 columns</p>\n",
       "</div>"
      ],
      "text/plain": [
       "     *age    *sex  disease disease_stage Diabetes                 Center  \\\n",
       "225    82    Male  Healthy           NaN      NaN   San Diego Blood Bank   \n",
       "226    61    Male  Healthy           NaN      NaN   San Diego Blood Bank   \n",
       "227    36  Female  Healthy           NaN      NaN   San Diego Blood Bank   \n",
       "228    35  Female     NASH            F3      Yes     Indiana University   \n",
       "229    62  Female     NASH            F4      Yes     Indiana University   \n",
       "..    ...     ...      ...           ...      ...                    ...   \n",
       "445    66  Female     NASH            F2       No  University of Florida   \n",
       "446    58    Male     NASH            F4       No  University of Florida   \n",
       "447    52  Female    NAFLD            F0       No  University of Florida   \n",
       "448    50    Male     NASH            F4       No  University of Florida   \n",
       "449    64  Female     NASH            F4       No  University of Florida   \n",
       "\n",
       "        variable       value  \n",
       "225  Hepatocytes  224.995240  \n",
       "226  Hepatocytes  146.591380  \n",
       "227  Hepatocytes  135.508784  \n",
       "228  Hepatocytes  120.569800  \n",
       "229  Hepatocytes  170.644270  \n",
       "..           ...         ...  \n",
       "445  Hepatocytes  134.785551  \n",
       "446  Hepatocytes  208.738299  \n",
       "447  Hepatocytes  165.853113  \n",
       "448  Hepatocytes  251.831700  \n",
       "449  Hepatocytes  152.245720  \n",
       "\n",
       "[225 rows x 8 columns]"
      ]
     },
     "execution_count": 26,
     "metadata": {},
     "output_type": "execute_result"
    }
   ],
   "source": [
    "hepMelt"
   ]
  },
  {
   "cell_type": "code",
   "execution_count": 27,
   "metadata": {},
   "outputs": [],
   "source": [
    "center_pal = {}\n",
    "center_pal[\"San Diego Blood Bank\"] = \"#5C80BC\"\n",
    "center_pal[\"University of Florida\"] = \"#FF729F\"\n",
    "center_pal[\"Indiana University\"] = \"#0BC9CD\""
   ]
  },
  {
   "cell_type": "code",
   "execution_count": 28,
   "metadata": {},
   "outputs": [
    {
     "data": {
      "image/png": "[encoded data removed]",
      "text/plain": [
       "<Figure size 720x720 with 1 Axes>"
      ]
     },
     "metadata": {
      "needs_background": "light"
     },
     "output_type": "display_data"
    }
   ],
   "source": [
    "plt.figure(figsize = (10, 10))\n",
    "sns.boxplot(x = \"disease\", y = \"value\", \n",
    "            fliersize = 0,\n",
    "            data = hepMelt, color = \"#8A1C7C\")\n",
    "sns.swarmplot(x = \"disease\", y = \"value\", data = hepMelt,\n",
    "             hue = \"Center\", palette = center_pal, size = 5)\n",
    "plt.ylim((0, 500))\n",
    "plt.yticks(np.arange(0, 501, 100))\n",
    "plt.xlabel(\"\")\n",
    "save_figure_pdf(plt, \"nashNAFLDSigScore\" + figEnd)"
   ]
  },
  {
   "cell_type": "code",
   "execution_count": null,
   "metadata": {},
   "outputs": [],
   "source": []
  },
  {
   "cell_type": "code",
   "execution_count": 29,
   "metadata": {},
   "outputs": [],
   "source": [
    "with pd.ExcelWriter(sourceDataPath, mode = 'a') as writer:\n",
    "            hepMelt[[\"Center\", \"variable\", 'value']].to_excel(writer, sheet_name = 'NASHNAFLD', engine = 'xlsxwriter')"
   ]
  },
  {
   "cell_type": "code",
   "execution_count": 30,
   "metadata": {},
   "outputs": [],
   "source": [
    "nashCts = hepMelt[hepMelt[\"disease\"] == \"NASH\"][\"value\"].values.tolist()"
   ]
  },
  {
   "cell_type": "code",
   "execution_count": 31,
   "metadata": {},
   "outputs": [],
   "source": [
    "nafldCts = hepMelt[hepMelt[\"disease\"] == \"NAFLD\"][\"value\"].values.tolist()"
   ]
  },
  {
   "cell_type": "code",
   "execution_count": 32,
   "metadata": {},
   "outputs": [],
   "source": [
    "ctrlCts = hepMelt[hepMelt[\"disease\"] == \"Healthy\"][\"value\"].values.tolist()"
   ]
  },
  {
   "cell_type": "code",
   "execution_count": 33,
   "metadata": {},
   "outputs": [],
   "source": [
    "actualCTRLNAFLD_u, actualCTRLNAFLD_p  = mannwhitneyu(ctrlCts, nafldCts, alternative = \"less\")"
   ]
  },
  {
   "cell_type": "code",
   "execution_count": 34,
   "metadata": {},
   "outputs": [],
   "source": [
    "actualCTRLNASH_u, actualCTRLNASH_p = mannwhitneyu(ctrlCts, nashCts, alternative = \"less\")"
   ]
  },
  {
   "cell_type": "code",
   "execution_count": 35,
   "metadata": {},
   "outputs": [],
   "source": [
    "actualNASHNAFLD_u, actualNASHNAFLD_p = mannwhitneyu(nafldCts, nashCts, alternative = \"two-sided\")"
   ]
  },
  {
   "cell_type": "code",
   "execution_count": 36,
   "metadata": {},
   "outputs": [
    {
     "name": "stdout",
     "output_type": "stream",
     "text": [
      "155.0 0.0003147929602541436\n"
     ]
    }
   ],
   "source": [
    "print(actualCTRLNAFLD_u, actualCTRLNAFLD_p)"
   ]
  },
  {
   "cell_type": "code",
   "execution_count": 37,
   "metadata": {},
   "outputs": [
    {
     "name": "stdout",
     "output_type": "stream",
     "text": [
      "427.0 4.6786045013255085e-06\n"
     ]
    }
   ],
   "source": [
    "print(actualCTRLNASH_u, actualCTRLNASH_p)"
   ]
  },
  {
   "cell_type": "code",
   "execution_count": 38,
   "metadata": {},
   "outputs": [
    {
     "name": "stdout",
     "output_type": "stream",
     "text": [
      "3483.0 0.4635905378543477\n"
     ]
    }
   ],
   "source": [
    "print(actualNASHNAFLD_u, actualNASHNAFLD_p)"
   ]
  },
  {
   "cell_type": "markdown",
   "metadata": {},
   "source": [
    "# now run respective permutation tests"
   ]
  },
  {
   "cell_type": "code",
   "execution_count": 39,
   "metadata": {},
   "outputs": [
    {
     "name": "stderr",
     "output_type": "stream",
     "text": [
      "/Users/kayaneh/anaconda3/lib/python3.6/site-packages/ipykernel_launcher.py:14: SettingWithCopyWarning: \n",
      "A value is trying to be set on a copy of a slice from a DataFrame.\n",
      "Try using .loc[row_indexer,col_indexer] = value instead\n",
      "\n",
      "See the caveats in the documentation: https://pandas.pydata.org/pandas-docs/stable/user_guide/indexing.html#returning-a-view-versus-a-copy\n",
      "  \n"
     ]
    }
   ],
   "source": [
    "np.random.seed(10)\n",
    "\n",
    "pvals_ctrlNAFLD = []\n",
    "pvals_ctrlNASH = []\n",
    "pvals_nashNAFLD = []\n",
    "\n",
    "\n",
    "u_ctrlNAFLD = []\n",
    "u_ctrlNASH = []\n",
    "ustat_nashNAFLD = []\n",
    "\n",
    "for i in range(10000):\n",
    "    newLabels = np.random.permutation(hepMelt[\"disease\"])\n",
    "    hepMelt['shuffled'] = newLabels\n",
    "    \n",
    "    \n",
    "    nash = hepMelt[hepMelt['shuffled'] == \"NASH\"]['value'].values.tolist()\n",
    "    nafld = hepMelt[hepMelt['shuffled'] == \"NAFLD\"][\"value\"].values.tolist()\n",
    "    healthy = hepMelt[hepMelt['shuffled'] == \"Healthy\"][\"value\"].values.tolist()\n",
    "    \n",
    "    u_healthyNAFLD, p_healthyNAFLD = mannwhitneyu(healthy, nafld, alternative = \"less\")\n",
    "    u_healthyNASH, p_healthyNASH = mannwhitneyu(healthy, nash, alternative = \"less\")\n",
    "    u_nashNAFLD, p_nashNAFLD = mannwhitneyu(nash, nafld, alternative = \"two-sided\")\n",
    "    \n",
    "    u_ctrlNAFLD += [u_healthyNAFLD]\n",
    "    u_ctrlNASH += [u_healthyNASH]\n",
    "    ustat_nashNAFLD += [u_nashNAFLD]\n",
    "    \n",
    "    pvals_ctrlNAFLD += [p_healthyNAFLD]\n",
    "    pvals_ctrlNASH += [p_healthyNASH]\n",
    "    pvals_nashNAFLD += [p_nashNAFLD]\n",
    "   \n",
    "    "
   ]
  },
  {
   "cell_type": "code",
   "execution_count": 40,
   "metadata": {},
   "outputs": [
    {
     "data": {
      "image/png": "[encoded data removed]",
      "text/plain": [
       "<Figure size 360x216 with 1 Axes>"
      ]
     },
     "metadata": {
      "needs_background": "light"
     },
     "output_type": "display_data"
    },
    {
     "data": {
      "image/png": "[encoded data removed]",
      "text/plain": [
       "<Figure size 360x360 with 1 Axes>"
      ]
     },
     "metadata": {
      "needs_background": "light"
     },
     "output_type": "display_data"
    }
   ],
   "source": [
    "plt.figure(figsize = (5, 3))\n",
    "sns.histplot(pvals_ctrlNAFLD, stat = \"density\", color = \"#9EADC8\")\n",
    "plt.title(\"Ctrl vs. NAFLD\")\n",
    "plt.xlabel(\"One-sided Mann Whitney U p-value\")\n",
    "save_figure_pdf(plt, 'ctrlNAFLD_nullDistribution' + figEnd)\n",
    "\n",
    "\n",
    "actualDifference =  actualCTRLNAFLD_u\n",
    "\n",
    "plt.figure(figsize = (5, 5))\n",
    "sns.histplot(u_ctrlNAFLD, stat = \"density\", color = \"#9EADC8\")\n",
    "plt.title(\"Ctrl vs. NAFLD\")\n",
    "plt.xlabel(r'$U_{ctrl vs. NAFLD}$')\n",
    "plt.axvline(actualDifference, 0, 2, color = \"red\")\n",
    "save_figure_pdf(plt, 'ctrlNAFLD_pValDistribution' + figEnd)"
   ]
  },
  {
   "cell_type": "code",
   "execution_count": 41,
   "metadata": {},
   "outputs": [
    {
     "data": {
      "text/plain": [
       "155.0"
      ]
     },
     "execution_count": 41,
     "metadata": {},
     "output_type": "execute_result"
    }
   ],
   "source": [
    "actualDifference"
   ]
  },
  {
   "cell_type": "code",
   "execution_count": 42,
   "metadata": {},
   "outputs": [
    {
     "data": {
      "image/png": "[encoded data removed]",
      "text/plain": [
       "<Figure size 360x216 with 1 Axes>"
      ]
     },
     "metadata": {
      "needs_background": "light"
     },
     "output_type": "display_data"
    },
    {
     "data": {
      "image/png": "[encoded data removed]",
      "text/plain": [
       "<Figure size 360x360 with 1 Axes>"
      ]
     },
     "metadata": {
      "needs_background": "light"
     },
     "output_type": "display_data"
    }
   ],
   "source": [
    "plt.figure(figsize = (5, 3))\n",
    "sns.histplot(pvals_ctrlNASH, stat = \"density\", color = \"#E0BAD7\")\n",
    "plt.title(\"Ctrl vs. NASH\")\n",
    "plt.xlabel(\"One-sided Mann Whitney U p-value\")\n",
    "save_figure_pdf(plt, 'ctrlNASH_nullDistribution' + figEnd)\n",
    "\n",
    "actualDifference = actualCTRLNASH_u\n",
    "\n",
    "plt.figure(figsize = (5, 5))\n",
    "sns.histplot(u_ctrlNASH, stat = \"density\", color = \"#E0BAD7\")\n",
    "plt.title(\"Ctrl vs. NASH\")\n",
    "plt.xlabel(r'$U_{ctrl vs. NASH}$')\n",
    "plt.axvline(actualDifference, 0, 2, color = \"red\")\n",
    "save_figure_pdf(plt, 'ctrlNASH_pValDistribution' + figEnd)"
   ]
  },
  {
   "cell_type": "code",
   "execution_count": null,
   "metadata": {},
   "outputs": [],
   "source": []
  },
  {
   "cell_type": "code",
   "execution_count": 43,
   "metadata": {},
   "outputs": [
    {
     "data": {
      "image/png": "[encoded data removed]",
      "text/plain": [
       "<Figure size 360x216 with 1 Axes>"
      ]
     },
     "metadata": {
      "needs_background": "light"
     },
     "output_type": "display_data"
    },
    {
     "data": {
      "image/png": "[encoded data removed]",
      "text/plain": [
       "<Figure size 360x360 with 1 Axes>"
      ]
     },
     "metadata": {
      "needs_background": "light"
     },
     "output_type": "display_data"
    }
   ],
   "source": [
    "plt.figure(figsize = (5, 3))\n",
    "sns.histplot(pvals_nashNAFLD, stat = \"density\", color = \"#78A1BB\")\n",
    "plt.title(\"NASH vs. NAFLD\")\n",
    "plt.xlabel(\"Two-sided Mann Whitney U p-value\")\n",
    "save_figure_pdf(plt, figSavePath + 'nashNAFLD_nullDistribution' + figEnd)\n",
    "\n",
    "actualDifference =  actualNASHNAFLD_u\n",
    "\n",
    "plt.figure(figsize = (5, 5))\n",
    "sns.histplot(ustat_nashNAFLD, stat = \"density\", color = \"#78A1BB\")\n",
    "plt.title(\"NASH vs. NAFLD\")\n",
    "plt.xlabel(r'$U_{NASH vs. NAFLD}$')\n",
    "plt.axvline(actualDifference, 0, 2, color = \"red\")\n",
    "save_figure_pdf(plt, 'nashNAFLD_pValDistribution' + figEnd)"
   ]
  },
  {
   "cell_type": "code",
   "execution_count": null,
   "metadata": {},
   "outputs": [],
   "source": []
  },
  {
   "cell_type": "code",
   "execution_count": null,
   "metadata": {},
   "outputs": [],
   "source": []
  }
 ],
 "metadata": {
  "kernelspec": {
   "display_name": "Python 3",
   "language": "python",
   "name": "python3"
  },
  "language_info": {
   "codemirror_mode": {
    "name": "ipython",
    "version": 3
   },
   "file_extension": ".py",
   "mimetype": "text/x-python",
   "name": "python",
   "nbconvert_exporter": "python",
   "pygments_lexer": "ipython3",
   "version": "3.6.12"
  }
 },
 "nbformat": 4,
 "nbformat_minor": 4
}
