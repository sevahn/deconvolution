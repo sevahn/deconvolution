{
 "cells": [
  {
   "cell_type": "markdown",
   "metadata": {},
   "source": [
    "note: to make this principled with all the other tissues, i did not do the 3 fold gene expression requirement from hpa in brain"
   ]
  },
  {
   "cell_type": "code",
   "execution_count": 1,
   "metadata": {},
   "outputs": [
    {
     "name": "stderr",
     "output_type": "stream",
     "text": [
      "/Users/kayaneh/anaconda3/lib/python3.6/site-packages/statsmodels/tools/_testing.py:19: FutureWarning: pandas.util.testing is deprecated. Use the functions in the public API at pandas.testing instead.\n",
      "  import pandas.util.testing as tm\n"
     ]
    }
   ],
   "source": [
    "import pandas as pd\n",
    "import scanpy as sc\n",
    "import numpy as np\n",
    "\n",
    "\n",
    "import matplotlib.pyplot as plt\n",
    "import seaborn as sns\n",
    "import matplotlib as mpl\n",
    "\n",
    "#For editable text. Except latex text is still shapes\n",
    "mpl.rcParams['pdf.fonttype'] = 42\n",
    "mpl.rcParams['ps.fonttype'] = 42\n",
    "sns.set_style(\"whitegrid\")\n",
    "font = {'size' : 6}\n",
    "lines = {'linewidth' : 0.5}\n",
    "fig = {'figsize' : (2.5, 1.5)}\n",
    "mpl.rc('font', **font)\n",
    "mpl.rc('lines', **lines)\n",
    "mpl.rc('figure', **fig)\n",
    "\n",
    "#Set style\n",
    "sns.set(style = \"whitegrid\", palette=\"pastel\", color_codes=True)\n",
    "\n",
    "from scipy.stats import mannwhitneyu\n",
    "import statsmodels.stats.multitest as smt\n",
    "\n",
    "\n",
    "np.random.seed(31)\n",
    "\n",
    "from matplotlib_venn import venn2\n",
    "\n",
    "import mygene\n",
    "mg = mygene.MyGeneInfo()"
   ]
  },
  {
   "cell_type": "code",
   "execution_count": 2,
   "metadata": {},
   "outputs": [],
   "source": [
    "figSavePath = \"/Users/kayaneh/Documents/deconvolution/figures/full_figure/supplement_revision1/\"\n",
    "figEnd = \"_09062021.pdf\""
   ]
  },
  {
   "cell_type": "code",
   "execution_count": 3,
   "metadata": {},
   "outputs": [],
   "source": [
    "def save_figure_pdf(fig, path_to_save):\n",
    "\t'''\n",
    "\tUtility fxn to save a figure without having to retype all the required options.\n",
    "\tInput:\n",
    "\t\tfig - a matplotlib.pyplot.figure instance with the figure you'd like to save\n",
    "\t\tpath_to_save - the path you'd like to save the figure to\n",
    "\tReturns: Nothing but there should now be a pdf version in 300 dpi with a transparent bkg at path_to_save\n",
    "\t'''\n",
    "\tfig.savefig(path_to_save, dpi = 300, bbox_inches = 'tight', transparent = True)"
   ]
  },
  {
   "cell_type": "markdown",
   "metadata": {},
   "source": [
    "# all your normalization functions"
   ]
  },
  {
   "cell_type": "code",
   "execution_count": 4,
   "metadata": {},
   "outputs": [],
   "source": [
    "liverGiniPath = \"~/Documents/deconvolution/livertox/liversig/gini6_perCluster_hepatocyte_12052020.csv\""
   ]
  },
  {
   "cell_type": "markdown",
   "metadata": {},
   "source": [
    "now get the average expression levels of the technical reps per biological rep"
   ]
  },
  {
   "cell_type": "code",
   "execution_count": 5,
   "metadata": {},
   "outputs": [],
   "source": [
    "giniH = pd.read_csv(liverGiniPath, index_col = 0)"
   ]
  },
  {
   "cell_type": "code",
   "execution_count": 6,
   "metadata": {},
   "outputs": [
    {
     "data": {
      "text/plain": [
       "ENSG00000121410    0.982820\n",
       "ENSG00000183044    0.632333\n",
       "ENSG00000183747    0.945837\n",
       "ENSG00000183549    0.741696\n",
       "ENSG00000187758    0.981866\n",
       "                     ...   \n",
       "ENSG00000109181    0.983525\n",
       "ENSG00000156096    0.983053\n",
       "ENSG00000171234    0.926901\n",
       "ENSG00000100024    0.924960\n",
       "ENSG00000112299    0.883955\n",
       "Name: Hepatocytes-gini, Length: 144, dtype: float64"
      ]
     },
     "execution_count": 6,
     "metadata": {},
     "output_type": "execute_result"
    }
   ],
   "source": [
    "giniH[\"Hepatocytes-gini\"].dropna()"
   ]
  },
  {
   "cell_type": "code",
   "execution_count": 7,
   "metadata": {},
   "outputs": [],
   "source": [
    "giniSigs = {}\n",
    "for ct in giniH.columns.tolist():\n",
    "    giniSigs[ct] = giniH[ct].dropna().index.tolist()"
   ]
  },
  {
   "cell_type": "code",
   "execution_count": 8,
   "metadata": {},
   "outputs": [],
   "source": [
    "specificLiverSigs = giniSigs"
   ]
  },
  {
   "cell_type": "markdown",
   "metadata": {},
   "source": [
    "whoa, it looks like they're all there!"
   ]
  },
  {
   "cell_type": "markdown",
   "metadata": {},
   "source": [
    "# get intersection with their reported DEGs in the original paper"
   ]
  },
  {
   "cell_type": "code",
   "execution_count": 9,
   "metadata": {},
   "outputs": [],
   "source": [
    "molecStethoDEG = pd.read_excel(\"Supplementary_File_1.xlsx\",\n",
    "                              sheet_name = \"DESeq control vs NAFLD\",\n",
    "                              index_col = 0, skiprows = 1)"
   ]
  },
  {
   "cell_type": "code",
   "execution_count": 10,
   "metadata": {},
   "outputs": [],
   "source": [
    "degUp = molecStethoDEG[molecStethoDEG[\"log2FoldChange\"] > 0]\n",
    "degUp = degUp[degUp[\"padj\"] < 0.05]\n",
    "\n",
    "degDown = molecStethoDEG[molecStethoDEG[\"log2FoldChange\"] < 0]\n",
    "degDown = degDown[degDown[\"padj\"] < 0.05]"
   ]
  },
  {
   "cell_type": "markdown",
   "metadata": {},
   "source": [
    "\"Of these genes, 1,527 genes were upregulated and 971 genes were downregulated. \""
   ]
  },
  {
   "cell_type": "code",
   "execution_count": 11,
   "metadata": {},
   "outputs": [
    {
     "name": "stdout",
     "output_type": "stream",
     "text": [
      "deg down:  (971, 6)\n",
      "deg up:  (1527, 6)\n"
     ]
    }
   ],
   "source": [
    "print(\"deg down: \", degDown.shape), print(\"deg up: \", degUp.shape);"
   ]
  },
  {
   "cell_type": "code",
   "execution_count": 12,
   "metadata": {},
   "outputs": [],
   "source": [
    "degUpGenes = [i.split(\".\")[0] for i in degUp.index.tolist()]\n",
    "degDownGenes = [i.split(\".\")[0] for i in degDown.index.tolist()]"
   ]
  },
  {
   "cell_type": "code",
   "execution_count": 13,
   "metadata": {},
   "outputs": [],
   "source": [
    "inDEGUp = {}\n",
    "inDEGDown = {}\n",
    "for sig in giniSigs:\n",
    "    inUp = np.intersect1d(giniSigs[sig], degUpGenes).tolist()\n",
    "    inDown = np.intersect1d(giniSigs[sig], degDownGenes).tolist()\n",
    "    inDEGUp[sig] = inUp\n",
    "    inDEGDown[sig] = inDown"
   ]
  },
  {
   "cell_type": "code",
   "execution_count": 19,
   "metadata": {},
   "outputs": [
    {
     "name": "stderr",
     "output_type": "stream",
     "text": [
      "/Users/kayaneh/anaconda3/lib/python3.6/site-packages/IPython/core/interactiveshell.py:3058: DtypeWarning: Columns (8) have mixed types.Specify dtype option on import or set low_memory=False.\n",
      "  interactivity=interactivity, compiler=compiler, result=result)\n"
     ]
    }
   ],
   "source": [
    "ensgRef = pd.read_csv(\"/Users/kayaneh/Documents/quake/ref/ensg-transcript_biotype.txt\",\n",
    "                     sep = \"\\t\", index_col = 0)"
   ]
  },
  {
   "cell_type": "code",
   "execution_count": 25,
   "metadata": {},
   "outputs": [
    {
     "data": {
      "text/plain": [
       "array(['ACSM2A', 'ADH1A', 'ADH1B', 'ADH4', 'ADH6', 'AFM', 'AGXT', 'AHSG',\n",
       "       'AKR1C4', 'AKR1D1', 'ALDH1L1', 'ALDH8A1', 'ALDOB', 'ANG',\n",
       "       'ANGPTL3', 'APOA1', 'APOC1', 'APOC3', 'APOC4-APOC2', 'APOE',\n",
       "       'ARG1', 'ATF5', 'BHMT', 'BHMT2', 'C8A', 'C8B', 'C9', 'CES1', 'CFB',\n",
       "       'CFH', 'CP', 'CPN2', 'CPS1', 'CYP1A2', 'CYP2C18', 'CYP2C19',\n",
       "       'CYP2C8', 'CYP2C9', 'CYP2E1', 'CYP3A4', 'CYP4A11', 'CYP4F2',\n",
       "       'CYP8B1', 'DPYS', 'F2', 'FABP1', 'FGB', 'FMO3', 'G6PC', 'GHR',\n",
       "       'GLYAT', 'GLYATL1', 'HAMP', 'HAO1', 'HMGCS2', 'HPD', 'HPX', 'HRG',\n",
       "       'HSD17B6', 'ITIH1', 'ITIH3', 'KLKB1', 'KNG1', 'LECT2', 'MAT1A',\n",
       "       'MT1G', 'MTTP', 'PON1', 'PON3', 'PRG4', 'RGN', 'SAA4', 'SCD',\n",
       "       'SDS', 'SERPINA10', 'SERPINC1', 'SERPIND1', 'SERPINF2', 'SLC10A1',\n",
       "       'SLC22A1', 'SLC38A4', 'SLC7A2', 'SULT2A1', 'TAT', 'TDO2', 'TFR2',\n",
       "       'TTR', 'UGT2B10', 'UGT2B4', 'UGT2B7'], dtype=object)"
      ]
     },
     "execution_count": 25,
     "metadata": {},
     "output_type": "execute_result"
    }
   ],
   "source": [
    "np.unique(ensgRef.loc[np.intersect1d(ensgRef.index,inDEGUp[\"Hepatocytes-gini\"] )][\"Gene name\"])"
   ]
  },
  {
   "cell_type": "code",
   "execution_count": 24,
   "metadata": {},
   "outputs": [
    {
     "data": {
      "text/plain": [
       "array(['AQP9', 'CYP4F3', 'HGD'], dtype=object)"
      ]
     },
     "execution_count": 24,
     "metadata": {},
     "output_type": "execute_result"
    }
   ],
   "source": [
    "np.unique(ensgRef.loc[np.intersect1d(ensgRef.index,inDEGDown[\"Hepatocytes-gini\"] )][\"Gene name\"])"
   ]
  },
  {
   "cell_type": "code",
   "execution_count": 14,
   "metadata": {},
   "outputs": [],
   "source": [
    "fullNames = {}\n",
    "fullNames['EPCAM+ bile duct cells-gini'] = \"EPCAM+ bile duct cells\"\n",
    "fullNames['Hepatocytes-gini'] = \"Hepatocytes\"\n",
    "fullNames[\"LSEC-gini\"] = \"Liver Sinusoidal Endothelial Cell\""
   ]
  },
  {
   "cell_type": "code",
   "execution_count": 15,
   "metadata": {},
   "outputs": [
    {
     "data": {
      "image/png": "[encoded data removed]",
      "text/plain": [
       "<Figure size 432x288 with 1 Axes>"
      ]
     },
     "metadata": {},
     "output_type": "display_data"
    },
    {
     "data": {
      "image/png": "[encoded data removed]",
      "text/plain": [
       "<Figure size 432x288 with 1 Axes>"
      ]
     },
     "metadata": {},
     "output_type": "display_data"
    }
   ],
   "source": [
    "for i in list(inDEGUp.keys())[:-1]:\n",
    "    cellTypeSpecificLiverGenes = specificLiverSigs[i]\n",
    "\n",
    "    \n",
    "    cfGenesInUp = np.intersect1d(cellTypeSpecificLiverGenes,\n",
    "                                    inDEGUp[i]).tolist()\n",
    "    cfGenesInDown = np.intersect1d(cellTypeSpecificLiverGenes,\n",
    "                                      inDEGDown[i]).tolist()\n",
    "    \n",
    "    sharedUp = len(cfGenesInUp)\n",
    "    sharedDown = len(cfGenesInDown)\n",
    "    notInCF = len(np.setdiff1d(cellTypeSpecificLiverGenes,\n",
    "                               cfGenesInUp + cfGenesInDown))\n",
    "    \n",
    "    \n",
    "\n",
    "    thisCellTypeName = fullNames[i] \n",
    "    \n",
    "    \n",
    "    names = 'DEG Up in cfRNA', 'DEG Down in cfRNA' ,'not DEG in cfRNA'\n",
    "    size = [sharedUp, sharedDown, notInCF]\n",
    "    my_circle = plt.Circle( (0,0), 0.65, color='white')\n",
    "\n",
    "    plt.pie(size, colors=['#62B6CB', '#F7B32B','#eb5160'], \n",
    "            labels = [sharedUp, sharedDown, notInCF],\n",
    "            labeldistance = .77,\n",
    "            textprops={'color':\"w\"})\n",
    "\n",
    "    \n",
    "    p=plt.gcf()\n",
    "    p.gca().add_artist(my_circle)\n",
    "    plt.title(thisCellTypeName)\n",
    "    plt.legend(names, bbox_to_anchor=(1.05, 1))\n",
    "    plt.show()\n",
    "    \n",
    "    if \"Hepatocytes\" in i: break\n",
    "    "
   ]
  },
  {
   "cell_type": "code",
   "execution_count": 16,
   "metadata": {},
   "outputs": [],
   "source": [
    "save_figure_pdf(p, figSavePath + \"hepatocytes_degUpDown_donut\" + figEnd)"
   ]
  },
  {
   "cell_type": "code",
   "execution_count": 17,
   "metadata": {},
   "outputs": [
    {
     "name": "stdout",
     "output_type": "stream",
     "text": [
      "\u001b[H\u001b[2J"
     ]
    }
   ],
   "source": [
    "clear all"
   ]
  },
  {
   "cell_type": "code",
   "execution_count": null,
   "metadata": {},
   "outputs": [],
   "source": []
  },
  {
   "cell_type": "code",
   "execution_count": null,
   "metadata": {},
   "outputs": [],
   "source": []
  },
  {
   "cell_type": "code",
   "execution_count": null,
   "metadata": {},
   "outputs": [],
   "source": []
  }
 ],
 "metadata": {
  "kernelspec": {
   "display_name": "Python 3",
   "language": "python",
   "name": "python3"
  },
  "language_info": {
   "codemirror_mode": {
    "name": "ipython",
    "version": 3
   },
   "file_extension": ".py",
   "mimetype": "text/x-python",
   "name": "python",
   "nbconvert_exporter": "python",
   "pygments_lexer": "ipython3",
   "version": "3.6.12"
  }
 },
 "nbformat": 4,
 "nbformat_minor": 4
}
