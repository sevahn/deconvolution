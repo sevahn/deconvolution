{
 "cells": [
  {
   "cell_type": "markdown",
   "metadata": {},
   "source": [
    "permutation test on gini coefs"
   ]
  },
  {
   "cell_type": "code",
   "execution_count": 1,
   "metadata": {},
   "outputs": [],
   "source": [
    "# get all liver specific genes as defined by HPA \n",
    "\n",
    "# intersect this with the DEG (either up or down)\n",
    "\n",
    "# get the cell type specific genes\n",
    "\n",
    "# get the cell type speciifc genes in DEG\n",
    "\n",
    "# 09062021_nafldPermutationTest-Copy1.ipynb"
   ]
  },
  {
   "cell_type": "code",
   "execution_count": 2,
   "metadata": {},
   "outputs": [],
   "source": [
    "import numpy as np\n",
    "import pandas as pd\n",
    "import scanpy as sc\n",
    "\n",
    "import matplotlib.pyplot as plt\n",
    "import seaborn as sns\n",
    "import matplotlib as mpl\n",
    "\n",
    "#For editable text. Except latex text is still shapes sadly\n",
    "mpl.rcParams['pdf.fonttype'] = 42\n",
    "mpl.rcParams['ps.fonttype'] = 42\n",
    "sns.set_style(\"whitegrid\")\n",
    "font = {'size' : 6}\n",
    "lines = {'linewidth' : 0.5}\n",
    "fig = {'figsize' : (2.5, 1.5)}\n",
    "mpl.rc('font', **font)\n",
    "mpl.rc('lines', **lines)\n",
    "mpl.rc('figure', **fig)\n",
    "\n",
    "#Set style\n",
    "sns.set(style=\"whitegrid\", palette=\"pastel\", color_codes=True)"
   ]
  },
  {
   "cell_type": "code",
   "execution_count": 3,
   "metadata": {},
   "outputs": [
    {
     "name": "stderr",
     "output_type": "stream",
     "text": [
      "/Users/kayaneh/anaconda3/lib/python3.6/site-packages/IPython/core/interactiveshell.py:3058: DtypeWarning: Columns (8) have mixed types.Specify dtype option on import or set low_memory=False.\n",
      "  interactivity=interactivity, compiler=compiler, result=result)\n"
     ]
    }
   ],
   "source": [
    "giniLiver = pd.read_csv(\"~/Documents/deconvolution/livertox/liversig/gini6_perCluster_hepatocyte_12052020.csv\",\n",
    "                        sep = \",\", index_col = 0)\n",
    "\n",
    "ensgRef = pd.read_csv(\"~/Documents/quake/ref/ensg-transcript_biotype.txt\",\n",
    "                     sep = \"\\t\", index_col = 0)\n",
    "\n",
    "cellTypeSpecificGenes = giniLiver[['Hepatocytes-gini']].dropna(how = \"all\").index.tolist()"
   ]
  },
  {
   "cell_type": "code",
   "execution_count": 4,
   "metadata": {},
   "outputs": [],
   "source": [
    "# import the reference single cell data \n",
    "adata = sc.read_h5ad(\"/Users/kayaneh/Documents/deconvolution/livertox/liver-nadim-celltype.h5ad\")\n",
    "\n",
    "sc.pp.normalize_total(adata, target_sum = 1e4)\n",
    "sc.pp.log1p(adata)\n",
    "\n",
    "# this space is throwing an error downstream\n",
    "adata.obs[\"cellTypes\"] = adata.obs[\"Cell Types\"] "
   ]
  },
  {
   "cell_type": "code",
   "execution_count": 5,
   "metadata": {},
   "outputs": [
    {
     "data": {
      "text/plain": [
       "144"
      ]
     },
     "execution_count": 5,
     "metadata": {},
     "output_type": "execute_result"
    }
   ],
   "source": [
    "len(cellTypeSpecificGenes)"
   ]
  },
  {
   "cell_type": "code",
   "execution_count": 6,
   "metadata": {},
   "outputs": [],
   "source": [
    "def save_figure_pdf(fig, path_to_save):\n",
    "\t'''\n",
    "\tUtility fxn to save a figure without having to retype all the required options.\n",
    "\tInput:\n",
    "\t\tfig - a matplotlib.pyplot.figure instance with the figure you'd like to save\n",
    "\t\tpath_to_save - the path you'd like to save the figure to\n",
    "\tReturns: Nothing but there should now be a pdf version in 300 dpi with a transparent bkg at path_to_save\n",
    "\t'''\n",
    "\tfig.savefig(path_to_save, dpi = 300,\n",
    "                bbox_inches = 'tight', transparent = True)"
   ]
  },
  {
   "cell_type": "code",
   "execution_count": 7,
   "metadata": {},
   "outputs": [
    {
     "name": "stdout",
     "output_type": "stream",
     "text": [
      "2498\n"
     ]
    }
   ],
   "source": [
    "molecStethoDEG = pd.read_excel(\"~/Documents/deconvolution/nafld/Supplementary_File_1.xlsx\",\n",
    "                              sheet_name = \"DESeq control vs NAFLD\",\n",
    "                              index_col = 0, skiprows = 1)\n",
    "\n",
    "\n",
    "degUp = molecStethoDEG[molecStethoDEG[\"log2FoldChange\"] > 0]\n",
    "degUp = degUp[degUp[\"padj\"] < 0.05]\n",
    "\n",
    "degDown = molecStethoDEG[molecStethoDEG[\"log2FoldChange\"] < 0]\n",
    "degDown = degDown[degDown[\"padj\"] < 0.05]\n",
    "\n",
    "\n",
    "# cut the versions off the indices\n",
    "degUpGenes = [i.split(\".\")[0] for i in degUp.index.tolist()]\n",
    "degDownGenes = [i.split(\".\")[0] for i in degDown.index.tolist()]\n",
    "\n",
    "degGenes = degUpGenes + degDownGenes\n",
    "print(len(degGenes))"
   ]
  },
  {
   "cell_type": "code",
   "execution_count": 8,
   "metadata": {},
   "outputs": [],
   "source": [
    "# now get the bulk genes\n",
    "# brain data from HPA\n",
    "hpaBulk = pd.read_csv(\"/Users/kayaneh/Downloads/tissue_category_rna_liver_Tissue.tsv\",\n",
    "                       sep = \"\\t\", index_col = [0])\n",
    "\n",
    "hpaBulk[\"Gene name\"] = hpaBulk.index.tolist()\n",
    "\n",
    "# make the index of hpaBulk the ENSG codes\n",
    "hpaBulk.set_index([\"Ensembl\"], inplace = True)"
   ]
  },
  {
   "cell_type": "code",
   "execution_count": 9,
   "metadata": {},
   "outputs": [],
   "source": [
    "# hepatocyte specific genes and liver specific genes in HPA\n",
    "hepatocyte_HPA = np.intersect1d(hpaBulk.index.tolist(), cellTypeSpecificGenes)\n",
    "liver_HPA = np.setdiff1d(hpaBulk.index.tolist(), cellTypeSpecificGenes)"
   ]
  },
  {
   "cell_type": "code",
   "execution_count": 10,
   "metadata": {},
   "outputs": [],
   "source": [
    "# note that these are in ENSG; convert to gene name\n",
    "hepatocyte_HPA_DEG = np.intersect1d(hepatocyte_HPA, degGenes)\n",
    "liver_HPA_DEG = np.intersect1d(liver_HPA, degGenes)"
   ]
  },
  {
   "cell_type": "code",
   "execution_count": 11,
   "metadata": {},
   "outputs": [
    {
     "name": "stdout",
     "output_type": "stream",
     "text": [
      "203\n",
      "93\n"
     ]
    }
   ],
   "source": [
    "print(len(liver_HPA_DEG))\n",
    "print(len(hepatocyte_HPA_DEG))"
   ]
  },
  {
   "cell_type": "code",
   "execution_count": 12,
   "metadata": {},
   "outputs": [],
   "source": [
    "def getGenesNSynonyms(geneList):\n",
    "    geneNames = ensgRef.loc[geneList][\"Gene name\"].dropna().values.tolist()\n",
    "    #geneSynon = ensgRef.loc[geneList][\"Gene Synonym\"].dropna().values.tolist()\n",
    "    geneSynon = []\n",
    "    \n",
    "    allGenes = geneNames + geneSynon\n",
    "    allGenes = np.unique(allGenes)\n",
    "    return(allGenes)"
   ]
  },
  {
   "cell_type": "code",
   "execution_count": 13,
   "metadata": {},
   "outputs": [],
   "source": [
    "hepatocyte_HPA_DEG_geneNames = getGenesNSynonyms(hepatocyte_HPA_DEG)\n",
    "liver_HPA_DEG_geneNames = getGenesNSynonyms(liver_HPA_DEG)"
   ]
  },
  {
   "cell_type": "code",
   "execution_count": 14,
   "metadata": {},
   "outputs": [
    {
     "data": {
      "text/plain": [
       "array(['ACSM2A', 'ADH1A', 'ADH1B', 'ADH4', 'ADH6', 'AFM', 'AGXT', 'AHSG',\n",
       "       'AKR1C4', 'AKR1D1', 'ALDH1L1', 'ALDH8A1', 'ALDOB', 'ANG',\n",
       "       'ANGPTL3', 'APOA1', 'APOC1', 'APOC3', 'APOC4-APOC2', 'APOE',\n",
       "       'AQP9', 'ARG1', 'ATF5', 'BHMT', 'BHMT2', 'C8A', 'C8B', 'C9',\n",
       "       'CES1', 'CFB', 'CFH', 'CP', 'CPN2', 'CPS1', 'CYP1A2', 'CYP2C18',\n",
       "       'CYP2C19', 'CYP2C8', 'CYP2C9', 'CYP2E1', 'CYP3A4', 'CYP4A11',\n",
       "       'CYP4F2', 'CYP4F3', 'CYP8B1', 'DPYS', 'F2', 'FABP1', 'FGB', 'FMO3',\n",
       "       'G6PC', 'GHR', 'GLYAT', 'GLYATL1', 'HAMP', 'HAO1', 'HGD', 'HMGCS2',\n",
       "       'HPD', 'HPX', 'HRG', 'HSD17B6', 'ITIH1', 'ITIH3', 'KLKB1', 'KNG1',\n",
       "       'LECT2', 'MAT1A', 'MT1G', 'MTTP', 'PON1', 'PON3', 'PRG4', 'RGN',\n",
       "       'SAA4', 'SCD', 'SDS', 'SERPINA10', 'SERPINC1', 'SERPIND1',\n",
       "       'SERPINF2', 'SLC10A1', 'SLC22A1', 'SLC38A4', 'SLC7A2', 'SULT2A1',\n",
       "       'TAT', 'TDO2', 'TFR2', 'TTR', 'UGT2B10', 'UGT2B4', 'UGT2B7'],\n",
       "      dtype='<U11')"
      ]
     },
     "execution_count": 14,
     "metadata": {},
     "output_type": "execute_result"
    }
   ],
   "source": [
    "hepatocyte_HPA_DEG_geneNames"
   ]
  },
  {
   "cell_type": "code",
   "execution_count": 15,
   "metadata": {},
   "outputs": [],
   "source": [
    "adataBulk = adata[:,list(np.intersect1d(liver_HPA_DEG_geneNames, adata.var_names))]\n",
    "adataCT = adata[:, list(np.intersect1d(hepatocyte_HPA_DEG_geneNames, adata.var_names))]"
   ]
  },
  {
   "cell_type": "code",
   "execution_count": 16,
   "metadata": {},
   "outputs": [
    {
     "data": {
      "text/plain": [
       "93"
      ]
     },
     "execution_count": 16,
     "metadata": {},
     "output_type": "execute_result"
    }
   ],
   "source": [
    "len(hepatocyte_HPA_DEG)"
   ]
  },
  {
   "cell_type": "code",
   "execution_count": 17,
   "metadata": {},
   "outputs": [],
   "source": [
    "# go through the adata and filter \n",
    "\n",
    "def getGini(incomeList):\n",
    "    incomeList = np.sort(incomeList) # convert list to ascending order\n",
    "    numerator = 0\n",
    "    numSamps = len(incomeList)\n",
    "    denominator = numSamps * np.sum(incomeList)\n",
    "    for i, elem in enumerate(incomeList):\n",
    "        # account for the fact that this is zero indexed, but the summation in the equation is indexed 1 -> n :-)\n",
    "        numerator +=  (i + 1) * elem \n",
    "    gini = (2 * numerator)/(denominator) - ((numSamps + 1) / numSamps)\n",
    "    return(gini)\n",
    "\n",
    "def giniGeneList(geneList, bulkRef):\n",
    "    res = pd.DataFrame(index = geneList)\n",
    "    giniList = []\n",
    "    for gene in geneList:\n",
    "        # so the problem is that the way genes -> ensg were derived, we might have multiple ensg/gene\n",
    "        # hence, if not protein coding, we might not find in HPA and get an error\n",
    "        # so we check that first\n",
    "        if gene not in bulkRef.index:\n",
    "            print(gene, \" not in HPA ref\")\n",
    "            continue\n",
    "        incomeList = bulkRef.loc[gene].dropna().tolist() # list of NX expression of that gene across all tissues\n",
    "        geneGini = getGini(incomeList)\n",
    "        giniList += [geneGini]\n",
    "    res = pd.DataFrame(index = geneList, data = giniList)\n",
    "    res.columns = [\"Gini Index\"]\n",
    "    return(res)"
   ]
  },
  {
   "cell_type": "markdown",
   "metadata": {},
   "source": [
    "convert to gene names in a given list and then work with the single cell data"
   ]
  },
  {
   "cell_type": "code",
   "execution_count": 18,
   "metadata": {},
   "outputs": [],
   "source": [
    "# get genes + synonyms off HPA data\n",
    "def genesNSynon_HPA(hpaDF):\n",
    "    genes = hpaDF[\"Gene name\"].values.tolist()\n",
    "    synon = hpaDF[\"Gene synonym\"]\n",
    "    synon = synon.dropna().tolist()\n",
    "    # now flatten synon\n",
    "    synon = [i.split(\", \") if \", \" in i else i for i in synon] # this is a list of genes and lists of genes\n",
    "    flatSynon = []\n",
    "    for i in synon:\n",
    "        if type(i) != list: flatSynon += [i]\n",
    "        else:\n",
    "            for j in i:\n",
    "                flatSynon += [j]\n",
    "    # tack on genes to flatSynon\n",
    "    flatSynon += genes\n",
    "    return(genes)"
   ]
  },
  {
   "cell_type": "code",
   "execution_count": 19,
   "metadata": {},
   "outputs": [],
   "source": [
    "# function that returns the gini coefficients in the adata based on the average\n",
    "# expression of a given gene\n",
    "# code inspired by: https://scanpy.discourse.group/t/how-to-calculate-the-average-gene-expression-within-each-cluster/126\n",
    "\n",
    "# @param adata is the subsetted adata with the genes of interest\n",
    "def getClusterAvgGini(adata):\n",
    "    averageDF = pd.DataFrame(columns = adata.var_names, \n",
    "                   index = adata.obs['cellTypes'].cat.categories)           \n",
    "\n",
    "    for clust in adata.obs.cellTypes.cat.categories: \n",
    "        averageDF.loc[clust] = adata[adata.obs['cellTypes'].isin([clust]),:].X.mean(0)\n",
    "\n",
    "    averageDF = averageDF.T\n",
    "    scGini = giniGeneList(averageDF.index, averageDF)\n",
    "    return(scGini, averageDF)"
   ]
  },
  {
   "cell_type": "code",
   "execution_count": 20,
   "metadata": {},
   "outputs": [],
   "source": [
    "giniBulk, bulkAvgDF = getClusterAvgGini(adataBulk)\n",
    "giniCT, ctAvgDF = getClusterAvgGini(adataCT)"
   ]
  },
  {
   "cell_type": "code",
   "execution_count": 21,
   "metadata": {},
   "outputs": [],
   "source": [
    "giniBulk[\"type\"] = \"liver\"\n",
    "giniCT[\"type\"] = \"cell type\""
   ]
  },
  {
   "cell_type": "code",
   "execution_count": 22,
   "metadata": {},
   "outputs": [],
   "source": [
    "allGini = pd.concat([giniBulk, giniCT])"
   ]
  },
  {
   "cell_type": "code",
   "execution_count": 23,
   "metadata": {},
   "outputs": [],
   "source": [
    "my_pal = {\"cell type\": \"#6d597a\", \"liver\": \"#893168\"}"
   ]
  },
  {
   "cell_type": "code",
   "execution_count": 24,
   "metadata": {},
   "outputs": [
    {
     "data": {
      "text/plain": [
       "<seaborn.axisgrid.FacetGrid at 0x7f9900a8d208>"
      ]
     },
     "execution_count": 24,
     "metadata": {},
     "output_type": "execute_result"
    },
    {
     "data": {
      "image/png": "[encoded data removed]",
      "text/plain": [
       "<Figure size 440.1x360 with 1 Axes>"
      ]
     },
     "metadata": {
      "needs_background": "light"
     },
     "output_type": "display_data"
    }
   ],
   "source": [
    "g = sns.displot(data = allGini, hue = \"type\", x= \"Gini Index\",\n",
    "            palette = my_pal,\n",
    "            bw_adjust=.3,\n",
    "            kind = \"kde\", \n",
    "            common_norm = False, \n",
    "            multiple = \"stack\")\n",
    "g.set(xlabel = \"Gini Coefficient\")"
   ]
  },
  {
   "cell_type": "code",
   "execution_count": 25,
   "metadata": {},
   "outputs": [
    {
     "data": {
      "text/plain": [
       "Gini Index     0.498091\n",
       "type          cell type\n",
       "Name: CYP3A4, dtype: object"
      ]
     },
     "execution_count": 25,
     "metadata": {},
     "output_type": "execute_result"
    }
   ],
   "source": [
    "allGini.loc[\"CYP3A4\"][[\"Gini Index\", \"type\"]]"
   ]
  },
  {
   "cell_type": "code",
   "execution_count": 26,
   "metadata": {},
   "outputs": [],
   "source": [
    "save_figure_pdf(g, \"degComparison_cellTypeVsLiver_giniDistrib_09062021.pdf\")"
   ]
  },
  {
   "cell_type": "code",
   "execution_count": 27,
   "metadata": {},
   "outputs": [
    {
     "data": {
      "text/plain": [
       "0.0756665873693797"
      ]
     },
     "execution_count": 27,
     "metadata": {},
     "output_type": "execute_result"
    }
   ],
   "source": [
    "cellTypeGiniMean = allGini[allGini[\"type\"] == \"cell type\"][\"Gini Index\"].mean()\n",
    "brainGiniMean = allGini[allGini[\"type\"] == \"liver\"][\"Gini Index\"].mean()\n",
    "actualEffectSize = cellTypeGiniMean - brainGiniMean\n",
    "actualEffectSize"
   ]
  },
  {
   "cell_type": "code",
   "execution_count": 28,
   "metadata": {},
   "outputs": [
    {
     "name": "stdout",
     "output_type": "stream",
     "text": [
      "cell type gini mean =  0.5142429879832162\n",
      "liver gini mean =  0.4385764006138365\n"
     ]
    }
   ],
   "source": [
    "print(\"cell type gini mean = \", cellTypeGiniMean)\n",
    "print(\"liver gini mean = \", brainGiniMean)"
   ]
  },
  {
   "cell_type": "code",
   "execution_count": 29,
   "metadata": {},
   "outputs": [],
   "source": [
    "np.random.seed(10)\n",
    "allGiniVals = allGini[\"Gini Index\"].values.tolist()\n",
    "\n",
    "newGiniDF = pd.DataFrame()\n",
    "for i in range(10000):\n",
    "    \n",
    "    newGiniDF[\"Permuted Gini Trial \" + str(i)] = np.random.permutation(allGiniVals)\n",
    "\n",
    "newGiniDF[\"values\"] = allGini[\"type\"].tolist()"
   ]
  },
  {
   "cell_type": "code",
   "execution_count": 30,
   "metadata": {},
   "outputs": [],
   "source": [
    "newGiniDF[\"original\"] = allGiniVals"
   ]
  },
  {
   "cell_type": "code",
   "execution_count": 31,
   "metadata": {},
   "outputs": [],
   "source": [
    "averagesPerTrial = newGiniDF.groupby([\"values\"]).mean().T\n",
    "diffs = (averagesPerTrial[\"cell type\"] - averagesPerTrial[\"liver\"]).values"
   ]
  },
  {
   "cell_type": "code",
   "execution_count": 32,
   "metadata": {},
   "outputs": [
    {
     "data": {
      "text/plain": [
       "9.999000099990002e-05"
      ]
     },
     "execution_count": 32,
     "metadata": {},
     "output_type": "execute_result"
    }
   ],
   "source": [
    "len(np.where(diffs >= diffs[-1])[0])/len(diffs)"
   ]
  },
  {
   "cell_type": "code",
   "execution_count": 33,
   "metadata": {},
   "outputs": [],
   "source": [
    "x =  9.999000099990002 * 10 ** -5"
   ]
  },
  {
   "cell_type": "code",
   "execution_count": 34,
   "metadata": {},
   "outputs": [
    {
     "data": {
      "text/plain": [
       "True"
      ]
     },
     "execution_count": 34,
     "metadata": {},
     "output_type": "execute_result"
    }
   ],
   "source": [
    "x < 10 ** -4 "
   ]
  },
  {
   "cell_type": "markdown",
   "metadata": {},
   "source": [
    "# do the hypergeometric test on all differentially expressed genes"
   ]
  },
  {
   "cell_type": "code",
   "execution_count": 35,
   "metadata": {},
   "outputs": [],
   "source": [
    "from scipy.stats import hypergeom\n",
    "import matplotlib.pyplot as plt"
   ]
  },
  {
   "cell_type": "code",
   "execution_count": 36,
   "metadata": {},
   "outputs": [],
   "source": [
    "cfRNADEG_inCellType = np.intersect1d(cellTypeSpecificGenes, degGenes)"
   ]
  },
  {
   "cell_type": "code",
   "execution_count": 37,
   "metadata": {},
   "outputs": [
    {
     "data": {
      "text/plain": [
       "93"
      ]
     },
     "execution_count": 37,
     "metadata": {},
     "output_type": "execute_result"
    }
   ],
   "source": [
    "len(cfRNADEG_inCellType)"
   ]
  },
  {
   "cell_type": "code",
   "execution_count": 38,
   "metadata": {},
   "outputs": [],
   "source": [
    "[M, n, N] = [adata.var.shape[0], len(cellTypeSpecificGenes), len(degGenes)]\n",
    "\n",
    "rv = hypergeom(M, n, N)\n",
    "x = np.arange(0, n+1)\n",
    "pmf_intersection = rv.pmf(x)"
   ]
  },
  {
   "cell_type": "code",
   "execution_count": 39,
   "metadata": {},
   "outputs": [
    {
     "data": {
      "image/png": "[encoded data removed]",
      "text/plain": [
       "<Figure size 432x288 with 1 Axes>"
      ]
     },
     "metadata": {
      "needs_background": "light"
     },
     "output_type": "display_data"
    }
   ],
   "source": [
    "fig = plt.figure()\n",
    ">>> ax = fig.add_subplot(111)\n",
    ">>> ax.plot(x, pmf_intersection, 'bo')\n",
    ">>> ax.vlines(x, 0, pmf_intersection, lw=2)\n",
    ">>> ax.set_xlabel('# of cell type specific genes in our group of DEG')\n",
    ">>> ax.set_ylabel('hypergeom PMF')\n",
    ">>> plt.show()"
   ]
  },
  {
   "cell_type": "code",
   "execution_count": 40,
   "metadata": {},
   "outputs": [
    {
     "data": {
      "text/plain": [
       "6.040157263242918e-11"
      ]
     },
     "execution_count": 40,
     "metadata": {},
     "output_type": "execute_result"
    }
   ],
   "source": [
    "# CDF is up to 93, you want greater than, so take the complement\n",
    "1  - hypergeom.cdf(len(cfRNADEG_inCellType), M, n, N)"
   ]
  },
  {
   "cell_type": "code",
   "execution_count": 41,
   "metadata": {},
   "outputs": [
    {
     "data": {
      "text/plain": [
       "True"
      ]
     },
     "execution_count": 41,
     "metadata": {},
     "output_type": "execute_result"
    }
   ],
   "source": [
    "6.040157263242918e-11 < 10 ** -10"
   ]
  },
  {
   "cell_type": "code",
   "execution_count": 42,
   "metadata": {},
   "outputs": [
    {
     "name": "stdout",
     "output_type": "stream",
     "text": [
      "\u001b[H\u001b[2J"
     ]
    }
   ],
   "source": [
    "clear all"
   ]
  }
 ],
 "metadata": {
  "kernelspec": {
   "display_name": "Python 3",
   "language": "python",
   "name": "python3"
  },
  "language_info": {
   "codemirror_mode": {
    "name": "ipython",
    "version": 3
   },
   "file_extension": ".py",
   "mimetype": "text/x-python",
   "name": "python",
   "nbconvert_exporter": "python",
   "pygments_lexer": "ipython3",
   "version": "3.6.12"
  }
 },
 "nbformat": 4,
 "nbformat_minor": 4
}
