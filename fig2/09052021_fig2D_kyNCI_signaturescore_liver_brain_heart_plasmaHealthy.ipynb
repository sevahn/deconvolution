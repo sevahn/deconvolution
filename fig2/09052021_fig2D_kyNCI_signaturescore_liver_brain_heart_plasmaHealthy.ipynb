{
 "cells": [
  {
   "cell_type": "code",
   "execution_count": 1,
   "metadata": {},
   "outputs": [],
   "source": [
    "import numpy as np\n",
    "import pandas as pd\n",
    "import scanpy as sc\n",
    "\n",
    "\n",
    "import matplotlib.pyplot as plt\n",
    "import seaborn as sns\n",
    "import matplotlib as mpl\n",
    "\n",
    "\n",
    "import sklearn.decomposition, sklearn.cluster\n",
    "from nheatmap import nhm, scripts\n",
    "import matplotlib.pyplot as plt\n",
    "import matplotlib as mpl\n",
    "\n",
    "\n",
    "import os\n",
    "\n",
    "#For editable text. Except latex text is still shapes\n",
    "mpl.rcParams['pdf.fonttype'] = 42\n",
    "mpl.rcParams['ps.fonttype'] = 42\n",
    "sns.set_style(\"whitegrid\")\n",
    "font = {'size' : 6}\n",
    "lines = {'linewidth' : 0.5}\n",
    "fig = {'figsize' : (2.5, 1.5)}\n",
    "mpl.rc('font', **font)\n",
    "mpl.rc('lines', **lines)\n",
    "mpl.rc('figure', **fig)\n",
    "\n",
    "#Set style\n",
    "sns.set(style = \"whitegrid\", palette=\"pastel\", color_codes=True)\n",
    "\n",
    "np.random.seed(229)\n",
    "\n",
    "\n",
    "from scipy.stats import mannwhitneyu"
   ]
  },
  {
   "cell_type": "code",
   "execution_count": 2,
   "metadata": {},
   "outputs": [],
   "source": [
    "figSavePath = \"/Users/kayaneh/Documents/deconvolution/figures/full_figure/maintext_revision1/\""
   ]
  },
  {
   "cell_type": "code",
   "execution_count": 3,
   "metadata": {},
   "outputs": [
    {
     "data": {
      "text/plain": [
       "'/Users/kayaneh/Documents/deconvolution/fig2_revision_git_private'"
      ]
     },
     "execution_count": 3,
     "metadata": {},
     "output_type": "execute_result"
    }
   ],
   "source": [
    "os.getcwd()"
   ]
  },
  {
   "cell_type": "code",
   "execution_count": 4,
   "metadata": {},
   "outputs": [],
   "source": [
    "def save_figure_pdf(fig, path_to_save):\n",
    "\t'''\n",
    "\tUtility fxn to save a figure without having to retype all the required options.\n",
    "\tInput:\n",
    "\t\tfig - a matplotlib.pyplot.figure instance with the figure you'd like to save\n",
    "\t\tpath_to_save - the path you'd like to save the figure to\n",
    "\tReturns: Nothing but there should now be a pdf version in 300 dpi with a transparent bkg at path_to_save\n",
    "\t'''\n",
    "\tfig.savefig(path_to_save, dpi = 300, bbox_inches = 'tight', transparent = True)"
   ]
  },
  {
   "cell_type": "code",
   "execution_count": 5,
   "metadata": {},
   "outputs": [
    {
     "data": {
      "text/html": [
       "<svg  width=\"385\" height=\"55\"><rect x=\"0\" y=\"0\" width=\"55\" height=\"55\" style=\"fill:#f25e74;stroke-width:2;stroke:rgb(255,255,255)\"/><rect x=\"55\" y=\"0\" width=\"55\" height=\"55\" style=\"fill:#026178;stroke-width:2;stroke:rgb(255,255,255)\"/><rect x=\"110\" y=\"0\" width=\"55\" height=\"55\" style=\"fill:#34a1c7;stroke-width:2;stroke:rgb(255,255,255)\"/><rect x=\"165\" y=\"0\" width=\"55\" height=\"55\" style=\"fill:#be0d73;stroke-width:2;stroke:rgb(255,255,255)\"/><rect x=\"220\" y=\"0\" width=\"55\" height=\"55\" style=\"fill:#fc9e5b;stroke-width:2;stroke:rgb(255,255,255)\"/><rect x=\"275\" y=\"0\" width=\"55\" height=\"55\" style=\"fill:#f96e61;stroke-width:2;stroke:rgb(255,255,255)\"/><rect x=\"330\" y=\"0\" width=\"55\" height=\"55\" style=\"fill:#34a1c7;stroke-width:2;stroke:rgb(255,255,255)\"/></svg>"
      ],
      "text/plain": [
       "[(0.9490196078431372, 0.3686274509803922, 0.4549019607843137),\n",
       " (0.00784313725490196, 0.3803921568627451, 0.47058823529411764),\n",
       " (0.20392156862745098, 0.6313725490196078, 0.7803921568627451),\n",
       " (0.7450980392156863, 0.050980392156862744, 0.45098039215686275),\n",
       " (0.9882352941176471, 0.6196078431372549, 0.3568627450980392),\n",
       " (0.9764705882352941, 0.43137254901960786, 0.3803921568627451),\n",
       " (0.20392156862745098, 0.6313725490196078, 0.7803921568627451)]"
      ]
     },
     "execution_count": 5,
     "metadata": {},
     "output_type": "execute_result"
    }
   ],
   "source": [
    "colors = [\"#F25E74\",  \"#026178\", \"#34A1C7\",  \"#BE0D73\", \"#FC9E5B\", \"#F96E61\", \"#34A1C7\"]\n",
    "color_pal = sns.color_palette(colors)\n",
    "color_pal"
   ]
  },
  {
   "cell_type": "code",
   "execution_count": 6,
   "metadata": {},
   "outputs": [],
   "source": [
    "tiss_pal = {\"Rest\": \"#165BAA\",\n",
    "         \"Liver\": \"#F25E74\",\n",
    "         \"Kidney Cortex\": \"#6DBBDF\",\n",
    "         \"Testis\": \"#BE0D73\",\n",
    "         \"Brain\": \"#34A1C7\"}\n",
    "\n",
    "cell_pal = {\"Proximal tubule\": tiss_pal[\"Kidney Cortex\"],\n",
    "           \"Hepatocyte\": tiss_pal[\"Liver\"]}"
   ]
  },
  {
   "cell_type": "code",
   "execution_count": 7,
   "metadata": {},
   "outputs": [],
   "source": [
    "brainPath = \"/Users/kayaneh/Documents/deconvolution/brain/\"\n",
    "liverPath = \"/Users/kayaneh/Documents/deconvolution/livertox/\""
   ]
  },
  {
   "cell_type": "code",
   "execution_count": 8,
   "metadata": {},
   "outputs": [
    {
     "data": {
      "text/plain": [
       "'/Users/kayaneh/Documents/deconvolution/fig2_revision_git_private'"
      ]
     },
     "execution_count": 8,
     "metadata": {},
     "output_type": "execute_result"
    }
   ],
   "source": [
    "import os\n",
    "os.getcwd()"
   ]
  },
  {
   "cell_type": "code",
   "execution_count": 9,
   "metadata": {},
   "outputs": [],
   "source": [
    "liver = pd.read_csv(\"../signatures_git/gini6_perCluster_liver_12102020.csv\",\n",
    "                   index_col = 0)\n",
    "\n",
    "kidney = pd.read_csv(\"../signatures_git/gini6_perCluster_kidney_12072020.csv\",\n",
    "                   index_col = 0)\n",
    "\n",
    "brain = pd.read_csv(\"../signatures_git/gini6_perCluster_brain_NORMAL_01212021.csv\",\n",
    "                   index_col = 0)\n",
    "\n",
    "heart = pd.read_csv(\"../signatures_git/gini6_perCluster_heart_03112021.csv\",\n",
    "                   sep = \",\", index_col = 0)"
   ]
  },
  {
   "cell_type": "code",
   "execution_count": 10,
   "metadata": {},
   "outputs": [
    {
     "name": "stdout",
     "output_type": "stream",
     "text": [
      "EPCAM+ bile duct cells-gini 1\n",
      "Hepatocytes-gini 144\n",
      "LSEC-gini 6\n",
      "MVEC-gini 1\n",
      "\n",
      "Connecting tubule-gini 1\n",
      "Epithelial progenitor cell-gini 2\n",
      "Intercalated cell-gini 9\n",
      "Pelvic epithelium-gini 1\n",
      "Podocyte-gini 5\n",
      "Principal cell-gini 3\n",
      "Proximal tubule-gini 47\n",
      "Thick ascending limb of Loop of Henle-gini 4\n",
      "\n",
      "Ast-gini 22\n",
      "Ex-gini 70\n",
      "In-gini 8\n",
      "Mic-gini 2\n",
      "Oli-gini 25\n",
      "Opc-gini 24\n",
      "\n",
      "Adipocytes-gini 2\n",
      "Atrial_Cardiomyocyte-gini 7\n",
      "Mesothelial-gini 2\n",
      "Pericytes-gini 1\n",
      "Ventricular_Cardiomyocyte-gini 6\n",
      "\n",
      "EVT 10\n",
      "SCT 6\n",
      "\n"
     ]
    }
   ],
   "source": [
    "heartSig = pd.read_csv(\"../signatures_git/heartGenes_forCIS_03152021.csv\",\n",
    "                      sep = \",\", index_col = 0).T\n",
    "\n",
    "livertoxpath = \"/Users/kayaneh/documents/deconvolution/livertox/\"\n",
    "\n",
    "kidneySig = pd.read_csv(\"../signatures_git/kidneyGenes_forCIS_01042020.csv\", \n",
    "                        index_col = 0).T\n",
    "placentaSig = pd.read_csv(\"../signatures_git/placenta_signature_forCIS_UNITED-TIECH-HEMANT_010120201.csv\",\n",
    "                         index_col = 0).T\n",
    "liverSig = pd.read_csv(\"../signatures_git/liverGenes_forCIS_12102020.csv\",\n",
    "                      index_col = 0).T\n",
    "\n",
    "\n",
    "brainpath = \"/Users/kayaneh/documents/deconvolution/alzheimers/\"\n",
    "brainSig = pd.read_csv( brainpath + \"brainGenes_forCIS_NORMAL_01212021.csv\",\n",
    "                      index_col = 0).T\n",
    "\n",
    "allTissSigs = [liverSig,kidneySig, brainSig, heartSig,placentaSig ]\n",
    "for tissSig in allTissSigs:\n",
    "    for cellInTiss in tissSig:\n",
    "        print(cellInTiss, len(tissSig[cellInTiss].dropna()))\n",
    "    print(\"\")"
   ]
  },
  {
   "cell_type": "code",
   "execution_count": 11,
   "metadata": {},
   "outputs": [
    {
     "name": "stdout",
     "output_type": "stream",
     "text": [
      "EPCAM+ bile duct cells-gini 1\n",
      "Hepatocytes-gini 144\n",
      "LSEC-gini 6\n",
      "MVEC-gini 1\n",
      "\n",
      "Connecting tubule-gini 1\n",
      "Epithelial progenitor cell-gini 2\n",
      "Intercalated cell-gini 9\n",
      "Pelvic epithelium-gini 1\n",
      "Podocyte-gini 5\n",
      "Principal cell-gini 3\n",
      "Proximal tubule-gini 47\n",
      "Thick ascending limb of Loop of Henle-gini 4\n",
      "\n",
      "Ast-gini 22\n",
      "Ex-gini 70\n",
      "In-gini 8\n",
      "Mic-gini 2\n",
      "Oli-gini 25\n",
      "Opc-gini 24\n",
      "\n",
      "Adipocytes-gini 2\n",
      "Atrial_Cardiomyocyte-gini 7\n",
      "Mesothelial-gini 2\n",
      "Pericytes-gini 1\n",
      "Ventricular_Cardiomyocyte-gini 6\n",
      "\n"
     ]
    }
   ],
   "source": [
    "allTissGiniDF = [liver, kidney, brain, heart]\n",
    "for tissGiniDF in allTissGiniDF:\n",
    "    for col in tissGiniDF:\n",
    "        print(col, len(tissGiniDF[col].dropna().tolist()))\n",
    "    print(\"\")"
   ]
  },
  {
   "cell_type": "code",
   "execution_count": 12,
   "metadata": {},
   "outputs": [],
   "source": [
    "def updateDEGDict(allDEGDict, giniDF):\n",
    "    for i in giniDF:\n",
    "        cellName = i.split(\"-\")[0]\n",
    "        geneList = giniDF[i].dropna().index.tolist()\n",
    "        if len(geneList) > 1:\n",
    "            allDEGDict[i] = geneList\n",
    "    return(allDEGDict)"
   ]
  },
  {
   "cell_type": "code",
   "execution_count": 13,
   "metadata": {},
   "outputs": [],
   "source": [
    "# make a dictionary carrying all the degs for all the cell types\n",
    "# then go through and get the sums locally\n",
    "\n",
    "allDEGDict = {}\n",
    "allDEGDict = updateDEGDict(allDEGDict, liver)\n",
    "allDEGDict = updateDEGDict(allDEGDict, brain)\n",
    "allDEGDict = updateDEGDict(allDEGDict, kidney)\n",
    "allDEGDict = updateDEGDict(allDEGDict, heart)"
   ]
  },
  {
   "cell_type": "markdown",
   "metadata": {},
   "source": [
    "# average technical replicates per biological replicate"
   ]
  },
  {
   "cell_type": "code",
   "execution_count": 14,
   "metadata": {},
   "outputs": [],
   "source": [
    "\n",
    "# this is the april TMM of the 5 biological replicates\n",
    "#aprilTMM = pd.read_csv(\"../fig1_git/epoAprilCPMTMM_04092021.csv\",\n",
    "#                       sep = \",\", index_col = 0)\n",
    "\n",
    "adBase = \"/Users/kayaneh/Documents/deconvolution/alzheimers/remapped_unstranded/\"\n",
    "\n",
    "ctsPath = adBase + \"allNCI_biologReplicates_postQC_cpmTMMPlasmaVol_unstrandedTS3_09022021.csv\"\n",
    "\n",
    "cts = pd.read_csv(ctsPath, index_col = (0,1) )\n",
    "\n",
    "aprilTMM = np.log(cts + 1)\n",
    "aprilTMM.columns = [int(i) for i in aprilTMM.columns]\n",
    "\n",
    "\"\"\"# get the average expression of the genes\n",
    "biologRepGeneAvgs = pd.DataFrame()\n",
    "for biologRep in allHealthyReplicates:\n",
    "    technicalReplicates = allHealthyReplicates[biologRep]\n",
    "    avgGeneCtsAcrossReps = aprilTMM[technicalReplicates].mean(axis = 1).to_frame()\n",
    "    avgGeneCtsAcrossReps.columns = [biologRep]\n",
    "    biologRepGeneAvgs = pd.concat([avgGeneCtsAcrossReps, biologRepGeneAvgs], \n",
    "                                  axis = 1)\n",
    "\n",
    "\"\"\"\n",
    "\n",
    "# drop the rows that are all zero\n",
    "biologRepGeneAvgs = aprilTMM\n",
    "biologRepGeneAvgs = biologRepGeneAvgs[(biologRepGeneAvgs.T != 0).any()]"
   ]
  },
  {
   "cell_type": "code",
   "execution_count": 15,
   "metadata": {},
   "outputs": [],
   "source": [
    "adMeta = pd.read_csv(adBase + \"allAD_metadata_FINAL.csv\",\n",
    "                    sep = \",\", index_col = 0)\n",
    "adMeta[\"Isolate\"] = [int(i) for i in adMeta[\"Isolate\"]]\n",
    "adMeta = adMeta[adMeta[\"Isolate\"].isin(aprilTMM.columns)]"
   ]
  },
  {
   "cell_type": "code",
   "execution_count": 16,
   "metadata": {},
   "outputs": [],
   "source": [
    "#kentuckyIsolateID = np.unique(adMeta[adMeta[\"Center\"] == \"University of Kentucky\"].index.tolist())\n",
    "kentuckyIsolateID = np.unique(adMeta[adMeta[\"Center\"] == \"BioIVT\"].index.tolist())"
   ]
  },
  {
   "cell_type": "code",
   "execution_count": 17,
   "metadata": {},
   "outputs": [
    {
     "name": "stderr",
     "output_type": "stream",
     "text": [
      "/Users/kayaneh/anaconda3/lib/python3.6/site-packages/pandas/core/frame.py:4170: SettingWithCopyWarning: \n",
      "A value is trying to be set on a copy of a slice from a DataFrame\n",
      "\n",
      "See the caveats in the documentation: https://pandas.pydata.org/pandas-docs/stable/user_guide/indexing.html#returning-a-view-versus-a-copy\n",
      "  errors=errors,\n"
     ]
    }
   ],
   "source": [
    "biologRepGeneAvgs.reset_index(inplace = True)\n",
    "biologRepGeneAvgs.set_index(\"gene_num\", inplace = True)\n",
    "biologRepGeneAvgs.drop(\"gene_name\", axis = \"columns\", inplace = True)"
   ]
  },
  {
   "cell_type": "code",
   "execution_count": 18,
   "metadata": {},
   "outputs": [
    {
     "data": {
      "text/plain": [
       "18"
      ]
     },
     "execution_count": 18,
     "metadata": {},
     "output_type": "execute_result"
    }
   ],
   "source": [
    "len(kentuckyIsolateID)"
   ]
  },
  {
   "cell_type": "code",
   "execution_count": 19,
   "metadata": {},
   "outputs": [],
   "source": [
    "biologRepGeneAvgs = biologRepGeneAvgs[kentuckyIsolateID]"
   ]
  },
  {
   "cell_type": "code",
   "execution_count": 20,
   "metadata": {},
   "outputs": [
    {
     "data": {
      "text/plain": [
       "(33500, 18)"
      ]
     },
     "execution_count": 20,
     "metadata": {},
     "output_type": "execute_result"
    }
   ],
   "source": [
    "biologRepGeneAvgs.shape"
   ]
  },
  {
   "cell_type": "markdown",
   "metadata": {},
   "source": [
    "# now do the CIS"
   ]
  },
  {
   "cell_type": "code",
   "execution_count": 21,
   "metadata": {},
   "outputs": [],
   "source": [
    "cisDF = pd.DataFrame()\n",
    "np.random.randint(229)\n",
    "for i in allDEGDict:\n",
    "    geneList = allDEGDict[i]\n",
    "    intersection = np.intersect1d(geneList, biologRepGeneAvgs.index.tolist())\n",
    "    missing = np.setdiff1d(geneList, biologRepGeneAvgs.index.tolist())\n",
    "    \n",
    "    inCF = biologRepGeneAvgs.loc[intersection].sum(axis = 0).to_frame()\n",
    "    cellName = i.split(\"-\")[0]\n",
    "    inCF.columns = [cellName]\n",
    "    \n",
    "\n",
    "    cisDF = pd.concat([cisDF, inCF], axis = 1)\n",
    "\n",
    "cisDF = cisDF.T\n"
   ]
  },
  {
   "cell_type": "code",
   "execution_count": 22,
   "metadata": {},
   "outputs": [
    {
     "data": {
      "text/html": [
       "<div>\n",
       "<style scoped>\n",
       "    .dataframe tbody tr th:only-of-type {\n",
       "        vertical-align: middle;\n",
       "    }\n",
       "\n",
       "    .dataframe tbody tr th {\n",
       "        vertical-align: top;\n",
       "    }\n",
       "\n",
       "    .dataframe thead th {\n",
       "        text-align: right;\n",
       "    }\n",
       "</style>\n",
       "<table border=\"1\" class=\"dataframe\">\n",
       "  <thead>\n",
       "    <tr style=\"text-align: right;\">\n",
       "      <th></th>\n",
       "      <th>17923</th>\n",
       "      <th>17924</th>\n",
       "      <th>17925</th>\n",
       "      <th>17926</th>\n",
       "      <th>17927</th>\n",
       "      <th>17929</th>\n",
       "      <th>17931</th>\n",
       "      <th>17932</th>\n",
       "      <th>17933</th>\n",
       "      <th>17934</th>\n",
       "      <th>17938</th>\n",
       "      <th>17940</th>\n",
       "      <th>17943</th>\n",
       "      <th>17944</th>\n",
       "      <th>17946</th>\n",
       "      <th>17947</th>\n",
       "      <th>17949</th>\n",
       "      <th>17953</th>\n",
       "    </tr>\n",
       "  </thead>\n",
       "  <tbody>\n",
       "    <tr>\n",
       "      <th>Hepatocytes</th>\n",
       "      <td>131.096679</td>\n",
       "      <td>93.425616</td>\n",
       "      <td>109.472905</td>\n",
       "      <td>84.468517</td>\n",
       "      <td>109.404668</td>\n",
       "      <td>96.069495</td>\n",
       "      <td>87.877233</td>\n",
       "      <td>106.225265</td>\n",
       "      <td>164.716483</td>\n",
       "      <td>122.181597</td>\n",
       "      <td>82.605999</td>\n",
       "      <td>123.739475</td>\n",
       "      <td>97.550400</td>\n",
       "      <td>96.559329</td>\n",
       "      <td>110.111303</td>\n",
       "      <td>148.983973</td>\n",
       "      <td>94.073861</td>\n",
       "      <td>109.574588</td>\n",
       "    </tr>\n",
       "    <tr>\n",
       "      <th>LSEC</th>\n",
       "      <td>10.600296</td>\n",
       "      <td>8.117397</td>\n",
       "      <td>12.399107</td>\n",
       "      <td>8.988537</td>\n",
       "      <td>12.593597</td>\n",
       "      <td>10.898655</td>\n",
       "      <td>9.942958</td>\n",
       "      <td>16.555669</td>\n",
       "      <td>3.292156</td>\n",
       "      <td>6.203212</td>\n",
       "      <td>11.370274</td>\n",
       "      <td>19.349175</td>\n",
       "      <td>3.522391</td>\n",
       "      <td>10.170066</td>\n",
       "      <td>14.055422</td>\n",
       "      <td>10.930000</td>\n",
       "      <td>15.507430</td>\n",
       "      <td>7.117736</td>\n",
       "    </tr>\n",
       "    <tr>\n",
       "      <th>Ast</th>\n",
       "      <td>14.564226</td>\n",
       "      <td>16.254770</td>\n",
       "      <td>20.925835</td>\n",
       "      <td>14.789400</td>\n",
       "      <td>15.646875</td>\n",
       "      <td>20.492475</td>\n",
       "      <td>15.441249</td>\n",
       "      <td>24.097547</td>\n",
       "      <td>22.786046</td>\n",
       "      <td>23.907101</td>\n",
       "      <td>22.475768</td>\n",
       "      <td>23.034857</td>\n",
       "      <td>28.045477</td>\n",
       "      <td>17.706571</td>\n",
       "      <td>26.289729</td>\n",
       "      <td>27.470629</td>\n",
       "      <td>18.156095</td>\n",
       "      <td>18.911645</td>\n",
       "    </tr>\n",
       "    <tr>\n",
       "      <th>Ex</th>\n",
       "      <td>60.885084</td>\n",
       "      <td>67.085238</td>\n",
       "      <td>69.243877</td>\n",
       "      <td>56.091205</td>\n",
       "      <td>63.370299</td>\n",
       "      <td>73.323364</td>\n",
       "      <td>65.935409</td>\n",
       "      <td>84.358869</td>\n",
       "      <td>70.154067</td>\n",
       "      <td>59.444269</td>\n",
       "      <td>80.145296</td>\n",
       "      <td>74.991021</td>\n",
       "      <td>80.577684</td>\n",
       "      <td>83.262142</td>\n",
       "      <td>91.348891</td>\n",
       "      <td>70.389596</td>\n",
       "      <td>83.497904</td>\n",
       "      <td>72.041712</td>\n",
       "    </tr>\n",
       "    <tr>\n",
       "      <th>In</th>\n",
       "      <td>7.308013</td>\n",
       "      <td>7.198574</td>\n",
       "      <td>5.625108</td>\n",
       "      <td>6.212588</td>\n",
       "      <td>6.431502</td>\n",
       "      <td>6.545206</td>\n",
       "      <td>6.188760</td>\n",
       "      <td>7.261391</td>\n",
       "      <td>5.410421</td>\n",
       "      <td>7.340932</td>\n",
       "      <td>8.362696</td>\n",
       "      <td>6.623842</td>\n",
       "      <td>7.251781</td>\n",
       "      <td>9.328206</td>\n",
       "      <td>13.027187</td>\n",
       "      <td>6.170821</td>\n",
       "      <td>14.884626</td>\n",
       "      <td>4.568044</td>\n",
       "    </tr>\n",
       "    <tr>\n",
       "      <th>Mic</th>\n",
       "      <td>7.122575</td>\n",
       "      <td>7.030483</td>\n",
       "      <td>8.729153</td>\n",
       "      <td>7.889306</td>\n",
       "      <td>6.621074</td>\n",
       "      <td>6.843182</td>\n",
       "      <td>7.855474</td>\n",
       "      <td>10.055584</td>\n",
       "      <td>2.830986</td>\n",
       "      <td>7.321577</td>\n",
       "      <td>7.132668</td>\n",
       "      <td>7.548720</td>\n",
       "      <td>8.137174</td>\n",
       "      <td>7.252153</td>\n",
       "      <td>8.133508</td>\n",
       "      <td>7.355834</td>\n",
       "      <td>7.471609</td>\n",
       "      <td>6.586045</td>\n",
       "    </tr>\n",
       "    <tr>\n",
       "      <th>Oli</th>\n",
       "      <td>24.871685</td>\n",
       "      <td>25.129081</td>\n",
       "      <td>27.386986</td>\n",
       "      <td>24.355726</td>\n",
       "      <td>24.909284</td>\n",
       "      <td>29.509414</td>\n",
       "      <td>28.781568</td>\n",
       "      <td>31.767127</td>\n",
       "      <td>25.740419</td>\n",
       "      <td>25.103656</td>\n",
       "      <td>28.052390</td>\n",
       "      <td>32.307572</td>\n",
       "      <td>32.905388</td>\n",
       "      <td>23.799520</td>\n",
       "      <td>34.081925</td>\n",
       "      <td>32.547077</td>\n",
       "      <td>41.244001</td>\n",
       "      <td>32.998263</td>\n",
       "    </tr>\n",
       "    <tr>\n",
       "      <th>Opc</th>\n",
       "      <td>9.108450</td>\n",
       "      <td>9.440471</td>\n",
       "      <td>9.104301</td>\n",
       "      <td>7.547242</td>\n",
       "      <td>12.479452</td>\n",
       "      <td>13.760219</td>\n",
       "      <td>6.403525</td>\n",
       "      <td>15.326209</td>\n",
       "      <td>23.263779</td>\n",
       "      <td>13.910823</td>\n",
       "      <td>5.979283</td>\n",
       "      <td>12.393121</td>\n",
       "      <td>15.386971</td>\n",
       "      <td>16.166664</td>\n",
       "      <td>18.647502</td>\n",
       "      <td>15.151776</td>\n",
       "      <td>22.997565</td>\n",
       "      <td>13.177423</td>\n",
       "    </tr>\n",
       "    <tr>\n",
       "      <th>Epithelial progenitor cell</th>\n",
       "      <td>0.158761</td>\n",
       "      <td>0.000000</td>\n",
       "      <td>0.000000</td>\n",
       "      <td>0.176039</td>\n",
       "      <td>0.000000</td>\n",
       "      <td>0.391661</td>\n",
       "      <td>0.912527</td>\n",
       "      <td>0.000000</td>\n",
       "      <td>1.097035</td>\n",
       "      <td>2.164378</td>\n",
       "      <td>1.149323</td>\n",
       "      <td>0.000000</td>\n",
       "      <td>3.974017</td>\n",
       "      <td>1.467311</td>\n",
       "      <td>1.358984</td>\n",
       "      <td>2.152933</td>\n",
       "      <td>0.872529</td>\n",
       "      <td>0.000000</td>\n",
       "    </tr>\n",
       "    <tr>\n",
       "      <th>Intercalated cell</th>\n",
       "      <td>5.859514</td>\n",
       "      <td>5.476899</td>\n",
       "      <td>4.913488</td>\n",
       "      <td>5.314934</td>\n",
       "      <td>3.120619</td>\n",
       "      <td>4.773347</td>\n",
       "      <td>2.893973</td>\n",
       "      <td>5.450118</td>\n",
       "      <td>4.137951</td>\n",
       "      <td>5.369962</td>\n",
       "      <td>5.424254</td>\n",
       "      <td>3.880777</td>\n",
       "      <td>6.026626</td>\n",
       "      <td>6.690678</td>\n",
       "      <td>6.076201</td>\n",
       "      <td>5.873276</td>\n",
       "      <td>7.142997</td>\n",
       "      <td>2.829433</td>\n",
       "    </tr>\n",
       "    <tr>\n",
       "      <th>Podocyte</th>\n",
       "      <td>6.056209</td>\n",
       "      <td>5.679891</td>\n",
       "      <td>5.476226</td>\n",
       "      <td>5.848336</td>\n",
       "      <td>4.941177</td>\n",
       "      <td>6.229982</td>\n",
       "      <td>5.147991</td>\n",
       "      <td>5.289459</td>\n",
       "      <td>5.487276</td>\n",
       "      <td>2.921019</td>\n",
       "      <td>7.120568</td>\n",
       "      <td>3.460597</td>\n",
       "      <td>2.533658</td>\n",
       "      <td>3.193061</td>\n",
       "      <td>4.894492</td>\n",
       "      <td>4.157016</td>\n",
       "      <td>6.026471</td>\n",
       "      <td>6.809813</td>\n",
       "    </tr>\n",
       "    <tr>\n",
       "      <th>Principal cell</th>\n",
       "      <td>2.947911</td>\n",
       "      <td>3.353564</td>\n",
       "      <td>3.523730</td>\n",
       "      <td>2.955838</td>\n",
       "      <td>2.199536</td>\n",
       "      <td>3.273747</td>\n",
       "      <td>2.680124</td>\n",
       "      <td>1.609295</td>\n",
       "      <td>0.000000</td>\n",
       "      <td>1.589697</td>\n",
       "      <td>2.010649</td>\n",
       "      <td>3.129462</td>\n",
       "      <td>2.367086</td>\n",
       "      <td>2.037983</td>\n",
       "      <td>1.080364</td>\n",
       "      <td>2.152933</td>\n",
       "      <td>0.872529</td>\n",
       "      <td>2.163365</td>\n",
       "    </tr>\n",
       "    <tr>\n",
       "      <th>Proximal tubule</th>\n",
       "      <td>29.321232</td>\n",
       "      <td>22.500545</td>\n",
       "      <td>23.378766</td>\n",
       "      <td>23.924788</td>\n",
       "      <td>24.791239</td>\n",
       "      <td>27.436143</td>\n",
       "      <td>20.455796</td>\n",
       "      <td>30.006310</td>\n",
       "      <td>36.386329</td>\n",
       "      <td>25.129323</td>\n",
       "      <td>23.037601</td>\n",
       "      <td>32.233510</td>\n",
       "      <td>31.415144</td>\n",
       "      <td>25.361335</td>\n",
       "      <td>34.699818</td>\n",
       "      <td>29.311233</td>\n",
       "      <td>20.690708</td>\n",
       "      <td>25.470310</td>\n",
       "    </tr>\n",
       "    <tr>\n",
       "      <th>Thick ascending limb of Loop of Henle</th>\n",
       "      <td>0.711927</td>\n",
       "      <td>0.313102</td>\n",
       "      <td>1.463791</td>\n",
       "      <td>0.551626</td>\n",
       "      <td>0.251893</td>\n",
       "      <td>1.282966</td>\n",
       "      <td>0.000000</td>\n",
       "      <td>4.812922</td>\n",
       "      <td>0.000000</td>\n",
       "      <td>1.082189</td>\n",
       "      <td>0.000000</td>\n",
       "      <td>2.917194</td>\n",
       "      <td>2.533658</td>\n",
       "      <td>0.000000</td>\n",
       "      <td>2.055421</td>\n",
       "      <td>1.569665</td>\n",
       "      <td>0.000000</td>\n",
       "      <td>1.579016</td>\n",
       "    </tr>\n",
       "    <tr>\n",
       "      <th>Adipocytes</th>\n",
       "      <td>3.087061</td>\n",
       "      <td>1.688607</td>\n",
       "      <td>0.830928</td>\n",
       "      <td>1.608826</td>\n",
       "      <td>1.862948</td>\n",
       "      <td>2.868234</td>\n",
       "      <td>1.886554</td>\n",
       "      <td>1.357950</td>\n",
       "      <td>2.395744</td>\n",
       "      <td>1.589697</td>\n",
       "      <td>0.000000</td>\n",
       "      <td>2.383035</td>\n",
       "      <td>1.076112</td>\n",
       "      <td>0.000000</td>\n",
       "      <td>1.080364</td>\n",
       "      <td>1.993574</td>\n",
       "      <td>2.075028</td>\n",
       "      <td>2.797326</td>\n",
       "    </tr>\n",
       "    <tr>\n",
       "      <th>Atrial_Cardiomyocyte</th>\n",
       "      <td>3.099242</td>\n",
       "      <td>3.145341</td>\n",
       "      <td>3.526521</td>\n",
       "      <td>2.010134</td>\n",
       "      <td>4.789739</td>\n",
       "      <td>5.363724</td>\n",
       "      <td>2.581273</td>\n",
       "      <td>6.841519</td>\n",
       "      <td>5.559080</td>\n",
       "      <td>3.343422</td>\n",
       "      <td>5.126852</td>\n",
       "      <td>4.394470</td>\n",
       "      <td>10.316140</td>\n",
       "      <td>4.027537</td>\n",
       "      <td>5.116250</td>\n",
       "      <td>8.138743</td>\n",
       "      <td>6.365514</td>\n",
       "      <td>5.556840</td>\n",
       "    </tr>\n",
       "    <tr>\n",
       "      <th>Mesothelial</th>\n",
       "      <td>0.865614</td>\n",
       "      <td>1.105964</td>\n",
       "      <td>1.910660</td>\n",
       "      <td>1.106648</td>\n",
       "      <td>1.817467</td>\n",
       "      <td>1.956796</td>\n",
       "      <td>1.497164</td>\n",
       "      <td>2.245209</td>\n",
       "      <td>2.195121</td>\n",
       "      <td>0.000000</td>\n",
       "      <td>2.010649</td>\n",
       "      <td>0.000000</td>\n",
       "      <td>1.916887</td>\n",
       "      <td>0.981621</td>\n",
       "      <td>0.000000</td>\n",
       "      <td>0.000000</td>\n",
       "      <td>0.872529</td>\n",
       "      <td>2.003771</td>\n",
       "    </tr>\n",
       "    <tr>\n",
       "      <th>Ventricular_Cardiomyocyte</th>\n",
       "      <td>1.278710</td>\n",
       "      <td>2.068542</td>\n",
       "      <td>2.117539</td>\n",
       "      <td>0.870505</td>\n",
       "      <td>1.576957</td>\n",
       "      <td>2.037022</td>\n",
       "      <td>0.000000</td>\n",
       "      <td>3.033608</td>\n",
       "      <td>1.097035</td>\n",
       "      <td>3.754075</td>\n",
       "      <td>1.149323</td>\n",
       "      <td>0.738638</td>\n",
       "      <td>1.916887</td>\n",
       "      <td>2.774435</td>\n",
       "      <td>2.724725</td>\n",
       "      <td>3.886158</td>\n",
       "      <td>2.617586</td>\n",
       "      <td>1.579016</td>\n",
       "    </tr>\n",
       "  </tbody>\n",
       "</table>\n",
       "</div>"
      ],
      "text/plain": [
       "                                            17923      17924       17925  \\\n",
       "Hepatocytes                            131.096679  93.425616  109.472905   \n",
       "LSEC                                    10.600296   8.117397   12.399107   \n",
       "Ast                                     14.564226  16.254770   20.925835   \n",
       "Ex                                      60.885084  67.085238   69.243877   \n",
       "In                                       7.308013   7.198574    5.625108   \n",
       "Mic                                      7.122575   7.030483    8.729153   \n",
       "Oli                                     24.871685  25.129081   27.386986   \n",
       "Opc                                      9.108450   9.440471    9.104301   \n",
       "Epithelial progenitor cell               0.158761   0.000000    0.000000   \n",
       "Intercalated cell                        5.859514   5.476899    4.913488   \n",
       "Podocyte                                 6.056209   5.679891    5.476226   \n",
       "Principal cell                           2.947911   3.353564    3.523730   \n",
       "Proximal tubule                         29.321232  22.500545   23.378766   \n",
       "Thick ascending limb of Loop of Henle    0.711927   0.313102    1.463791   \n",
       "Adipocytes                               3.087061   1.688607    0.830928   \n",
       "Atrial_Cardiomyocyte                     3.099242   3.145341    3.526521   \n",
       "Mesothelial                              0.865614   1.105964    1.910660   \n",
       "Ventricular_Cardiomyocyte                1.278710   2.068542    2.117539   \n",
       "\n",
       "                                           17926       17927      17929  \\\n",
       "Hepatocytes                            84.468517  109.404668  96.069495   \n",
       "LSEC                                    8.988537   12.593597  10.898655   \n",
       "Ast                                    14.789400   15.646875  20.492475   \n",
       "Ex                                     56.091205   63.370299  73.323364   \n",
       "In                                      6.212588    6.431502   6.545206   \n",
       "Mic                                     7.889306    6.621074   6.843182   \n",
       "Oli                                    24.355726   24.909284  29.509414   \n",
       "Opc                                     7.547242   12.479452  13.760219   \n",
       "Epithelial progenitor cell              0.176039    0.000000   0.391661   \n",
       "Intercalated cell                       5.314934    3.120619   4.773347   \n",
       "Podocyte                                5.848336    4.941177   6.229982   \n",
       "Principal cell                          2.955838    2.199536   3.273747   \n",
       "Proximal tubule                        23.924788   24.791239  27.436143   \n",
       "Thick ascending limb of Loop of Henle   0.551626    0.251893   1.282966   \n",
       "Adipocytes                              1.608826    1.862948   2.868234   \n",
       "Atrial_Cardiomyocyte                    2.010134    4.789739   5.363724   \n",
       "Mesothelial                             1.106648    1.817467   1.956796   \n",
       "Ventricular_Cardiomyocyte               0.870505    1.576957   2.037022   \n",
       "\n",
       "                                           17931       17932       17933  \\\n",
       "Hepatocytes                            87.877233  106.225265  164.716483   \n",
       "LSEC                                    9.942958   16.555669    3.292156   \n",
       "Ast                                    15.441249   24.097547   22.786046   \n",
       "Ex                                     65.935409   84.358869   70.154067   \n",
       "In                                      6.188760    7.261391    5.410421   \n",
       "Mic                                     7.855474   10.055584    2.830986   \n",
       "Oli                                    28.781568   31.767127   25.740419   \n",
       "Opc                                     6.403525   15.326209   23.263779   \n",
       "Epithelial progenitor cell              0.912527    0.000000    1.097035   \n",
       "Intercalated cell                       2.893973    5.450118    4.137951   \n",
       "Podocyte                                5.147991    5.289459    5.487276   \n",
       "Principal cell                          2.680124    1.609295    0.000000   \n",
       "Proximal tubule                        20.455796   30.006310   36.386329   \n",
       "Thick ascending limb of Loop of Henle   0.000000    4.812922    0.000000   \n",
       "Adipocytes                              1.886554    1.357950    2.395744   \n",
       "Atrial_Cardiomyocyte                    2.581273    6.841519    5.559080   \n",
       "Mesothelial                             1.497164    2.245209    2.195121   \n",
       "Ventricular_Cardiomyocyte               0.000000    3.033608    1.097035   \n",
       "\n",
       "                                            17934      17938       17940  \\\n",
       "Hepatocytes                            122.181597  82.605999  123.739475   \n",
       "LSEC                                     6.203212  11.370274   19.349175   \n",
       "Ast                                     23.907101  22.475768   23.034857   \n",
       "Ex                                      59.444269  80.145296   74.991021   \n",
       "In                                       7.340932   8.362696    6.623842   \n",
       "Mic                                      7.321577   7.132668    7.548720   \n",
       "Oli                                     25.103656  28.052390   32.307572   \n",
       "Opc                                     13.910823   5.979283   12.393121   \n",
       "Epithelial progenitor cell               2.164378   1.149323    0.000000   \n",
       "Intercalated cell                        5.369962   5.424254    3.880777   \n",
       "Podocyte                                 2.921019   7.120568    3.460597   \n",
       "Principal cell                           1.589697   2.010649    3.129462   \n",
       "Proximal tubule                         25.129323  23.037601   32.233510   \n",
       "Thick ascending limb of Loop of Henle    1.082189   0.000000    2.917194   \n",
       "Adipocytes                               1.589697   0.000000    2.383035   \n",
       "Atrial_Cardiomyocyte                     3.343422   5.126852    4.394470   \n",
       "Mesothelial                              0.000000   2.010649    0.000000   \n",
       "Ventricular_Cardiomyocyte                3.754075   1.149323    0.738638   \n",
       "\n",
       "                                           17943      17944       17946  \\\n",
       "Hepatocytes                            97.550400  96.559329  110.111303   \n",
       "LSEC                                    3.522391  10.170066   14.055422   \n",
       "Ast                                    28.045477  17.706571   26.289729   \n",
       "Ex                                     80.577684  83.262142   91.348891   \n",
       "In                                      7.251781   9.328206   13.027187   \n",
       "Mic                                     8.137174   7.252153    8.133508   \n",
       "Oli                                    32.905388  23.799520   34.081925   \n",
       "Opc                                    15.386971  16.166664   18.647502   \n",
       "Epithelial progenitor cell              3.974017   1.467311    1.358984   \n",
       "Intercalated cell                       6.026626   6.690678    6.076201   \n",
       "Podocyte                                2.533658   3.193061    4.894492   \n",
       "Principal cell                          2.367086   2.037983    1.080364   \n",
       "Proximal tubule                        31.415144  25.361335   34.699818   \n",
       "Thick ascending limb of Loop of Henle   2.533658   0.000000    2.055421   \n",
       "Adipocytes                              1.076112   0.000000    1.080364   \n",
       "Atrial_Cardiomyocyte                   10.316140   4.027537    5.116250   \n",
       "Mesothelial                             1.916887   0.981621    0.000000   \n",
       "Ventricular_Cardiomyocyte               1.916887   2.774435    2.724725   \n",
       "\n",
       "                                            17947      17949       17953  \n",
       "Hepatocytes                            148.983973  94.073861  109.574588  \n",
       "LSEC                                    10.930000  15.507430    7.117736  \n",
       "Ast                                     27.470629  18.156095   18.911645  \n",
       "Ex                                      70.389596  83.497904   72.041712  \n",
       "In                                       6.170821  14.884626    4.568044  \n",
       "Mic                                      7.355834   7.471609    6.586045  \n",
       "Oli                                     32.547077  41.244001   32.998263  \n",
       "Opc                                     15.151776  22.997565   13.177423  \n",
       "Epithelial progenitor cell               2.152933   0.872529    0.000000  \n",
       "Intercalated cell                        5.873276   7.142997    2.829433  \n",
       "Podocyte                                 4.157016   6.026471    6.809813  \n",
       "Principal cell                           2.152933   0.872529    2.163365  \n",
       "Proximal tubule                         29.311233  20.690708   25.470310  \n",
       "Thick ascending limb of Loop of Henle    1.569665   0.000000    1.579016  \n",
       "Adipocytes                               1.993574   2.075028    2.797326  \n",
       "Atrial_Cardiomyocyte                     8.138743   6.365514    5.556840  \n",
       "Mesothelial                              0.000000   0.872529    2.003771  \n",
       "Ventricular_Cardiomyocyte                3.886158   2.617586    1.579016  "
      ]
     },
     "execution_count": 22,
     "metadata": {},
     "output_type": "execute_result"
    }
   ],
   "source": [
    "cisDF"
   ]
  },
  {
   "cell_type": "code",
   "execution_count": 23,
   "metadata": {},
   "outputs": [],
   "source": [
    "cisDF[\"celltype\"] = cisDF.index"
   ]
  },
  {
   "cell_type": "code",
   "execution_count": 24,
   "metadata": {},
   "outputs": [],
   "source": [
    "cisDF = cisDF[cisDF[\"celltype\"] != \"Mic\"]"
   ]
  },
  {
   "cell_type": "code",
   "execution_count": 25,
   "metadata": {},
   "outputs": [],
   "source": [
    "meltedCIS = cisDF.melt(value_vars = cisDF.columns[:-1], id_vars = [\"celltype\"])"
   ]
  },
  {
   "cell_type": "code",
   "execution_count": 26,
   "metadata": {},
   "outputs": [],
   "source": [
    "# eliminate microglia; inadequate # of marker genes \n",
    "meltedCIS = meltedCIS[meltedCIS[\"celltype\"]!= \"Mic\"]"
   ]
  },
  {
   "cell_type": "code",
   "execution_count": 27,
   "metadata": {},
   "outputs": [],
   "source": [
    "goodCells = ['Ast', 'Ex', 'In','Oli','Opc',\n",
    "             'Hepatocytes',\n",
    "             'Atrial_Cardiomyocyte',\n",
    "             'Ventricular_Cardiomyocyte']\n",
    "\n",
    "goodCells = ['Ast', 'Ex', 'In','Oli','Opc',\n",
    "             'Hepatocytes']\n",
    "             #'Atrial_Cardiomyocyte',\n",
    "             #'Ventricular_Cardiomyocyte']\n",
    "        \n",
    "goodCells = ['Ast', 'Ex', 'In','Oli','Opc']"
   ]
  },
  {
   "cell_type": "code",
   "execution_count": 28,
   "metadata": {},
   "outputs": [],
   "source": [
    "meltSubset = meltedCIS[meltedCIS[\"celltype\"].isin(goodCells)]"
   ]
  },
  {
   "cell_type": "code",
   "execution_count": 29,
   "metadata": {},
   "outputs": [],
   "source": [
    "celltype_pal = {'Ast': '#96C9DC',\n",
    " 'Ex': '#fb5607',\n",
    " 'In': '#ff006e',\n",
    " 'Oli': '#8338ec',\n",
    " 'Opc': '#3a86ff',\n",
    "'Hepatocytes': '#8A1C7C',\n",
    "'Ventricular_Cardiomyocyte': '#62b6cb', \n",
    "'Atrial_Cardiomyocyte': '#5fa8d3'}"
   ]
  },
  {
   "cell_type": "code",
   "execution_count": 31,
   "metadata": {},
   "outputs": [
    {
     "name": "stderr",
     "output_type": "stream",
     "text": [
      "/Users/kayaneh/anaconda3/lib/python3.6/site-packages/seaborn/categorical.py:1296: UserWarning: 11.1% of the points cannot be placed; you may want to decrease the size of the markers or use stripplot.\n",
      "  warnings.warn(msg, UserWarning)\n"
     ]
    },
    {
     "data": {
      "text/plain": [
       "Text(0, 0.5, 'Signature Score')"
      ]
     },
     "execution_count": 31,
     "metadata": {},
     "output_type": "execute_result"
    },
    {
     "data": {
      "image/png": "[encoded data removed]",
      "text/plain": [
       "<Figure size 360x360 with 1 Axes>"
      ]
     },
     "metadata": {
      "needs_background": "light"
     },
     "output_type": "display_data"
    }
   ],
   "source": [
    "plt.figure(figsize = (5, 5))\n",
    "sns.boxplot(data = meltSubset, x = \"celltype\", y = \"value\", \n",
    "            palette = celltype_pal)\n",
    "sns.swarmplot(data = meltSubset, x = \"celltype\", y = \"value\",\n",
    "             color = \"0.25\")\n",
    "plt.ylim(0,110);\n",
    "plt.yticks(np.arange(0,115,5))\n",
    "plt.xticks(rotation = \"90\");\n",
    "plt.ylabel(\"Signature Score\")\n",
    "#save_figure_pdf(plt, figSavePath + \"liverBrainHeart_CIS_together_03222021.pdf\")"
   ]
  },
  {
   "cell_type": "code",
   "execution_count": 32,
   "metadata": {},
   "outputs": [
    {
     "name": "stderr",
     "output_type": "stream",
     "text": [
      "/Users/kayaneh/anaconda3/lib/python3.6/site-packages/ipykernel_launcher.py:1: SettingWithCopyWarning: \n",
      "A value is trying to be set on a copy of a slice from a DataFrame.\n",
      "Try using .loc[row_indexer,col_indexer] = value instead\n",
      "\n",
      "See the caveats in the documentation: https://pandas.pydata.org/pandas-docs/stable/user_guide/indexing.html#returning-a-view-versus-a-copy\n",
      "  \"\"\"Entry point for launching an IPython kernel.\n"
     ]
    }
   ],
   "source": [
    "meltSubset[\"log(value)\"] = np.log(meltSubset[\"value\"])"
   ]
  },
  {
   "cell_type": "code",
   "execution_count": 32,
   "metadata": {},
   "outputs": [
    {
     "name": "stderr",
     "output_type": "stream",
     "text": [
      "/Users/kayaneh/anaconda3/lib/python3.6/site-packages/ipykernel_launcher.py:1: SettingWithCopyWarning: \n",
      "A value is trying to be set on a copy of a slice from a DataFrame\n",
      "\n",
      "See the caveats in the documentation: https://pandas.pydata.org/pandas-docs/stable/user_guide/indexing.html#returning-a-view-versus-a-copy\n",
      "  \"\"\"Entry point for launching an IPython kernel.\n"
     ]
    }
   ],
   "source": [
    "meltSubset.sort_values(by = \"log(value)\", ascending = False, inplace = True)"
   ]
  },
  {
   "cell_type": "code",
   "execution_count": 35,
   "metadata": {
    "scrolled": false
   },
   "outputs": [
    {
     "data": {
      "image/png": "[encoded data removed]",
      "text/plain": [
       "<Figure size 360x360 with 1 Axes>"
      ]
     },
     "metadata": {
      "needs_background": "light"
     },
     "output_type": "display_data"
    }
   ],
   "source": [
    "plt.figure(figsize = (5, 5))\n",
    "plt.semilogy()\n",
    "sns.boxplot(data = meltSubset, x = \"celltype\", y = \"value\", \n",
    "            palette = celltype_pal, fliersize = 0, order = [\"Ex\", \"Oli\", \"Ast\", \"Opc\", \"In\"])\n",
    "sns.swarmplot(data = meltSubset, x = \"celltype\", y = \"value\",\n",
    "             color = \"0.25\", size = 3, order = [\"Ex\", \"Oli\", \"Ast\", \"Opc\", \"In\"])\n",
    "\n",
    "\n",
    "plt.ylim(10 ** 0, 10 ** 2);\n",
    "#plt.yticks(np.arange(-2,6,1))\n",
    "plt.xticks(rotation = \"90\");\n",
    "plt.ylabel(\"Log(Signature Score)\")\n",
    "save_figure_pdf(plt, \"brain_bioIVT_NCI_CIS_together_LOGGEDSIGSCORE_11302021.pdf\")\n",
    "#save_figure_pdf(plt, figSavePath + \"liverBrain_kyNCI_CIS_together_LOGGEDSIGSCORE_09052021.pdf\")"
   ]
  },
  {
   "cell_type": "code",
   "execution_count": 37,
   "metadata": {},
   "outputs": [
    {
     "data": {
      "text/plain": [
       "'/Users/kayaneh/Documents/deconvolution/fig2_revision_git_private'"
      ]
     },
     "execution_count": 37,
     "metadata": {},
     "output_type": "execute_result"
    }
   ],
   "source": [
    "import os\n",
    "os.getcwd()"
   ]
  },
  {
   "cell_type": "code",
   "execution_count": 34,
   "metadata": {},
   "outputs": [
    {
     "name": "stdout",
     "output_type": "stream",
     "text": [
      "\u001b[H\u001b[2J"
     ]
    }
   ],
   "source": [
    "clear all"
   ]
  },
  {
   "cell_type": "code",
   "execution_count": null,
   "metadata": {},
   "outputs": [],
   "source": []
  }
 ],
 "metadata": {
  "kernelspec": {
   "display_name": "Python 3",
   "language": "python",
   "name": "python3"
  },
  "language_info": {
   "codemirror_mode": {
    "name": "ipython",
    "version": 3
   },
   "file_extension": ".py",
   "mimetype": "text/x-python",
   "name": "python",
   "nbconvert_exporter": "python",
   "pygments_lexer": "ipython3",
   "version": "3.6.12"
  }
 },
 "nbformat": 4,
 "nbformat_minor": 4
}
