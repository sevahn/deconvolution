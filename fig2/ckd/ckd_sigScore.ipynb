{
 "cells": [
  {
   "cell_type": "code",
   "execution_count": 1,
   "metadata": {},
   "outputs": [],
   "source": [
    "import numpy as np\n",
    "import pandas as pd\n",
    "import scanpy as sc\n",
    "\n",
    "from scipy.stats import mannwhitneyu\n",
    "\n",
    "import matplotlib.pyplot as plt\n",
    "import seaborn as sns\n",
    "import matplotlib as mpl\n",
    "\n",
    "#For editable text. Except latex text is still shapes sadly\n",
    "mpl.rcParams['pdf.fonttype'] = 42\n",
    "mpl.rcParams['ps.fonttype'] = 42\n",
    "sns.set_style(\"whitegrid\")\n",
    "font = {'size' : 5}\n",
    "lines = {'linewidth' : 0.5}\n",
    "fig = {'figsize' : (2.5, 1.5)}\n",
    "mpl.rc('font', **font)\n",
    "mpl.rc('lines', **lines)\n",
    "mpl.rc('figure', **fig)\n",
    "\n",
    "#Set style\n",
    "sns.set(style=\"whitegrid\", palette=\"pastel\", color_codes=True)\n",
    "\n",
    "# 09222021_sigScore_ckd_FINAL.ipynb"
   ]
  },
  {
   "cell_type": "code",
   "execution_count": 2,
   "metadata": {},
   "outputs": [],
   "source": [
    "sourceDataPath = \"/Users/kayaneh/Documents/deconvolution/aip/source_data/fig2_sourceData.xlsx\""
   ]
  },
  {
   "cell_type": "code",
   "execution_count": 3,
   "metadata": {},
   "outputs": [],
   "source": [
    "def save_figure_pdf(fig, path_to_save):\n",
    "\t'''\n",
    "\tUtility fxn to save a figure without having to retype all the required options.\n",
    "\tInput:\n",
    "\t\tfig - a matplotlib.pyplot.figure instance with the figure you'd like to save\n",
    "\t\tpath_to_save - the path you'd like to save the figure to\n",
    "\tReturns: Nothing but there should now be a pdf version in 300 dpi with a transparent bkg at path_to_save\n",
    "\t'''\n",
    "\tfig.savefig(path_to_save, dpi = 300, bbox_inches = 'tight', transparent = True)"
   ]
  },
  {
   "cell_type": "markdown",
   "metadata": {},
   "source": [
    "# necessary helper fns"
   ]
  },
  {
   "cell_type": "code",
   "execution_count": 4,
   "metadata": {},
   "outputs": [],
   "source": [
    "def makeSigDict(sigPath):\n",
    "    cellTypeSigs = pd.read_csv(sigPath, sep = \",\", index_col = 0).T\n",
    "    \n",
    "    # based on file structure, transpose to use ENSG paths\n",
    "    if \"gini\" in sigPath:\n",
    "        cellTypeSigs = cellTypeSigs.T\n",
    "    \n",
    "    sigDict = {}\n",
    "    for cellType in cellTypeSigs.columns:\n",
    "        sigDict[cellType] = cellTypeSigs[cellType].dropna().index.tolist()\n",
    "    \n",
    "    \n",
    "    return(sigDict)"
   ]
  },
  {
   "cell_type": "code",
   "execution_count": 6,
   "metadata": {},
   "outputs": [],
   "source": [
    "\"\"\"\n",
    "@param countsDF = dataframe with log-transformed CPM-TMM counts\n",
    "@param sigDict = dictionary with keys of str that are cell types and \n",
    "                values are lists of their unique marker genes\n",
    "\"\"\"\n",
    "\n",
    "def cis(countsDF, sigDict):\n",
    "    \n",
    "    cisRes = pd.DataFrame()\n",
    "    for cell in sigDict:  \n",
    "        \n",
    "        geneList = sigDict[cell]\n",
    "\n",
    "        intersection = np.intersect1d(geneList, countsDF.index.tolist())\n",
    "        \n",
    "        cellSig = countsDF.loc[intersection].sum(axis = 0).to_frame()\n",
    "        cellSig.columns = [cell + \"-CIS\"]\n",
    "        cisRes = pd.concat([cisRes, cellSig], axis = 1)\n",
    "        \n",
    "    return(cisRes)"
   ]
  },
  {
   "cell_type": "markdown",
   "metadata": {},
   "source": [
    "# read in the data"
   ]
  },
  {
   "cell_type": "code",
   "execution_count": 8,
   "metadata": {},
   "outputs": [],
   "source": [
    "epoAprilCPMTMM = pd.read_csv(\"/Users/kayaneh/Documents/deconvolution/molecstetho/remapped_unstranded/epoONLYCPMTMM_09222021_INTRON3.csv\",\n",
    "                             sep = \",\", index_col = [0, 1])\n",
    "\n",
    "ckdTMM = epoAprilCPMTMM"
   ]
  },
  {
   "cell_type": "code",
   "execution_count": 9,
   "metadata": {},
   "outputs": [],
   "source": [
    "ckdTMMLog = np.log(ckdTMM + 1)"
   ]
  },
  {
   "cell_type": "code",
   "execution_count": 10,
   "metadata": {},
   "outputs": [],
   "source": [
    "meta = pd.read_csv(\"epometadata.csv\", sep = \",\", index_col = 0)\n",
    "\n",
    "goodSamps = ckdTMM.columns.tolist()\n",
    "\n",
    "meta = meta[meta[\"Run\"].isin(goodSamps)]\n",
    "\n",
    "\n",
    "allMeta = meta # just care about epo cohort\n",
    "ckdTMM.fillna(0, inplace = True)"
   ]
  },
  {
   "cell_type": "code",
   "execution_count": 11,
   "metadata": {},
   "outputs": [],
   "source": [
    "meta[\"status\"] = [\"CKD\" if \"EPO\" in i else \"CTRL\" for i in meta[\"Patient\"]]"
   ]
  },
  {
   "cell_type": "code",
   "execution_count": 12,
   "metadata": {},
   "outputs": [
    {
     "data": {
      "text/plain": [
       "(array(['CKD', 'CTRL'], dtype=object), array([51,  9]))"
      ]
     },
     "execution_count": 12,
     "metadata": {},
     "output_type": "execute_result"
    }
   ],
   "source": [
    "np.unique(meta[\"status\"], return_counts = True)"
   ]
  },
  {
   "cell_type": "code",
   "execution_count": 13,
   "metadata": {},
   "outputs": [],
   "source": [
    "# just get the samples in ckdTMM that belong to the epo cohort\n",
    "ckdTMMLog = ckdTMMLog[allMeta[\"Run\"]]"
   ]
  },
  {
   "cell_type": "code",
   "execution_count": 14,
   "metadata": {},
   "outputs": [],
   "source": [
    "allMeta.set_index(\"Run\", inplace = True)"
   ]
  },
  {
   "cell_type": "code",
   "execution_count": 15,
   "metadata": {},
   "outputs": [],
   "source": [
    "libSize = epoAprilCPMTMM.iloc[:-6,:].sum(axis = 0).to_frame()\n",
    "libSize.columns = [\"libsize\"]"
   ]
  },
  {
   "cell_type": "code",
   "execution_count": 16,
   "metadata": {},
   "outputs": [],
   "source": [
    "libMeta = allMeta.join(libSize)"
   ]
  },
  {
   "cell_type": "code",
   "execution_count": 17,
   "metadata": {},
   "outputs": [
    {
     "data": {
      "text/html": [
       "<div>\n",
       "<style scoped>\n",
       "    .dataframe tbody tr th:only-of-type {\n",
       "        vertical-align: middle;\n",
       "    }\n",
       "\n",
       "    .dataframe tbody tr th {\n",
       "        vertical-align: top;\n",
       "    }\n",
       "\n",
       "    .dataframe thead th {\n",
       "        text-align: right;\n",
       "    }\n",
       "</style>\n",
       "<table border=\"1\" class=\"dataframe\">\n",
       "  <thead>\n",
       "    <tr style=\"text-align: right;\">\n",
       "      <th></th>\n",
       "      <th>Sample Name</th>\n",
       "      <th>Day</th>\n",
       "      <th>Patient</th>\n",
       "      <th>status</th>\n",
       "      <th>libsize</th>\n",
       "    </tr>\n",
       "    <tr>\n",
       "      <th>Run</th>\n",
       "      <th></th>\n",
       "      <th></th>\n",
       "      <th></th>\n",
       "      <th></th>\n",
       "      <th></th>\n",
       "    </tr>\n",
       "  </thead>\n",
       "  <tbody>\n",
       "    <tr>\n",
       "      <th>SRR8492548</th>\n",
       "      <td>3408_004-EPO1</td>\n",
       "      <td>0</td>\n",
       "      <td>EPO1</td>\n",
       "      <td>CKD</td>\n",
       "      <td>527193.010048</td>\n",
       "    </tr>\n",
       "    <tr>\n",
       "      <th>SRR8492550</th>\n",
       "      <td>3417_004-EPO1</td>\n",
       "      <td>1</td>\n",
       "      <td>EPO1</td>\n",
       "      <td>CKD</td>\n",
       "      <td>530500.918098</td>\n",
       "    </tr>\n",
       "    <tr>\n",
       "      <th>SRR8492552</th>\n",
       "      <td>3446_004-EPO1</td>\n",
       "      <td>3</td>\n",
       "      <td>EPO1</td>\n",
       "      <td>CKD</td>\n",
       "      <td>559840.956966</td>\n",
       "    </tr>\n",
       "    <tr>\n",
       "      <th>SRR8492555</th>\n",
       "      <td>3533_004-EPO1</td>\n",
       "      <td>10</td>\n",
       "      <td>EPO1</td>\n",
       "      <td>CKD</td>\n",
       "      <td>565516.665505</td>\n",
       "    </tr>\n",
       "    <tr>\n",
       "      <th>SRR8492551</th>\n",
       "      <td>3492_004-EPO2</td>\n",
       "      <td>0</td>\n",
       "      <td>EPO2</td>\n",
       "      <td>CKD</td>\n",
       "      <td>636977.489616</td>\n",
       "    </tr>\n",
       "    <tr>\n",
       "      <th>SRR8492553</th>\n",
       "      <td>3502_004-EPO2</td>\n",
       "      <td>1</td>\n",
       "      <td>EPO2</td>\n",
       "      <td>CKD</td>\n",
       "      <td>647964.569035</td>\n",
       "    </tr>\n",
       "    <tr>\n",
       "      <th>SRR8492554</th>\n",
       "      <td>3523_004-EPO2</td>\n",
       "      <td>4</td>\n",
       "      <td>EPO2</td>\n",
       "      <td>CKD</td>\n",
       "      <td>696868.286381</td>\n",
       "    </tr>\n",
       "    <tr>\n",
       "      <th>SRR8492643</th>\n",
       "      <td>3558_004-EPO2</td>\n",
       "      <td>8</td>\n",
       "      <td>EPO2</td>\n",
       "      <td>CKD</td>\n",
       "      <td>624440.767579</td>\n",
       "    </tr>\n",
       "    <tr>\n",
       "      <th>SRR8492545</th>\n",
       "      <td>3541_004-EPO3</td>\n",
       "      <td>0</td>\n",
       "      <td>EPO3</td>\n",
       "      <td>CKD</td>\n",
       "      <td>640260.856029</td>\n",
       "    </tr>\n",
       "    <tr>\n",
       "      <th>SRR8492641</th>\n",
       "      <td>3549_004-EPO3</td>\n",
       "      <td>1</td>\n",
       "      <td>EPO3</td>\n",
       "      <td>CKD</td>\n",
       "      <td>653145.826450</td>\n",
       "    </tr>\n",
       "    <tr>\n",
       "      <th>SRR8492644</th>\n",
       "      <td>3570_004-EPO3</td>\n",
       "      <td>4</td>\n",
       "      <td>EPO3</td>\n",
       "      <td>CKD</td>\n",
       "      <td>621089.371877</td>\n",
       "    </tr>\n",
       "    <tr>\n",
       "      <th>SRR8492827</th>\n",
       "      <td>3684_004-EPO3</td>\n",
       "      <td>8</td>\n",
       "      <td>EPO3</td>\n",
       "      <td>CKD</td>\n",
       "      <td>602023.000435</td>\n",
       "    </tr>\n",
       "    <tr>\n",
       "      <th>SRR8492642</th>\n",
       "      <td>3693_004-EPO4</td>\n",
       "      <td>0</td>\n",
       "      <td>EPO4</td>\n",
       "      <td>CKD</td>\n",
       "      <td>590196.122891</td>\n",
       "    </tr>\n",
       "    <tr>\n",
       "      <th>SRR8492645</th>\n",
       "      <td>3702_004-EPO4</td>\n",
       "      <td>1</td>\n",
       "      <td>EPO4</td>\n",
       "      <td>CKD</td>\n",
       "      <td>584688.070666</td>\n",
       "    </tr>\n",
       "    <tr>\n",
       "      <th>SRR8492646</th>\n",
       "      <td>3795_004-EPO4</td>\n",
       "      <td>3</td>\n",
       "      <td>EPO4</td>\n",
       "      <td>CKD</td>\n",
       "      <td>671626.195516</td>\n",
       "    </tr>\n",
       "    <tr>\n",
       "      <th>SRR8492649</th>\n",
       "      <td>3810_004-EPO4</td>\n",
       "      <td>9</td>\n",
       "      <td>EPO4</td>\n",
       "      <td>CKD</td>\n",
       "      <td>628479.029604</td>\n",
       "    </tr>\n",
       "    <tr>\n",
       "      <th>SRR8492618</th>\n",
       "      <td>6032_004-EPO5</td>\n",
       "      <td>0</td>\n",
       "      <td>EPO5</td>\n",
       "      <td>CKD</td>\n",
       "      <td>610481.682726</td>\n",
       "    </tr>\n",
       "    <tr>\n",
       "      <th>SRR8492624</th>\n",
       "      <td>6040_004-EPO5</td>\n",
       "      <td>1</td>\n",
       "      <td>EPO5</td>\n",
       "      <td>CKD</td>\n",
       "      <td>607368.930528</td>\n",
       "    </tr>\n",
       "    <tr>\n",
       "      <th>SRR8492625</th>\n",
       "      <td>6081_004-EPO5</td>\n",
       "      <td>3</td>\n",
       "      <td>EPO5</td>\n",
       "      <td>CKD</td>\n",
       "      <td>614178.827577</td>\n",
       "    </tr>\n",
       "    <tr>\n",
       "      <th>SRR8492647</th>\n",
       "      <td>6300_004-EPO5</td>\n",
       "      <td>9</td>\n",
       "      <td>EPO5</td>\n",
       "      <td>CKD</td>\n",
       "      <td>590591.447507</td>\n",
       "    </tr>\n",
       "    <tr>\n",
       "      <th>SRR8492648</th>\n",
       "      <td>6551_004-EPO5</td>\n",
       "      <td>13</td>\n",
       "      <td>EPO5</td>\n",
       "      <td>CKD</td>\n",
       "      <td>580137.642175</td>\n",
       "    </tr>\n",
       "    <tr>\n",
       "      <th>SRR8492650</th>\n",
       "      <td>6574_004-EPO5</td>\n",
       "      <td>15</td>\n",
       "      <td>EPO5</td>\n",
       "      <td>CKD</td>\n",
       "      <td>573228.708080</td>\n",
       "    </tr>\n",
       "    <tr>\n",
       "      <th>SRR8492722</th>\n",
       "      <td>6952_004-EPO5</td>\n",
       "      <td>30</td>\n",
       "      <td>EPO5</td>\n",
       "      <td>CKD</td>\n",
       "      <td>561335.643297</td>\n",
       "    </tr>\n",
       "    <tr>\n",
       "      <th>SRR8492546</th>\n",
       "      <td>6215_004-EPO6</td>\n",
       "      <td>0</td>\n",
       "      <td>EPO6</td>\n",
       "      <td>CKD</td>\n",
       "      <td>576254.128973</td>\n",
       "    </tr>\n",
       "    <tr>\n",
       "      <th>SRR8492619</th>\n",
       "      <td>6293_004-EPO6</td>\n",
       "      <td>1</td>\n",
       "      <td>EPO6</td>\n",
       "      <td>CKD</td>\n",
       "      <td>550126.632629</td>\n",
       "    </tr>\n",
       "    <tr>\n",
       "      <th>SRR8492620</th>\n",
       "      <td>6417_004-EPO6</td>\n",
       "      <td>3</td>\n",
       "      <td>EPO6</td>\n",
       "      <td>CKD</td>\n",
       "      <td>555921.993523</td>\n",
       "    </tr>\n",
       "    <tr>\n",
       "      <th>SRR8492621</th>\n",
       "      <td>6584_004-EPO6</td>\n",
       "      <td>9</td>\n",
       "      <td>EPO6</td>\n",
       "      <td>CKD</td>\n",
       "      <td>564704.299187</td>\n",
       "    </tr>\n",
       "    <tr>\n",
       "      <th>SRR8492622</th>\n",
       "      <td>6867_004-EPO6</td>\n",
       "      <td>13</td>\n",
       "      <td>EPO6</td>\n",
       "      <td>CKD</td>\n",
       "      <td>541287.876747</td>\n",
       "    </tr>\n",
       "    <tr>\n",
       "      <th>SRR8492623</th>\n",
       "      <td>6879_004-EPO6</td>\n",
       "      <td>16</td>\n",
       "      <td>EPO6</td>\n",
       "      <td>CKD</td>\n",
       "      <td>577215.268356</td>\n",
       "    </tr>\n",
       "    <tr>\n",
       "      <th>SRR8492627</th>\n",
       "      <td>6949_004-EPO6</td>\n",
       "      <td>23</td>\n",
       "      <td>EPO6</td>\n",
       "      <td>CKD</td>\n",
       "      <td>555691.500617</td>\n",
       "    </tr>\n",
       "    <tr>\n",
       "      <th>SRR8492723</th>\n",
       "      <td>6985_004-EPO6</td>\n",
       "      <td>30</td>\n",
       "      <td>EPO6</td>\n",
       "      <td>CKD</td>\n",
       "      <td>520002.258371</td>\n",
       "    </tr>\n",
       "    <tr>\n",
       "      <th>SRR8492660</th>\n",
       "      <td>12072_004-EPO7</td>\n",
       "      <td>1</td>\n",
       "      <td>EPO7</td>\n",
       "      <td>CKD</td>\n",
       "      <td>648128.464993</td>\n",
       "    </tr>\n",
       "    <tr>\n",
       "      <th>SRR8492673</th>\n",
       "      <td>12098_004-EPO7</td>\n",
       "      <td>3</td>\n",
       "      <td>EPO7</td>\n",
       "      <td>CKD</td>\n",
       "      <td>748504.424065</td>\n",
       "    </tr>\n",
       "    <tr>\n",
       "      <th>SRR8492692</th>\n",
       "      <td>12517_004-EPO7</td>\n",
       "      <td>14</td>\n",
       "      <td>EPO7</td>\n",
       "      <td>CKD</td>\n",
       "      <td>814011.809753</td>\n",
       "    </tr>\n",
       "    <tr>\n",
       "      <th>SRR8492727</th>\n",
       "      <td>13073_004-EPO7</td>\n",
       "      <td>23</td>\n",
       "      <td>EPO7</td>\n",
       "      <td>CKD</td>\n",
       "      <td>606556.965212</td>\n",
       "    </tr>\n",
       "    <tr>\n",
       "      <th>SRR8492743</th>\n",
       "      <td>13221_004-EPO7</td>\n",
       "      <td>30</td>\n",
       "      <td>EPO7</td>\n",
       "      <td>CKD</td>\n",
       "      <td>568068.745097</td>\n",
       "    </tr>\n",
       "    <tr>\n",
       "      <th>SRR8492585</th>\n",
       "      <td>13340_004-EPO8</td>\n",
       "      <td>0</td>\n",
       "      <td>EPO8</td>\n",
       "      <td>CKD</td>\n",
       "      <td>670130.370721</td>\n",
       "    </tr>\n",
       "    <tr>\n",
       "      <th>SRR8492586</th>\n",
       "      <td>13421_004-EPO8</td>\n",
       "      <td>1</td>\n",
       "      <td>EPO8</td>\n",
       "      <td>CKD</td>\n",
       "      <td>578483.048508</td>\n",
       "    </tr>\n",
       "    <tr>\n",
       "      <th>SRR8492587</th>\n",
       "      <td>13449_004-EPO8</td>\n",
       "      <td>4</td>\n",
       "      <td>EPO8</td>\n",
       "      <td>CKD</td>\n",
       "      <td>613180.729674</td>\n",
       "    </tr>\n",
       "    <tr>\n",
       "      <th>SRR8492672</th>\n",
       "      <td>13712_004-EPO8</td>\n",
       "      <td>11</td>\n",
       "      <td>EPO8</td>\n",
       "      <td>CKD</td>\n",
       "      <td>626111.722463</td>\n",
       "    </tr>\n",
       "    <tr>\n",
       "      <th>SRR8492674</th>\n",
       "      <td>13742_004-EPO8</td>\n",
       "      <td>14</td>\n",
       "      <td>EPO8</td>\n",
       "      <td>CKD</td>\n",
       "      <td>587874.667835</td>\n",
       "    </tr>\n",
       "    <tr>\n",
       "      <th>SRR8492788</th>\n",
       "      <td>13759_004-EPO8</td>\n",
       "      <td>18</td>\n",
       "      <td>EPO8</td>\n",
       "      <td>CKD</td>\n",
       "      <td>613237.358767</td>\n",
       "    </tr>\n",
       "    <tr>\n",
       "      <th>SRR8492789</th>\n",
       "      <td>14186_004-EPO8</td>\n",
       "      <td>25</td>\n",
       "      <td>EPO8</td>\n",
       "      <td>CKD</td>\n",
       "      <td>583837.884145</td>\n",
       "    </tr>\n",
       "    <tr>\n",
       "      <th>SRR8492792</th>\n",
       "      <td>14270_004-EPO8</td>\n",
       "      <td>32</td>\n",
       "      <td>EPO8</td>\n",
       "      <td>CKD</td>\n",
       "      <td>687977.176502</td>\n",
       "    </tr>\n",
       "    <tr>\n",
       "      <th>SRR8492549</th>\n",
       "      <td>14277_004-EPO9</td>\n",
       "      <td>0</td>\n",
       "      <td>EPO9</td>\n",
       "      <td>CKD</td>\n",
       "      <td>751013.788747</td>\n",
       "    </tr>\n",
       "    <tr>\n",
       "      <th>SRR8492580</th>\n",
       "      <td>14285_004-EPO9</td>\n",
       "      <td>1</td>\n",
       "      <td>EPO9</td>\n",
       "      <td>CKD</td>\n",
       "      <td>656140.235481</td>\n",
       "    </tr>\n",
       "    <tr>\n",
       "      <th>SRR8492581</th>\n",
       "      <td>14302_004-EPO9</td>\n",
       "      <td>4</td>\n",
       "      <td>EPO9</td>\n",
       "      <td>CKD</td>\n",
       "      <td>649501.281799</td>\n",
       "    </tr>\n",
       "    <tr>\n",
       "      <th>SRR8492582</th>\n",
       "      <td>14332_004-EPO9</td>\n",
       "      <td>10</td>\n",
       "      <td>EPO9</td>\n",
       "      <td>CKD</td>\n",
       "      <td>632286.508227</td>\n",
       "    </tr>\n",
       "    <tr>\n",
       "      <th>SRR8492583</th>\n",
       "      <td>14434_004-EPO9</td>\n",
       "      <td>15</td>\n",
       "      <td>EPO9</td>\n",
       "      <td>CKD</td>\n",
       "      <td>650369.767622</td>\n",
       "    </tr>\n",
       "    <tr>\n",
       "      <th>SRR8492584</th>\n",
       "      <td>14447_004-EPO9</td>\n",
       "      <td>17</td>\n",
       "      <td>EPO9</td>\n",
       "      <td>CKD</td>\n",
       "      <td>648387.554391</td>\n",
       "    </tr>\n",
       "    <tr>\n",
       "      <th>SRR8492589</th>\n",
       "      <td>14476_004-EPO9</td>\n",
       "      <td>23</td>\n",
       "      <td>EPO9</td>\n",
       "      <td>CKD</td>\n",
       "      <td>623165.530117</td>\n",
       "    </tr>\n",
       "    <tr>\n",
       "      <th>SRR8492574</th>\n",
       "      <td>9495_010-Stability</td>\n",
       "      <td>0</td>\n",
       "      <td>Control 1</td>\n",
       "      <td>CTRL</td>\n",
       "      <td>586114.674827</td>\n",
       "    </tr>\n",
       "    <tr>\n",
       "      <th>SRR8492614</th>\n",
       "      <td>9633_010-Stability</td>\n",
       "      <td>1</td>\n",
       "      <td>Control 1</td>\n",
       "      <td>CTRL</td>\n",
       "      <td>616782.108648</td>\n",
       "    </tr>\n",
       "    <tr>\n",
       "      <th>SRR8492721</th>\n",
       "      <td>10045_010-Stability</td>\n",
       "      <td>2</td>\n",
       "      <td>Control 1</td>\n",
       "      <td>CTRL</td>\n",
       "      <td>532187.960575</td>\n",
       "    </tr>\n",
       "    <tr>\n",
       "      <th>SRR8492730</th>\n",
       "      <td>10086_010-Stability</td>\n",
       "      <td>3</td>\n",
       "      <td>Control 1</td>\n",
       "      <td>CTRL</td>\n",
       "      <td>610092.385831</td>\n",
       "    </tr>\n",
       "    <tr>\n",
       "      <th>SRR8492609</th>\n",
       "      <td>9498_011-Stability</td>\n",
       "      <td>0</td>\n",
       "      <td>Control 2</td>\n",
       "      <td>CTRL</td>\n",
       "      <td>668411.000557</td>\n",
       "    </tr>\n",
       "    <tr>\n",
       "      <th>SRR8492613</th>\n",
       "      <td>9637_011-Stability</td>\n",
       "      <td>1</td>\n",
       "      <td>Control 2</td>\n",
       "      <td>CTRL</td>\n",
       "      <td>675329.263485</td>\n",
       "    </tr>\n",
       "    <tr>\n",
       "      <th>SRR8492689</th>\n",
       "      <td>10052_011-Stability</td>\n",
       "      <td>2</td>\n",
       "      <td>Control 2</td>\n",
       "      <td>CTRL</td>\n",
       "      <td>649545.532284</td>\n",
       "    </tr>\n",
       "    <tr>\n",
       "      <th>SRR8492719</th>\n",
       "      <td>10082_011-Stability</td>\n",
       "      <td>3</td>\n",
       "      <td>Control 2</td>\n",
       "      <td>CTRL</td>\n",
       "      <td>721378.164965</td>\n",
       "    </tr>\n",
       "    <tr>\n",
       "      <th>SRR8492728</th>\n",
       "      <td>9503_013-Stability</td>\n",
       "      <td>0</td>\n",
       "      <td>Control 3</td>\n",
       "      <td>CTRL</td>\n",
       "      <td>628171.797563</td>\n",
       "    </tr>\n",
       "  </tbody>\n",
       "</table>\n",
       "</div>"
      ],
      "text/plain": [
       "                    Sample Name  Day    Patient status        libsize\n",
       "Run                                                                  \n",
       "SRR8492548        3408_004-EPO1    0       EPO1    CKD  527193.010048\n",
       "SRR8492550        3417_004-EPO1    1       EPO1    CKD  530500.918098\n",
       "SRR8492552        3446_004-EPO1    3       EPO1    CKD  559840.956966\n",
       "SRR8492555        3533_004-EPO1   10       EPO1    CKD  565516.665505\n",
       "SRR8492551        3492_004-EPO2    0       EPO2    CKD  636977.489616\n",
       "SRR8492553        3502_004-EPO2    1       EPO2    CKD  647964.569035\n",
       "SRR8492554        3523_004-EPO2    4       EPO2    CKD  696868.286381\n",
       "SRR8492643        3558_004-EPO2    8       EPO2    CKD  624440.767579\n",
       "SRR8492545        3541_004-EPO3    0       EPO3    CKD  640260.856029\n",
       "SRR8492641        3549_004-EPO3    1       EPO3    CKD  653145.826450\n",
       "SRR8492644        3570_004-EPO3    4       EPO3    CKD  621089.371877\n",
       "SRR8492827        3684_004-EPO3    8       EPO3    CKD  602023.000435\n",
       "SRR8492642        3693_004-EPO4    0       EPO4    CKD  590196.122891\n",
       "SRR8492645        3702_004-EPO4    1       EPO4    CKD  584688.070666\n",
       "SRR8492646        3795_004-EPO4    3       EPO4    CKD  671626.195516\n",
       "SRR8492649        3810_004-EPO4    9       EPO4    CKD  628479.029604\n",
       "SRR8492618        6032_004-EPO5    0       EPO5    CKD  610481.682726\n",
       "SRR8492624        6040_004-EPO5    1       EPO5    CKD  607368.930528\n",
       "SRR8492625        6081_004-EPO5    3       EPO5    CKD  614178.827577\n",
       "SRR8492647        6300_004-EPO5    9       EPO5    CKD  590591.447507\n",
       "SRR8492648        6551_004-EPO5   13       EPO5    CKD  580137.642175\n",
       "SRR8492650        6574_004-EPO5   15       EPO5    CKD  573228.708080\n",
       "SRR8492722        6952_004-EPO5   30       EPO5    CKD  561335.643297\n",
       "SRR8492546        6215_004-EPO6    0       EPO6    CKD  576254.128973\n",
       "SRR8492619        6293_004-EPO6    1       EPO6    CKD  550126.632629\n",
       "SRR8492620        6417_004-EPO6    3       EPO6    CKD  555921.993523\n",
       "SRR8492621        6584_004-EPO6    9       EPO6    CKD  564704.299187\n",
       "SRR8492622        6867_004-EPO6   13       EPO6    CKD  541287.876747\n",
       "SRR8492623        6879_004-EPO6   16       EPO6    CKD  577215.268356\n",
       "SRR8492627        6949_004-EPO6   23       EPO6    CKD  555691.500617\n",
       "SRR8492723        6985_004-EPO6   30       EPO6    CKD  520002.258371\n",
       "SRR8492660       12072_004-EPO7    1       EPO7    CKD  648128.464993\n",
       "SRR8492673       12098_004-EPO7    3       EPO7    CKD  748504.424065\n",
       "SRR8492692       12517_004-EPO7   14       EPO7    CKD  814011.809753\n",
       "SRR8492727       13073_004-EPO7   23       EPO7    CKD  606556.965212\n",
       "SRR8492743       13221_004-EPO7   30       EPO7    CKD  568068.745097\n",
       "SRR8492585       13340_004-EPO8    0       EPO8    CKD  670130.370721\n",
       "SRR8492586       13421_004-EPO8    1       EPO8    CKD  578483.048508\n",
       "SRR8492587       13449_004-EPO8    4       EPO8    CKD  613180.729674\n",
       "SRR8492672       13712_004-EPO8   11       EPO8    CKD  626111.722463\n",
       "SRR8492674       13742_004-EPO8   14       EPO8    CKD  587874.667835\n",
       "SRR8492788       13759_004-EPO8   18       EPO8    CKD  613237.358767\n",
       "SRR8492789       14186_004-EPO8   25       EPO8    CKD  583837.884145\n",
       "SRR8492792       14270_004-EPO8   32       EPO8    CKD  687977.176502\n",
       "SRR8492549       14277_004-EPO9    0       EPO9    CKD  751013.788747\n",
       "SRR8492580       14285_004-EPO9    1       EPO9    CKD  656140.235481\n",
       "SRR8492581       14302_004-EPO9    4       EPO9    CKD  649501.281799\n",
       "SRR8492582       14332_004-EPO9   10       EPO9    CKD  632286.508227\n",
       "SRR8492583       14434_004-EPO9   15       EPO9    CKD  650369.767622\n",
       "SRR8492584       14447_004-EPO9   17       EPO9    CKD  648387.554391\n",
       "SRR8492589       14476_004-EPO9   23       EPO9    CKD  623165.530117\n",
       "SRR8492574   9495_010-Stability    0  Control 1   CTRL  586114.674827\n",
       "SRR8492614   9633_010-Stability    1  Control 1   CTRL  616782.108648\n",
       "SRR8492721  10045_010-Stability    2  Control 1   CTRL  532187.960575\n",
       "SRR8492730  10086_010-Stability    3  Control 1   CTRL  610092.385831\n",
       "SRR8492609   9498_011-Stability    0  Control 2   CTRL  668411.000557\n",
       "SRR8492613   9637_011-Stability    1  Control 2   CTRL  675329.263485\n",
       "SRR8492689  10052_011-Stability    2  Control 2   CTRL  649545.532284\n",
       "SRR8492719  10082_011-Stability    3  Control 2   CTRL  721378.164965\n",
       "SRR8492728   9503_013-Stability    0  Control 3   CTRL  628171.797563"
      ]
     },
     "execution_count": 17,
     "metadata": {},
     "output_type": "execute_result"
    }
   ],
   "source": [
    "libMeta"
   ]
  },
  {
   "cell_type": "code",
   "execution_count": 18,
   "metadata": {},
   "outputs": [],
   "source": [
    "libMeta[\"cohort\"] = [\"epo\" if \"EPO\" in i or \"Control\" in i else \"fig1\" for i in libMeta[\"Patient\"]]\n",
    "\n",
    "libMeta[\"status\"] = [\"CKD\" if \"EPO\" in i else \"CTRL\" for i in libMeta[\"Sample Name\"]]\n",
    "\n",
    "# update metadata to be epo cohort only\n",
    "epoLibs = libMeta[libMeta[\"cohort\"] == \"epo\"]"
   ]
  },
  {
   "cell_type": "code",
   "execution_count": 19,
   "metadata": {},
   "outputs": [
    {
     "data": {
      "text/plain": [
       "<AxesSubplot:xlabel='libsize', ylabel='Count'>"
      ]
     },
     "execution_count": 19,
     "metadata": {},
     "output_type": "execute_result"
    },
    {
     "data": {
      "image/png": "[encoded data removed]",
      "text/plain": [
       "<Figure size 432x288 with 1 Axes>"
      ]
     },
     "metadata": {
      "needs_background": "light"
     },
     "output_type": "display_data"
    }
   ],
   "source": [
    "# viz library distrib\n",
    "epoLibs_ctrl = epoLibs[epoLibs[\"status\"] == \"CTRL\"][\"libsize\"].values.tolist()\n",
    "epoLibs_ckd = epoLibs[epoLibs[\"status\"] == \"CKD\"][\"libsize\"].values.tolist()\n",
    "\n",
    "sns.histplot(data = epoLibs, x = \"libsize\", hue = \"status\")\n",
    "# the distribution in library size between the CKD and CTRL samples in the EPO cohort are comparable "
   ]
  },
  {
   "cell_type": "code",
   "execution_count": 20,
   "metadata": {},
   "outputs": [
    {
     "name": "stderr",
     "output_type": "stream",
     "text": [
      "No handles with labels found to put in legend.\n"
     ]
    },
    {
     "data": {
      "text/plain": [
       "Text(0.5, 1.0, 'epo and fig1 library size distribution')"
      ]
     },
     "execution_count": 20,
     "metadata": {},
     "output_type": "execute_result"
    },
    {
     "data": {
      "image/png": "[encoded data removed]",
      "text/plain": [
       "<Figure size 720x360 with 1 Axes>"
      ]
     },
     "metadata": {
      "needs_background": "light"
     },
     "output_type": "display_data"
    }
   ],
   "source": [
    "# distribution over all the samples\n",
    "plt.figure(figsize = (10, 5))\n",
    "sns.histplot(data = libMeta, x = 'libsize', hue = \"Patient\")\n",
    "\n",
    "plt.legend(bbox_to_anchor=(1, 0.5))\n",
    "plt.ylabel(\"frequency\")\n",
    "plt.xlabel(\"libsize of reads mapping to distinct human genes\")\n",
    "plt.title('epo and fig1 library size distribution')"
   ]
  },
  {
   "cell_type": "code",
   "execution_count": 21,
   "metadata": {},
   "outputs": [],
   "source": [
    "ckdTMMLog.reset_index(inplace = True, drop = False)"
   ]
  },
  {
   "cell_type": "code",
   "execution_count": 22,
   "metadata": {},
   "outputs": [],
   "source": [
    "ckdTMMLog.set_index(\"gene_num\", inplace = True)\n",
    "ckdTMMLog.drop(\"gene_name\", inplace = True, axis = \"columns\")"
   ]
  },
  {
   "cell_type": "code",
   "execution_count": 23,
   "metadata": {},
   "outputs": [],
   "source": [
    "# read in brain genes\n",
    "basePath = \"/Users/kayaneh/documents/deconvolution/signatures_git/\"\n",
    "\n",
    "kidneyGiniPath = \"gini6_perCluster_kidney_12072020.csv\"\n",
    "kidneySigs = pd.read_csv(basePath + kidneyGiniPath, index_col = 0)\n",
    "proximalTubuleSignature = kidneySigs[\"Proximal tubule-gini\"].dropna().index.tolist()"
   ]
  },
  {
   "cell_type": "code",
   "execution_count": 24,
   "metadata": {},
   "outputs": [
    {
     "data": {
      "text/plain": [
       "(45, 60)"
      ]
     },
     "execution_count": 24,
     "metadata": {},
     "output_type": "execute_result"
    }
   ],
   "source": [
    "# MAKE ROWSPACE OF ckdTMMLog to proximal tubule signature only\n",
    "ckdTMMLog = ckdTMMLog.loc[np.intersect1d(ckdTMMLog.index, proximalTubuleSignature)]\n",
    "ckdTMMLog.shape"
   ]
  },
  {
   "cell_type": "code",
   "execution_count": 25,
   "metadata": {},
   "outputs": [],
   "source": [
    "ctsMeta = ckdTMMLog.T.join(allMeta)"
   ]
  },
  {
   "cell_type": "code",
   "execution_count": 26,
   "metadata": {},
   "outputs": [],
   "source": [
    "meltCtsMeta = pd.melt(ctsMeta, id_vars = ctsMeta.columns[-4:],\n",
    "       value_vars = ctsMeta.columns[:-4])"
   ]
  },
  {
   "cell_type": "code",
   "execution_count": 27,
   "metadata": {},
   "outputs": [
    {
     "name": "stdout",
     "output_type": "stream",
     "text": [
      "16\n"
     ]
    }
   ],
   "source": [
    "# eliminate genes that have all zero counts in a given cohort\n",
    "# (e.g. all zero in CKD or all-zero in healthy)\n",
    "\n",
    "ctrlEpoENSG_dropout = []\n",
    "\n",
    "for ensg in np.unique(meltCtsMeta[\"variable\"]):\n",
    "    thisGene = meltCtsMeta[meltCtsMeta[\"variable\"] == ensg]\n",
    "    ckdGene = thisGene[thisGene[\"status\"] == \"CKD\"][\"value\"].values.tolist()\n",
    "    ctrlGene = thisGene[thisGene[\"status\"] == \"CTRL\"][\"value\"].values.tolist()\n",
    "    \n",
    "    if np.unique(ckdGene).tolist() == [0]:\n",
    "        ctrlEpoENSG_dropout += [ensg]\n",
    "\n",
    "    if np.unique(ctrlGene).tolist() == [0]:\n",
    "        ctrlEpoENSG_dropout += [ensg]\n",
    "\n",
    "        \n",
    "# these are all the genes in either the CKD or CTRL batches that have no expression\n",
    "\n",
    "# get the set of the zero genes\n",
    "ctrlEpoENSG_dropout = np.unique(ctrlEpoENSG_dropout).tolist() \n",
    "print(len(ctrlEpoENSG_dropout))"
   ]
  },
  {
   "cell_type": "code",
   "execution_count": 28,
   "metadata": {},
   "outputs": [
    {
     "data": {
      "text/plain": [
       "(29, 60)"
      ]
     },
     "execution_count": 28,
     "metadata": {},
     "output_type": "execute_result"
    }
   ],
   "source": [
    "# the PT genes that are not part of the dropout list\n",
    "goodGenes = np.setdiff1d(ckdTMMLog.index, ctrlEpoENSG_dropout)\n",
    "\n",
    "# reindex the row space of ckdTMMLog to just the genes passing\n",
    "ckdTMMLog = ckdTMMLog.loc[goodGenes]\n",
    "ckdTMMLog.shape"
   ]
  },
  {
   "cell_type": "code",
   "execution_count": 29,
   "metadata": {},
   "outputs": [],
   "source": [
    "relSigs = {}\n",
    "relSigs[\"PT\"] = kidneySigs[\"Proximal tubule-gini\"].dropna().index.tolist()"
   ]
  },
  {
   "cell_type": "code",
   "execution_count": 30,
   "metadata": {},
   "outputs": [],
   "source": [
    "allMeta[\"cohort\"] = [\"epo\" if \"EPO\" in i or \"Control\" in i else \"fig1\" for i in allMeta[\"Patient\"]]"
   ]
  },
  {
   "cell_type": "code",
   "execution_count": 31,
   "metadata": {},
   "outputs": [],
   "source": [
    "allMeta[\"status\"] = [\"CKD\" if 'EPO' in i else \"CTRL\" for i in allMeta[\"Patient\"]]"
   ]
  },
  {
   "cell_type": "code",
   "execution_count": 32,
   "metadata": {},
   "outputs": [],
   "source": [
    "ctrlMeta = ctsMeta[ctsMeta[\"status\"] == \"CTRL\"]"
   ]
  },
  {
   "cell_type": "code",
   "execution_count": 33,
   "metadata": {},
   "outputs": [],
   "source": [
    "# perform signature scoring\n",
    "cisScore = cis(ckdTMMLog, relSigs)\n",
    "\n",
    "# joint with the metadata\n",
    "cisMeta = cisScore.join(allMeta)"
   ]
  },
  {
   "cell_type": "code",
   "execution_count": 34,
   "metadata": {},
   "outputs": [],
   "source": [
    "ctrlOnly = cisMeta[cisMeta['status'] == \"CTRL\"]"
   ]
  },
  {
   "cell_type": "code",
   "execution_count": 35,
   "metadata": {},
   "outputs": [],
   "source": [
    "epoOnlyCIS = cisMeta[cisMeta[\"cohort\"] == \"epo\"]"
   ]
  },
  {
   "cell_type": "code",
   "execution_count": 36,
   "metadata": {},
   "outputs": [
    {
     "data": {
      "text/html": [
       "<svg  width=\"660\" height=\"55\"><rect x=\"0\" y=\"0\" width=\"55\" height=\"55\" style=\"fill:#cae9ff;stroke-width:2;stroke:rgb(255,255,255)\"/><rect x=\"55\" y=\"0\" width=\"55\" height=\"55\" style=\"fill:#5fa8d3;stroke-width:2;stroke:rgb(255,255,255)\"/><rect x=\"110\" y=\"0\" width=\"55\" height=\"55\" style=\"fill:#573d1c;stroke-width:2;stroke:rgb(255,255,255)\"/><rect x=\"165\" y=\"0\" width=\"55\" height=\"55\" style=\"fill:#a80874;stroke-width:2;stroke:rgb(255,255,255)\"/><rect x=\"220\" y=\"0\" width=\"55\" height=\"55\" style=\"fill:#62b6cb;stroke-width:2;stroke:rgb(255,255,255)\"/><rect x=\"275\" y=\"0\" width=\"55\" height=\"55\" style=\"fill:#1b4965;stroke-width:2;stroke:rgb(255,255,255)\"/><rect x=\"330\" y=\"0\" width=\"55\" height=\"55\" style=\"fill:#a690a4;stroke-width:2;stroke:rgb(255,255,255)\"/><rect x=\"385\" y=\"0\" width=\"55\" height=\"55\" style=\"fill:#afd2e9;stroke-width:2;stroke:rgb(255,255,255)\"/><rect x=\"440\" y=\"0\" width=\"55\" height=\"55\" style=\"fill:#fa9f42;stroke-width:2;stroke:rgb(255,255,255)\"/><rect x=\"495\" y=\"0\" width=\"55\" height=\"55\" style=\"fill:#124559;stroke-width:2;stroke:rgb(255,255,255)\"/><rect x=\"550\" y=\"0\" width=\"55\" height=\"55\" style=\"fill:#8a1c7c;stroke-width:2;stroke:rgb(255,255,255)\"/><rect x=\"605\" y=\"0\" width=\"55\" height=\"55\" style=\"fill:#247ba0;stroke-width:2;stroke:rgb(255,255,255)\"/></svg>"
      ],
      "text/plain": [
       "[(0.792156862745098, 0.9137254901960784, 1.0),\n",
       " (0.37254901960784315, 0.6588235294117647, 0.8274509803921568),\n",
       " (0.3411764705882353, 0.23921568627450981, 0.10980392156862745),\n",
       " (0.6588235294117647, 0.03137254901960784, 0.4549019607843137),\n",
       " (0.3843137254901961, 0.7137254901960784, 0.796078431372549),\n",
       " (0.10588235294117647, 0.28627450980392155, 0.396078431372549),\n",
       " (0.6509803921568628, 0.5647058823529412, 0.6431372549019608),\n",
       " (0.6862745098039216, 0.8235294117647058, 0.9137254901960784),\n",
       " (0.9803921568627451, 0.6235294117647059, 0.25882352941176473),\n",
       " (0.07058823529411765, 0.27058823529411763, 0.34901960784313724),\n",
       " (0.5411764705882353, 0.10980392156862745, 0.48627450980392156),\n",
       " (0.1411764705882353, 0.4823529411764706, 0.6274509803921569)]"
      ]
     },
     "execution_count": 36,
     "metadata": {},
     "output_type": "execute_result"
    }
   ],
   "source": [
    "patient_colors = \"#62b6cb #97c9d7 #c5dde4 #f1f1f1 #f0b8b8 #e67f83 #d43d51\"\n",
    "patient_colors = \"#62b6cb #7fbecf #99c6d2 #b0cdd6 #c7d5d9 #dddddd #e1bfbf #e2a2a2 #e08386 #db636b #d43d51\"\n",
    "patient_colors = \"#1b4965 #3b5484 #6f5998 #a7589b #d9568c #fd616d #ff7e45 #ffa600\"\n",
    "patient_colors = patient_colors.split(\" \")\n",
    "patient_colors = [\"bee9e8\",\"62b6cb\",\"1b4965\",\"cae9ff\",\"5fa8d3\"]\n",
    "patient_colors = [\"cae9ff\",\"5fa8d3\",\"573d1c\",\"A80874\", \"62b6cb\",\"1b4965\",\"a690a4\",\"afd2e9\",\"FA9F42\",\"124559\",\"8a1c7c\", \"247ba0\"]\n",
    "patient_colors = [\"#\" + i for i in patient_colors]\n",
    "\n",
    "sns.color_palette(patient_colors)"
   ]
  },
  {
   "cell_type": "code",
   "execution_count": 37,
   "metadata": {},
   "outputs": [
    {
     "data": {
      "text/plain": [
       "Text(0, 0.5, 'Sum(Log transformed CPMTMM counts)')"
      ]
     },
     "execution_count": 37,
     "metadata": {},
     "output_type": "execute_result"
    },
    {
     "data": {
      "image/png": "[encoded data removed]",
      "text/plain": [
       "<Figure size 720x720 with 1 Axes>"
      ]
     },
     "metadata": {
      "needs_background": "light"
     },
     "output_type": "display_data"
    }
   ],
   "source": [
    "plt.figure(figsize = (10, 10))\n",
    "\n",
    "sns.boxplot(data = epoOnlyCIS, \n",
    "            x = \"status\",\n",
    "            y = \"PT-CIS\",\n",
    "            color = \"#D5573B\",\n",
    "            order = [\"CTRL\", \"CKD\"],\n",
    "           fliersize = 0)\n",
    "\n",
    "sns.swarmplot(data = epoOnlyCIS, \n",
    "            x = \"status\",\n",
    "            y = \"PT-CIS\",\n",
    "              palette = patient_colors,\n",
    "              order = [\"CTRL\", \"CKD\"],\n",
    "              hue = \"Patient\")\n",
    "\n",
    "plt.ylim((10, 30))\n",
    "plt.legend(loc = \"lower left\", ncol = 2)\n",
    "#plt.legend(loc='best', bbox_to_anchor=(1, 0.5))\n",
    "\n",
    "plt.yticks(np.arange(10, 31, 5))\n",
    "plt.ylabel(\"Sum(Log transformed CPMTMM counts)\")\n",
    "#save_figure_pdf(plt, \"ptSigScore_epoOnly_09232021.pdf\")"
   ]
  },
  {
   "cell_type": "code",
   "execution_count": 38,
   "metadata": {},
   "outputs": [
    {
     "data": {
      "text/plain": [
       "\"with pd.ExcelWriter(sourceDataPath, mode = 'a') as writer:\\n            epoOnlyCIS.to_excel(writer, sheet_name = 'CKD', engine = 'xlsxwriter')\""
      ]
     },
     "execution_count": 38,
     "metadata": {},
     "output_type": "execute_result"
    }
   ],
   "source": [
    "\"\"\"with pd.ExcelWriter(sourceDataPath, mode = 'a') as writer:\n",
    "            epoOnlyCIS.to_excel(writer, sheet_name = 'CKD', engine = 'xlsxwriter')\"\"\""
   ]
  },
  {
   "cell_type": "code",
   "execution_count": 39,
   "metadata": {},
   "outputs": [],
   "source": [
    "ckdEPO = epoOnlyCIS[epoOnlyCIS[\"status\"] == \"CKD\"][\"PT-CIS\"].values.tolist()"
   ]
  },
  {
   "cell_type": "code",
   "execution_count": 40,
   "metadata": {},
   "outputs": [],
   "source": [
    "ctrlEPO = epoOnlyCIS[epoOnlyCIS[\"status\"] != \"CKD\"][\"PT-CIS\"].values.tolist()"
   ]
  },
  {
   "cell_type": "code",
   "execution_count": 41,
   "metadata": {},
   "outputs": [
    {
     "data": {
      "text/plain": [
       "MannwhitneyuResult(statistic=116.0, pvalue=0.009658300969876148)"
      ]
     },
     "execution_count": 41,
     "metadata": {},
     "output_type": "execute_result"
    }
   ],
   "source": [
    "mannwhitneyu(ckdEPO, ctrlEPO, alternative = \"less\")"
   ]
  },
  {
   "cell_type": "markdown",
   "metadata": {},
   "source": [
    "# assess p-value calibration"
   ]
  },
  {
   "cell_type": "code",
   "execution_count": 42,
   "metadata": {},
   "outputs": [],
   "source": [
    "np.random.seed(10)\n",
    "\n",
    "\n",
    "pvals = []\n",
    "difference = []\n",
    "uList = []\n",
    "\n",
    "numTrials = 10000\n",
    "\n",
    "for i in range(numTrials):\n",
    "    newLabels = np.random.permutation(epoOnlyCIS[\"status\"])\n",
    "\n",
    "    epoOnlyCIS['shuffled'] = newLabels\n",
    "\n",
    "\n",
    "    ckd = epoOnlyCIS[epoOnlyCIS['shuffled'] == \"CKD\"]['PT-CIS'].values.tolist()\n",
    "    ctrl = epoOnlyCIS[epoOnlyCIS['shuffled'] != \"CKD\"][\"PT-CIS\"].values.tolist()\n",
    "\n",
    "    \n",
    "    #u_permute, p_permute = mannwhitneyu(ckd, ctrl, alternative = \"two-sided\")\n",
    "    u_permute, p_permute = mannwhitneyu(ckd, ctrl, alternative = \"less\")\n",
    "\n",
    "\n",
    "    uList += [u_permute]\n",
    "    pvals += [p_permute]\n",
    "\n",
    "\n"
   ]
  },
  {
   "cell_type": "code",
   "execution_count": 43,
   "metadata": {},
   "outputs": [
    {
     "data": {
      "text/plain": [
       "Text(0.5, 0, 'p value')"
      ]
     },
     "execution_count": 43,
     "metadata": {},
     "output_type": "execute_result"
    },
    {
     "data": {
      "image/png": "[encoded data removed]",
      "text/plain": [
       "<Figure size 432x288 with 1 Axes>"
      ]
     },
     "metadata": {
      "needs_background": "light"
     },
     "output_type": "display_data"
    }
   ],
   "source": [
    "sns.histplot(pvals, color = \"#f75590\", stat = \"density\")\n",
    "plt.xlabel(\"p value\")\n",
    "#save_figure_pdf(plt, \"ptSig_pValDistribPermutation_epoOnly_09222021.pdf\")"
   ]
  },
  {
   "cell_type": "code",
   "execution_count": 44,
   "metadata": {},
   "outputs": [
    {
     "data": {
      "text/plain": [
       "<matplotlib.lines.Line2D at 0x7f9ab04f84a8>"
      ]
     },
     "execution_count": 44,
     "metadata": {},
     "output_type": "execute_result"
    },
    {
     "data": {
      "image/png": "[encoded data removed]",
      "text/plain": [
       "<Figure size 432x288 with 1 Axes>"
      ]
     },
     "metadata": {
      "needs_background": "light"
     },
     "output_type": "display_data"
    }
   ],
   "source": [
    "sns.histplot(uList, color = \"#f75590\", stat = \"density\")\n",
    "plt.xlabel(r'$U_{CKD 3+ vs. CTRL}$')\n",
    "plt.axvline(113, 0, 2, color = \"red\")\n",
    "#save_figure_pdf(plt, \"ptSig_uValDistribPermutation_epoOnly_09222021.pdf\")"
   ]
  },
  {
   "cell_type": "code",
   "execution_count": 45,
   "metadata": {},
   "outputs": [],
   "source": [
    "greater = []\n",
    "for i in uList:\n",
    "    if i <= 113 : greater += [i]"
   ]
  },
  {
   "cell_type": "code",
   "execution_count": 46,
   "metadata": {},
   "outputs": [
    {
     "data": {
      "text/plain": [
       "0.0063"
      ]
     },
     "execution_count": 46,
     "metadata": {},
     "output_type": "execute_result"
    }
   ],
   "source": [
    "len(greater) / numTrials"
   ]
  },
  {
   "cell_type": "code",
   "execution_count": 47,
   "metadata": {},
   "outputs": [
    {
     "name": "stdout",
     "output_type": "stream",
     "text": [
      "\u001b[H\u001b[2J"
     ]
    }
   ],
   "source": [
    "clear all"
   ]
  }
 ],
 "metadata": {
  "kernelspec": {
   "display_name": "Python 3",
   "language": "python",
   "name": "python3"
  },
  "language_info": {
   "codemirror_mode": {
    "name": "ipython",
    "version": 3
   },
   "file_extension": ".py",
   "mimetype": "text/x-python",
   "name": "python",
   "nbconvert_exporter": "python",
   "pygments_lexer": "ipython3",
   "version": "3.6.12"
  }
 },
 "nbformat": 4,
 "nbformat_minor": 4
}
