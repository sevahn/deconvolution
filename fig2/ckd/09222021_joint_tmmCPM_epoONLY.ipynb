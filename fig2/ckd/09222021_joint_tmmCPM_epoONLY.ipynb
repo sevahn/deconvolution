{
 "cells": [
  {
   "cell_type": "code",
   "execution_count": 1,
   "metadata": {},
   "outputs": [],
   "source": [
    "import pandas as pd\n",
    "import scanpy as sc\n",
    "import numpy as np\n",
    "\n",
    "\n",
    "import matplotlib.pyplot as plt\n",
    "import seaborn as sns\n",
    "\n",
    "\n",
    "hfont = {'fontname':'Helvetica'}\n",
    "sns.set(font_scale = 2)\n",
    "sns.set_style(style='white')\n",
    "\n",
    "\n",
    "from scipy.stats import mannwhitneyu\n",
    "\n",
    "np.random.seed(31)"
   ]
  },
  {
   "cell_type": "markdown",
   "metadata": {},
   "source": [
    "use the correct samples off the EPO batches for TMM normalization."
   ]
  },
  {
   "cell_type": "code",
   "execution_count": 2,
   "metadata": {},
   "outputs": [],
   "source": [
    "basePath = \"~/Documents/deconvolution/molecstetho/remapped_unstranded/\""
   ]
  },
  {
   "cell_type": "code",
   "execution_count": 3,
   "metadata": {},
   "outputs": [
    {
     "data": {
      "text/html": [
       "<div>\n",
       "<style scoped>\n",
       "    .dataframe tbody tr th:only-of-type {\n",
       "        vertical-align: middle;\n",
       "    }\n",
       "\n",
       "    .dataframe tbody tr th {\n",
       "        vertical-align: top;\n",
       "    }\n",
       "\n",
       "    .dataframe thead th {\n",
       "        text-align: right;\n",
       "    }\n",
       "</style>\n",
       "<table border=\"1\" class=\"dataframe\">\n",
       "  <thead>\n",
       "    <tr style=\"text-align: right;\">\n",
       "      <th></th>\n",
       "      <th>tmmEPOApril</th>\n",
       "      <th>libsize</th>\n",
       "    </tr>\n",
       "  </thead>\n",
       "  <tbody>\n",
       "    <tr>\n",
       "      <th>SRR8492548</th>\n",
       "      <td>1.446812</td>\n",
       "      <td>2841564</td>\n",
       "    </tr>\n",
       "    <tr>\n",
       "      <th>SRR8492550</th>\n",
       "      <td>1.405567</td>\n",
       "      <td>6834508</td>\n",
       "    </tr>\n",
       "    <tr>\n",
       "      <th>SRR8492552</th>\n",
       "      <td>1.184622</td>\n",
       "      <td>4136162</td>\n",
       "    </tr>\n",
       "    <tr>\n",
       "      <th>SRR8492555</th>\n",
       "      <td>1.354897</td>\n",
       "      <td>9592636</td>\n",
       "    </tr>\n",
       "    <tr>\n",
       "      <th>SRR8492551</th>\n",
       "      <td>0.909138</td>\n",
       "      <td>3274798</td>\n",
       "    </tr>\n",
       "  </tbody>\n",
       "</table>\n",
       "</div>"
      ],
      "text/plain": [
       "            tmmEPOApril  libsize\n",
       "SRR8492548     1.446812  2841564\n",
       "SRR8492550     1.405567  6834508\n",
       "SRR8492552     1.184622  4136162\n",
       "SRR8492555     1.354897  9592636\n",
       "SRR8492551     0.909138  3274798"
      ]
     },
     "execution_count": 3,
     "metadata": {},
     "output_type": "execute_result"
    }
   ],
   "source": [
    "allTMM = pd.read_csv(basePath + \"tmmScalingFactors_epoONLY_unstranded_INTRON3_09222021.csv\",\n",
    "                    sep = \",\", index_col = 0)\n",
    "allTMM.head()"
   ]
  },
  {
   "cell_type": "code",
   "execution_count": 4,
   "metadata": {},
   "outputs": [],
   "source": [
    "epoCts = pd.read_csv(basePath + \"epoONLY_htseq-cts_unstrandedTS3_postQC.csv\",\n",
    "                         index_col = [0, 1])"
   ]
  },
  {
   "cell_type": "code",
   "execution_count": 5,
   "metadata": {},
   "outputs": [],
   "source": [
    "\"\"\"\n",
    "@param countsmat = counts matrix (for molecular stethoscope samples,\n",
    "havent rejected bad samples, just specify good SRR later)\n",
    "@param tmmFacs = dataframe of # samps x 2, where the cols are the TMM factors + libsize\n",
    "@param tmmCol = column name (str) of tmmFacs DF \n",
    "@param mLplama = starting @ mL plasma used for extracting RNA\n",
    "\n",
    "\n",
    "\"\"\"\n",
    "def tmmScale(countsmat, tmmFacs, tmmCol, mLplasma):\n",
    "    tmm = tmmFacs.T.loc[tmmCol]\n",
    "    size = tmmFacs.T.loc[\"libsize\"]\n",
    "    scaleFac = tmm * size * mLplasma\n",
    "    scaleFac.index = countsmat.columns.tolist()\n",
    "    scaled = countsmat.div(scaleFac, axis = \"columns\") * 10 ** 6\n",
    "    return(scaled)"
   ]
  },
  {
   "cell_type": "code",
   "execution_count": null,
   "metadata": {},
   "outputs": [],
   "source": []
  },
  {
   "cell_type": "code",
   "execution_count": 6,
   "metadata": {},
   "outputs": [
    {
     "data": {
      "text/plain": [
       "(60, 2)"
      ]
     },
     "execution_count": 6,
     "metadata": {},
     "output_type": "execute_result"
    }
   ],
   "source": [
    "allTMM.shape"
   ]
  },
  {
   "cell_type": "code",
   "execution_count": 7,
   "metadata": {},
   "outputs": [
    {
     "data": {
      "text/plain": [
       "(24915, 60)"
      ]
     },
     "execution_count": 7,
     "metadata": {},
     "output_type": "execute_result"
    }
   ],
   "source": [
    "epoCts.shape"
   ]
  },
  {
   "cell_type": "code",
   "execution_count": 8,
   "metadata": {},
   "outputs": [
    {
     "data": {
      "text/plain": [
       "array([ True,  True,  True,  True,  True,  True,  True,  True,  True,\n",
       "        True,  True,  True,  True,  True,  True,  True,  True,  True,\n",
       "        True,  True,  True,  True,  True,  True,  True,  True,  True,\n",
       "        True,  True,  True,  True,  True,  True,  True,  True,  True,\n",
       "        True,  True,  True,  True,  True,  True,  True,  True,  True,\n",
       "        True,  True,  True,  True,  True,  True,  True,  True,  True,\n",
       "        True,  True,  True,  True,  True,  True])"
      ]
     },
     "execution_count": 8,
     "metadata": {},
     "output_type": "execute_result"
    }
   ],
   "source": [
    "epoCts.columns == allTMM.index"
   ]
  },
  {
   "cell_type": "code",
   "execution_count": 9,
   "metadata": {},
   "outputs": [],
   "source": [
    "epoAprilCPMTMM = tmmScale(epoCts, allTMM, allTMM.columns[0], 1 )"
   ]
  },
  {
   "cell_type": "code",
   "execution_count": 10,
   "metadata": {},
   "outputs": [
    {
     "data": {
      "text/plain": [
       "SRR8492548    6.911750e+05\n",
       "SRR8492550    7.114568e+05\n",
       "SRR8492552    8.441509e+05\n",
       "SRR8492555    7.380635e+05\n",
       "SRR8492551    1.099943e+06\n",
       "SRR8492553    9.952244e+05\n",
       "SRR8492554    1.098863e+06\n",
       "SRR8492643    9.355186e+05\n",
       "SRR8492827    1.014121e+06\n",
       "SRR8492545    1.545405e+06\n",
       "SRR8492641    9.796761e+05\n",
       "SRR8492644    9.316248e+05\n",
       "SRR8492642    1.314062e+06\n",
       "SRR8492645    1.521567e+06\n",
       "SRR8492646    1.125372e+06\n",
       "SRR8492649    1.355992e+06\n",
       "SRR8492647    1.062121e+06\n",
       "SRR8492650    8.971893e+05\n",
       "SRR8492648    9.774181e+05\n",
       "SRR8492618    9.786870e+05\n",
       "SRR8492625    9.378345e+05\n",
       "SRR8492624    9.331958e+05\n",
       "SRR8492722    8.937488e+05\n",
       "SRR8492620    8.990335e+05\n",
       "SRR8492622    7.546744e+05\n",
       "SRR8492619    8.016886e+05\n",
       "SRR8492621    8.855633e+05\n",
       "SRR8492623    7.819344e+05\n",
       "SRR8492627    7.715239e+05\n",
       "SRR8492546    1.110388e+06\n",
       "SRR8492723    8.740242e+05\n",
       "SRR8492727    7.652012e+05\n",
       "SRR8492660    8.293245e+05\n",
       "SRR8492673    9.332645e+05\n",
       "SRR8492692    1.084679e+06\n",
       "SRR8492743    7.231140e+05\n",
       "SRR8492789    7.073263e+05\n",
       "SRR8492788    7.658731e+05\n",
       "SRR8492792    8.723764e+05\n",
       "SRR8492672    7.740053e+05\n",
       "SRR8492674    7.390121e+05\n",
       "SRR8492586    7.254653e+05\n",
       "SRR8492587    7.668748e+05\n",
       "SRR8492585    8.399122e+05\n",
       "SRR8492583    7.804640e+05\n",
       "SRR8492584    8.090976e+05\n",
       "SRR8492582    7.638443e+05\n",
       "SRR8492580    7.815831e+05\n",
       "SRR8492581    7.767643e+05\n",
       "SRR8492589    7.566310e+05\n",
       "SRR8492549    9.638231e+05\n",
       "SRR8492721    1.270002e+06\n",
       "SRR8492730    2.064056e+06\n",
       "SRR8492574    1.585641e+06\n",
       "SRR8492614    2.817684e+06\n",
       "SRR8492719    2.468979e+06\n",
       "SRR8492689    1.934260e+06\n",
       "SRR8492609    1.425141e+06\n",
       "SRR8492613    1.907086e+06\n",
       "SRR8492728    1.735080e+06\n",
       "dtype: float64"
      ]
     },
     "execution_count": 10,
     "metadata": {},
     "output_type": "execute_result"
    }
   ],
   "source": [
    "epoAprilCPMTMM.sum(axis = 0)"
   ]
  },
  {
   "cell_type": "code",
   "execution_count": 11,
   "metadata": {},
   "outputs": [],
   "source": [
    "def dropZeroGenes(df):\n",
    "    return(df.loc[~(df==0).all(axis=1)])"
   ]
  },
  {
   "cell_type": "code",
   "execution_count": 12,
   "metadata": {},
   "outputs": [],
   "source": [
    "epoCPMTMM = dropZeroGenes(epoAprilCPMTMM)"
   ]
  },
  {
   "cell_type": "code",
   "execution_count": 13,
   "metadata": {},
   "outputs": [
    {
     "data": {
      "text/plain": [
       "SRR8492548    6.911750e+05\n",
       "SRR8492550    7.114568e+05\n",
       "SRR8492552    8.441509e+05\n",
       "SRR8492555    7.380635e+05\n",
       "SRR8492551    1.099943e+06\n",
       "SRR8492553    9.952244e+05\n",
       "SRR8492554    1.098863e+06\n",
       "SRR8492643    9.355186e+05\n",
       "SRR8492827    1.014121e+06\n",
       "SRR8492545    1.545405e+06\n",
       "SRR8492641    9.796761e+05\n",
       "SRR8492644    9.316248e+05\n",
       "SRR8492642    1.314062e+06\n",
       "SRR8492645    1.521567e+06\n",
       "SRR8492646    1.125372e+06\n",
       "SRR8492649    1.355992e+06\n",
       "SRR8492647    1.062121e+06\n",
       "SRR8492650    8.971893e+05\n",
       "SRR8492648    9.774181e+05\n",
       "SRR8492618    9.786870e+05\n",
       "SRR8492625    9.378345e+05\n",
       "SRR8492624    9.331958e+05\n",
       "SRR8492722    8.937488e+05\n",
       "SRR8492620    8.990335e+05\n",
       "SRR8492622    7.546744e+05\n",
       "SRR8492619    8.016886e+05\n",
       "SRR8492621    8.855633e+05\n",
       "SRR8492623    7.819344e+05\n",
       "SRR8492627    7.715239e+05\n",
       "SRR8492546    1.110388e+06\n",
       "SRR8492723    8.740242e+05\n",
       "SRR8492727    7.652012e+05\n",
       "SRR8492660    8.293245e+05\n",
       "SRR8492673    9.332645e+05\n",
       "SRR8492692    1.084679e+06\n",
       "SRR8492743    7.231140e+05\n",
       "SRR8492789    7.073263e+05\n",
       "SRR8492788    7.658731e+05\n",
       "SRR8492792    8.723764e+05\n",
       "SRR8492672    7.740053e+05\n",
       "SRR8492674    7.390121e+05\n",
       "SRR8492586    7.254653e+05\n",
       "SRR8492587    7.668748e+05\n",
       "SRR8492585    8.399122e+05\n",
       "SRR8492583    7.804640e+05\n",
       "SRR8492584    8.090976e+05\n",
       "SRR8492582    7.638443e+05\n",
       "SRR8492580    7.815831e+05\n",
       "SRR8492581    7.767643e+05\n",
       "SRR8492589    7.566310e+05\n",
       "SRR8492549    9.638231e+05\n",
       "SRR8492721    1.270002e+06\n",
       "SRR8492730    2.064056e+06\n",
       "SRR8492574    1.585641e+06\n",
       "SRR8492614    2.817684e+06\n",
       "SRR8492719    2.468979e+06\n",
       "SRR8492689    1.934260e+06\n",
       "SRR8492609    1.425141e+06\n",
       "SRR8492613    1.907086e+06\n",
       "SRR8492728    1.735080e+06\n",
       "dtype: float64"
      ]
     },
     "execution_count": 13,
     "metadata": {},
     "output_type": "execute_result"
    }
   ],
   "source": [
    "epoCPMTMM.sum(axis = 0)"
   ]
  },
  {
   "cell_type": "code",
   "execution_count": 14,
   "metadata": {},
   "outputs": [],
   "source": [
    "#epoAprilCPMTMM.to_csv(\"remapped_unstranded/epoAprilCPMTMM_08152021.csv\", sep = \",\", header = True)\n",
    "epoCPMTMM.to_csv(\"remapped_unstranded/epoONLYCPMTMM_09222021_INTRON3.csv\", sep = \",\", header = True)"
   ]
  },
  {
   "cell_type": "code",
   "execution_count": 15,
   "metadata": {},
   "outputs": [
    {
     "name": "stdout",
     "output_type": "stream",
     "text": [
      "\u001b[H\u001b[2J"
     ]
    }
   ],
   "source": [
    "clear all"
   ]
  }
 ],
 "metadata": {
  "kernelspec": {
   "display_name": "Python 3",
   "language": "python",
   "name": "python3"
  },
  "language_info": {
   "codemirror_mode": {
    "name": "ipython",
    "version": 3
   },
   "file_extension": ".py",
   "mimetype": "text/x-python",
   "name": "python",
   "nbconvert_exporter": "python",
   "pygments_lexer": "ipython3",
   "version": "3.6.12"
  }
 },
 "nbformat": 4,
 "nbformat_minor": 4
}
