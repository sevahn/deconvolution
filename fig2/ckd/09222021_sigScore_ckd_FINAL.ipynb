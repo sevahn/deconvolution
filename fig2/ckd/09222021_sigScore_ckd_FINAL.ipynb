{
 "cells": [
  {
   "cell_type": "code",
   "execution_count": 2,
   "metadata": {},
   "outputs": [],
   "source": [
    "import numpy as np\n",
    "import pandas as pd\n",
    "import scanpy as sc\n",
    "\n",
    "from scipy.stats import mannwhitneyu\n",
    "\n",
    "import matplotlib.pyplot as plt\n",
    "import seaborn as sns\n",
    "import matplotlib as mpl\n",
    "\n",
    "#For editable text. Except latex text is still shapes sadly\n",
    "mpl.rcParams['pdf.fonttype'] = 42\n",
    "mpl.rcParams['ps.fonttype'] = 42\n",
    "sns.set_style(\"whitegrid\")\n",
    "font = {'size' : 5}\n",
    "lines = {'linewidth' : 0.5}\n",
    "fig = {'figsize' : (2.5, 1.5)}\n",
    "mpl.rc('font', **font)\n",
    "mpl.rc('lines', **lines)\n",
    "mpl.rc('figure', **fig)\n",
    "#Set style\n",
    "sns.set(style=\"whitegrid\", palette=\"pastel\", color_codes=True)"
   ]
  },
  {
   "cell_type": "code",
   "execution_count": 3,
   "metadata": {},
   "outputs": [],
   "source": [
    "figSavePath = \"/Users/kayaneh/Documents/deconvolution/figures/full_figure/maintext_revision1/fig3/\"\n",
    "\n",
    "sourceDataPath = \"/Users/kayaneh/Documents/deconvolution/aip/source_data/fig2_sourceData.xlsx\""
   ]
  },
  {
   "cell_type": "code",
   "execution_count": 4,
   "metadata": {},
   "outputs": [],
   "source": [
    "def save_figure_pdf(fig, path_to_save):\n",
    "\t'''\n",
    "\tUtility fxn to save a figure without having to retype all the required options.\n",
    "\tInput:\n",
    "\t\tfig - a matplotlib.pyplot.figure instance with the figure you'd like to save\n",
    "\t\tpath_to_save - the path you'd like to save the figure to\n",
    "\tReturns: Nothing but there should now be a pdf version in 300 dpi with a transparent bkg at path_to_save\n",
    "\t'''\n",
    "\tfig.savefig(path_to_save, dpi = 300, bbox_inches = 'tight', transparent = True)"
   ]
  },
  {
   "cell_type": "markdown",
   "metadata": {},
   "source": [
    "# necessary helper fns"
   ]
  },
  {
   "cell_type": "code",
   "execution_count": 5,
   "metadata": {},
   "outputs": [],
   "source": [
    "def makeSigDict(sigPath):\n",
    "    cellTypeSigs = pd.read_csv(sigPath, sep = \",\", index_col = 0).T\n",
    "    \n",
    "    # based on file structure, transpose to use ENSG paths\n",
    "    if \"gini\" in sigPath:\n",
    "        cellTypeSigs = cellTypeSigs.T\n",
    "    \n",
    "    sigDict = {}\n",
    "    for cellType in cellTypeSigs.columns:\n",
    "        sigDict[cellType] = cellTypeSigs[cellType].dropna().index.tolist()\n",
    "    \n",
    "    \n",
    "    return(sigDict)"
   ]
  },
  {
   "cell_type": "code",
   "execution_count": 6,
   "metadata": {},
   "outputs": [],
   "source": [
    "\"\"\"\n",
    "@param ctsDF = df of samples (genes x samps)\n",
    "@returns zeroCenteredCtsDF = df of (genes x samps) with average subtracted\n",
    "\"\"\"\n",
    "def zeroCenterSingleBatch(cpmDF, relSRR):\n",
    "    cpmDF = cpmDF[relSRR] # just subset to the SRR space you want to zero normalize with\n",
    "    geneMean = cpmDF.mean(axis = 1).to_frame()\n",
    "    geneMean = np.ndarray.flatten(geneMean.values)\n",
    "    zeroCenteredCtsDF = cpmDF.sub(geneMean, axis = \"index\")\n",
    "    return(zeroCenteredCtsDF)"
   ]
  },
  {
   "cell_type": "code",
   "execution_count": 7,
   "metadata": {},
   "outputs": [],
   "source": [
    "\"\"\"\n",
    "@param zeroCenterDF = dataframe gene zero centered samples\n",
    "@param sigDict = dictionary with keys of str that are cell types and \n",
    "                values are lists of their unique marker genes\n",
    "\"\"\"\n",
    "\n",
    "def cis(zeroCenterDF, sigDict):\n",
    "    \n",
    "    cisRes = pd.DataFrame()\n",
    "    for cell in sigDict:  \n",
    "        \n",
    "        geneList = sigDict[cell]\n",
    "\n",
    "        intersection = np.intersect1d(geneList, zeroCenterDF.index.tolist())\n",
    "        \n",
    "        cellSig = zeroCenterDF.loc[intersection].sum(axis = 0).to_frame()\n",
    "        cellSig.columns = [cell + \"-CIS\"]\n",
    "        cisRes = pd.concat([cisRes, cellSig], axis = 1)\n",
    "        \n",
    "    return(cisRes)"
   ]
  },
  {
   "cell_type": "code",
   "execution_count": 8,
   "metadata": {},
   "outputs": [],
   "source": [
    "# @param sampList = list of samples to consider a\n",
    "# single batch in the column space of the cpm DF\n",
    "\n",
    "\n",
    "def main(cpmDF, geneSigPath, \n",
    "         sampList):\n",
    "    \n",
    "    print(\"SAMP LIST = \", sampList)\n",
    "    zeroCenteredCts = zeroCenterSingleBatch(cpmDF, sampList) \n",
    "    \n",
    "    #### CIS TIME ####\n",
    "    # make the DEG dictionary\n",
    "    degDict = makeSigDict(geneSigPath) \n",
    "\n",
    "    \n",
    "    # perform CIS\n",
    "    cfCIS_Zero = cis(zeroCenteredCts, degDict)\n",
    "    cfCIS_CPM = cis(cpmDF, degDict)\n",
    "    \n",
    "    \n",
    "    cfCIS_Zero[~cfCIS_Zero.index.duplicated(keep='first')]\n",
    "    cfCIS_CPM[~cfCIS_CPM.index.duplicated(keep='first')]\n",
    "    \n",
    "    return(cfCIS_Zero, cfCIS_CPM)"
   ]
  },
  {
   "cell_type": "markdown",
   "metadata": {},
   "source": [
    "# read in the data"
   ]
  },
  {
   "cell_type": "code",
   "execution_count": 9,
   "metadata": {},
   "outputs": [],
   "source": [
    "epoAprilCPMTMM = pd.read_csv(\"/Users/kayaneh/Documents/deconvolution/molecstetho/remapped_unstranded/epoONLYCPMTMM_09222021_INTRON3.csv\",\n",
    "                             sep = \",\", index_col = [0, 1])\n",
    "\"\"\"epoAprilCPMTMM = pd.read_csv(\"/Users/kayaneh/Documents/deconvolution/molecstetho/remapped_unstranded/epoONLYCPMOnly_12042021_INTRON3.csv\",\n",
    "                             sep = \",\", index_col = [0, 1])\"\"\"\n",
    "\n",
    "\n",
    "\n",
    "\n",
    "ckdTMM = epoAprilCPMTMM"
   ]
  },
  {
   "cell_type": "code",
   "execution_count": 10,
   "metadata": {},
   "outputs": [],
   "source": [
    "ckdTMMLog = np.log(ckdTMM + 1)"
   ]
  },
  {
   "cell_type": "code",
   "execution_count": 21,
   "metadata": {},
   "outputs": [],
   "source": [
    "meta = pd.read_csv(\"epometadata.csv\", sep = \",\", index_col = 0)\n",
    "\n",
    "goodSamps = ckdTMM.columns.tolist()\n",
    "\n",
    "meta = meta[meta[\"Run\"].isin(goodSamps)]\n",
    "\n",
    "\n",
    "allMeta = meta # just care about epo cohort\n",
    "ckdTMM.fillna(0, inplace = True)"
   ]
  },
  {
   "cell_type": "code",
   "execution_count": 22,
   "metadata": {},
   "outputs": [],
   "source": [
    "meta[\"status\"] = [\"CKD\" if \"EPO\" in i else \"CTRL\" for i in meta[\"Patient\"]]"
   ]
  },
  {
   "cell_type": "code",
   "execution_count": 23,
   "metadata": {},
   "outputs": [
    {
     "data": {
      "text/plain": [
       "(array(['CKD', 'CTRL'], dtype=object), array([51,  9]))"
      ]
     },
     "execution_count": 23,
     "metadata": {},
     "output_type": "execute_result"
    }
   ],
   "source": [
    "np.unique(meta[\"status\"], return_counts = True)"
   ]
  },
  {
   "cell_type": "code",
   "execution_count": 24,
   "metadata": {},
   "outputs": [],
   "source": [
    "# just get the samples in ckdTMM that belong to the epo cohort\n",
    "ckdTMMLog = ckdTMMLog[allMeta[\"Run\"]]"
   ]
  },
  {
   "cell_type": "code",
   "execution_count": 25,
   "metadata": {},
   "outputs": [],
   "source": [
    "allMeta.set_index(\"Run\", inplace = True)"
   ]
  },
  {
   "cell_type": "code",
   "execution_count": 26,
   "metadata": {},
   "outputs": [],
   "source": [
    "libSize = epoAprilCPMTMM.iloc[:-6,:].sum(axis = 0).to_frame()\n",
    "libSize.columns = [\"libsize\"]"
   ]
  },
  {
   "cell_type": "code",
   "execution_count": 27,
   "metadata": {},
   "outputs": [],
   "source": [
    "libMeta = allMeta.join(libSize)"
   ]
  },
  {
   "cell_type": "code",
   "execution_count": 28,
   "metadata": {},
   "outputs": [],
   "source": [
    "libMeta[\"cohort\"] = [\"epo\" if \"EPO\" in i or \"Control\" in i else \"fig1\" for i in libMeta[\"Patient\"]]"
   ]
  },
  {
   "cell_type": "code",
   "execution_count": 29,
   "metadata": {},
   "outputs": [],
   "source": [
    "libMeta[\"status\"] = [\"CKD\" if \"EPO\" in i else \"CTRL\" for i in libMeta[\"Sample Name\"]]"
   ]
  },
  {
   "cell_type": "code",
   "execution_count": 30,
   "metadata": {},
   "outputs": [],
   "source": [
    "epoLibs = libMeta[libMeta[\"cohort\"] == \"epo\"]"
   ]
  },
  {
   "cell_type": "code",
   "execution_count": 31,
   "metadata": {},
   "outputs": [],
   "source": [
    "epoLibs_ctrl = epoLibs[epoLibs[\"status\"] == \"CTRL\"][\"libsize\"].values.tolist()"
   ]
  },
  {
   "cell_type": "code",
   "execution_count": 32,
   "metadata": {},
   "outputs": [],
   "source": [
    "epoLibs_ckd = epoLibs[epoLibs[\"status\"] == \"CKD\"][\"libsize\"].values.tolist()"
   ]
  },
  {
   "cell_type": "code",
   "execution_count": 33,
   "metadata": {},
   "outputs": [
    {
     "data": {
      "text/plain": [
       "<AxesSubplot:xlabel='libsize', ylabel='Count'>"
      ]
     },
     "execution_count": 33,
     "metadata": {},
     "output_type": "execute_result"
    },
    {
     "data": {
      "image/png": "[encoded data removed]",
      "text/plain": [
       "<Figure size 180x108 with 1 Axes>"
      ]
     },
     "metadata": {},
     "output_type": "display_data"
    }
   ],
   "source": [
    "sns.histplot(data = epoLibs, x = \"libsize\", hue = \"status\")\n",
    "# the distribution in library size between the CKD and CTRL samples in the EPO cohort are comparable "
   ]
  },
  {
   "cell_type": "code",
   "execution_count": 88,
   "metadata": {},
   "outputs": [
    {
     "name": "stderr",
     "output_type": "stream",
     "text": [
      "No handles with labels found to put in legend.\n"
     ]
    },
    {
     "data": {
      "text/plain": [
       "Text(0.5, 1.0, 'epo and fig1 library size distribution')"
      ]
     },
     "execution_count": 88,
     "metadata": {},
     "output_type": "execute_result"
    },
    {
     "data": {
      "image/png": "[encoded data removed]",
      "text/plain": [
       "<Figure size 720x360 with 1 Axes>"
      ]
     },
     "metadata": {},
     "output_type": "display_data"
    }
   ],
   "source": [
    "# distribution over all the samples\n",
    "plt.figure(figsize = (10, 5))\n",
    "sns.histplot(data = libMeta, x = 'libsize', hue = \"Patient\")\n",
    "\n",
    "plt.legend(bbox_to_anchor=(1, 0.5))\n",
    "plt.ylabel(\"frequency\")\n",
    "plt.xlabel(\"libsize of reads mapping to distinct human genes\")\n",
    "plt.title('epo and fig1 library size distribution')"
   ]
  },
  {
   "cell_type": "code",
   "execution_count": 89,
   "metadata": {},
   "outputs": [],
   "source": [
    "ckdTMMLog.reset_index(inplace = True, drop = False)"
   ]
  },
  {
   "cell_type": "code",
   "execution_count": 90,
   "metadata": {},
   "outputs": [],
   "source": [
    "ckdTMMLog.set_index(\"gene_num\", inplace = True)\n",
    "ckdTMMLog.drop(\"gene_name\", inplace = True, axis = \"columns\")"
   ]
  },
  {
   "cell_type": "code",
   "execution_count": 91,
   "metadata": {},
   "outputs": [],
   "source": [
    "# read in brain genes\n",
    "basePath = \"/Users/kayaneh/documents/deconvolution/signatures_git/\"\n",
    "\n",
    "kidneyGiniPath = \"gini6_perCluster_kidney_12072020.csv\"\n",
    "kidneySigs = pd.read_csv(basePath + kidneyGiniPath, index_col = 0)\n",
    "proximalTubuleSignature = kidneySigs[\"Proximal tubule-gini\"].dropna().index.tolist()"
   ]
  },
  {
   "cell_type": "code",
   "execution_count": 92,
   "metadata": {},
   "outputs": [
    {
     "data": {
      "text/plain": [
       "(45, 60)"
      ]
     },
     "execution_count": 92,
     "metadata": {},
     "output_type": "execute_result"
    }
   ],
   "source": [
    "# MAKE ROWSPACE OF ckdTMMLog to proximal tubule signature only\n",
    "ckdTMMLog = ckdTMMLog.loc[np.intersect1d(ckdTMMLog.index, proximalTubuleSignature)]\n",
    "ckdTMMLog.shape"
   ]
  },
  {
   "cell_type": "code",
   "execution_count": 93,
   "metadata": {},
   "outputs": [],
   "source": [
    "ctsMeta = ckdTMMLog.T.join(allMeta)"
   ]
  },
  {
   "cell_type": "code",
   "execution_count": 94,
   "metadata": {},
   "outputs": [],
   "source": [
    "meltCtsMeta = pd.melt(ctsMeta, id_vars = ctsMeta.columns[-4:],\n",
    "       value_vars = ctsMeta.columns[:-4])"
   ]
  },
  {
   "cell_type": "code",
   "execution_count": 95,
   "metadata": {},
   "outputs": [],
   "source": [
    "# eliminate genes that have all zero counts in a given cohort (e.g. all zero in CKD or all-zero in healthy)"
   ]
  },
  {
   "cell_type": "code",
   "execution_count": 96,
   "metadata": {},
   "outputs": [
    {
     "name": "stdout",
     "output_type": "stream",
     "text": [
      "16\n"
     ]
    }
   ],
   "source": [
    "ctrlEpoENSG_dropout = []\n",
    "\n",
    "for ensg in np.unique(meltCtsMeta[\"variable\"]):\n",
    "    thisGene = meltCtsMeta[meltCtsMeta[\"variable\"] == ensg]\n",
    "    ckdGene = thisGene[thisGene[\"status\"] == \"CKD\"][\"value\"].values.tolist()\n",
    "    ctrlGene = thisGene[thisGene[\"status\"] == \"CTRL\"][\"value\"].values.tolist()\n",
    "    \n",
    "    if np.unique(ckdGene).tolist() == [0]:\n",
    "        ctrlEpoENSG_dropout += [ensg]\n",
    "\n",
    "    if np.unique(ctrlGene).tolist() == [0]:\n",
    "        ctrlEpoENSG_dropout += [ensg]\n",
    "\n",
    "        \n",
    "# these are all the genes in either the CKD or CTRL batches that have no expression\n",
    "\n",
    "# kill potential duplicate genes that are zero across both\n",
    "ctrlEpoENSG_dropout = np.unique(ctrlEpoENSG_dropout).tolist() \n",
    "print(len(ctrlEpoENSG_dropout))"
   ]
  },
  {
   "cell_type": "code",
   "execution_count": 98,
   "metadata": {},
   "outputs": [
    {
     "data": {
      "text/plain": [
       "['ENSG00000010932',\n",
       " 'ENSG00000081479',\n",
       " 'ENSG00000100253',\n",
       " 'ENSG00000113492',\n",
       " 'ENSG00000124564',\n",
       " 'ENSG00000129151',\n",
       " 'ENSG00000132437',\n",
       " 'ENSG00000148942',\n",
       " 'ENSG00000149452',\n",
       " 'ENSG00000158296',\n",
       " 'ENSG00000178828',\n",
       " 'ENSG00000197901',\n",
       " 'ENSG00000204653',\n",
       " 'ENSG00000205279',\n",
       " 'ENSG00000205358',\n",
       " 'ENSG00000250799']"
      ]
     },
     "execution_count": 98,
     "metadata": {},
     "output_type": "execute_result"
    }
   ],
   "source": [
    "ctrlEpoENSG_dropout"
   ]
  },
  {
   "cell_type": "code",
   "execution_count": 33,
   "metadata": {},
   "outputs": [
    {
     "data": {
      "text/plain": [
       "(29, 60)"
      ]
     },
     "execution_count": 33,
     "metadata": {},
     "output_type": "execute_result"
    }
   ],
   "source": [
    "# the PT genes that are not part of the dropout list\n",
    "goodGenes = np.setdiff1d(ckdTMMLog.index, ctrlEpoENSG_dropout)\n",
    "\n",
    "# reindex the row space of ckdTMMLog to just the genes passing\n",
    "ckdTMMLog = ckdTMMLog.loc[goodGenes]\n",
    "ckdTMMLog.shape"
   ]
  },
  {
   "cell_type": "code",
   "execution_count": 34,
   "metadata": {},
   "outputs": [],
   "source": [
    "relSigs = {}\n",
    "\n",
    "relSigs[\"PT\"] = kidneySigs[\"Proximal tubule-gini\"].dropna().index.tolist()\n"
   ]
  },
  {
   "cell_type": "code",
   "execution_count": 35,
   "metadata": {},
   "outputs": [
    {
     "data": {
      "text/plain": [
       "['ENSG00000153086',\n",
       " 'ENSG00000183747',\n",
       " 'ENSG00000066813',\n",
       " 'ENSG00000132744',\n",
       " 'ENSG00000116771',\n",
       " 'ENSG00000113492',\n",
       " 'ENSG00000136872',\n",
       " 'ENSG00000166825',\n",
       " 'ENSG00000204653',\n",
       " 'ENSG00000129151',\n",
       " 'ENSG00000145692',\n",
       " 'ENSG00000164237',\n",
       " 'ENSG00000205279',\n",
       " 'ENSG00000107611',\n",
       " 'ENSG00000132437',\n",
       " 'ENSG00000015413',\n",
       " 'ENSG00000147647',\n",
       " 'ENSG00000162391',\n",
       " 'ENSG00000010932',\n",
       " 'ENSG00000171766',\n",
       " 'ENSG00000149124',\n",
       " 'ENSG00000211445',\n",
       " 'ENSG00000243955',\n",
       " 'ENSG00000244067',\n",
       " 'ENSG00000116882',\n",
       " 'ENSG00000138030',\n",
       " 'ENSG00000081479',\n",
       " 'ENSG00000100253',\n",
       " 'ENSG00000125144',\n",
       " 'ENSG00000205358',\n",
       " 'ENSG00000144035',\n",
       " 'ENSG00000086991',\n",
       " 'ENSG00000174827',\n",
       " 'ENSG00000250799',\n",
       " 'ENSG00000135069',\n",
       " 'ENSG00000139194',\n",
       " 'ENSG00000178828',\n",
       " 'ENSG00000081800',\n",
       " 'ENSG00000158296',\n",
       " 'ENSG00000165449',\n",
       " 'ENSG00000124564',\n",
       " 'ENSG00000197901',\n",
       " 'ENSG00000149452',\n",
       " 'ENSG00000131183',\n",
       " 'ENSG00000148942',\n",
       " 'ENSG00000137251',\n",
       " 'ENSG00000171234']"
      ]
     },
     "execution_count": 35,
     "metadata": {},
     "output_type": "execute_result"
    }
   ],
   "source": [
    "kidneySigs[\"Proximal tubule-gini\"].dropna().index.tolist()"
   ]
  },
  {
   "cell_type": "code",
   "execution_count": 36,
   "metadata": {},
   "outputs": [],
   "source": [
    "allMeta[\"cohort\"] = [\"epo\" if \"EPO\" in i or \"Control\" in i else \"fig1\" for i in allMeta[\"Patient\"]]"
   ]
  },
  {
   "cell_type": "code",
   "execution_count": 37,
   "metadata": {},
   "outputs": [],
   "source": [
    "allMeta[\"status\"] = [\"CKD\" if 'EPO' in i else \"CTRL\" for i in allMeta[\"Patient\"]]"
   ]
  },
  {
   "cell_type": "code",
   "execution_count": 38,
   "metadata": {},
   "outputs": [],
   "source": [
    "ctrlMeta = ctsMeta[ctsMeta[\"status\"] == \"CTRL\"]"
   ]
  },
  {
   "cell_type": "code",
   "execution_count": 39,
   "metadata": {},
   "outputs": [],
   "source": [
    "# DO THE CIS\n",
    "cisScore = cis(ckdTMMLog, relSigs)"
   ]
  },
  {
   "cell_type": "code",
   "execution_count": 40,
   "metadata": {},
   "outputs": [],
   "source": [
    "cisMeta = cisScore.join(allMeta)"
   ]
  },
  {
   "cell_type": "code",
   "execution_count": 41,
   "metadata": {},
   "outputs": [
    {
     "data": {
      "text/html": [
       "<div>\n",
       "<style scoped>\n",
       "    .dataframe tbody tr th:only-of-type {\n",
       "        vertical-align: middle;\n",
       "    }\n",
       "\n",
       "    .dataframe tbody tr th {\n",
       "        vertical-align: top;\n",
       "    }\n",
       "\n",
       "    .dataframe thead th {\n",
       "        text-align: right;\n",
       "    }\n",
       "</style>\n",
       "<table border=\"1\" class=\"dataframe\">\n",
       "  <thead>\n",
       "    <tr style=\"text-align: right;\">\n",
       "      <th></th>\n",
       "      <th>PT-CIS</th>\n",
       "      <th>Sample Name</th>\n",
       "      <th>Day</th>\n",
       "      <th>Patient</th>\n",
       "      <th>status</th>\n",
       "      <th>cohort</th>\n",
       "    </tr>\n",
       "  </thead>\n",
       "  <tbody>\n",
       "    <tr>\n",
       "      <th>SRR8492548</th>\n",
       "      <td>22.989643</td>\n",
       "      <td>3408_004-EPO1</td>\n",
       "      <td>0</td>\n",
       "      <td>EPO1</td>\n",
       "      <td>CKD</td>\n",
       "      <td>epo</td>\n",
       "    </tr>\n",
       "    <tr>\n",
       "      <th>SRR8492550</th>\n",
       "      <td>22.841609</td>\n",
       "      <td>3417_004-EPO1</td>\n",
       "      <td>1</td>\n",
       "      <td>EPO1</td>\n",
       "      <td>CKD</td>\n",
       "      <td>epo</td>\n",
       "    </tr>\n",
       "    <tr>\n",
       "      <th>SRR8492552</th>\n",
       "      <td>20.398382</td>\n",
       "      <td>3446_004-EPO1</td>\n",
       "      <td>3</td>\n",
       "      <td>EPO1</td>\n",
       "      <td>CKD</td>\n",
       "      <td>epo</td>\n",
       "    </tr>\n",
       "    <tr>\n",
       "      <th>SRR8492555</th>\n",
       "      <td>22.099910</td>\n",
       "      <td>3533_004-EPO1</td>\n",
       "      <td>10</td>\n",
       "      <td>EPO1</td>\n",
       "      <td>CKD</td>\n",
       "      <td>epo</td>\n",
       "    </tr>\n",
       "    <tr>\n",
       "      <th>SRR8492551</th>\n",
       "      <td>18.405425</td>\n",
       "      <td>3492_004-EPO2</td>\n",
       "      <td>0</td>\n",
       "      <td>EPO2</td>\n",
       "      <td>CKD</td>\n",
       "      <td>epo</td>\n",
       "    </tr>\n",
       "  </tbody>\n",
       "</table>\n",
       "</div>"
      ],
      "text/plain": [
       "               PT-CIS    Sample Name  Day Patient status cohort\n",
       "SRR8492548  22.989643  3408_004-EPO1    0    EPO1    CKD    epo\n",
       "SRR8492550  22.841609  3417_004-EPO1    1    EPO1    CKD    epo\n",
       "SRR8492552  20.398382  3446_004-EPO1    3    EPO1    CKD    epo\n",
       "SRR8492555  22.099910  3533_004-EPO1   10    EPO1    CKD    epo\n",
       "SRR8492551  18.405425  3492_004-EPO2    0    EPO2    CKD    epo"
      ]
     },
     "execution_count": 41,
     "metadata": {},
     "output_type": "execute_result"
    }
   ],
   "source": [
    "cisMeta.head()"
   ]
  },
  {
   "cell_type": "code",
   "execution_count": 42,
   "metadata": {},
   "outputs": [],
   "source": [
    "ctrlOnly = cisMeta[cisMeta['status'] == \"CTRL\"]"
   ]
  },
  {
   "cell_type": "code",
   "execution_count": 43,
   "metadata": {},
   "outputs": [],
   "source": [
    "epoOnlyCIS = cisMeta[cisMeta[\"cohort\"] == \"epo\"]"
   ]
  },
  {
   "cell_type": "code",
   "execution_count": 44,
   "metadata": {},
   "outputs": [
    {
     "data": {
      "text/html": [
       "<div>\n",
       "<style scoped>\n",
       "    .dataframe tbody tr th:only-of-type {\n",
       "        vertical-align: middle;\n",
       "    }\n",
       "\n",
       "    .dataframe tbody tr th {\n",
       "        vertical-align: top;\n",
       "    }\n",
       "\n",
       "    .dataframe thead th {\n",
       "        text-align: right;\n",
       "    }\n",
       "</style>\n",
       "<table border=\"1\" class=\"dataframe\">\n",
       "  <thead>\n",
       "    <tr style=\"text-align: right;\">\n",
       "      <th></th>\n",
       "      <th>PT-CIS</th>\n",
       "      <th>Sample Name</th>\n",
       "      <th>Day</th>\n",
       "      <th>Patient</th>\n",
       "      <th>status</th>\n",
       "      <th>cohort</th>\n",
       "    </tr>\n",
       "  </thead>\n",
       "  <tbody>\n",
       "    <tr>\n",
       "      <th>SRR8492548</th>\n",
       "      <td>22.989643</td>\n",
       "      <td>3408_004-EPO1</td>\n",
       "      <td>0</td>\n",
       "      <td>EPO1</td>\n",
       "      <td>CKD</td>\n",
       "      <td>epo</td>\n",
       "    </tr>\n",
       "    <tr>\n",
       "      <th>SRR8492550</th>\n",
       "      <td>22.841609</td>\n",
       "      <td>3417_004-EPO1</td>\n",
       "      <td>1</td>\n",
       "      <td>EPO1</td>\n",
       "      <td>CKD</td>\n",
       "      <td>epo</td>\n",
       "    </tr>\n",
       "    <tr>\n",
       "      <th>SRR8492552</th>\n",
       "      <td>20.398382</td>\n",
       "      <td>3446_004-EPO1</td>\n",
       "      <td>3</td>\n",
       "      <td>EPO1</td>\n",
       "      <td>CKD</td>\n",
       "      <td>epo</td>\n",
       "    </tr>\n",
       "    <tr>\n",
       "      <th>SRR8492555</th>\n",
       "      <td>22.099910</td>\n",
       "      <td>3533_004-EPO1</td>\n",
       "      <td>10</td>\n",
       "      <td>EPO1</td>\n",
       "      <td>CKD</td>\n",
       "      <td>epo</td>\n",
       "    </tr>\n",
       "    <tr>\n",
       "      <th>SRR8492551</th>\n",
       "      <td>18.405425</td>\n",
       "      <td>3492_004-EPO2</td>\n",
       "      <td>0</td>\n",
       "      <td>EPO2</td>\n",
       "      <td>CKD</td>\n",
       "      <td>epo</td>\n",
       "    </tr>\n",
       "  </tbody>\n",
       "</table>\n",
       "</div>"
      ],
      "text/plain": [
       "               PT-CIS    Sample Name  Day Patient status cohort\n",
       "SRR8492548  22.989643  3408_004-EPO1    0    EPO1    CKD    epo\n",
       "SRR8492550  22.841609  3417_004-EPO1    1    EPO1    CKD    epo\n",
       "SRR8492552  20.398382  3446_004-EPO1    3    EPO1    CKD    epo\n",
       "SRR8492555  22.099910  3533_004-EPO1   10    EPO1    CKD    epo\n",
       "SRR8492551  18.405425  3492_004-EPO2    0    EPO2    CKD    epo"
      ]
     },
     "execution_count": 44,
     "metadata": {},
     "output_type": "execute_result"
    }
   ],
   "source": [
    "epoOnlyCIS.head()"
   ]
  },
  {
   "cell_type": "code",
   "execution_count": 45,
   "metadata": {},
   "outputs": [
    {
     "data": {
      "text/html": [
       "<svg  width=\"660\" height=\"55\"><rect x=\"0\" y=\"0\" width=\"55\" height=\"55\" style=\"fill:#cae9ff;stroke-width:2;stroke:rgb(255,255,255)\"/><rect x=\"55\" y=\"0\" width=\"55\" height=\"55\" style=\"fill:#5fa8d3;stroke-width:2;stroke:rgb(255,255,255)\"/><rect x=\"110\" y=\"0\" width=\"55\" height=\"55\" style=\"fill:#573d1c;stroke-width:2;stroke:rgb(255,255,255)\"/><rect x=\"165\" y=\"0\" width=\"55\" height=\"55\" style=\"fill:#a80874;stroke-width:2;stroke:rgb(255,255,255)\"/><rect x=\"220\" y=\"0\" width=\"55\" height=\"55\" style=\"fill:#62b6cb;stroke-width:2;stroke:rgb(255,255,255)\"/><rect x=\"275\" y=\"0\" width=\"55\" height=\"55\" style=\"fill:#1b4965;stroke-width:2;stroke:rgb(255,255,255)\"/><rect x=\"330\" y=\"0\" width=\"55\" height=\"55\" style=\"fill:#a690a4;stroke-width:2;stroke:rgb(255,255,255)\"/><rect x=\"385\" y=\"0\" width=\"55\" height=\"55\" style=\"fill:#afd2e9;stroke-width:2;stroke:rgb(255,255,255)\"/><rect x=\"440\" y=\"0\" width=\"55\" height=\"55\" style=\"fill:#fa9f42;stroke-width:2;stroke:rgb(255,255,255)\"/><rect x=\"495\" y=\"0\" width=\"55\" height=\"55\" style=\"fill:#124559;stroke-width:2;stroke:rgb(255,255,255)\"/><rect x=\"550\" y=\"0\" width=\"55\" height=\"55\" style=\"fill:#8a1c7c;stroke-width:2;stroke:rgb(255,255,255)\"/><rect x=\"605\" y=\"0\" width=\"55\" height=\"55\" style=\"fill:#247ba0;stroke-width:2;stroke:rgb(255,255,255)\"/></svg>"
      ],
      "text/plain": [
       "[(0.792156862745098, 0.9137254901960784, 1.0),\n",
       " (0.37254901960784315, 0.6588235294117647, 0.8274509803921568),\n",
       " (0.3411764705882353, 0.23921568627450981, 0.10980392156862745),\n",
       " (0.6588235294117647, 0.03137254901960784, 0.4549019607843137),\n",
       " (0.3843137254901961, 0.7137254901960784, 0.796078431372549),\n",
       " (0.10588235294117647, 0.28627450980392155, 0.396078431372549),\n",
       " (0.6509803921568628, 0.5647058823529412, 0.6431372549019608),\n",
       " (0.6862745098039216, 0.8235294117647058, 0.9137254901960784),\n",
       " (0.9803921568627451, 0.6235294117647059, 0.25882352941176473),\n",
       " (0.07058823529411765, 0.27058823529411763, 0.34901960784313724),\n",
       " (0.5411764705882353, 0.10980392156862745, 0.48627450980392156),\n",
       " (0.1411764705882353, 0.4823529411764706, 0.6274509803921569)]"
      ]
     },
     "execution_count": 45,
     "metadata": {},
     "output_type": "execute_result"
    }
   ],
   "source": [
    "patient_colors = \"#62b6cb #97c9d7 #c5dde4 #f1f1f1 #f0b8b8 #e67f83 #d43d51\"\n",
    "patient_colors = \"#62b6cb #7fbecf #99c6d2 #b0cdd6 #c7d5d9 #dddddd #e1bfbf #e2a2a2 #e08386 #db636b #d43d51\"\n",
    "patient_colors = \"#1b4965 #3b5484 #6f5998 #a7589b #d9568c #fd616d #ff7e45 #ffa600\"\n",
    "patient_colors = patient_colors.split(\" \")\n",
    "patient_colors = [\"bee9e8\",\"62b6cb\",\"1b4965\",\"cae9ff\",\"5fa8d3\"]\n",
    "patient_colors = [\"cae9ff\",\"5fa8d3\",\"573d1c\",\"A80874\", \"62b6cb\",\"1b4965\",\"a690a4\",\"afd2e9\",\"FA9F42\",\"124559\",\"8a1c7c\", \"247ba0\"]\n",
    "patient_colors = [\"#\" + i for i in patient_colors]\n",
    "\n",
    "sns.color_palette(patient_colors)"
   ]
  },
  {
   "cell_type": "code",
   "execution_count": null,
   "metadata": {},
   "outputs": [],
   "source": []
  },
  {
   "cell_type": "code",
   "execution_count": null,
   "metadata": {},
   "outputs": [],
   "source": []
  },
  {
   "cell_type": "code",
   "execution_count": 46,
   "metadata": {},
   "outputs": [
    {
     "data": {
      "text/plain": [
       "Text(0, 0.5, 'Sum(Log transformed CPMTMM counts)')"
      ]
     },
     "execution_count": 46,
     "metadata": {},
     "output_type": "execute_result"
    },
    {
     "data": {
      "image/png": "[encoded data removed]",
      "text/plain": [
       "<Figure size 720x720 with 1 Axes>"
      ]
     },
     "metadata": {
      "needs_background": "light"
     },
     "output_type": "display_data"
    }
   ],
   "source": [
    "plt.figure(figsize = (10, 10))\n",
    "\n",
    "sns.boxplot(data = epoOnlyCIS, \n",
    "            x = \"status\",\n",
    "            y = \"PT-CIS\",\n",
    "            color = \"#D5573B\",\n",
    "            order = [\"CTRL\", \"CKD\"],\n",
    "           fliersize = 0)\n",
    "\n",
    "sns.swarmplot(data = epoOnlyCIS, \n",
    "            x = \"status\",\n",
    "            y = \"PT-CIS\",\n",
    "              palette = patient_colors,\n",
    "              order = [\"CTRL\", \"CKD\"],\n",
    "              hue = \"Patient\")\n",
    "\n",
    "plt.ylim((10, 30))\n",
    "plt.legend(loc = \"lower left\", ncol = 2)\n",
    "#plt.legend(loc='best', bbox_to_anchor=(1, 0.5))\n",
    "plt.yticks(np.arange(10, 31, 5))\n",
    "plt.ylabel(\"Sum(Log transformed CPMTMM counts)\")\n",
    "#save_figure_pdf(plt, \"ptSigScore_epoOnly_09232021.pdf\")"
   ]
  },
  {
   "cell_type": "code",
   "execution_count": 46,
   "metadata": {},
   "outputs": [
    {
     "data": {
      "text/plain": [
       "\"with pd.ExcelWriter(sourceDataPath, mode = 'a') as writer:\\n            epoOnlyCIS.to_excel(writer, sheet_name = 'CKD', engine = 'xlsxwriter')\""
      ]
     },
     "execution_count": 46,
     "metadata": {},
     "output_type": "execute_result"
    }
   ],
   "source": [
    "\"\"\"with pd.ExcelWriter(sourceDataPath, mode = 'a') as writer:\n",
    "            epoOnlyCIS.to_excel(writer, sheet_name = 'CKD', engine = 'xlsxwriter')\"\"\""
   ]
  },
  {
   "cell_type": "code",
   "execution_count": 47,
   "metadata": {},
   "outputs": [],
   "source": [
    "ckdEPO = epoOnlyCIS[epoOnlyCIS[\"status\"] == \"CKD\"][\"PT-CIS\"].values.tolist()"
   ]
  },
  {
   "cell_type": "code",
   "execution_count": 48,
   "metadata": {},
   "outputs": [],
   "source": [
    "ctrlEPO = epoOnlyCIS[epoOnlyCIS[\"status\"] != \"CKD\"][\"PT-CIS\"].values.tolist()"
   ]
  },
  {
   "cell_type": "code",
   "execution_count": 49,
   "metadata": {},
   "outputs": [
    {
     "data": {
      "text/plain": [
       "MannwhitneyuResult(statistic=116.0, pvalue=0.009658300969876148)"
      ]
     },
     "execution_count": 49,
     "metadata": {},
     "output_type": "execute_result"
    }
   ],
   "source": [
    "mannwhitneyu(ckdEPO, ctrlEPO, alternative = \"less\")"
   ]
  },
  {
   "cell_type": "markdown",
   "metadata": {},
   "source": [
    "# assess p-value calibration"
   ]
  },
  {
   "cell_type": "code",
   "execution_count": 50,
   "metadata": {},
   "outputs": [],
   "source": [
    "np.random.seed(10)\n",
    "\n",
    "\n",
    "pvals = []\n",
    "difference = []\n",
    "uList = []\n",
    "for i in range(10000):\n",
    "    newLabels = np.random.permutation(epoOnlyCIS[\"status\"])\n",
    "\n",
    "    epoOnlyCIS['shuffled'] = newLabels\n",
    "\n",
    "\n",
    "    ckd = epoOnlyCIS[epoOnlyCIS['shuffled'] == \"CKD\"]['PT-CIS'].values.tolist()\n",
    "    ctrl = epoOnlyCIS[epoOnlyCIS['shuffled'] != \"CKD\"][\"PT-CIS\"].values.tolist()\n",
    "\n",
    "    \n",
    "    #u_permute, p_permute = mannwhitneyu(ckd, ctrl, alternative = \"two-sided\")\n",
    "    u_permute, p_permute = mannwhitneyu(ckd, ctrl, alternative = \"less\")\n",
    "\n",
    "\n",
    "    uList += [u_permute]\n",
    "    pvals += [p_permute]\n",
    "\n",
    "\n"
   ]
  },
  {
   "cell_type": "code",
   "execution_count": 51,
   "metadata": {},
   "outputs": [
    {
     "data": {
      "image/png": "[encoded data removed]",
      "text/plain": [
       "<Figure size 432x288 with 1 Axes>"
      ]
     },
     "metadata": {
      "needs_background": "light"
     },
     "output_type": "display_data"
    }
   ],
   "source": [
    "sns.histplot(pvals, color = \"#f75590\", stat = \"density\")\n",
    "plt.xlabel(\"p value\")\n",
    "save_figure_pdf(plt, \"ptSig_pValDistribPermutation_epoOnly_09222021.pdf\")"
   ]
  },
  {
   "cell_type": "code",
   "execution_count": 52,
   "metadata": {},
   "outputs": [
    {
     "data": {
      "image/png": "[encoded data removed]",
      "text/plain": [
       "<Figure size 432x288 with 1 Axes>"
      ]
     },
     "metadata": {
      "needs_background": "light"
     },
     "output_type": "display_data"
    }
   ],
   "source": [
    "sns.histplot(uList, color = \"#f75590\", stat = \"density\")\n",
    "plt.xlabel(r'$U_{CKD 3+ vs. CTRL}$')\n",
    "plt.axvline(113, 0, 2, color = \"red\")\n",
    "save_figure_pdf(plt, \"ptSig_uValDistribPermutation_epoOnly_09222021.pdf\")"
   ]
  },
  {
   "cell_type": "code",
   "execution_count": 53,
   "metadata": {},
   "outputs": [],
   "source": [
    "greater = []\n",
    "for i in uList:\n",
    "    if i <= 113 : greater += [i]"
   ]
  },
  {
   "cell_type": "code",
   "execution_count": 54,
   "metadata": {},
   "outputs": [
    {
     "data": {
      "text/plain": [
       "0.0063"
      ]
     },
     "execution_count": 54,
     "metadata": {},
     "output_type": "execute_result"
    }
   ],
   "source": [
    "len(greater) / 10000"
   ]
  },
  {
   "cell_type": "code",
   "execution_count": null,
   "metadata": {},
   "outputs": [],
   "source": []
  },
  {
   "cell_type": "code",
   "execution_count": null,
   "metadata": {},
   "outputs": [],
   "source": []
  }
 ],
 "metadata": {
  "kernelspec": {
   "display_name": "Python 3",
   "language": "python",
   "name": "python3"
  },
  "language_info": {
   "codemirror_mode": {
    "name": "ipython",
    "version": 3
   },
   "file_extension": ".py",
   "mimetype": "text/x-python",
   "name": "python",
   "nbconvert_exporter": "python",
   "pygments_lexer": "ipython3",
   "version": "3.6.12"
  }
 },
 "nbformat": 4,
 "nbformat_minor": 4
}
