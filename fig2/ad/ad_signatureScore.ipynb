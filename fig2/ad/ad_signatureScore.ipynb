{
 "cells": [
  {
   "cell_type": "markdown",
   "metadata": {},
   "source": [
    "goal here is to do the signature scoring on the AD data and see if we can eliminate batch-specific differences"
   ]
  },
  {
   "cell_type": "code",
   "execution_count": 1,
   "metadata": {},
   "outputs": [],
   "source": [
    "import pandas as pd\n",
    "import scanpy as sc\n",
    "import numpy as np\n",
    "\n",
    "\n",
    "import matplotlib.pyplot as plt\n",
    "import seaborn as sns\n",
    "import matplotlib as mpl\n",
    "\n",
    "#For editable text. Except latex text is still shapes sadly\n",
    "mpl.rcParams['pdf.fonttype'] = 42\n",
    "mpl.rcParams['ps.fonttype'] = 42\n",
    "sns.set_style(\"whitegrid\")\n",
    "font = {'size' : 6}\n",
    "lines = {'linewidth' : 0.5}\n",
    "fig = {'figsize' : (2.5, 1.5)}\n",
    "mpl.rc('font', **font)\n",
    "mpl.rc('lines', **lines)\n",
    "mpl.rc('figure', **fig)\n",
    "#Set style\n",
    "sns.set(style=\"whitegrid\", palette=\"pastel\", color_codes=True)\n",
    "\n",
    "from matplotlib.colors import ListedColormap\n",
    "\n",
    "from scipy.stats import mannwhitneyu\n",
    "\n",
    "np.random.seed(31)"
   ]
  },
  {
   "cell_type": "code",
   "execution_count": 2,
   "metadata": {},
   "outputs": [],
   "source": [
    "# source data path for publication\n",
    "sourceDataPath = \"/Users/kayaneh/Documents/deconvolution/aip/source_data/fig2_sourceData.xlsx\""
   ]
  },
  {
   "cell_type": "code",
   "execution_count": 3,
   "metadata": {},
   "outputs": [],
   "source": [
    "def save_figure_pdf(fig, path_to_save):\n",
    "\t'''\n",
    "\tUtility fxn to save a figure without having to retype all the required options.\n",
    "\tInput:\n",
    "\t\tfig - a matplotlib.pyplot.figure instance with the figure you'd like to save\n",
    "\t\tpath_to_save - the path you'd like to save the figure to\n",
    "\tReturns: Nothing but there should now be a pdf version in 300 dpi with a transparent bkg at path_to_save\n",
    "\t'''\n",
    "\tfig.savefig(path_to_save, dpi = 300, bbox_inches = 'tight', transparent = True)"
   ]
  },
  {
   "cell_type": "code",
   "execution_count": 4,
   "metadata": {},
   "outputs": [],
   "source": [
    "adCPMTMM = pd.read_csv(\"~/Documents/deconvolution/alzheimers/remapped_unstranded/ad_cpmTMM_postQC_unstranded_FINAL.csv\",\n",
    "                      sep = \",\", index_col = [0, 1])\n",
    "\n",
    "# make the column space in ENSG ID\n",
    "adCPMTMM.reset_index(inplace = True)\n",
    "adCPMTMM.set_index(\"gene_num\", inplace = True)\n",
    "adCPMTMM.drop(\"gene_name\", inplace = True, axis = \"columns\")"
   ]
  },
  {
   "cell_type": "code",
   "execution_count": 5,
   "metadata": {},
   "outputs": [],
   "source": [
    "adCPMTMM = np.log(adCPMTMM + 1)"
   ]
  },
  {
   "cell_type": "code",
   "execution_count": 6,
   "metadata": {},
   "outputs": [],
   "source": [
    "adMeta = pd.read_csv(\"~/Documents/deconvolution/alzheimers/remapped_unstranded/allAD_metadata_FINAL.csv\",\n",
    "                    sep = \",\", index_col = 0)"
   ]
  },
  {
   "cell_type": "code",
   "execution_count": 7,
   "metadata": {},
   "outputs": [
    {
     "data": {
      "text/plain": [
       "(339, 40)"
      ]
     },
     "execution_count": 7,
     "metadata": {},
     "output_type": "execute_result"
    }
   ],
   "source": [
    "adMeta.shape"
   ]
  },
  {
   "cell_type": "code",
   "execution_count": 8,
   "metadata": {},
   "outputs": [],
   "source": [
    "adCPMTMM.columns = [int(i) for i in adCPMTMM.columns]"
   ]
  },
  {
   "cell_type": "code",
   "execution_count": 9,
   "metadata": {},
   "outputs": [],
   "source": [
    "# subset the metadata to the samples passing QC\n",
    "adMeta = adMeta.loc[adCPMTMM.columns]"
   ]
  },
  {
   "cell_type": "code",
   "execution_count": 10,
   "metadata": {},
   "outputs": [],
   "source": [
    "# there's a weird nan \n",
    "adMeta = adMeta[adMeta[\"Disease\"].isin([\"NCI\", \"AD\"])]"
   ]
  },
  {
   "cell_type": "code",
   "execution_count": 11,
   "metadata": {},
   "outputs": [],
   "source": [
    "kyMeta = adMeta[adMeta[\"Center\"] == \"University of Kentucky\"]"
   ]
  },
  {
   "cell_type": "code",
   "execution_count": 12,
   "metadata": {},
   "outputs": [],
   "source": [
    "kyMeta = kyMeta[~kyMeta.index.duplicated(keep='first')]"
   ]
  },
  {
   "cell_type": "code",
   "execution_count": 13,
   "metadata": {},
   "outputs": [
    {
     "data": {
      "text/plain": [
       "(array(['AD', 'NCI'], dtype=object), array([40, 18]))"
      ]
     },
     "execution_count": 13,
     "metadata": {},
     "output_type": "execute_result"
    }
   ],
   "source": [
    "np.unique(kyMeta[\"Disease\"],\n",
    "         return_counts = True)"
   ]
  },
  {
   "cell_type": "code",
   "execution_count": 14,
   "metadata": {},
   "outputs": [],
   "source": [
    "adCPMTMM = adCPMTMM[np.unique(adMeta.index)]"
   ]
  },
  {
   "cell_type": "code",
   "execution_count": 15,
   "metadata": {},
   "outputs": [
    {
     "data": {
      "text/plain": [
       "(60721, 158)"
      ]
     },
     "execution_count": 15,
     "metadata": {},
     "output_type": "execute_result"
    }
   ],
   "source": [
    "adCPMTMM.shape"
   ]
  },
  {
   "cell_type": "code",
   "execution_count": 16,
   "metadata": {},
   "outputs": [],
   "source": [
    "adBase = \"~/Documents/deconvolution/alzheimers/\"\n",
    "brainGiniPath_HEALTHY = adBase + \"gini6_perCluster_brain_NORMAL_01212021.csv\"\n",
    "brainGiniPath_AD = adBase + \"gini6_perCluster_brain_AZ_01212021.csv\""
   ]
  },
  {
   "cell_type": "code",
   "execution_count": 17,
   "metadata": {},
   "outputs": [],
   "source": [
    "brainHealthy = pd.read_csv(brainGiniPath_HEALTHY, index_col = 0)\n",
    "brainAD = pd.read_csv(brainGiniPath_AD, index_col = 0)"
   ]
  },
  {
   "cell_type": "code",
   "execution_count": 18,
   "metadata": {},
   "outputs": [],
   "source": [
    "brainSigs = {}\n",
    "for i in brainAD:\n",
    "    brainSigs[i] = np.intersect1d(brainAD[i].dropna().index.tolist(), brainHealthy[i].dropna().index.tolist()).tolist()\n"
   ]
  },
  {
   "cell_type": "markdown",
   "metadata": {},
   "source": [
    "# do the signature scoring"
   ]
  },
  {
   "cell_type": "code",
   "execution_count": 19,
   "metadata": {},
   "outputs": [],
   "source": [
    "\"\"\"\n",
    "@param countsDF = dataframe with log-transformed CPM-TMM counts\n",
    "@param sigDict = dictionary with keys of str that are cell types and \n",
    "                values are lists of their unique marker genes\n",
    "\"\"\"\n",
    "\n",
    "def cis(countsDF, sigDict):\n",
    "    cisRes = pd.DataFrame()\n",
    "    for cell in sigDict:  \n",
    "        geneList = sigDict[cell]\n",
    "        intersection = np.intersect1d(geneList, countsDF.index.tolist())\n",
    "        \n",
    "        cellSig = countsDF.loc[intersection].sum(axis = 0).to_frame()\n",
    "        cellSig.columns = [cell + \"-CIS\"]\n",
    "        cisRes = pd.concat([cisRes, cellSig], axis = 1)\n",
    "        \n",
    "    return(cisRes)"
   ]
  },
  {
   "cell_type": "code",
   "execution_count": 20,
   "metadata": {},
   "outputs": [],
   "source": [
    "adCIS = cis(adCPMTMM, brainSigs)"
   ]
  },
  {
   "cell_type": "code",
   "execution_count": 21,
   "metadata": {},
   "outputs": [],
   "source": [
    "# tack on the metadata\n",
    "adCIS = adCIS.join(adMeta.iloc[:,-10:])"
   ]
  },
  {
   "cell_type": "code",
   "execution_count": 22,
   "metadata": {},
   "outputs": [],
   "source": [
    "adCIS.drop_duplicates(subset = \"Isolate\", keep = \"first\", inplace = True)"
   ]
  },
  {
   "cell_type": "code",
   "execution_count": 23,
   "metadata": {},
   "outputs": [
    {
     "data": {
      "text/plain": [
       "array([ True,  True,  True,  True,  True,  True,  True,  True,  True,\n",
       "        True,  True,  True,  True,  True,  True,  True,  True,  True,\n",
       "        True,  True,  True,  True,  True,  True,  True,  True,  True,\n",
       "        True,  True,  True,  True,  True,  True,  True,  True,  True,\n",
       "        True,  True,  True,  True,  True,  True,  True,  True,  True,\n",
       "        True,  True,  True,  True,  True,  True,  True,  True,  True,\n",
       "        True,  True,  True,  True,  True,  True,  True,  True,  True,\n",
       "        True,  True,  True,  True,  True,  True,  True,  True,  True,\n",
       "        True,  True,  True,  True,  True,  True,  True,  True,  True,\n",
       "        True,  True,  True,  True,  True,  True,  True,  True,  True,\n",
       "        True,  True,  True,  True,  True,  True,  True,  True,  True,\n",
       "        True,  True,  True,  True,  True,  True,  True,  True,  True,\n",
       "        True,  True,  True,  True,  True,  True,  True,  True,  True,\n",
       "        True,  True,  True,  True,  True,  True,  True,  True,  True,\n",
       "        True,  True,  True,  True,  True,  True,  True,  True,  True,\n",
       "        True,  True,  True,  True,  True,  True,  True,  True,  True,\n",
       "        True,  True,  True,  True,  True,  True,  True,  True,  True,\n",
       "        True,  True,  True,  True,  True])"
      ]
     },
     "execution_count": 23,
     "metadata": {},
     "output_type": "execute_result"
    }
   ],
   "source": [
    "adCIS.index == adCIS[\"Isolate\"]"
   ]
  },
  {
   "cell_type": "code",
   "execution_count": 24,
   "metadata": {},
   "outputs": [],
   "source": [
    "meltADCIS = pd.melt(adCIS, value_vars = adCIS.columns[:-10],\n",
    "                   id_vars = adCIS.columns[-10:])"
   ]
  },
  {
   "cell_type": "code",
   "execution_count": 25,
   "metadata": {},
   "outputs": [],
   "source": [
    "diseaseVar = []\n",
    "for i in range(meltADCIS.shape[0]):\n",
    "    res = meltADCIS[\"variable\"][i] + \"-\" + meltADCIS[\"Disease\"][i]\n",
    "    diseaseVar += [res]"
   ]
  },
  {
   "cell_type": "code",
   "execution_count": 26,
   "metadata": {},
   "outputs": [],
   "source": [
    "meltADCIS[\"disease_var\"] = diseaseVar"
   ]
  },
  {
   "cell_type": "code",
   "execution_count": 27,
   "metadata": {},
   "outputs": [],
   "source": [
    "kyOnly = meltADCIS[meltADCIS[\"Center\"] == \"University of Kentucky\"]"
   ]
  },
  {
   "cell_type": "code",
   "execution_count": 28,
   "metadata": {},
   "outputs": [],
   "source": [
    "disease_pal = {}\n",
    "for i in np.unique(kyOnly[\"disease_var\"]):\n",
    "    if \"AD\" in i: disease_pal[i] = \"#cae9ff\"\n",
    "    else: disease_pal[i] = \"#5FA8D3\""
   ]
  },
  {
   "cell_type": "code",
   "execution_count": 29,
   "metadata": {},
   "outputs": [],
   "source": [
    "goodCells = [\"Ast-gini-CIS\", \"Ex-gini-CIS\", \"Oli-gini-CIS\", \"Opc-gini-CIS\"]"
   ]
  },
  {
   "cell_type": "code",
   "execution_count": 30,
   "metadata": {},
   "outputs": [],
   "source": [
    "kyGoodCell = kyOnly[kyOnly[\"variable\"].isin(goodCells)]"
   ]
  },
  {
   "cell_type": "code",
   "execution_count": 31,
   "metadata": {},
   "outputs": [],
   "source": [
    "cogFn = []\n",
    "for i in kyGoodCell[\"MMSE\"]:\n",
    "    i = int(i)\n",
    "    if i >= 24: cogFn += [\"Normal\"]\n",
    "    elif 19 <= i < 24: cogFn += [\"Mild Dementia\"]\n",
    "    elif 10 <= i < 19: cogFn += [\"Moderate Dementia\"]\n",
    "    else: cogFn += [\"Severe Dementia\"]"
   ]
  },
  {
   "cell_type": "code",
   "execution_count": 32,
   "metadata": {},
   "outputs": [
    {
     "name": "stderr",
     "output_type": "stream",
     "text": [
      "/Users/kayaneh/anaconda3/lib/python3.6/site-packages/ipykernel_launcher.py:1: SettingWithCopyWarning: \n",
      "A value is trying to be set on a copy of a slice from a DataFrame.\n",
      "Try using .loc[row_indexer,col_indexer] = value instead\n",
      "\n",
      "See the caveats in the documentation: https://pandas.pydata.org/pandas-docs/stable/user_guide/indexing.html#returning-a-view-versus-a-copy\n",
      "  \"\"\"Entry point for launching an IPython kernel.\n"
     ]
    }
   ],
   "source": [
    "kyGoodCell[\"mmseCategory\"] = cogFn"
   ]
  },
  {
   "cell_type": "code",
   "execution_count": 33,
   "metadata": {
    "code_folding": []
   },
   "outputs": [
    {
     "data": {
      "image/png": "[encoded data removed]",
      "text/plain": [
       "<Figure size 720x720 with 1 Axes>"
      ]
     },
     "metadata": {
      "needs_background": "light"
     },
     "output_type": "display_data"
    }
   ],
   "source": [
    "plt.figure(figsize = (10, 10))\n",
    "plt.semilogy()\n",
    "\n",
    "sns.boxplot(data = kyGoodCell, x = \"disease_var\",\n",
    "           y = \"value\", \n",
    "            #hue = \"Disease\",\n",
    "           palette = disease_pal,\n",
    "            fliersize = 0)\n",
    "\n",
    "sns.swarmplot(data = kyGoodCell, x = \"disease_var\",\n",
    "              hue = \"mmseCategory\",\n",
    "              y = \"value\", size = 4)\n",
    "\n",
    "plt.ylabel(\"Signature Score (Sum(Log(CPMTMM + 1)))\")\n",
    "plt.ylim((1, 100))\n",
    "plt.xticks(rotation = \"90\");"
   ]
  },
  {
   "cell_type": "code",
   "execution_count": 34,
   "metadata": {},
   "outputs": [],
   "source": [
    "desOrder = ['Ast-gini-CIS-NCI', 'Ast-gini-CIS-AD', \n",
    "            'Ex-gini-CIS-NCI', 'Ex-gini-CIS-AD',\n",
    "           'Oli-gini-CIS-NCI', 'Oli-gini-CIS-AD',\n",
    "           'Opc-gini-CIS-NCI', 'Opc-gini-CIS-AD']"
   ]
  },
  {
   "cell_type": "code",
   "execution_count": 35,
   "metadata": {},
   "outputs": [
    {
     "data": {
      "text/plain": [
       "([<matplotlib.axis.YTick at 0x7fb1901be978>,\n",
       "  <matplotlib.axis.YTick at 0x7fb1901be550>,\n",
       "  <matplotlib.axis.YTick at 0x7fb1903989e8>,\n",
       "  <matplotlib.axis.YTick at 0x7fb1c53f8668>,\n",
       "  <matplotlib.axis.YTick at 0x7fb1c5629438>],\n",
       " [Text(0, 0, ''),\n",
       "  Text(0, 0, ''),\n",
       "  Text(0, 0, ''),\n",
       "  Text(0, 0, ''),\n",
       "  Text(0, 0, '')])"
      ]
     },
     "execution_count": 35,
     "metadata": {},
     "output_type": "execute_result"
    },
    {
     "data": {
      "image/png": "[encoded data removed]",
      "text/plain": [
       "<Figure size 720x720 with 1 Axes>"
      ]
     },
     "metadata": {
      "needs_background": "light"
     },
     "output_type": "display_data"
    }
   ],
   "source": [
    "plt.figure(figsize = (10, 10))\n",
    "\n",
    "sns.boxplot(data = kyGoodCell, x = \"disease_var\",\n",
    "           y = \"value\", \n",
    "           palette = disease_pal,\n",
    "            order = desOrder,\n",
    "            fliersize = 0)\n",
    "\n",
    "sns.swarmplot(data = kyGoodCell, x = \"disease_var\",\n",
    "              color = \"0.25\",\n",
    "              order = desOrder,\n",
    "              y = \"value\", size = 4)\n",
    "\n",
    "plt.ylabel(\"Signature Score (Sum(Log(CPMTMM + 1)))\")\n",
    "\n",
    "plt.ylim((0, 100))\n",
    "\n",
    "plt.xticks(rotation = \"90\");\n",
    "plt.yticks(np.arange(0, 101, 25))\n",
    "#save_figure_pdf(plt, \"ad_sigScore_astExOliOpc_09082021.pdf\")"
   ]
  },
  {
   "cell_type": "code",
   "execution_count": 36,
   "metadata": {},
   "outputs": [],
   "source": [
    "with pd.ExcelWriter(sourceDataPath, mode = 'a') as writer:\n",
    "            kyGoodCell[['Center', 'Disease', 'Isolate', 'variable', 'value', 'disease_var']].to_excel(writer, sheet_name = 'AD', engine = 'xlsxwriter')"
   ]
  },
  {
   "cell_type": "code",
   "execution_count": 37,
   "metadata": {},
   "outputs": [
    {
     "name": "stdout",
     "output_type": "stream",
     "text": [
      "Ast-gini-CIS 121.0 6.109402446976773e-05\n",
      "Ex-gini-CIS 206.0 0.004941116975336617\n",
      "In-gini-CIS 391.0 0.6082149618243848\n",
      "Mic-gini-CIS 170.0 0.0014476080728198192\n",
      "Oli-gini-CIS 178.0 0.0022843947135658595\n",
      "Opc-gini-CIS 224.0 0.02276286699352783\n"
     ]
    }
   ],
   "source": [
    "cellTypeUVals = {}\n",
    "for celltype in np.unique(kyOnly[\"variable\"]):\n",
    "    ctCIS = kyOnly[kyOnly[\"variable\"] == celltype]\n",
    "    adList = ctCIS[ctCIS[\"Disease\"] == \"AD\"][\"value\"].tolist()\n",
    "    nciList = ctCIS[ctCIS[\"Disease\"] == \"NCI\"][\"value\"].tolist()\n",
    "    if celltype == \"Ex-gini-CIS\":\n",
    "        u, p = mannwhitneyu(adList, nciList, alternative = \"less\")\n",
    "    else: \n",
    "        u, p = mannwhitneyu(adList, nciList, alternative = \"two-sided\")\n",
    "    cellTypeUVals[celltype] = u\n",
    "    print(celltype, u, p)"
   ]
  },
  {
   "cell_type": "markdown",
   "metadata": {},
   "source": [
    "# now perform the permutation test"
   ]
  },
  {
   "cell_type": "code",
   "execution_count": null,
   "metadata": {},
   "outputs": [],
   "source": [
    "np.random.seed(10)\n",
    "\n",
    "pValDict = {}\n",
    "differenceDict = {}\n",
    "uDict = {}\n",
    "for celltype in np.unique(kyOnly[\"variable\"]):\n",
    "    print(celltype)\n",
    "    ctCIS = kyOnly[kyOnly[\"variable\"] == celltype]\n",
    "    \n",
    "    pvals = []\n",
    "    difference = []\n",
    "    uList = []\n",
    "    for i in range(10000):\n",
    "        newLabels = np.random.permutation(ctCIS[\"Disease\"])\n",
    "        \n",
    "        ctCIS['shuffled'] = newLabels\n",
    "\n",
    "\n",
    "        ad = ctCIS[ctCIS['shuffled'] == \"AD\"]['value'].values.tolist()\n",
    "        nci = ctCIS[ctCIS['shuffled'] == \"NCI\"][\"value\"].values.tolist()\n",
    "            \n",
    "        if celltype == \"Ex-gini-CIS\":\n",
    "            u_permute, p_permute = mannwhitneyu(ad, nci, alternative = \"less\")\n",
    "        else:\n",
    "            u_permute, p_permute = mannwhitneyu(nci, ad, alternative = \"two-sided\")\n",
    "        \n",
    "        \n",
    "        difference += [np.mean(nci) - np.mean(ad)]\n",
    "        uList += [u_permute]\n",
    "        pvals += [p_permute]\n",
    "        \n",
    "    pValDict[celltype] = pvals\n",
    "    differenceDict[celltype] = difference\n",
    "    uDict[celltype] = uList"
   ]
  },
  {
   "cell_type": "code",
   "execution_count": null,
   "metadata": {},
   "outputs": [],
   "source": [
    "cellTypeUVals"
   ]
  },
  {
   "cell_type": "code",
   "execution_count": null,
   "metadata": {},
   "outputs": [],
   "source": [
    "for i in uDict:\n",
    "    if \"Ast\" in i or \"Ex\" in i or \"Oli\" in i or \"Opc\" in i:\n",
    "        sns.histplot(uDict[i], color = \"#62B6CB\")\n",
    "        plt.axvline(x = cellTypeUVals[i], color = \"red\")\n",
    "        plt.title(i)\n",
    "        save_figure_pdf(plt, i + '-uDistUnderNull.pdf')\n",
    "        plt.show()"
   ]
  },
  {
   "cell_type": "code",
   "execution_count": null,
   "metadata": {},
   "outputs": [],
   "source": [
    "for i in pValDict:\n",
    "    if \"Ast\" in i or \"Ex\" in i or \"Oli\" in i or \"Opc\" in i:\n",
    "        sns.histplot(pValDict[i], color = \"#62B6CB\")\n",
    "        \n",
    "        plt.title(i)\n",
    "        save_figure_pdf(plt, i + '_pvalDist.pdf')\n",
    "        plt.show()"
   ]
  },
  {
   "cell_type": "code",
   "execution_count": null,
   "metadata": {},
   "outputs": [],
   "source": []
  },
  {
   "cell_type": "code",
   "execution_count": null,
   "metadata": {},
   "outputs": [],
   "source": [
    "clear all"
   ]
  }
 ],
 "metadata": {
  "kernelspec": {
   "display_name": "Python 3",
   "language": "python",
   "name": "python3"
  },
  "language_info": {
   "codemirror_mode": {
    "name": "ipython",
    "version": 3
   },
   "file_extension": ".py",
   "mimetype": "text/x-python",
   "name": "python",
   "nbconvert_exporter": "python",
   "pygments_lexer": "ipython3",
   "version": "3.6.12"
  }
 },
 "nbformat": 4,
 "nbformat_minor": 4
}
