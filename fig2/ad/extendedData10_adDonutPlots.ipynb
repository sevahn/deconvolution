{
 "cells": [
  {
   "cell_type": "markdown",
   "metadata": {},
   "source": [
    "note: to make this principled with all the other tissues, i did not do the 3 fold gene expression requirement from hpa in brain"
   ]
  },
  {
   "cell_type": "code",
   "execution_count": 1,
   "metadata": {},
   "outputs": [
    {
     "name": "stderr",
     "output_type": "stream",
     "text": [
      "/Users/kayaneh/anaconda3/lib/python3.6/site-packages/statsmodels/tools/_testing.py:19: FutureWarning: pandas.util.testing is deprecated. Use the functions in the public API at pandas.testing instead.\n",
      "  import pandas.util.testing as tm\n"
     ]
    }
   ],
   "source": [
    "import pandas as pd\n",
    "import scanpy as sc\n",
    "import numpy as np\n",
    "\n",
    "\n",
    "import matplotlib.pyplot as plt\n",
    "import seaborn as sns\n",
    "import matplotlib as mpl\n",
    "\n",
    "#For editable text. Except latex text is still shapes\n",
    "mpl.rcParams['pdf.fonttype'] = 42\n",
    "mpl.rcParams['ps.fonttype'] = 42\n",
    "sns.set_style(\"whitegrid\")\n",
    "font = {'size' : 6}\n",
    "lines = {'linewidth' : 0.5}\n",
    "fig = {'figsize' : (2.5, 1.5)}\n",
    "mpl.rc('font', **font)\n",
    "mpl.rc('lines', **lines)\n",
    "mpl.rc('figure', **fig)\n",
    "\n",
    "#Set style\n",
    "sns.set(style = \"whitegrid\", palette=\"pastel\", color_codes=True)\n",
    "\n",
    "from scipy.stats import mannwhitneyu\n",
    "import statsmodels.stats.multitest as smt\n",
    "\n",
    "\n",
    "np.random.seed(31)\n",
    "\n",
    "from matplotlib_venn import venn2\n",
    "\n",
    "import mygene\n",
    "mg = mygene.MyGeneInfo()\n",
    "\n",
    "# 04032021_fig3c_donutPlots_allAD-PLASMAVOL_zeroCenterBatch_tmm.ipynb"
   ]
  },
  {
   "cell_type": "code",
   "execution_count": 2,
   "metadata": {},
   "outputs": [],
   "source": [
    "figSavePath = \"/Users/kayaneh/Documents/deconvolution/figures/fig3/\"\n",
    "figEnd = \"_041102021.pdf\""
   ]
  },
  {
   "cell_type": "code",
   "execution_count": 3,
   "metadata": {},
   "outputs": [],
   "source": [
    "def save_figure_pdf(fig, path_to_save):\n",
    "\t'''\n",
    "\tUtility fxn to save a figure without having to retype all the required options.\n",
    "\tInput:\n",
    "\t\tfig - a matplotlib.pyplot.figure instance with the figure you'd like to save\n",
    "\t\tpath_to_save - the path you'd like to save the figure to\n",
    "\tReturns: Nothing but there should now be a pdf version in 300 dpi with a transparent bkg at path_to_save\n",
    "\t'''\n",
    "\tfig.savefig(path_to_save, dpi = 300, bbox_inches = 'tight', transparent = True)"
   ]
  },
  {
   "cell_type": "markdown",
   "metadata": {},
   "source": [
    "# all your normalization functions"
   ]
  },
  {
   "cell_type": "code",
   "execution_count": 4,
   "metadata": {},
   "outputs": [
    {
     "data": {
      "text/plain": [
       "'/Users/kayaneh/Documents/deconvolution/projectcode/fig2/ad'"
      ]
     },
     "execution_count": 4,
     "metadata": {},
     "output_type": "execute_result"
    }
   ],
   "source": [
    "import os\n",
    "os.getcwd()"
   ]
  },
  {
   "cell_type": "code",
   "execution_count": 5,
   "metadata": {},
   "outputs": [],
   "source": [
    "brainGiniPath_HEALTHY = \"../../signatures_git/gini6_perCluster_brain_NORMAL_01212021.csv\"\n",
    "brainGiniPath_AD = \"../../signatures_git/gini6_perCluster_brain_AZ_01212021.csv\""
   ]
  },
  {
   "cell_type": "markdown",
   "metadata": {},
   "source": [
    "now get the average expression levels of the technical reps per biological rep"
   ]
  },
  {
   "cell_type": "markdown",
   "metadata": {},
   "source": [
    "excellent, so we have a dataframe that's averaged for technical replicates. good stuff. now let's do the CIS."
   ]
  },
  {
   "cell_type": "code",
   "execution_count": 6,
   "metadata": {},
   "outputs": [],
   "source": [
    "giniH = pd.read_csv(brainGiniPath_HEALTHY, index_col = 0)\n",
    "giniAD = pd.read_csv(brainGiniPath_AD, index_col = 0)"
   ]
  },
  {
   "cell_type": "code",
   "execution_count": 7,
   "metadata": {},
   "outputs": [
    {
     "data": {
      "text/html": [
       "<div>\n",
       "<style scoped>\n",
       "    .dataframe tbody tr th:only-of-type {\n",
       "        vertical-align: middle;\n",
       "    }\n",
       "\n",
       "    .dataframe tbody tr th {\n",
       "        vertical-align: top;\n",
       "    }\n",
       "\n",
       "    .dataframe thead th {\n",
       "        text-align: right;\n",
       "    }\n",
       "</style>\n",
       "<table border=\"1\" class=\"dataframe\">\n",
       "  <thead>\n",
       "    <tr style=\"text-align: right;\">\n",
       "      <th></th>\n",
       "      <th>Ast-gini</th>\n",
       "      <th>Ex-gini</th>\n",
       "      <th>In-gini</th>\n",
       "      <th>Mic-gini</th>\n",
       "      <th>Oli-gini</th>\n",
       "      <th>Opc-gini</th>\n",
       "    </tr>\n",
       "  </thead>\n",
       "  <tbody>\n",
       "    <tr>\n",
       "      <th>ENSG00000103740</th>\n",
       "      <td>0.679430</td>\n",
       "      <td>NaN</td>\n",
       "      <td>NaN</td>\n",
       "      <td>NaN</td>\n",
       "      <td>NaN</td>\n",
       "      <td>NaN</td>\n",
       "    </tr>\n",
       "    <tr>\n",
       "      <th>ENSG00000171885</th>\n",
       "      <td>0.764535</td>\n",
       "      <td>NaN</td>\n",
       "      <td>NaN</td>\n",
       "      <td>NaN</td>\n",
       "      <td>NaN</td>\n",
       "      <td>NaN</td>\n",
       "    </tr>\n",
       "    <tr>\n",
       "      <th>ENSG00000129244</th>\n",
       "      <td>0.668107</td>\n",
       "      <td>NaN</td>\n",
       "      <td>NaN</td>\n",
       "      <td>NaN</td>\n",
       "      <td>NaN</td>\n",
       "      <td>NaN</td>\n",
       "    </tr>\n",
       "    <tr>\n",
       "      <th>ENSG00000164089</th>\n",
       "      <td>0.769483</td>\n",
       "      <td>NaN</td>\n",
       "      <td>NaN</td>\n",
       "      <td>NaN</td>\n",
       "      <td>NaN</td>\n",
       "      <td>NaN</td>\n",
       "    </tr>\n",
       "    <tr>\n",
       "      <th>ENSG00000168309</th>\n",
       "      <td>0.631545</td>\n",
       "      <td>NaN</td>\n",
       "      <td>NaN</td>\n",
       "      <td>NaN</td>\n",
       "      <td>NaN</td>\n",
       "      <td>NaN</td>\n",
       "    </tr>\n",
       "    <tr>\n",
       "      <th>...</th>\n",
       "      <td>...</td>\n",
       "      <td>...</td>\n",
       "      <td>...</td>\n",
       "      <td>...</td>\n",
       "      <td>...</td>\n",
       "      <td>...</td>\n",
       "    </tr>\n",
       "    <tr>\n",
       "      <th>ENSG00000205927</th>\n",
       "      <td>NaN</td>\n",
       "      <td>NaN</td>\n",
       "      <td>NaN</td>\n",
       "      <td>NaN</td>\n",
       "      <td>NaN</td>\n",
       "      <td>0.725745</td>\n",
       "    </tr>\n",
       "    <tr>\n",
       "      <th>ENSG00000203805</th>\n",
       "      <td>NaN</td>\n",
       "      <td>NaN</td>\n",
       "      <td>NaN</td>\n",
       "      <td>NaN</td>\n",
       "      <td>NaN</td>\n",
       "      <td>0.658184</td>\n",
       "    </tr>\n",
       "    <tr>\n",
       "      <th>ENSG00000148123</th>\n",
       "      <td>NaN</td>\n",
       "      <td>NaN</td>\n",
       "      <td>NaN</td>\n",
       "      <td>NaN</td>\n",
       "      <td>NaN</td>\n",
       "      <td>0.726256</td>\n",
       "    </tr>\n",
       "    <tr>\n",
       "      <th>ENSG00000198732</th>\n",
       "      <td>NaN</td>\n",
       "      <td>NaN</td>\n",
       "      <td>NaN</td>\n",
       "      <td>NaN</td>\n",
       "      <td>NaN</td>\n",
       "      <td>0.613165</td>\n",
       "    </tr>\n",
       "    <tr>\n",
       "      <th>ENSG00000169302</th>\n",
       "      <td>NaN</td>\n",
       "      <td>NaN</td>\n",
       "      <td>NaN</td>\n",
       "      <td>NaN</td>\n",
       "      <td>NaN</td>\n",
       "      <td>0.630541</td>\n",
       "    </tr>\n",
       "  </tbody>\n",
       "</table>\n",
       "<p>151 rows × 6 columns</p>\n",
       "</div>"
      ],
      "text/plain": [
       "                 Ast-gini  Ex-gini  In-gini  Mic-gini  Oli-gini  Opc-gini\n",
       "ENSG00000103740  0.679430      NaN      NaN       NaN       NaN       NaN\n",
       "ENSG00000171885  0.764535      NaN      NaN       NaN       NaN       NaN\n",
       "ENSG00000129244  0.668107      NaN      NaN       NaN       NaN       NaN\n",
       "ENSG00000164089  0.769483      NaN      NaN       NaN       NaN       NaN\n",
       "ENSG00000168309  0.631545      NaN      NaN       NaN       NaN       NaN\n",
       "...                   ...      ...      ...       ...       ...       ...\n",
       "ENSG00000205927       NaN      NaN      NaN       NaN       NaN  0.725745\n",
       "ENSG00000203805       NaN      NaN      NaN       NaN       NaN  0.658184\n",
       "ENSG00000148123       NaN      NaN      NaN       NaN       NaN  0.726256\n",
       "ENSG00000198732       NaN      NaN      NaN       NaN       NaN  0.613165\n",
       "ENSG00000169302       NaN      NaN      NaN       NaN       NaN  0.630541\n",
       "\n",
       "[151 rows x 6 columns]"
      ]
     },
     "execution_count": 7,
     "metadata": {},
     "output_type": "execute_result"
    }
   ],
   "source": [
    "giniH"
   ]
  },
  {
   "cell_type": "code",
   "execution_count": 8,
   "metadata": {},
   "outputs": [],
   "source": [
    "giniSigs = {}\n",
    "for ct in giniH.columns.tolist():\n",
    "    giniSigs[ct] = list(np.intersect1d(giniH[ct].dropna().index.tolist(),\n",
    "                                       giniAD[ct].dropna().index.tolist()))"
   ]
  },
  {
   "cell_type": "code",
   "execution_count": null,
   "metadata": {},
   "outputs": [],
   "source": []
  },
  {
   "cell_type": "code",
   "execution_count": 9,
   "metadata": {},
   "outputs": [],
   "source": [
    "specificBrainSigs = giniSigs"
   ]
  },
  {
   "cell_type": "markdown",
   "metadata": {},
   "source": [
    "whoa, it looks like they're all there!"
   ]
  },
  {
   "cell_type": "markdown",
   "metadata": {},
   "source": [
    "# get intersection with their reported DEGs in the original paper"
   ]
  },
  {
   "cell_type": "code",
   "execution_count": 10,
   "metadata": {},
   "outputs": [],
   "source": [
    "molecStethoDEG = pd.read_excel(\"/Users/kayaneh/Documents/deconvolution/alzheimers/abb1654_Data_file_S1.xlsx\",\n",
    "                              sheet_name = None)"
   ]
  },
  {
   "cell_type": "code",
   "execution_count": 11,
   "metadata": {},
   "outputs": [],
   "source": [
    "upDEG = molecStethoDEG[\"Upregulated genes\"].iloc[:,0].tolist() # we can subset off the ENSG\n",
    "downDEG = molecStethoDEG[\"Downregulated genes\"].iloc[:,0].tolist()\n"
   ]
  },
  {
   "cell_type": "code",
   "execution_count": 12,
   "metadata": {},
   "outputs": [],
   "source": [
    "inDEGUp = {}\n",
    "inDEGDown = {}\n",
    "for sig in specificBrainSigs:\n",
    "    inUp = np.intersect1d(specificBrainSigs[sig], upDEG).tolist()\n",
    "    inDown = np.intersect1d(specificBrainSigs[sig], downDEG).tolist()\n",
    "    inDEGUp[sig] = inUp\n",
    "    inDEGDown[sig] = inDown"
   ]
  },
  {
   "cell_type": "code",
   "execution_count": 13,
   "metadata": {},
   "outputs": [],
   "source": [
    "fullNames = {}\n",
    "fullNames['Ast-gini-CIS'] = \"Astrocyte\"\n",
    "fullNames[\"Ex-gini-CIS\"] = \"Excitatory Neuron\"\n",
    "fullNames[\"In-gini-CIS\"] = \"Inhibitory Neuron\"\n",
    "fullNames[\"Mic-gini-CIS\"] = \"Microglia\"\n",
    "fullNames[\"Oli-gini-CIS\"] = \"Oligodendrocyte\"\n",
    "fullNames[\"Opc-gini-CIS\"] = \"Oligodendrocyte Precursor Cell\""
   ]
  },
  {
   "cell_type": "code",
   "execution_count": null,
   "metadata": {},
   "outputs": [],
   "source": []
  },
  {
   "cell_type": "code",
   "execution_count": 14,
   "metadata": {},
   "outputs": [
    {
     "data": {
      "image/png": "[encoded data removed]",
      "text/plain": [
       "<Figure size 432x288 with 1 Axes>"
      ]
     },
     "metadata": {},
     "output_type": "display_data"
    },
    {
     "data": {
      "image/png": "[encoded data removed]",
      "text/plain": [
       "<Figure size 432x288 with 1 Axes>"
      ]
     },
     "metadata": {},
     "output_type": "display_data"
    },
    {
     "data": {
      "image/png": "[encoded data removed]",
      "text/plain": [
       "<Figure size 432x288 with 1 Axes>"
      ]
     },
     "metadata": {},
     "output_type": "display_data"
    },
    {
     "data": {
      "image/png": "[encoded data removed]",
      "text/plain": [
       "<Figure size 432x288 with 1 Axes>"
      ]
     },
     "metadata": {},
     "output_type": "display_data"
    }
   ],
   "source": [
    "degDownCellProfiles = {}\n",
    "for i in ['Ast-gini', 'Ex-gini', 'Oli-gini', 'Opc-gini']:\n",
    "    cellTypeSpecificBrainGenes = specificBrainSigs[i]\n",
    "    degDownThisCellType = inDEGDown[i]\n",
    "    brainGenesInDown = np.intersect1d(cellTypeSpecificBrainGenes, degDownThisCellType)\n",
    "    \n",
    "    degDownCellProfiles[i] = brainGenesInDown\n",
    "    shared = len(brainGenesInDown)\n",
    "    notInCF = len(np.setdiff1d(cellTypeSpecificBrainGenes, degDownThisCellType))\n",
    "\n",
    "    thisCellTypeName = fullNames[i + \"-CIS\"]\n",
    "    \n",
    "    \n",
    "    names = 'DEG in cfRNA', 'not DEG in cfRNA'\n",
    "    size = [shared, notInCF]\n",
    "    my_circle=plt.Circle( (0,0), 0.65, color='white')\n",
    "\n",
    "    plt.pie(size, colors=['#1B4965','#62B6CB'], \n",
    "            labels = [shared, notInCF],\n",
    "           labeldistance = .77,\n",
    "           textprops={'color':\"w\"})\n",
    "\n",
    "    \n",
    "    p=plt.gcf()\n",
    "    p.gca().add_artist(my_circle)\n",
    "    plt.title(thisCellTypeName)\n",
    "    plt.legend(names, bbox_to_anchor=(1.05, 1))\n",
    "    plt.show()"
   ]
  },
  {
   "cell_type": "code",
   "execution_count": 15,
   "metadata": {},
   "outputs": [
    {
     "name": "stdout",
     "output_type": "stream",
     "text": [
      "\u001b[H\u001b[2J"
     ]
    }
   ],
   "source": [
    "clear all"
   ]
  },
  {
   "cell_type": "code",
   "execution_count": null,
   "metadata": {},
   "outputs": [],
   "source": []
  },
  {
   "cell_type": "code",
   "execution_count": null,
   "metadata": {},
   "outputs": [],
   "source": []
  },
  {
   "cell_type": "code",
   "execution_count": null,
   "metadata": {},
   "outputs": [],
   "source": []
  }
 ],
 "metadata": {
  "kernelspec": {
   "display_name": "Python 3",
   "language": "python",
   "name": "python3"
  },
  "language_info": {
   "codemirror_mode": {
    "name": "ipython",
    "version": 3
   },
   "file_extension": ".py",
   "mimetype": "text/x-python",
   "name": "python",
   "nbconvert_exporter": "python",
   "pygments_lexer": "ipython3",
   "version": "3.6.12"
  }
 },
 "nbformat": 4,
 "nbformat_minor": 4
}
