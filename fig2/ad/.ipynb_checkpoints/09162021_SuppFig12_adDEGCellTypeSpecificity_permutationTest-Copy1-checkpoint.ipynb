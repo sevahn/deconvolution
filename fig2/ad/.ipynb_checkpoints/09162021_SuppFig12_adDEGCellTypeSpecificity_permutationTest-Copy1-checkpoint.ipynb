{
 "cells": [
  {
   "cell_type": "markdown",
   "metadata": {},
   "source": [
    "Permutation test on the gini coefficients from brain vs. cell type specific DEGs. Note that you cannot run this notebook locally without access to data from Mathys et al."
   ]
  },
  {
   "cell_type": "code",
   "execution_count": 1,
   "metadata": {},
   "outputs": [],
   "source": [
    "import numpy as np\n",
    "import pandas as pd\n",
    "import scanpy as sc\n",
    "\n",
    "import matplotlib.pyplot as plt\n",
    "import seaborn as sns\n",
    "import matplotlib as mpl\n",
    "\n",
    "#For editable text. Except latex text is still shapes sadly\n",
    "mpl.rcParams['pdf.fonttype'] = 42\n",
    "mpl.rcParams['ps.fonttype'] = 42\n",
    "sns.set_style(\"whitegrid\")\n",
    "font = {'size' : 6}\n",
    "lines = {'linewidth' : 0.5}\n",
    "fig = {'figsize' : (2.5, 1.5)}\n",
    "mpl.rc('font', **font)\n",
    "mpl.rc('lines', **lines)\n",
    "mpl.rc('figure', **fig)\n",
    "\n",
    "# Set style\n",
    "sns.set(style = \"whitegrid\", palette = \"pastel\",\n",
    "        color_codes=True)"
   ]
  },
  {
   "cell_type": "code",
   "execution_count": 2,
   "metadata": {},
   "outputs": [],
   "source": [
    "figSavePath = \"/Users/kayaneh/Documents/deconvolution/figures/full_figure/supplement_revision1/\""
   ]
  },
  {
   "cell_type": "code",
   "execution_count": 3,
   "metadata": {},
   "outputs": [],
   "source": [
    "def save_figure_pdf(fig, path_to_save):\n",
    "\t'''\n",
    "\tUtility fxn to save a figure without having to retype all the required options.\n",
    "\tInput:\n",
    "\t\tfig - a matplotlib.pyplot.figure instance with the figure you'd like to save\n",
    "\t\tpath_to_save - the path you'd like to save the figure to\n",
    "\tReturns: Nothing but there should now be a pdf version in 300 dpi with a transparent bkg at path_to_save\n",
    "\t'''\n",
    "    \n",
    "\tfig.savefig(path_to_save, dpi = 300,\n",
    "                bbox_inches = 'tight', transparent = True)"
   ]
  },
  {
   "cell_type": "code",
   "execution_count": 4,
   "metadata": {},
   "outputs": [
    {
     "name": "stderr",
     "output_type": "stream",
     "text": [
      "/Users/kayaneh/anaconda3/lib/python3.6/site-packages/IPython/core/interactiveshell.py:3058: DtypeWarning: Columns (8) have mixed types.Specify dtype option on import or set low_memory=False.\n",
      "  interactivity=interactivity, compiler=compiler, result=result)\n"
     ]
    }
   ],
   "source": [
    "ensgRef = pd.read_csv(\"~/Documents/quake/ref/ensg-transcript_biotype.txt\",\n",
    "                     sep = \"\\t\", index_col = 0)"
   ]
  },
  {
   "cell_type": "code",
   "execution_count": 5,
   "metadata": {},
   "outputs": [],
   "source": [
    "# intersection brain cell type specific genes with Alzheimer's DEG up and DEG down\n",
    "\n",
    "adBase = \"~/Documents/deconvolution/alzheimers/\"\n",
    "\n",
    "molecStethoDEG = pd.read_excel(adBase + \"abb1654_Data_file_S1.xlsx\",\n",
    "                              sheet_name = None)\n",
    "\n",
    "upDEG = molecStethoDEG[\"Upregulated genes\"].iloc[:,0].tolist()[1:] # we can subset off the ENSG\n",
    "downDEG = molecStethoDEG[\"Downregulated genes\"].iloc[:,0].tolist()[1:]"
   ]
  },
  {
   "cell_type": "code",
   "execution_count": 6,
   "metadata": {},
   "outputs": [],
   "source": [
    "allDEG = upDEG + downDEG"
   ]
  },
  {
   "cell_type": "code",
   "execution_count": 7,
   "metadata": {},
   "outputs": [],
   "source": [
    "adBase = \"~/Documents/deconvolution/alzheimers/\"\n",
    "brainGiniPath_HEALTHY = adBase + \"gini6_perCluster_brain_NORMAL_01212021.csv\"\n",
    "brainGiniPath_AD = adBase + \"gini6_perCluster_brain_AZ_01212021.csv\""
   ]
  },
  {
   "cell_type": "code",
   "execution_count": 8,
   "metadata": {},
   "outputs": [],
   "source": [
    "brainHealthy = pd.read_csv(brainGiniPath_HEALTHY, index_col = 0)\n",
    "brainAD = pd.read_csv(brainGiniPath_AD, index_col = 0)"
   ]
  },
  {
   "cell_type": "code",
   "execution_count": 9,
   "metadata": {},
   "outputs": [],
   "source": [
    "# get the signature list\n",
    "\n",
    "\"\"\"\n",
    "Note: microglia, though often implicated in AD pathogenesis were\n",
    "excluded given their high overlapping transcriptional profile\n",
    "with non-central nervous system macrophages. Inhibitory neurons\n",
    "were also excluded given the low number of cell type\n",
    "specific genes intersecting between AD and NCI phenotypes. \n",
    "\"\"\"\n",
    "specificBrainSigs = {}\n",
    "for i in brainAD:\n",
    "    if i != \"In-gini\" or i != \"Mic-gini\":\n",
    "        specificBrainSigs[i] = np.intersect1d(brainAD[i].dropna().index.tolist(), brainHealthy[i].dropna().index.tolist()).tolist()"
   ]
  },
  {
   "cell_type": "code",
   "execution_count": 10,
   "metadata": {},
   "outputs": [
    {
     "name": "stdout",
     "output_type": "stream",
     "text": [
      "Ast-gini\n",
      "in up =  0\n",
      "in down =  6\n",
      "\n",
      "Ex-gini\n",
      "in up =  0\n",
      "in down =  19\n",
      "\n",
      "In-gini\n",
      "in up =  0\n",
      "in down =  1\n",
      "\n",
      "Mic-gini\n",
      "in up =  0\n",
      "in down =  0\n",
      "\n",
      "Oli-gini\n",
      "in up =  0\n",
      "in down =  5\n",
      "\n",
      "Opc-gini\n",
      "in up =  0\n",
      "in down =  11\n",
      "\n"
     ]
    }
   ],
   "source": [
    "for ct in specificBrainSigs:\n",
    "    print(ct)\n",
    "    print(\"in up = \", len(np.intersect1d(specificBrainSigs[ct], upDEG)))\n",
    "    print(\"in down = \", len(np.intersect1d(specificBrainSigs[ct], downDEG)))\n",
    "    print(\"\")"
   ]
  },
  {
   "cell_type": "markdown",
   "metadata": {},
   "source": [
    "nothing cell type specific intersects in DEG up, only consider DEG down"
   ]
  },
  {
   "cell_type": "code",
   "execution_count": 11,
   "metadata": {},
   "outputs": [],
   "source": [
    "# set of all cell type specific genes\n",
    "cellTypeSpecificGenes = list(specificBrainSigs.values())\n",
    "cellTypeSpecificGenes = [j for i in cellTypeSpecificGenes for j in i] # flatten the 2D list"
   ]
  },
  {
   "cell_type": "code",
   "execution_count": 12,
   "metadata": {},
   "outputs": [],
   "source": [
    "# brain data from HPA\n",
    "hpaBulk = pd.read_csv(\"tissue_category_rna_brain_Tissue.tsv\",\n",
    "                       sep = \"\\t\", index_col = [0])\n",
    "hpaBulk.set_index(\"Ensembl\", inplace = True)"
   ]
  },
  {
   "cell_type": "code",
   "execution_count": 13,
   "metadata": {},
   "outputs": [],
   "source": [
    "# hepatocyte specific genes and liver specific genes in HPA\n",
    "brainCellType_HPA = np.intersect1d(hpaBulk.index.tolist(), cellTypeSpecificGenes)\n",
    "brain_HPA = np.setdiff1d(hpaBulk.index.tolist(), cellTypeSpecificGenes)"
   ]
  },
  {
   "cell_type": "code",
   "execution_count": 14,
   "metadata": {},
   "outputs": [],
   "source": [
    "# intersect these with the DEG"
   ]
  },
  {
   "cell_type": "code",
   "execution_count": 15,
   "metadata": {},
   "outputs": [],
   "source": [
    "# note that these are in ENSG; convert to gene name\n",
    "cellType_HPA_DEG = np.intersect1d(brainCellType_HPA, downDEG)\n",
    "brain_HPA_DEG = np.intersect1d(brain_HPA, downDEG)\n",
    "\n",
    "cellType_HPA_DEG = np.intersect1d(brainCellType_HPA, allDEG)\n",
    "brain_HPA_DEG = np.intersect1d(brain_HPA, allDEG)"
   ]
  },
  {
   "cell_type": "code",
   "execution_count": 16,
   "metadata": {},
   "outputs": [
    {
     "name": "stdout",
     "output_type": "stream",
     "text": [
      "42\n",
      "510\n"
     ]
    }
   ],
   "source": [
    "print(len(cellType_HPA_DEG))\n",
    "print(len(brain_HPA_DEG))"
   ]
  },
  {
   "cell_type": "code",
   "execution_count": 17,
   "metadata": {},
   "outputs": [],
   "source": [
    "def getGenesNSynonyms(geneList):\n",
    "    intersection = np.intersect1d(ensgRef.index, geneList)\n",
    "    missing = np.setdiff1d(geneList, ensgRef.index)\n",
    "    print(missing)\n",
    "    \n",
    "    \n",
    "    allGenes = ensgRef.loc[intersection][\"Gene name\"].dropna().values.tolist()\n",
    "    \n",
    "    allGenes = np.unique(allGenes)\n",
    "    return(allGenes)"
   ]
  },
  {
   "cell_type": "code",
   "execution_count": null,
   "metadata": {},
   "outputs": [],
   "source": []
  },
  {
   "cell_type": "code",
   "execution_count": null,
   "metadata": {},
   "outputs": [],
   "source": []
  },
  {
   "cell_type": "code",
   "execution_count": 18,
   "metadata": {},
   "outputs": [
    {
     "name": "stdout",
     "output_type": "stream",
     "text": [
      "[]\n",
      "['ENSG00000243444']\n"
     ]
    }
   ],
   "source": [
    "cellType_HPA_DEG_geneNames = getGenesNSynonyms(cellType_HPA_DEG)\n",
    "brain_HPA_DEG_geneNames = getGenesNSynonyms(brain_HPA_DEG)"
   ]
  },
  {
   "cell_type": "code",
   "execution_count": 19,
   "metadata": {},
   "outputs": [
    {
     "data": {
      "text/plain": [
       "510"
      ]
     },
     "execution_count": 19,
     "metadata": {},
     "output_type": "execute_result"
    }
   ],
   "source": [
    "len(brain_HPA_DEG)"
   ]
  },
  {
   "cell_type": "code",
   "execution_count": 20,
   "metadata": {},
   "outputs": [
    {
     "data": {
      "text/plain": [
       "509"
      ]
     },
     "execution_count": 20,
     "metadata": {},
     "output_type": "execute_result"
    }
   ],
   "source": [
    "len(brain_HPA_DEG_geneNames)"
   ]
  },
  {
   "cell_type": "code",
   "execution_count": 21,
   "metadata": {},
   "outputs": [
    {
     "data": {
      "text/plain": [
       "42"
      ]
     },
     "execution_count": 21,
     "metadata": {},
     "output_type": "execute_result"
    }
   ],
   "source": [
    "len(cellType_HPA_DEG)"
   ]
  },
  {
   "cell_type": "code",
   "execution_count": 22,
   "metadata": {},
   "outputs": [
    {
     "data": {
      "text/plain": [
       "42"
      ]
     },
     "execution_count": 22,
     "metadata": {},
     "output_type": "execute_result"
    }
   ],
   "source": [
    "len(cellType_HPA_DEG_geneNames)"
   ]
  },
  {
   "cell_type": "code",
   "execution_count": 23,
   "metadata": {},
   "outputs": [],
   "source": [
    "# import the reference single cell data \n",
    "adata = sc.read_h5ad(\"../brain/brain-mathys.h5ad\")\n",
    "\n",
    "sc.pp.normalize_total(adata, target_sum = 1e4)\n",
    "sc.pp.log1p(adata)\n",
    "\n",
    "\n",
    "# and work only with normal brains\n",
    "# drop the \".\" for iteration downstream\n",
    "adata.obs[\"bulk_labels\"] = adata.obs[\"broad.cell.type\"]\n",
    "\n",
    "ros = pd.read_csv(adBase + \"ROSMAP-DLPFC-Bulk-sample-metadata.csv\", sep = \",\", index_col = 0)\n",
    "control = ros[ros[\"diagnosis\"] == \"Normal\"] # only get brain samples from healthy patients\n",
    "ctrlProjID = control[\"projid\"].tolist()\n",
    "ctrlProjID = [str(i) for i in ctrlProjID]\n",
    "adata = adata[adata.obs[\"projid\"].isin(ctrlProjID)]"
   ]
  },
  {
   "cell_type": "code",
   "execution_count": 24,
   "metadata": {},
   "outputs": [],
   "source": [
    "adataBulk = adata[:,list(np.intersect1d(brain_HPA_DEG_geneNames, adata.var_names))]\n",
    "adataCT = adata[:, list(np.intersect1d(cellType_HPA_DEG_geneNames, adata.var_names))]"
   ]
  },
  {
   "cell_type": "code",
   "execution_count": 25,
   "metadata": {},
   "outputs": [],
   "source": [
    "# go through the adata and filter \n",
    "\n",
    "def getGini(incomeList):\n",
    "    incomeList = np.sort(incomeList) # convert list to ascending order\n",
    "    numerator = 0\n",
    "    numSamps = len(incomeList)\n",
    "    denominator = numSamps * np.sum(incomeList)\n",
    "    for i, elem in enumerate(incomeList):\n",
    "        numerator += (i + 1) * elem\n",
    "    gini = (2 * numerator)/(denominator) - ((numSamps + 1) / numSamps)\n",
    "    return(gini)\n",
    "\n",
    "def giniGeneList(geneList, bulkRef):\n",
    "    res = pd.DataFrame(index = geneList)\n",
    "    giniList = []\n",
    "    for gene in geneList:\n",
    "        # so the problem is that the way genes -> ensg were derived, we might have multiple ensg/gene\n",
    "        # hence, if not protein coding, we might not find in HPA and get an error\n",
    "        # so we check that first\n",
    "        if gene not in bulkRef.index:\n",
    "            print(gene, \" not in HPA ref\")\n",
    "            continue\n",
    "        incomeList = bulkRef.loc[gene].dropna().tolist() # list of NX expression of that gene across all tissues\n",
    "        geneGini = getGini(incomeList)\n",
    "        giniList += [geneGini]\n",
    "    res = pd.DataFrame(index = geneList, data = giniList)\n",
    "    res.columns = [\"Gini Index\"]\n",
    "    return(res)"
   ]
  },
  {
   "cell_type": "code",
   "execution_count": 26,
   "metadata": {},
   "outputs": [],
   "source": [
    "# function that returns the gini coefficients in the adata based on the average\n",
    "# expression of a given gene\n",
    "# code inspired by: https://scanpy.discourse.group/t/how-to-calculate-the-average-gene-expression-within-each-cluster/126\n",
    "\n",
    "# @param adata is the subsetted adata with the genes of interest\n",
    "def getClusterAvgGini(adata):\n",
    "    averageDF = pd.DataFrame(columns = adata.var_names, \n",
    "                   index = adata.obs['bulk_labels'].cat.categories)           \n",
    "\n",
    "    for clust in adata.obs.bulk_labels.cat.categories: \n",
    "        averageDF.loc[clust] = adata[adata.obs['bulk_labels'].isin([clust]),:].X.mean(0)\n",
    "\n",
    "    averageDF = averageDF.T\n",
    "    scGini = giniGeneList(averageDF.index, averageDF)\n",
    "    return(scGini)"
   ]
  },
  {
   "cell_type": "code",
   "execution_count": 27,
   "metadata": {},
   "outputs": [
    {
     "name": "stderr",
     "output_type": "stream",
     "text": [
      "/Users/kayaneh/anaconda3/lib/python3.6/site-packages/ipykernel_launcher.py:10: RuntimeWarning: invalid value encountered in double_scalars\n",
      "  # Remove the CWD from sys.path while we load stuff.\n"
     ]
    }
   ],
   "source": [
    "giniBulk = getClusterAvgGini(adataBulk)\n",
    "giniCT = getClusterAvgGini(adataCT)"
   ]
  },
  {
   "cell_type": "code",
   "execution_count": 28,
   "metadata": {},
   "outputs": [],
   "source": [
    "giniBulk[\"type\"] = \"brain\"\n",
    "giniCT[\"type\"] = \"cell type\""
   ]
  },
  {
   "cell_type": "code",
   "execution_count": 29,
   "metadata": {},
   "outputs": [],
   "source": [
    "allGini = pd.concat([giniBulk, giniCT])"
   ]
  },
  {
   "cell_type": "code",
   "execution_count": 30,
   "metadata": {},
   "outputs": [],
   "source": [
    "rel = adata[:,[\"CHRM4\", \"RTL1\", \"USH1G\"]]"
   ]
  },
  {
   "cell_type": "code",
   "execution_count": 31,
   "metadata": {},
   "outputs": [
    {
     "data": {
      "text/html": [
       "<div>\n",
       "<style scoped>\n",
       "    .dataframe tbody tr th:only-of-type {\n",
       "        vertical-align: middle;\n",
       "    }\n",
       "\n",
       "    .dataframe tbody tr th {\n",
       "        vertical-align: top;\n",
       "    }\n",
       "\n",
       "    .dataframe thead th {\n",
       "        text-align: right;\n",
       "    }\n",
       "</style>\n",
       "<table border=\"1\" class=\"dataframe\">\n",
       "  <thead>\n",
       "    <tr style=\"text-align: right;\">\n",
       "      <th></th>\n",
       "      <th>projid</th>\n",
       "      <th>tsne1</th>\n",
       "      <th>tsne2</th>\n",
       "      <th>pre.cluster</th>\n",
       "      <th>broad.cell.type</th>\n",
       "      <th>Subcluster</th>\n",
       "      <th>bulk_labels</th>\n",
       "    </tr>\n",
       "    <tr>\n",
       "      <th>TAG</th>\n",
       "      <th></th>\n",
       "      <th></th>\n",
       "      <th></th>\n",
       "      <th></th>\n",
       "      <th></th>\n",
       "      <th></th>\n",
       "      <th></th>\n",
       "    </tr>\n",
       "  </thead>\n",
       "  <tbody>\n",
       "    <tr>\n",
       "      <th>AAAGCAACAGTGGGAT.3</th>\n",
       "      <td>10260309</td>\n",
       "      <td>-8.87229298341619</td>\n",
       "      <td>11.644166257572902</td>\n",
       "      <td>3</td>\n",
       "      <td>Ex</td>\n",
       "      <td>Ex6</td>\n",
       "      <td>Ex</td>\n",
       "    </tr>\n",
       "    <tr>\n",
       "      <th>AAATGCCTCGTCTGAA.3</th>\n",
       "      <td>10260309</td>\n",
       "      <td>25.478472437006804</td>\n",
       "      <td>12.715472113352</td>\n",
       "      <td>2</td>\n",
       "      <td>Ex</td>\n",
       "      <td>Ex6</td>\n",
       "      <td>Ex</td>\n",
       "    </tr>\n",
       "    <tr>\n",
       "      <th>AACACGTCAAACGTGG.3</th>\n",
       "      <td>10260309</td>\n",
       "      <td>9.80418476717302</td>\n",
       "      <td>12.1480511860453</td>\n",
       "      <td>10</td>\n",
       "      <td>Ex</td>\n",
       "      <td>Ex6</td>\n",
       "      <td>Ex</td>\n",
       "    </tr>\n",
       "    <tr>\n",
       "      <th>AACACGTCATGCGCAC.3</th>\n",
       "      <td>10260309</td>\n",
       "      <td>32.6225746408136</td>\n",
       "      <td>14.9699732447048</td>\n",
       "      <td>2</td>\n",
       "      <td>Ex</td>\n",
       "      <td>Ex6</td>\n",
       "      <td>Ex</td>\n",
       "    </tr>\n",
       "    <tr>\n",
       "      <th>AACCATGGTAACGACG.3</th>\n",
       "      <td>10260309</td>\n",
       "      <td>-10.9731520027086</td>\n",
       "      <td>22.989240429351696</td>\n",
       "      <td>3</td>\n",
       "      <td>Ex</td>\n",
       "      <td>Ex6</td>\n",
       "      <td>Ex</td>\n",
       "    </tr>\n",
       "    <tr>\n",
       "      <th>...</th>\n",
       "      <td>...</td>\n",
       "      <td>...</td>\n",
       "      <td>...</td>\n",
       "      <td>...</td>\n",
       "      <td>...</td>\n",
       "      <td>...</td>\n",
       "      <td>...</td>\n",
       "    </tr>\n",
       "    <tr>\n",
       "      <th>ATGGGAGGTGTCCTCT.19</th>\n",
       "      <td>11342432</td>\n",
       "      <td>7.411300518964059</td>\n",
       "      <td>50.7238550123565</td>\n",
       "      <td>19</td>\n",
       "      <td>Per</td>\n",
       "      <td>Per</td>\n",
       "      <td>Per</td>\n",
       "    </tr>\n",
       "    <tr>\n",
       "      <th>CGGACACCACTGCCAG.19</th>\n",
       "      <td>11342432</td>\n",
       "      <td>6.54165075364422</td>\n",
       "      <td>51.01229522266021</td>\n",
       "      <td>19</td>\n",
       "      <td>Per</td>\n",
       "      <td>Per</td>\n",
       "      <td>Per</td>\n",
       "    </tr>\n",
       "    <tr>\n",
       "      <th>AACTTTCCACGCATCG.31</th>\n",
       "      <td>20149910</td>\n",
       "      <td>6.84398765062721</td>\n",
       "      <td>49.594065584368</td>\n",
       "      <td>19</td>\n",
       "      <td>Per</td>\n",
       "      <td>Per</td>\n",
       "      <td>Per</td>\n",
       "    </tr>\n",
       "    <tr>\n",
       "      <th>CGAGAAGGTAGGACAC.31</th>\n",
       "      <td>20149910</td>\n",
       "      <td>6.1425712180086505</td>\n",
       "      <td>49.2517121694061</td>\n",
       "      <td>19</td>\n",
       "      <td>End</td>\n",
       "      <td>End2</td>\n",
       "      <td>End</td>\n",
       "    </tr>\n",
       "    <tr>\n",
       "      <th>GTCACAAGTAAGTAGT.31</th>\n",
       "      <td>20149910</td>\n",
       "      <td>7.73385714511093</td>\n",
       "      <td>50.722734220232404</td>\n",
       "      <td>19</td>\n",
       "      <td>End</td>\n",
       "      <td>End2</td>\n",
       "      <td>End</td>\n",
       "    </tr>\n",
       "  </tbody>\n",
       "</table>\n",
       "<p>11215 rows × 7 columns</p>\n",
       "</div>"
      ],
      "text/plain": [
       "                       projid               tsne1               tsne2  \\\n",
       "TAG                                                                     \n",
       "AAAGCAACAGTGGGAT.3   10260309   -8.87229298341619  11.644166257572902   \n",
       "AAATGCCTCGTCTGAA.3   10260309  25.478472437006804     12.715472113352   \n",
       "AACACGTCAAACGTGG.3   10260309    9.80418476717302    12.1480511860453   \n",
       "AACACGTCATGCGCAC.3   10260309    32.6225746408136    14.9699732447048   \n",
       "AACCATGGTAACGACG.3   10260309   -10.9731520027086  22.989240429351696   \n",
       "...                       ...                 ...                 ...   \n",
       "ATGGGAGGTGTCCTCT.19  11342432   7.411300518964059    50.7238550123565   \n",
       "CGGACACCACTGCCAG.19  11342432    6.54165075364422   51.01229522266021   \n",
       "AACTTTCCACGCATCG.31  20149910    6.84398765062721     49.594065584368   \n",
       "CGAGAAGGTAGGACAC.31  20149910  6.1425712180086505    49.2517121694061   \n",
       "GTCACAAGTAAGTAGT.31  20149910    7.73385714511093  50.722734220232404   \n",
       "\n",
       "                    pre.cluster broad.cell.type Subcluster bulk_labels  \n",
       "TAG                                                                     \n",
       "AAAGCAACAGTGGGAT.3            3              Ex        Ex6          Ex  \n",
       "AAATGCCTCGTCTGAA.3            2              Ex        Ex6          Ex  \n",
       "AACACGTCAAACGTGG.3           10              Ex        Ex6          Ex  \n",
       "AACACGTCATGCGCAC.3            2              Ex        Ex6          Ex  \n",
       "AACCATGGTAACGACG.3            3              Ex        Ex6          Ex  \n",
       "...                         ...             ...        ...         ...  \n",
       "ATGGGAGGTGTCCTCT.19          19             Per        Per         Per  \n",
       "CGGACACCACTGCCAG.19          19             Per        Per         Per  \n",
       "AACTTTCCACGCATCG.31          19             Per        Per         Per  \n",
       "CGAGAAGGTAGGACAC.31          19             End       End2         End  \n",
       "GTCACAAGTAAGTAGT.31          19             End       End2         End  \n",
       "\n",
       "[11215 rows x 7 columns]"
      ]
     },
     "execution_count": 31,
     "metadata": {},
     "output_type": "execute_result"
    }
   ],
   "source": [
    "rel.obs"
   ]
  },
  {
   "cell_type": "code",
   "execution_count": 32,
   "metadata": {},
   "outputs": [
    {
     "data": {
      "text/plain": [
       "View of AnnData object with n_obs × n_vars = 11215 × 3\n",
       "    obs: 'projid', 'tsne1', 'tsne2', 'pre.cluster', 'broad.cell.type', 'Subcluster', 'bulk_labels'\n",
       "    uns: 'log1p'"
      ]
     },
     "execution_count": 32,
     "metadata": {},
     "output_type": "execute_result"
    }
   ],
   "source": [
    "rel"
   ]
  },
  {
   "cell_type": "code",
   "execution_count": 33,
   "metadata": {},
   "outputs": [
    {
     "name": "stdout",
     "output_type": "stream",
     "text": [
      "Ast\n",
      "[0. 0. 0.]\n",
      "End\n",
      "[0. 0. 0.]\n",
      "Ex\n",
      "[0. 0. 0.]\n",
      "In\n",
      "[0. 0. 0.]\n",
      "Mic\n",
      "[0. 0. 0.]\n",
      "Oli\n",
      "[0. 0. 0.]\n",
      "Opc\n",
      "[0. 0. 0.]\n",
      "Per\n",
      "[0. 0. 0.]\n"
     ]
    }
   ],
   "source": [
    "for clust in rel.obs.bulk_labels.cat.categories:\n",
    "        print(clust)\n",
    "        print(rel[rel.obs['bulk_labels'].isin([clust]),:].X.mean(0))"
   ]
  },
  {
   "cell_type": "code",
   "execution_count": 34,
   "metadata": {},
   "outputs": [
    {
     "data": {
      "text/html": [
       "<div>\n",
       "<style scoped>\n",
       "    .dataframe tbody tr th:only-of-type {\n",
       "        vertical-align: middle;\n",
       "    }\n",
       "\n",
       "    .dataframe tbody tr th {\n",
       "        vertical-align: top;\n",
       "    }\n",
       "\n",
       "    .dataframe thead th {\n",
       "        text-align: right;\n",
       "    }\n",
       "</style>\n",
       "<table border=\"1\" class=\"dataframe\">\n",
       "  <thead>\n",
       "    <tr style=\"text-align: right;\">\n",
       "      <th></th>\n",
       "      <th>Gini Index</th>\n",
       "      <th>type</th>\n",
       "    </tr>\n",
       "  </thead>\n",
       "  <tbody>\n",
       "    <tr>\n",
       "      <th>LINGO4</th>\n",
       "      <td>0.875000</td>\n",
       "      <td>brain</td>\n",
       "    </tr>\n",
       "    <tr>\n",
       "      <th>CALHM1</th>\n",
       "      <td>0.875000</td>\n",
       "      <td>brain</td>\n",
       "    </tr>\n",
       "    <tr>\n",
       "      <th>MAPK15</th>\n",
       "      <td>0.875000</td>\n",
       "      <td>brain</td>\n",
       "    </tr>\n",
       "    <tr>\n",
       "      <th>TREM2</th>\n",
       "      <td>0.873819</td>\n",
       "      <td>brain</td>\n",
       "    </tr>\n",
       "    <tr>\n",
       "      <th>IFNA6</th>\n",
       "      <td>0.857745</td>\n",
       "      <td>brain</td>\n",
       "    </tr>\n",
       "    <tr>\n",
       "      <th>...</th>\n",
       "      <td>...</td>\n",
       "      <td>...</td>\n",
       "    </tr>\n",
       "    <tr>\n",
       "      <th>DCUN1D2</th>\n",
       "      <td>0.215630</td>\n",
       "      <td>brain</td>\n",
       "    </tr>\n",
       "    <tr>\n",
       "      <th>LINGO1</th>\n",
       "      <td>0.213197</td>\n",
       "      <td>brain</td>\n",
       "    </tr>\n",
       "    <tr>\n",
       "      <th>CHRM4</th>\n",
       "      <td>NaN</td>\n",
       "      <td>brain</td>\n",
       "    </tr>\n",
       "    <tr>\n",
       "      <th>RTL1</th>\n",
       "      <td>NaN</td>\n",
       "      <td>brain</td>\n",
       "    </tr>\n",
       "    <tr>\n",
       "      <th>USH1G</th>\n",
       "      <td>NaN</td>\n",
       "      <td>brain</td>\n",
       "    </tr>\n",
       "  </tbody>\n",
       "</table>\n",
       "<p>467 rows × 2 columns</p>\n",
       "</div>"
      ],
      "text/plain": [
       "         Gini Index   type\n",
       "LINGO4     0.875000  brain\n",
       "CALHM1     0.875000  brain\n",
       "MAPK15     0.875000  brain\n",
       "TREM2      0.873819  brain\n",
       "IFNA6      0.857745  brain\n",
       "...             ...    ...\n",
       "DCUN1D2    0.215630  brain\n",
       "LINGO1     0.213197  brain\n",
       "CHRM4           NaN  brain\n",
       "RTL1            NaN  brain\n",
       "USH1G           NaN  brain\n",
       "\n",
       "[467 rows x 2 columns]"
      ]
     },
     "execution_count": 34,
     "metadata": {},
     "output_type": "execute_result"
    }
   ],
   "source": [
    "# genes that are 'nan' just have \n",
    "giniBulk.sort_values(ascending = False, by = \"Gini Index\")"
   ]
  },
  {
   "cell_type": "code",
   "execution_count": 35,
   "metadata": {},
   "outputs": [],
   "source": [
    "my_pal = {\"cell type\": \"#5FA8D3\" , \"brain\":\"#1B4965\"}"
   ]
  },
  {
   "cell_type": "code",
   "execution_count": 36,
   "metadata": {},
   "outputs": [
    {
     "data": {
      "text/plain": [
       "<seaborn.axisgrid.FacetGrid at 0x7fb8f1fdffd0>"
      ]
     },
     "execution_count": 36,
     "metadata": {},
     "output_type": "execute_result"
    },
    {
     "data": {
      "image/png": "[encoded data removed]",
      "text/plain": [
       "<Figure size 440.1x360 with 1 Axes>"
      ]
     },
     "metadata": {
      "needs_background": "light"
     },
     "output_type": "display_data"
    }
   ],
   "source": [
    "g = sns.displot(data = allGini, hue = \"type\", x= \"Gini Index\",\n",
    "            palette = my_pal,\n",
    "            bw_adjust=.3,\n",
    "            kind = \"kde\", \n",
    "            common_norm = False, \n",
    "            multiple = \"stack\")\n",
    "g.set(xlabel = \"Gini Coefficient\")"
   ]
  },
  {
   "cell_type": "code",
   "execution_count": 37,
   "metadata": {},
   "outputs": [],
   "source": [
    "#save_figure_pdf(g, figSavePath + \"degComparison_cellTypeVsBrain_giniDistrib_09172021.pdf\")"
   ]
  },
  {
   "cell_type": "code",
   "execution_count": 38,
   "metadata": {},
   "outputs": [
    {
     "data": {
      "text/plain": [
       "0.12813601464166535"
      ]
     },
     "execution_count": 38,
     "metadata": {},
     "output_type": "execute_result"
    }
   ],
   "source": [
    "cellTypeGiniMean = allGini[allGini[\"type\"] == \"cell type\"][\"Gini Index\"].mean()\n",
    "brainGiniMean = allGini[allGini[\"type\"] == 'brain'][\"Gini Index\"].mean()\n",
    "actualEffectSize = cellTypeGiniMean - brainGiniMean\n",
    "actualEffectSize"
   ]
  },
  {
   "cell_type": "code",
   "execution_count": 39,
   "metadata": {},
   "outputs": [
    {
     "name": "stdout",
     "output_type": "stream",
     "text": [
      "cell type gini mean =  0.7368553802281222\n",
      "brain gini mean =  0.6087193655864569\n"
     ]
    }
   ],
   "source": [
    "print(\"cell type gini mean = \", cellTypeGiniMean)\n",
    "print(\"brain gini mean = \", brainGiniMean)"
   ]
  },
  {
   "cell_type": "code",
   "execution_count": 40,
   "metadata": {},
   "outputs": [],
   "source": [
    "np.random.seed(10)\n",
    "allGiniVals = allGini[\"Gini Index\"].values.tolist()\n",
    "\n",
    "newGiniDF = pd.DataFrame()\n",
    "for i in range(10000):\n",
    "    \n",
    "    newGiniDF[\"Permuted Gini Trial \" + str(i)] = np.random.permutation(allGiniVals)\n",
    "\n",
    "newGiniDF[\"values\"] = allGini[\"type\"].tolist()\n",
    "\n",
    "\n"
   ]
  },
  {
   "cell_type": "code",
   "execution_count": 41,
   "metadata": {},
   "outputs": [],
   "source": [
    "newGiniDF[\"original\"] = allGiniVals"
   ]
  },
  {
   "cell_type": "code",
   "execution_count": 42,
   "metadata": {},
   "outputs": [],
   "source": [
    "averagesPerTrial = newGiniDF.groupby([\"values\"]).mean().T\n",
    "diffs = (averagesPerTrial[\"cell type\"] - averagesPerTrial[\"brain\"]).values"
   ]
  },
  {
   "cell_type": "code",
   "execution_count": 43,
   "metadata": {},
   "outputs": [
    {
     "data": {
      "text/plain": [
       "9.999000099990002e-05"
      ]
     },
     "execution_count": 43,
     "metadata": {},
     "output_type": "execute_result"
    }
   ],
   "source": [
    "len(np.where(diffs >= diffs[-1])[0])/len(diffs)"
   ]
  },
  {
   "cell_type": "markdown",
   "metadata": {},
   "source": [
    "# hypergeometric test"
   ]
  },
  {
   "cell_type": "code",
   "execution_count": 45,
   "metadata": {},
   "outputs": [],
   "source": [
    "from scipy.stats import hypergeom\n",
    "import matplotlib.pyplot as plt"
   ]
  },
  {
   "cell_type": "code",
   "execution_count": 47,
   "metadata": {},
   "outputs": [],
   "source": [
    "cfRNADEG_inCellType = np.intersect1d(cellTypeSpecificGenes, allDEG)"
   ]
  },
  {
   "cell_type": "code",
   "execution_count": 48,
   "metadata": {},
   "outputs": [
    {
     "data": {
      "text/plain": [
       "42"
      ]
     },
     "execution_count": 48,
     "metadata": {},
     "output_type": "execute_result"
    }
   ],
   "source": [
    "len(cfRNADEG_inCellType)"
   ]
  },
  {
   "cell_type": "code",
   "execution_count": 50,
   "metadata": {},
   "outputs": [],
   "source": [
    "[M, n, N] = [adata.var.shape[0], len(cellTypeSpecificGenes), len(allDEG)]\n",
    "\n",
    "rv = hypergeom(M, n, N)\n",
    "x = np.arange(0, n+1)\n",
    "pmf_intersection = rv.pmf(x)"
   ]
  },
  {
   "cell_type": "code",
   "execution_count": 51,
   "metadata": {},
   "outputs": [
    {
     "data": {
      "image/png": "[encoded data removed]",
      "text/plain": [
       "<Figure size 432x288 with 1 Axes>"
      ]
     },
     "metadata": {
      "needs_background": "light"
     },
     "output_type": "display_data"
    }
   ],
   "source": [
    "fig = plt.figure()\n",
    ">>> ax = fig.add_subplot(111)\n",
    ">>> ax.plot(x, pmf_intersection, 'bo')\n",
    ">>> ax.vlines(x, 0, pmf_intersection, lw=2)\n",
    ">>> ax.set_xlabel('# of cell type specific genes in our group of DEG')\n",
    ">>> ax.set_ylabel('hypergeom PMF')\n",
    ">>> plt.show()"
   ]
  },
  {
   "cell_type": "code",
   "execution_count": 52,
   "metadata": {},
   "outputs": [
    {
     "data": {
      "text/plain": [
       "2.242819307274324e-06"
      ]
     },
     "execution_count": 52,
     "metadata": {},
     "output_type": "execute_result"
    }
   ],
   "source": [
    "# CDF is up to 93, you want greater than, so take the complement\n",
    "1  - hypergeom.cdf(len(cfRNADEG_inCellType), M, n, N)"
   ]
  },
  {
   "cell_type": "code",
   "execution_count": 1,
   "metadata": {},
   "outputs": [
    {
     "data": {
      "text/plain": [
       "True"
      ]
     },
     "execution_count": 1,
     "metadata": {},
     "output_type": "execute_result"
    }
   ],
   "source": [
    "2.242819307274324e-06 < 10 ** -5"
   ]
  },
  {
   "cell_type": "code",
   "execution_count": 44,
   "metadata": {},
   "outputs": [
    {
     "name": "stdout",
     "output_type": "stream",
     "text": [
      "\u001b[H\u001b[2J"
     ]
    }
   ],
   "source": [
    "clear all"
   ]
  }
 ],
 "metadata": {
  "kernelspec": {
   "display_name": "Python 3",
   "language": "python",
   "name": "python3"
  },
  "language_info": {
   "codemirror_mode": {
    "name": "ipython",
    "version": 3
   },
   "file_extension": ".py",
   "mimetype": "text/x-python",
   "name": "python",
   "nbconvert_exporter": "python",
   "pygments_lexer": "ipython3",
   "version": "3.6.12"
  }
 },
 "nbformat": 4,
 "nbformat_minor": 4
}
